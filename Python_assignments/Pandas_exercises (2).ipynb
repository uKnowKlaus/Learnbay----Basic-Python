{
 "cells": [
  {
   "cell_type": "markdown",
   "metadata": {
    "id": "zeLOLmTj1kBM"
   },
   "source": [
    "### <a name='0'></a> Import of libraries"
   ]
  },
  {
   "cell_type": "code",
   "execution_count": null,
   "metadata": {
    "id": "HXMB7SMe1Wnz"
   },
   "outputs": [],
   "source": [
    "import numpy as np\n",
    "import pandas as pd\n",
    "\n",
    "pd.__version__"
   ]
  },
  {
   "cell_type": "markdown",
   "metadata": {
    "id": "cyc70pMe1oCg"
   },
   "source": [
    "### <a name='1'></a> Exercise 1\n",
    "From the list below:\n",
    "```\n",
    "stocks = ['PLW', 'CDR', '11B', 'TEN']\n",
    "```\n",
    "Create a Series object.\n",
    "\n",
    "__Expected result:__\n",
    "\n",
    "```\n",
    "0    PLW\n",
    "1    CDR\n",
    "2    11B\n",
    "3    TEN\n",
    "dtype: object\n",
    "```"
   ]
  },
  {
   "cell_type": "code",
   "execution_count": null,
   "metadata": {
    "id": "jvw4LDdmNlin"
   },
   "outputs": [],
   "source": [
    "# enter solution here"
   ]
  },
  {
   "cell_type": "markdown",
   "metadata": {
    "id": "J9pY1rtr1sC0"
   },
   "source": [
    "### <a name='2'></a> Exercise 2\n",
    "From the dictionary below:\n",
    "\n",
    "```\n",
    "stocks = {'PLW': 387.00, 'CDR': 339.5, 'TEN': 349.5, '11B': 391.0}\n",
    "```\n",
    "Create a Series object and assign it to the _quotations_ variable.\n",
    "\n",
    "__Expected result:__\n",
    "\n",
    "```\n",
    "PLW    387.0\n",
    "CDR    339.5\n",
    "TEN    349.5\n",
    "11B    391.0\n",
    "dtype: float64\n",
    "```\n",
    "\n"
   ]
  },
  {
   "cell_type": "code",
   "execution_count": null,
   "metadata": {
    "id": "IudOIn6cN0UO"
   },
   "outputs": [],
   "source": [
    "# enter solution here"
   ]
  },
  {
   "cell_type": "markdown",
   "metadata": {
    "id": "XQLYT2m11wVG"
   },
   "source": [
    "### <a name='3'></a> Exercise 3\n",
    "\n",
    "Convert _quotations_ to a list.\n",
    "\n",
    "__Expected result:__\n",
    "```\n",
    "[387.0, 339.5, 349.5, 391.0]\n",
    "```"
   ]
  },
  {
   "cell_type": "code",
   "execution_count": null,
   "metadata": {
    "id": "JDz_gfbcOBKG"
   },
   "outputs": [],
   "source": [
    "# enter solution here"
   ]
  },
  {
   "cell_type": "markdown",
   "metadata": {
    "id": "4xTKSUzg10MK"
   },
   "source": [
    "### <a name='4'></a> Exercise 4\n",
    "Convert the _quotations_ object to the _DataFrame_ object. Set the column name to _price_."
   ]
  },
  {
   "cell_type": "code",
   "execution_count": null,
   "metadata": {
    "id": "QyrLUIQVOI0I"
   },
   "outputs": [],
   "source": [
    "# enter solution here"
   ]
  },
  {
   "cell_type": "markdown",
   "metadata": {
    "id": "o3HKIKlP15Ro"
   },
   "source": [
    "### <a name='5'></a> Exercise 5\n",
    "Using the _numpy_ library, build the following _Series_ object:\n",
    "\n",
    "```\n",
    "101    10.0\n",
    "102    20.0\n",
    "103    30.0\n",
    "104    40.0\n",
    "105    50.0\n",
    "106    60.0\n",
    "107    70.0\n",
    "108    80.0\n",
    "109    90.0\n",
    "dtype: float64\n",
    "```"
   ]
  },
  {
   "cell_type": "code",
   "execution_count": null,
   "metadata": {
    "id": "OAEIMF61OOWQ"
   },
   "outputs": [],
   "source": [
    "# enter solution here"
   ]
  },
  {
   "cell_type": "markdown",
   "metadata": {
    "id": "PunXd_Ey16so"
   },
   "source": [
    "### <a name='6'></a> Exercise 6\n",
    "The following object of type _Series_ is given:\n",
    "```\n",
    "series = pd.Series(['001', '002', '003', '004'], list('abcd'))\n",
    "```\n",
    "Convert object type _series_ to _int_ values.\n",
    "\n"
   ]
  },
  {
   "cell_type": "code",
   "execution_count": null,
   "metadata": {
    "id": "FeWykLVAOm3t"
   },
   "outputs": [],
   "source": [
    "# enter solution here"
   ]
  },
  {
   "cell_type": "markdown",
   "metadata": {
    "id": "_6bOUH4SOqse"
   },
   "source": [
    "Convert object type _series_ to _float_ values."
   ]
  },
  {
   "cell_type": "code",
   "execution_count": null,
   "metadata": {
    "id": "gDBgJSQPOsYC"
   },
   "outputs": [],
   "source": [
    "# enter solution here"
   ]
  },
  {
   "cell_type": "markdown",
   "metadata": {
    "id": "hOhqDRz618Tx"
   },
   "source": [
    "### <a name='7'></a> Exercise 7\n",
    "To the following _quotations_ object:\n",
    "```\n",
    "stocks = {'PLW': 387.00, 'CDR': 339.5, 'TEN': 349.5, '11B': 391.0}\n",
    "quotations = pd.Series(data=stocks)\n",
    "```\n",
    "Add two elements:\n",
    "* key: BBT, value: 25.5\n",
    "* key: F51, value: 19.2\n",
    "\n",
    "__Expected result:__\n",
    "```\n",
    "PLW    387.0\n",
    "CDR    339.5\n",
    "TEN    349.5\n",
    "11B    391.0\n",
    "BBT     25.5\n",
    "F51     19.2\n",
    "dtype: float64\n",
    "```\n"
   ]
  },
  {
   "cell_type": "code",
   "execution_count": null,
   "metadata": {
    "id": "rNm1p2iGPA_T"
   },
   "outputs": [],
   "source": [
    "# enter solution here"
   ]
  },
  {
   "cell_type": "markdown",
   "metadata": {
    "id": "TXUd_4631-gw"
   },
   "source": [
    "### <a name='8'></a> Exercise 8\n",
    "Convert the _quotations_ object from the previous exercise to an _DataFrame_ object. Reset the index and name the columns '_ticker_' and _'price'_."
   ]
  },
  {
   "cell_type": "code",
   "execution_count": null,
   "metadata": {
    "id": "v3VyxIyDPHIB"
   },
   "outputs": [],
   "source": [
    "# enter solution here"
   ]
  },
  {
   "cell_type": "markdown",
   "metadata": {
    "id": "tgI6xEn-2AQo"
   },
   "source": [
    "### <a name='9'></a> Exercise 9\n",
    "\n",
    "Build the _DataFrame_ object below and assign it to the _companies_ variable:\n",
    "\n",
    "|    | company   |   price | ticker   |\n",
    "|---:|:----------|--------:|:---------|\n",
    "|  0 | Amazon    |  2375   | AMZN.US  |\n",
    "|  1 | Microsoft |   178.6 | MSFT.US  |\n",
    "|  2 | Facebook  |   179.2 | FB.US    |\n"
   ]
  },
  {
   "cell_type": "code",
   "execution_count": null,
   "metadata": {
    "id": "_9M05ezFPOVz"
   },
   "outputs": [],
   "source": [
    "# enter solution here"
   ]
  },
  {
   "cell_type": "markdown",
   "metadata": {
    "id": "wxhpf-uq2B1I"
   },
   "source": [
    "### <a name='10'></a> Exercise 10\n",
    "Convert the first column of the _companies_ object to an index.\n"
   ]
  },
  {
   "cell_type": "code",
   "execution_count": null,
   "metadata": {
    "id": "YFc0KW6URsuc"
   },
   "outputs": [],
   "source": [
    "# enter solution here"
   ]
  },
  {
   "cell_type": "markdown",
   "metadata": {
    "id": "nW_9JLS5PVSu"
   },
   "source": [
    "Extract row for company _Facebook_ from object _companies_."
   ]
  },
  {
   "cell_type": "code",
   "execution_count": null,
   "metadata": {
    "id": "iDCnF7iUPTJf"
   },
   "outputs": [],
   "source": [
    "# enter solution here"
   ]
  },
  {
   "cell_type": "markdown",
   "metadata": {
    "id": "D1qn3t5HPZwg"
   },
   "source": [
    "Extract price for _Microsoft_"
   ]
  },
  {
   "cell_type": "code",
   "execution_count": null,
   "metadata": {
    "id": "FcPjSj7dPXwn"
   },
   "outputs": [],
   "source": [
    "# enter solution here"
   ]
  },
  {
   "cell_type": "markdown",
   "metadata": {
    "id": "o5oSXPQ78hEL"
   },
   "source": [
    "### <a name='1'></a> Exercise 11\n",
    "Build the _DatetimeIndex_ object containing the `yyyy-mm-dd` format dates for all days from January 2020 and assign it to the _date_range_ variable.\n",
    "\n",
    "__Expected result:__\n",
    "```\n",
    "DatetimeIndex(['2020-01-01', '2020-01-02', '2020-01-03', '2020-01-04',\n",
    "               '2020-01-05', '2020-01-06', '2020-01-07', '2020-01-08',\n",
    "               '2020-01-09', '2020-01-10', '2020-01-11', '2020-01-12',\n",
    "               '2020-01-13', '2020-01-14', '2020-01-15', '2020-01-16',\n",
    "               '2020-01-17', '2020-01-18', '2020-01-19', '2020-01-20',\n",
    "               '2020-01-21', '2020-01-22', '2020-01-23', '2020-01-24',\n",
    "               '2020-01-25', '2020-01-26', '2020-01-27', '2020-01-28',\n",
    "               '2020-01-29', '2020-01-30', '2020-01-31'],\n",
    "              dtype='datetime64[ns]', freq='D')\n",
    "```"
   ]
  },
  {
   "cell_type": "code",
   "execution_count": null,
   "metadata": {
    "id": "b7OtQsCU8jgL"
   },
   "outputs": [],
   "source": [
    "# enter solution here"
   ]
  },
  {
   "cell_type": "markdown",
   "metadata": {
    "id": "nduUqx2x8kHF"
   },
   "source": [
    "Build the _Series_ object from the _date_range_ variable."
   ]
  },
  {
   "cell_type": "code",
   "execution_count": null,
   "metadata": {
    "id": "ZADqDXDV8oZ2"
   },
   "outputs": [],
   "source": [
    "pd.Series(date_range)"
   ]
  },
  {
   "cell_type": "markdown",
   "metadata": {
    "id": "sMTpBnvT8qgz"
   },
   "source": [
    "### <a name='2'></a> Exercise 12\n",
    "Build the _DatetimeIndex_ object containing the dates in the `yyyy-mm-dd` format for all Mondays from 2020 and assign it to the _date_range_ variable."
   ]
  },
  {
   "cell_type": "code",
   "execution_count": null,
   "metadata": {
    "id": "80YZspr48sjz"
   },
   "outputs": [],
   "source": [
    "# enter solution here"
   ]
  },
  {
   "cell_type": "markdown",
   "metadata": {
    "id": "-bb3wRXm8upE"
   },
   "source": [
    "### <a name='3'></a> Exercise 13\n",
    "Build the _DatetimeIndex_ object containing the dates in the format `yyyy-mm-dd hh: mm: ss` for January 1, 2021 with a time interval of 1h and assign to the variable _date_range_.\n",
    "\n",
    "__Expected result:__\n",
    "```\n",
    "DatetimeIndex(['2021-01-01 00:00:00', '2021-01-01 01:00:00',\n",
    "               '2021-01-01 02:00:00', '2021-01-01 03:00:00',\n",
    "               '2021-01-01 04:00:00', '2021-01-01 05:00:00',\n",
    "               '2021-01-01 06:00:00', '2021-01-01 07:00:00',\n",
    "               '2021-01-01 08:00:00', '2021-01-01 09:00:00',\n",
    "               '2021-01-01 10:00:00', '2021-01-01 11:00:00',\n",
    "               '2021-01-01 12:00:00', '2021-01-01 13:00:00',\n",
    "               '2021-01-01 14:00:00', '2021-01-01 15:00:00',\n",
    "               '2021-01-01 16:00:00', '2021-01-01 17:00:00',\n",
    "               '2021-01-01 18:00:00', '2021-01-01 19:00:00',\n",
    "               '2021-01-01 20:00:00', '2021-01-01 21:00:00',\n",
    "               '2021-01-01 22:00:00', '2021-01-01 23:00:00'],\n",
    "              dtype='datetime64[ns]', freq='H')\n",
    "```"
   ]
  },
  {
   "cell_type": "code",
   "execution_count": null,
   "metadata": {
    "id": "NJ5KrsHm8yAn"
   },
   "outputs": [],
   "source": [
    "# enter solution here"
   ]
  },
  {
   "cell_type": "markdown",
   "metadata": {
    "id": "vLdC1xmM80OB"
   },
   "source": [
    "### <a name='4'></a> Exercise 14\n",
    "Build the _DataFrame_ object below.\n",
    "\n",
    "__Tips:__ The _day_ column contains dates from March 1, 2021 to March 31, 2021. The column _day_of_year_ is the day number of the whole year.\n",
    "\n",
    "```\n",
    "      day\t       day_of_year\n",
    " 0\t2021-03-01\t60\n",
    " 1\t2021-03-02\t61\n",
    " 2\t2021-03-03\t62\n",
    " 3\t2021-03-04\t63\n",
    " 4\t2021-03-05\t64\n",
    " 5\t2021-03-06\t65\n",
    " 6\t2021-03-07\t66\n",
    " 7\t2021-03-08\t67\n",
    " 8\t2021-03-09\t68\n",
    " 9\t2021-03-10\t69\n",
    "10\t2021-03-11\t70\n",
    "11\t2021-03-12\t71\n",
    "12\t2021-03-13\t72\n",
    "13\t2021-03-14\t73\n",
    "14\t2021-03-15\t74\n",
    "15\t2021-03-16\t75\n",
    "16\t2021-03-17\t76\n",
    "17\t2021-03-18\t77\n",
    "18\t2021-03-19\t78\n",
    "19\t2021-03-20\t79\n",
    "20\t2021-03-21\t80\n",
    "21\t2021-03-22\t81\n",
    "22\t2021-03-23\t82\n",
    "23\t2021-03-24\t83\n",
    "24\t2021-03-25\t84\n",
    "25\t2021-03-26\t85\n",
    "26\t2021-03-27\t86\n",
    "27\t2021-03-28\t87\n",
    "28\t2021-03-29\t88\n",
    "29\t2021-03-30\t89\n",
    "30\t2021-03-31\t90\n",
    "```"
   ]
  },
  {
   "cell_type": "code",
   "execution_count": null,
   "metadata": {
    "id": "SUxUK1Lk82mb"
   },
   "outputs": [],
   "source": [
    "# enter solution here"
   ]
  },
  {
   "cell_type": "markdown",
   "metadata": {
    "id": "iN5PmfQB85zj"
   },
   "source": [
    "### <a name='5'></a> Exercise 15\n",
    "\n",
    "The following _data_dict_ dictionary is given.\n",
    "```\n",
    "data_dict = {\n",
    "    'normal': np.random.normal(loc=0, scale=1, size=1000),\n",
    "    'uniform': np.random.uniform(low=0, high=1, size=1000),\n",
    "    'binomial': np.random.binomial(n=1, p=0.2, size=1000)\n",
    "}\n",
    "```\n",
    "Build the _DateFrame_ object from this dictionary. Additionally, as an index, add a date from 01/01/2020 and assign it to the _df_ variable.\n",
    "\n"
   ]
  },
  {
   "cell_type": "code",
   "execution_count": null,
   "metadata": {
    "id": "awKld_vA8767"
   },
   "outputs": [],
   "source": [
    "data_dict = {\n",
    "    'normal': np.random.normal(loc=0, scale=1, size=1000),\n",
    "    'uniform': np.random.uniform(low=0, high=1, size=1000),\n",
    "    'binomial': np.random.binomial(n=1, p=0.2, size=1000)\n",
    "}\n",
    "\n",
    "# enter solution here"
   ]
  },
  {
   "cell_type": "markdown",
   "metadata": {
    "id": "4LKyb8Di8-Af"
   },
   "source": [
    "### <a name='6'></a> Exercise 16\n",
    "Display the first 10 rows of the _df_ object from the previous exercise."
   ]
  },
  {
   "cell_type": "code",
   "execution_count": null,
   "metadata": {
    "id": "GjfsoSiL8_9-"
   },
   "outputs": [],
   "source": [
    "# enter solution here"
   ]
  },
  {
   "cell_type": "markdown",
   "metadata": {
    "id": "l_LahygH9nti"
   },
   "source": [
    "Display the last 8 rows of the df object from the previous exercise."
   ]
  },
  {
   "cell_type": "code",
   "execution_count": null,
   "metadata": {
    "id": "wBCOI_Rd9p6L"
   },
   "outputs": [],
   "source": [
    "# enter solution here"
   ]
  },
  {
   "cell_type": "markdown",
   "metadata": {
    "id": "nJZmw0zN9sYb"
   },
   "source": [
    "### <a name='7'></a> Exercise 17\n",
    "Display basic information about the _df_ object (number of rows, number of columns, type of variables)."
   ]
  },
  {
   "cell_type": "code",
   "execution_count": null,
   "metadata": {
    "id": "8LyzrE4L9uaO"
   },
   "outputs": [],
   "source": [
    "# enter solution here"
   ]
  },
  {
   "cell_type": "markdown",
   "metadata": {
    "id": "dPfZaIFH-Whh"
   },
   "source": [
    "Display basic statistics of _df_ (mean value, deviation, min, max, median)."
   ]
  },
  {
   "cell_type": "code",
   "execution_count": null,
   "metadata": {
    "id": "5Nnwg8ZN-cND"
   },
   "outputs": [],
   "source": [
    "# enter solution here"
   ]
  },
  {
   "cell_type": "markdown",
   "metadata": {
    "id": "WPenSCfS-jGC"
   },
   "source": [
    "### <a name='8'></a> Exercise 18\n",
    "Import the _seaborn_ library for data visualization."
   ]
  },
  {
   "cell_type": "code",
   "execution_count": null,
   "metadata": {
    "id": "URRO-cNR-wr6"
   },
   "outputs": [],
   "source": [
    "import seaborn as sns\n",
    "\n",
    "sns.set()"
   ]
  },
  {
   "cell_type": "markdown",
   "metadata": {
    "id": "mTQvrDCT-yit"
   },
   "source": [
    "Using the _pd.DataFrame.plot_ method, build histograms for the next three variables.\n",
    "* normal (20 bins)"
   ]
  },
  {
   "cell_type": "code",
   "execution_count": null,
   "metadata": {
    "id": "7X5CNQpm-0Pd"
   },
   "outputs": [],
   "source": [
    "# enter solution here"
   ]
  },
  {
   "cell_type": "markdown",
   "metadata": {
    "id": "G4jO16AF_TBq"
   },
   "source": [
    "* uniform (30 bins)"
   ]
  },
  {
   "cell_type": "code",
   "execution_count": null,
   "metadata": {
    "id": "mFcPEOVr_ZNp"
   },
   "outputs": [],
   "source": [
    "# enter solution here"
   ]
  },
  {
   "cell_type": "markdown",
   "metadata": {
    "id": "vidrjBft_VVC"
   },
   "source": [
    "* binomial"
   ]
  },
  {
   "cell_type": "code",
   "execution_count": null,
   "metadata": {
    "id": "9cofOyRd_a3Z"
   },
   "outputs": [],
   "source": [
    "# enter solution here"
   ]
  },
  {
   "cell_type": "markdown",
   "metadata": {
    "id": "BYpj6MOV_YAS"
   },
   "source": [
    "### <a name='9'></a> Exercise 19\n",
    "Save the _df_ object to the _'dataframe.csv'_ file."
   ]
  },
  {
   "cell_type": "code",
   "execution_count": null,
   "metadata": {
    "id": "fij4T73l_bmZ"
   },
   "outputs": [],
   "source": [
    "# enter solution here"
   ]
  },
  {
   "cell_type": "markdown",
   "metadata": {
    "id": "IJrSr2gP_iFB"
   },
   "source": [
    "Check the solution"
   ]
  },
  {
   "cell_type": "code",
   "execution_count": null,
   "metadata": {
    "id": "aEw4O2HF_kGZ"
   },
   "outputs": [],
   "source": [
    "!head -5 dataframe.csv"
   ]
  },
  {
   "cell_type": "markdown",
   "metadata": {
    "id": "hi_ss_MR_m0p"
   },
   "source": [
    "### <a name='10'></a> Exercise 20\n",
    "Load the _dataframe.csv_ file into the _df_new_ variable (remember to load the index correctly)."
   ]
  },
  {
   "cell_type": "code",
   "execution_count": null,
   "metadata": {
    "id": "rPQwpc31_on5"
   },
   "outputs": [],
   "source": [
    "# enter solution here"
   ]
  },
  {
   "cell_type": "markdown",
   "metadata": {
    "id": "YY71U9BaAJOZ"
   },
   "source": [
    "The _fetch_financial_data()_ function fetches data on listed companies. It will be used in the following exercises. To download data of a specific company, you must provide the ticker (symbol) of the company.\n",
    "\n",
    "Some sample company tickers:\n",
    "* AMZN - Amazon\n",
    "* GOOGL - Google\n",
    "* MSFT - Microsoft\n",
    "* AAPL - Apple\n",
    "* NKE - Nike\n",
    "* WMT - Walmart"
   ]
  },
  {
   "cell_type": "code",
   "execution_count": null,
   "metadata": {
    "id": "E2csffXuALAy"
   },
   "outputs": [],
   "source": [
    "def fetch_financial_data(company='AMZN'):\n",
    "    \"\"\"\n",
    "    This function fetches stock market quotations.\n",
    "    \"\"\"\n",
    "    import pandas_datareader.data as web\n",
    "    return web.DataReader(name=company, data_source='stooq')"
   ]
  },
  {
   "cell_type": "markdown",
   "metadata": {
    "id": "MPHEyOW0ANzQ"
   },
   "source": [
    "### <a name='1'></a> Exercise 21\n",
    "Using the _fetch_financial_data()_ function, download Google (Alphabet) quotes and assign to the variable _google_. Display object _google_."
   ]
  },
  {
   "cell_type": "code",
   "execution_count": null,
   "metadata": {
    "id": "g4dN9KyMAPa-"
   },
   "outputs": [],
   "source": [
    "# enter solution here"
   ]
  },
  {
   "cell_type": "markdown",
   "metadata": {
    "id": "pOMlK6DYARzR"
   },
   "source": [
    "### <a name='2'></a> Exercise 22\n",
    "Display basic information about _google_ object."
   ]
  },
  {
   "cell_type": "code",
   "execution_count": null,
   "metadata": {
    "id": "Q8yFP158ATx5"
   },
   "outputs": [],
   "source": [
    "# enter solution here"
   ]
  },
  {
   "cell_type": "markdown",
   "metadata": {
    "id": "eCA3Wh8ZAVj5"
   },
   "source": [
    "Display basic statistics for _google_."
   ]
  },
  {
   "cell_type": "code",
   "execution_count": null,
   "metadata": {
    "id": "XWZlL8oMAdKK"
   },
   "outputs": [],
   "source": [
    "# enter solution here"
   ]
  },
  {
   "cell_type": "markdown",
   "metadata": {
    "id": "wQR-hVfIAYPQ"
   },
   "source": [
    "Note the precision of individual statistics.\n",
    "Try setting the appropriate _pandas_ library options to display data with two decimal places.\n",
    "\n",
    "__Tip:__ \n",
    "https://pandas.pydata.org/pandas-docs/stable/user_guide/options.html"
   ]
  },
  {
   "cell_type": "code",
   "execution_count": null,
   "metadata": {
    "id": "sSBfszCHAbXp"
   },
   "outputs": [],
   "source": [
    "# enter solution here"
   ]
  },
  {
   "cell_type": "markdown",
   "metadata": {
    "id": "XB8sRBMvAqpy"
   },
   "source": [
    "__Additionally:__\n",
    "The following setting will also suppress mathematical notation (see column _Volume_)."
   ]
  },
  {
   "cell_type": "code",
   "execution_count": null,
   "metadata": {
    "id": "9EFb3lMvAsnx"
   },
   "outputs": [],
   "source": [
    "pd.options.display.float_format = '{:.2f}'.format\n",
    "google.describe()"
   ]
  },
  {
   "cell_type": "markdown",
   "metadata": {
    "id": "bNbPniAJAu0R"
   },
   "source": [
    "Build a simple chart for _google_ closing price (_Close_)"
   ]
  },
  {
   "cell_type": "code",
   "execution_count": null,
   "metadata": {
    "id": "LmaSW0WNAw5Z"
   },
   "outputs": [],
   "source": [
    "# enter solution here"
   ]
  },
  {
   "cell_type": "markdown",
   "metadata": {
    "id": "arZxANspBffg"
   },
   "source": [
    "### <a name='3'></a> Exercise 23\n",
    "Replace the _Date_ index with a column. Permanently assign changes to the _google_."
   ]
  },
  {
   "cell_type": "code",
   "execution_count": null,
   "metadata": {
    "id": "YUazxLk2BhhY"
   },
   "outputs": [],
   "source": [
    "# enter solution here"
   ]
  },
  {
   "cell_type": "markdown",
   "metadata": {
    "id": "SQlq9ldjBjeo"
   },
   "source": [
    "Assign two new columns to the _google_ object by adding a column with the current month number named _'Month'_ and the year named _'Year'_."
   ]
  },
  {
   "cell_type": "code",
   "execution_count": null,
   "metadata": {
    "id": "J4FpKFNPBlwg"
   },
   "outputs": [],
   "source": [
    "# enter solution here"
   ]
  },
  {
   "cell_type": "markdown",
   "metadata": {
    "id": "pr8aei3SBmXh"
   },
   "source": [
    "### <a name='4'></a> Exercise 24\n",
    "Compute the average closing price (_Close_) for a particular year (group data by year - column _Year_ and then calculate the average value)."
   ]
  },
  {
   "cell_type": "code",
   "execution_count": null,
   "metadata": {
    "id": "ML0LQzxBCSvn"
   },
   "outputs": [],
   "source": [
    "# enter solution here"
   ]
  },
  {
   "cell_type": "markdown",
   "metadata": {
    "id": "4fl7HWqtBtTA"
   },
   "source": [
    "Present the obtained values on the graph using the _plot()_ method."
   ]
  },
  {
   "cell_type": "code",
   "execution_count": null,
   "metadata": {
    "id": "o-5XrODsCTqP"
   },
   "outputs": [],
   "source": [
    "# enter solution here"
   ]
  },
  {
   "cell_type": "markdown",
   "metadata": {
    "id": "7YGkf4AOBv5T"
   },
   "source": [
    "Compute the average closing price (_Close_) for the month (group data by month - the _Month_ column and then count the average value)."
   ]
  },
  {
   "cell_type": "code",
   "execution_count": null,
   "metadata": {
    "id": "SzSq4JOcCUw_"
   },
   "outputs": [],
   "source": [
    "# enter solution here"
   ]
  },
  {
   "cell_type": "markdown",
   "metadata": {
    "id": "ATWPDh7rBz8Q"
   },
   "source": [
    "Present the obtained values on the graph using the _plot()_ method.\n",
    "Note which months may indicate weaker periods on the stock market."
   ]
  },
  {
   "cell_type": "code",
   "execution_count": null,
   "metadata": {
    "id": "4BShUfkYCQ9a"
   },
   "outputs": [],
   "source": [
    "# enter solution here"
   ]
  },
  {
   "cell_type": "markdown",
   "metadata": {
    "id": "vXDfz-VmB3io"
   },
   "source": [
    "### <a name='5'></a> Exercise 25\n",
    "Group data from _google_ at year and month level. Then calculate the average value.\n"
   ]
  },
  {
   "cell_type": "code",
   "execution_count": null,
   "metadata": {
    "id": "xLMY7armCJ_w"
   },
   "outputs": [],
   "source": [
    "# enter solution here"
   ]
  },
  {
   "cell_type": "markdown",
   "metadata": {
    "id": "92V_W2KRB5JM"
   },
   "source": [
    "### <a name='6'></a> Exercise 26\n",
    "Find the index for which the _Close_ column has the largest value.\n"
   ]
  },
  {
   "cell_type": "code",
   "execution_count": null,
   "metadata": {
    "id": "EaMibnYCCOsK"
   },
   "outputs": [],
   "source": [
    "# enter solution here"
   ]
  },
  {
   "cell_type": "markdown",
   "metadata": {
    "id": "RTVWuG4rB7bo"
   },
   "source": [
    "Extract the row for this index from the google object as a DataFrame. Read the date."
   ]
  },
  {
   "cell_type": "code",
   "execution_count": null,
   "metadata": {
    "id": "SdP5xBnQCJGQ"
   },
   "outputs": [],
   "source": [
    "# enter solution here"
   ]
  },
  {
   "cell_type": "markdown",
   "metadata": {
    "id": "YOyQiCGIB-dg"
   },
   "source": [
    "### <a name='7'></a> Exercise 27\n",
    "Extract the columns _Date_, _Open_, _Close_, _Volume_ from the _google_ object.\n",
    "Don't change the original _google_ object!"
   ]
  },
  {
   "cell_type": "code",
   "execution_count": null,
   "metadata": {
    "id": "jNg2GbbGCIii"
   },
   "outputs": [],
   "source": [
    "# enter solution here"
   ]
  },
  {
   "cell_type": "markdown",
   "metadata": {
    "id": "ouxdTG6KCAOo"
   },
   "source": [
    "### <a name='8'></a> Exercise 28\n",
    "Set the index for the _Date_ column back. Display object _google_."
   ]
  },
  {
   "cell_type": "code",
   "execution_count": null,
   "metadata": {
    "id": "rfjAM_vaCH7I"
   },
   "outputs": [],
   "source": [
    "# enter solution here"
   ]
  },
  {
   "cell_type": "markdown",
   "metadata": {
    "id": "Xbvf7vVxCC15"
   },
   "source": [
    "### <a name='9'></a> Exercise 29\n",
    "Permanently remove the _Year_ and _Month_ columns from the _google_ object. Display object _google_."
   ]
  },
  {
   "cell_type": "code",
   "execution_count": null,
   "metadata": {
    "id": "FxqEId01CHPQ"
   },
   "outputs": [],
   "source": [
    "# enter solution here"
   ]
  },
  {
   "cell_type": "markdown",
   "metadata": {
    "id": "9F2z59CnCEsQ"
   },
   "source": [
    "### <a name='10'></a> Exercise 30\n",
    "\n",
    "Assign the following values to the column names:\n",
    "* Open -> O\n",
    "* High -> H\n",
    "* Low -> L\n",
    "* Close -> C\n",
    "* Volume -> V\n",
    "\n",
    "to object _google_. Siaplay object _google_."
   ]
  },
  {
   "cell_type": "code",
   "execution_count": null,
   "metadata": {
    "id": "ThAek2vbCGh4"
   },
   "outputs": [],
   "source": [
    "# enter solution here"
   ]
  },
  {
   "cell_type": "markdown",
   "metadata": {
    "id": "pTTcLpUDCm_Z"
   },
   "source": [
    "### <a name='1'></a> Exercise 31\n",
    "\n",
    "Load the csv file into a DataFrame object named _df_raw_ with the default parameters of the _pd.read_csv()_ function and display the first 5 rows.\n",
    "File url:\n",
    "* https://ml-repository-krakers.s3-eu-west-1.amazonaws.com/kaggle+/churn_modelling/Telco-Customer-Churn.csv"
   ]
  },
  {
   "cell_type": "code",
   "execution_count": null,
   "metadata": {
    "id": "XKWpohWqC2IB"
   },
   "outputs": [],
   "source": [
    "# enter solution here"
   ]
  },
  {
   "cell_type": "markdown",
   "metadata": {
    "id": "UshG60DyCpNY"
   },
   "source": [
    "Copy the _df_raw_ object to the _df_ variable."
   ]
  },
  {
   "cell_type": "code",
   "execution_count": null,
   "metadata": {
    "id": "Vd9YltG4Cyqv"
   },
   "outputs": [],
   "source": [
    "# enter solution here"
   ]
  },
  {
   "cell_type": "markdown",
   "metadata": {
    "id": "h50_rjhVCrIv"
   },
   "source": [
    "Display basic information about the object _df_."
   ]
  },
  {
   "cell_type": "code",
   "execution_count": null,
   "metadata": {
    "id": "r9nYGPExCw9H"
   },
   "outputs": [],
   "source": [
    "# enter solution here"
   ]
  },
  {
   "cell_type": "markdown",
   "metadata": {
    "id": "xI-wd5p-Ctan"
   },
   "source": [
    "Determine the number of missing elements (_np.nan_) in the _df_ object for each variable."
   ]
  },
  {
   "cell_type": "code",
   "execution_count": null,
   "metadata": {
    "id": "z5S8YQH1Cwkg"
   },
   "outputs": [],
   "source": [
    "# enter solution here"
   ]
  },
  {
   "cell_type": "markdown",
   "metadata": {
    "id": "v-rF8ZxEC8W_"
   },
   "source": [
    "### <a name='2'></a> Exercise 32\n",
    "Note the _TotalCharges_ column. The type of this column is _object_. Try to guess why this happened.\n",
    "\n",
    "__Tip:__\n",
    "Look at the variable distribution."
   ]
  },
  {
   "cell_type": "code",
   "execution_count": null,
   "metadata": {
    "id": "e-FWxqTRC-pC"
   },
   "outputs": [],
   "source": [
    "# enter solution here"
   ]
  },
  {
   "cell_type": "markdown",
   "metadata": {
    "id": "3CLW-KRGDAye"
   },
   "source": [
    "Note that we have 11 null values. To see it better, see below."
   ]
  },
  {
   "cell_type": "code",
   "execution_count": null,
   "metadata": {
    "id": "Cb0S5LwlDARI"
   },
   "outputs": [],
   "source": [
    "df['TotalCharges'].value_counts()[:3].index"
   ]
  },
  {
   "cell_type": "markdown",
   "metadata": {
    "id": "gDZwKkV1DFSZ"
   },
   "source": [
    "This is a space character that has crept into our data. He made the pandas read the entire column as text. As an analyst, we have to deal with such problems. Try to replace the missing values of the _TotalCharges_ column with its median."
   ]
  },
  {
   "cell_type": "code",
   "execution_count": null,
   "metadata": {
    "id": "50WmBV4kDIN-"
   },
   "outputs": [],
   "source": [
    "# enter solution here"
   ]
  },
  {
   "cell_type": "markdown",
   "metadata": {
    "id": "HZbXD9PWDHsu"
   },
   "source": [
    "Check if the type has been changed correctly."
   ]
  },
  {
   "cell_type": "code",
   "execution_count": null,
   "metadata": {
    "id": "w0RYrXP4DJkO"
   },
   "outputs": [],
   "source": [
    "# enter solution here"
   ]
  },
  {
   "cell_type": "markdown",
   "metadata": {
    "id": "aJPJzrS0DPZX"
   },
   "source": [
    "### <a name='3'></a> Exercise 33\n",
    "Convert columns from the list below _categorical_ to type _category_."
   ]
  },
  {
   "cell_type": "code",
   "execution_count": null,
   "metadata": {
    "id": "K1tiBvjoDYR6"
   },
   "outputs": [],
   "source": [
    "# enter solution here"
   ]
  },
  {
   "cell_type": "markdown",
   "metadata": {
    "id": "nJMdkLvKDSE_"
   },
   "source": [
    "Convert columns from the list below _numerical_ to type _float_."
   ]
  },
  {
   "cell_type": "code",
   "execution_count": null,
   "metadata": {
    "id": "MbU1mt_5DXdH"
   },
   "outputs": [],
   "source": [
    "# enter solution here"
   ]
  },
  {
   "cell_type": "markdown",
   "metadata": {
    "id": "nDsFUQjtDUPn"
   },
   "source": [
    "Set the _customerID_ column as the index of the _df_ object and display info about the _df_ object."
   ]
  },
  {
   "cell_type": "code",
   "execution_count": null,
   "metadata": {
    "id": "6mXUGTjTDW_A"
   },
   "outputs": [],
   "source": [
    "# enter solution here"
   ]
  },
  {
   "cell_type": "markdown",
   "metadata": {
    "id": "4ulcomm9DcHP"
   },
   "source": [
    "### <a name='4'></a> Exercise 34\n",
    "Use the _describe()_ method to display basic statistics for the _df_ object."
   ]
  },
  {
   "cell_type": "code",
   "execution_count": null,
   "metadata": {
    "id": "0wSeJ3yaDj-Y"
   },
   "outputs": [],
   "source": [
    "# enter solution here"
   ]
  },
  {
   "cell_type": "markdown",
   "metadata": {
    "id": "TcD6e9EgDeTf"
   },
   "source": [
    "Note that these are only numeric variables. Display the basic statistics of categorical variables by passing the appropriate parameter _include_ of the _describe()_ method."
   ]
  },
  {
   "cell_type": "code",
   "execution_count": null,
   "metadata": {
    "id": "6UW1PzuWDk1e"
   },
   "outputs": [],
   "source": [
    "# enter solution here"
   ]
  },
  {
   "cell_type": "markdown",
   "metadata": {
    "id": "C-CLljt2DgiC"
   },
   "source": [
    "Note that these are slightly different statistics than for numeric variables."
   ]
  },
  {
   "cell_type": "markdown",
   "metadata": {
    "id": "k6EO9PO6Do9x"
   },
   "source": [
    "### <a name='5'></a> Exercise 35\n",
    "Find the distribution of values for the _Churn_ variable."
   ]
  },
  {
   "cell_type": "code",
   "execution_count": null,
   "metadata": {
    "id": "nPVzIuQbDomQ"
   },
   "outputs": [],
   "source": [
    "# enter solution here"
   ]
  },
  {
   "cell_type": "markdown",
   "metadata": {
    "id": "7uI92FMIDruC"
   },
   "source": [
    "Build a pie chart of the distribution of the _Churn_ variable."
   ]
  },
  {
   "cell_type": "code",
   "execution_count": null,
   "metadata": {
    "id": "45yZHJuZDsig"
   },
   "outputs": [],
   "source": [
    "# enter solution here"
   ]
  },
  {
   "cell_type": "markdown",
   "metadata": {
    "id": "E8XTsWakDwV3"
   },
   "source": [
    "### <a name='6'></a> Exercise 36\n",
    "Build the _pairplot()_ chart from the _seaborn_ library. Pass variables:\n",
    "* tenure\n",
    "* MonthlyCharges\n",
    "* TotalCharges\n",
    "\n",
    "\n",
    "and the parameter: _hue = 'Churn'_.\n",
    "\n",
    "__Tip:__\n",
    "https://seaborn.pydata.org/generated/seaborn.pairplot.html"
   ]
  },
  {
   "cell_type": "code",
   "execution_count": null,
   "metadata": {
    "id": "i4VyKeJlDzIZ"
   },
   "outputs": [],
   "source": [
    "# enter solution here"
   ]
  },
  {
   "cell_type": "markdown",
   "metadata": {
    "id": "JmjP1A9QD1IR"
   },
   "source": [
    "### <a name='7'></a> Exercise 37\n",
    "Map the _Churn_ column accordingly:\n",
    "* 'Yes' -> 1\n",
    "* 'No' -> 0\n",
    "\n",
    "Display the first 5 rows of _df_."
   ]
  },
  {
   "cell_type": "code",
   "execution_count": null,
   "metadata": {
    "id": "Syle4_alEJlX"
   },
   "outputs": [],
   "source": [
    "# enter solution here"
   ]
  },
  {
   "cell_type": "markdown",
   "metadata": {
    "id": "tblIs5DwD41O"
   },
   "source": [
    "### <a name='8'></a> Exercise 38\n",
    "Calculate the correlation matrix for the _df_ object."
   ]
  },
  {
   "cell_type": "code",
   "execution_count": null,
   "metadata": {
    "id": "u-ljIvrREH1y"
   },
   "outputs": [],
   "source": [
    "# enter solution here"
   ]
  },
  {
   "cell_type": "markdown",
   "metadata": {
    "id": "zk3SAi0aD7Jv"
   },
   "source": [
    "### <a name='9'></a> Exercise 39\n",
    "Find the distribution of _PaymentMethod_."
   ]
  },
  {
   "cell_type": "code",
   "execution_count": null,
   "metadata": {
    "id": "Va0RKJ-0EG9v"
   },
   "outputs": [],
   "source": [
    "# enter solution here"
   ]
  },
  {
   "cell_type": "markdown",
   "metadata": {
    "id": "ZqmxXiMSD87-"
   },
   "source": [
    "Group data by the _PaymentMethod_ variable and calculate the average value for the _TotalCharges_ variable."
   ]
  },
  {
   "cell_type": "code",
   "execution_count": null,
   "metadata": {
    "id": "8y2qHx65EGeU"
   },
   "outputs": [],
   "source": [
    "# enter solution here"
   ]
  },
  {
   "cell_type": "markdown",
   "metadata": {
    "id": "71fr1fqMD-vX"
   },
   "source": [
    "### <a name='10'></a> Exercise 40\n",
    "Take a sample of 10 rows from the _df_ object and save to _sample_10.csv_."
   ]
  },
  {
   "cell_type": "code",
   "execution_count": null,
   "metadata": {
    "id": "NQdzkbarEDWf"
   },
   "outputs": [],
   "source": [
    "# enter solution here"
   ]
  },
  {
   "cell_type": "markdown",
   "metadata": {
    "id": "Svas1Sl7EAp3"
   },
   "source": [
    "Run the cell below to check."
   ]
  },
  {
   "cell_type": "code",
   "execution_count": null,
   "metadata": {
    "id": "6L0im32wECh3"
   },
   "outputs": [],
   "source": [
    "! cat sample_10.csv"
   ]
  },
  {
   "cell_type": "markdown",
   "metadata": {
    "id": "KqInZYuwEZXB"
   },
   "source": [
    "### <a name='1'></a> Exercise 41\n",
    "Two _Series_ objects are given:\n",
    "```\n",
    "s1 = pd.Series(np.random.rand(20))\n",
    "s2 = pd.Series(np.random.randn(20))\n",
    "```\n",
    "Combine these two objects into one _DataFrame_ object (as two columns) and assign to _df_. Name the columns _col1_ and _col2_ respectively.\n"
   ]
  },
  {
   "cell_type": "code",
   "execution_count": null,
   "metadata": {
    "id": "YYE97Z8QEgiu"
   },
   "outputs": [],
   "source": [
    "# enter solution here"
   ]
  },
  {
   "cell_type": "markdown",
   "metadata": {
    "id": "UvNUrTJAEb1W"
   },
   "source": [
    "### <a name='2'></a> Exercise 42\n",
    "Extract rows from the _df_ object for which the value in the _col2_ column is between 0.0 and 1.0 (inclusive)."
   ]
  },
  {
   "cell_type": "code",
   "execution_count": null,
   "metadata": {
    "id": "tacUW1xcEf5e"
   },
   "outputs": [],
   "source": [
    "# enter solution here"
   ]
  },
  {
   "cell_type": "markdown",
   "metadata": {
    "id": "eD_0LSmWEhmm"
   },
   "source": [
    "### <a name='3'></a> Exercise 43\n",
    "Assign a new column named _col3_, which will have a value of 1 when the value in the column _col2_ is non-negative and -1 opposite.\n"
   ]
  },
  {
   "cell_type": "code",
   "execution_count": null,
   "metadata": {
    "id": "OpfI2iYnEhYW"
   },
   "outputs": [],
   "source": [
    "# enter solution here"
   ]
  },
  {
   "cell_type": "markdown",
   "metadata": {
    "id": "UvWtA9fiEld-"
   },
   "source": [
    "### <a name='4'></a> Exercise 44\n",
    "\n",
    "Assign a new column _col4_, which will truncate the values from the column _col2_ to the range $ [- 1.0, 1.0] $.\n",
    "In other words, for values below -1.0, leave -1.0, for values above 1.0, leave 1.0."
   ]
  },
  {
   "cell_type": "code",
   "execution_count": null,
   "metadata": {
    "id": "5bXwK45gEnou"
   },
   "outputs": [],
   "source": [
    "# enter solution here"
   ]
  },
  {
   "cell_type": "markdown",
   "metadata": {
    "id": "ThB0xCbsEqRZ"
   },
   "source": [
    "### <a name='5'></a> Exercise 45\n",
    "Find the top 5 values for the _col2_ column."
   ]
  },
  {
   "cell_type": "code",
   "execution_count": null,
   "metadata": {
    "id": "_l_tfNhrEqnn"
   },
   "outputs": [],
   "source": [
    "# enter solution here"
   ]
  },
  {
   "cell_type": "markdown",
   "metadata": {
    "id": "PxWgVeA5Ewqv"
   },
   "source": [
    "Find the 5 lowest values for the _col2_ column."
   ]
  },
  {
   "cell_type": "code",
   "execution_count": null,
   "metadata": {
    "id": "4mtl-Hd0FJCu"
   },
   "outputs": [],
   "source": [
    "# enter solution here"
   ]
  },
  {
   "cell_type": "markdown",
   "metadata": {
    "id": "mCGn_qOKEyjm"
   },
   "source": [
    "### <a name='6'></a> Exercise 46\n",
    "Calculate the cumulative sum for each column.\n",
    "\n",
    "__Tip:__ Use the _pd.DataFrame.cumsum()_ method."
   ]
  },
  {
   "cell_type": "code",
   "execution_count": null,
   "metadata": {
    "id": "WUNB1zXFFGmm"
   },
   "outputs": [],
   "source": [
    "# enter solution here"
   ]
  },
  {
   "cell_type": "markdown",
   "metadata": {
    "id": "1EmT1ZY6E0YO"
   },
   "source": [
    "### <a name='7'></a> Exercise 47\n",
    "Calculate the median for the _col2_ variable (or 0.5 quantile)."
   ]
  },
  {
   "cell_type": "code",
   "execution_count": null,
   "metadata": {
    "id": "E3v4Ku0pFGA-"
   },
   "outputs": [],
   "source": [
    "# enter solution here"
   ]
  },
  {
   "cell_type": "markdown",
   "metadata": {
    "id": "mKO_-Vf3E2YG"
   },
   "source": [
    "### <a name='8'></a> Exercise 48\n",
    "Extract rows for which the variable _col2_ takes values greater than 0.0."
   ]
  },
  {
   "cell_type": "code",
   "execution_count": null,
   "metadata": {
    "id": "IN42wNfPFFMB"
   },
   "outputs": [],
   "source": [
    "# enter solution here"
   ]
  },
  {
   "cell_type": "markdown",
   "metadata": {
    "id": "VaP6dm5rE4Tu"
   },
   "source": [
    "### <a name='9'></a> Exercise 49\n",
    "Extract first 5 rows of the _df_ object and convert it to a dictionary."
   ]
  },
  {
   "cell_type": "code",
   "execution_count": null,
   "metadata": {
    "id": "QZ15dlUsFEZG"
   },
   "outputs": [],
   "source": [
    "# enter solution here"
   ]
  },
  {
   "cell_type": "markdown",
   "metadata": {
    "id": "6q1Rjya-E6nn"
   },
   "source": [
    "### <a name='10'></a> Exercise 50\n",
    "Extract the first 5 rows of the _df_ object, convert it to Markdown format, and assign it to the _df_markdown_ variable."
   ]
  },
  {
   "cell_type": "code",
   "execution_count": null,
   "metadata": {
    "id": "EorsJj4vFCvo"
   },
   "outputs": [],
   "source": [
    "# enter solution here"
   ]
  },
  {
   "cell_type": "markdown",
   "metadata": {
    "id": "Ylf8VyNuE8qG"
   },
   "source": [
    "Print the contents of the _df_markdown_ variable to the console."
   ]
  },
  {
   "cell_type": "code",
   "execution_count": null,
   "metadata": {
    "id": "9ny4iD1WFB_e"
   },
   "outputs": [],
   "source": [
    "# enter solution here"
   ]
  },
  {
   "cell_type": "markdown",
   "metadata": {
    "id": "HDWtNJUsE-we"
   },
   "source": [
    "Copy the result of running the above cell and paste below:\n",
    "\n",
    "|    |     col1 |      col2 |   col3 |      col4 |\n",
    "|---:|---------:|----------:|-------:|----------:|\n",
    "|  0 | 0.292145 |  0.822545 |      1 |  0.822545 |\n",
    "|  1 | 0.366362 | -1.22084  |     -1 | -1        |\n",
    "|  2 | 0.45607  |  0.208864 |      1 |  0.208864 |\n",
    "|  3 | 0.785176 | -1.95967  |     -1 | -1        |\n",
    "|  4 | 0.199674 | -1.32819  |     -1 | -1        |\n"
   ]
  },
  {
   "cell_type": "markdown",
   "metadata": {
    "id": "YNSo4N-gFbN2"
   },
   "source": [
    "### <a name='1'></a> Exercise 51\n",
    "The following _DataFrame_ object is given:\n",
    "```\n",
    "df = pd.DataFrame(np.random.rand(10, 4), columns=list('ABCD'))\n",
    "```\n",
    "\n"
   ]
  },
  {
   "cell_type": "code",
   "execution_count": null,
   "metadata": {
    "id": "5h5vBTzrGB99"
   },
   "outputs": [],
   "source": [
    "# enter solution here"
   ]
  },
  {
   "cell_type": "markdown",
   "metadata": {
    "id": "2uAO_X8VFdhn"
   },
   "source": [
    "Extract the rows of the _df_ object for which the _C_ column is greater than 0.8."
   ]
  },
  {
   "cell_type": "code",
   "execution_count": null,
   "metadata": {
    "id": "yBItabjTGDb3"
   },
   "outputs": [],
   "source": [
    "# enter solution here"
   ]
  },
  {
   "cell_type": "markdown",
   "metadata": {
    "id": "C_MGxJXwFfYt"
   },
   "source": [
    "### <a name='2'></a> Exercise 52\n",
    "Extract the rows of the _df_ object for which the _C_ column is greater than 0.3 and the _D_ column is less than 0.7."
   ]
  },
  {
   "cell_type": "code",
   "execution_count": null,
   "metadata": {
    "id": "1waXsRrZF_uO"
   },
   "outputs": [],
   "source": [
    "# enter solution here"
   ]
  },
  {
   "cell_type": "markdown",
   "metadata": {
    "id": "9YmNouDvFhaN"
   },
   "source": [
    "### <a name='3'></a> Exercise 53\n",
    "Iterate through the first five rows of the _df_ object. Print each row to the console.\n",
    "\n",
    "__Tip:__ Use the _pd.DataFrame.iterrows()_ function."
   ]
  },
  {
   "cell_type": "code",
   "execution_count": null,
   "metadata": {
    "id": "SLrrtgBBF-BY"
   },
   "outputs": [],
   "source": [
    "# enter solution here"
   ]
  },
  {
   "cell_type": "markdown",
   "metadata": {
    "id": "Jd-LNY9hFjmA"
   },
   "source": [
    "### <a name='4'></a> Exercise 54\n",
    "Set the value in row with index 3 for column B as _np.nan_.\n",
    "Use _df.iloc_."
   ]
  },
  {
   "cell_type": "code",
   "execution_count": null,
   "metadata": {
    "id": "rmISUsp1F7Cx"
   },
   "outputs": [],
   "source": [
    "# enter solution here"
   ]
  },
  {
   "cell_type": "markdown",
   "metadata": {
    "id": "3Ejqs_iLFlWa"
   },
   "source": [
    "Set the value in the row at index 8 for column D as _np.nan_. Use _df.loc_."
   ]
  },
  {
   "cell_type": "code",
   "execution_count": null,
   "metadata": {
    "id": "q81B8iVlF7io"
   },
   "outputs": [],
   "source": [
    "# enter solution here"
   ]
  },
  {
   "cell_type": "markdown",
   "metadata": {
    "id": "KgV1pu4VFnJV"
   },
   "source": [
    "### <a name='5'></a> Exercise 55\n",
    "Delete all rows from object _df_ containing missing values and assign to variable _df1_. Display variable _df1_."
   ]
  },
  {
   "cell_type": "code",
   "execution_count": null,
   "metadata": {
    "id": "vREJey_QF4lw"
   },
   "outputs": [],
   "source": [
    "# enter solution here"
   ]
  },
  {
   "cell_type": "markdown",
   "metadata": {
    "id": "mSqdP4mnFo8t"
   },
   "source": [
    "### <a name='6'></a> Exercise 56\n",
    "Note that the index after removing two rows in the _df1_ object is not in turn. Reset the index (do not add a new column, just reset the index). Display variable _df1_."
   ]
  },
  {
   "cell_type": "code",
   "execution_count": null,
   "metadata": {
    "id": "b6PG0kWJF4BO"
   },
   "outputs": [],
   "source": [
    "# enter solution here"
   ]
  },
  {
   "cell_type": "markdown",
   "metadata": {
    "id": "w8gjxLDtFq_C"
   },
   "source": [
    "### <a name='7'></a> Exercise 57\n",
    "Let's go back to the _df_  object. Determine the number of missing elements in the _df_ object for each column."
   ]
  },
  {
   "cell_type": "code",
   "execution_count": null,
   "metadata": {
    "id": "Pt0NJG8gF3Pl"
   },
   "outputs": [],
   "source": [
    "# enter solution here"
   ]
  },
  {
   "cell_type": "markdown",
   "metadata": {
    "id": "Is8pru-iFtbl"
   },
   "source": [
    "### <a name='8'></a> Exercise 58\n",
    "Fill in the missing values with the value 0 and assign to the variable _df_.\n"
   ]
  },
  {
   "cell_type": "code",
   "execution_count": null,
   "metadata": {
    "id": "R59quNG6F2qV"
   },
   "outputs": [],
   "source": [
    "# enter solution here"
   ]
  },
  {
   "cell_type": "markdown",
   "metadata": {
    "id": "ByltNd4kFvW1"
   },
   "source": [
    "### <a name='9'></a> Exercise 59\n",
    "Replace the order of the columns in the _df_ object with the one given below:\n",
    "* D, A, B, C\n",
    "\n",
    "and assign to _df_."
   ]
  },
  {
   "cell_type": "code",
   "execution_count": null,
   "metadata": {
    "id": "I9eJGL8xF11W"
   },
   "outputs": [],
   "source": [
    "# enter solution here"
   ]
  },
  {
   "cell_type": "markdown",
   "metadata": {
    "id": "qyvYtxbfFxWV"
   },
   "source": [
    "### <a name='10'></a> Exercise 60\n",
    "Remove the $ D $ column from the _df_ object."
   ]
  },
  {
   "cell_type": "code",
   "execution_count": null,
   "metadata": {
    "id": "2gQ2w1ClF0UW"
   },
   "outputs": [],
   "source": [
    "# enter solution here"
   ]
  },
  {
   "cell_type": "markdown",
   "metadata": {
    "id": "uCncY9kRGK89"
   },
   "source": [
    "### <a name='1'></a> Exercise 61\n",
    "Load the csv file into the _DataFrame_ object named _df_:\n",
    "\n",
    "* https://storage.googleapis.com/esmartdata-courses-files/dash-course/data.csv\n",
    "\n",
    "Set the index to the first column. Display object _df_.\n"
   ]
  },
  {
   "cell_type": "code",
   "execution_count": null,
   "metadata": {
    "id": "Znhb3eBzJj07"
   },
   "outputs": [],
   "source": [
    "# enter solution here"
   ]
  },
  {
   "cell_type": "markdown",
   "metadata": {
    "id": "zaI-KhcWGOnN"
   },
   "source": [
    "Display information about the object _df_."
   ]
  },
  {
   "cell_type": "code",
   "execution_count": null,
   "metadata": {
    "id": "dLD9kNQoJkjr"
   },
   "outputs": [],
   "source": [
    "# enter solution here"
   ]
  },
  {
   "cell_type": "markdown",
   "metadata": {
    "id": "zUgmufEEGQ22"
   },
   "source": [
    "Display basic statistics of an object _df_."
   ]
  },
  {
   "cell_type": "code",
   "execution_count": null,
   "metadata": {
    "id": "gpAoDGp-JlBo"
   },
   "outputs": [],
   "source": [
    "# enter solution here"
   ]
  },
  {
   "cell_type": "markdown",
   "metadata": {
    "id": "XkRyvQrkGTyG"
   },
   "source": [
    "### <a name='2'></a> Exercise 62\n",
    "Find the list containing the names of all columns of the _df_ object."
   ]
  },
  {
   "cell_type": "code",
   "execution_count": null,
   "metadata": {
    "id": "u60c3cm3JgeT"
   },
   "outputs": [],
   "source": [
    "# enter solution here"
   ]
  },
  {
   "cell_type": "markdown",
   "metadata": {
    "id": "0Z0utMPFGWst"
   },
   "source": [
    "From the df object, remove the column named New_Price and display the first 5 rows."
   ]
  },
  {
   "cell_type": "code",
   "execution_count": null,
   "metadata": {
    "id": "8jz2R3HUJhAt"
   },
   "outputs": [],
   "source": [
    "# enter solution here"
   ]
  },
  {
   "cell_type": "markdown",
   "metadata": {
    "id": "tnud-P0nGYbQ"
   },
   "source": [
    "### <a name='3'></a> Exercise 63\n",
    "Find the number of missing values for each object variable _df_."
   ]
  },
  {
   "cell_type": "code",
   "execution_count": null,
   "metadata": {
    "id": "xaMT-kbgJdb_"
   },
   "outputs": [],
   "source": [
    "# enter solution here"
   ]
  },
  {
   "cell_type": "markdown",
   "metadata": {
    "id": "O_6NO9rXGaaV"
   },
   "source": [
    "Delete all rows with missing values in the _df_ object. Use the `inplace = True` parameter."
   ]
  },
  {
   "cell_type": "code",
   "execution_count": null,
   "metadata": {
    "id": "Ypq_mXIbJd6u"
   },
   "outputs": [],
   "source": [
    "# enter solution here"
   ]
  },
  {
   "cell_type": "markdown",
   "metadata": {
    "id": "cQJ70FNkGcL9"
   },
   "source": [
    "### <a name='4'></a> Exercise 64\n",
    "Replace all letters in column names with lowercase letters, e.g.\n",
    "* Name -> name\n",
    "* Fuel_Type -> fuel_type\n",
    "\n",
    "Display the first five rows using the _head()_ method."
   ]
  },
  {
   "cell_type": "code",
   "execution_count": null,
   "metadata": {
    "id": "AxIS3ydvJb1V"
   },
   "outputs": [],
   "source": [
    "# enter solution here"
   ]
  },
  {
   "cell_type": "markdown",
   "metadata": {
    "id": "nLOrevotGd61"
   },
   "source": [
    "### <a name='5'></a> Exercise 65\n",
    "Find the distribution of the _owner_type_ variable."
   ]
  },
  {
   "cell_type": "code",
   "execution_count": null,
   "metadata": {
    "id": "8Z42U4qHJY2r"
   },
   "outputs": [],
   "source": [
    "# enter solution here"
   ]
  },
  {
   "cell_type": "markdown",
   "metadata": {
    "id": "IV4mY5CrGgGN"
   },
   "source": [
    "Find the distribution of the _engine_ variable."
   ]
  },
  {
   "cell_type": "code",
   "execution_count": null,
   "metadata": {
    "id": "pbDPSZGBJZOz"
   },
   "outputs": [],
   "source": [
    "# enter solution here"
   ]
  },
  {
   "cell_type": "markdown",
   "metadata": {
    "id": "IqU-5K31Ghq2"
   },
   "source": [
    "Note that the variable _engine_ is of type _object_. Remove the last 3 characters from each element and convert to _int_. Display the first five rows using the _head()_ method."
   ]
  },
  {
   "cell_type": "code",
   "execution_count": null,
   "metadata": {
    "id": "l9O1bzH0JZoj"
   },
   "outputs": [],
   "source": [
    "# enter solution here"
   ]
  },
  {
   "cell_type": "markdown",
   "metadata": {
    "id": "3j0fgxlrGjdm"
   },
   "source": [
    "### <a name='6'></a> Exercise 66\n",
    "Look at the distribution of the _power_ variable. Note that this variable also has missing values in the form of the _'null bhp'_ value. Replace these values for _power_ with _np.nan_. Use the _np.where()_ function for this."
   ]
  },
  {
   "cell_type": "code",
   "execution_count": null,
   "metadata": {
    "id": "UFXkGW9MJXNb"
   },
   "outputs": [],
   "source": [
    "# enter solution here"
   ]
  },
  {
   "cell_type": "markdown",
   "metadata": {
    "id": "0SEBoYHLGlY9"
   },
   "source": [
    "Delete all rows with missing values again."
   ]
  },
  {
   "cell_type": "code",
   "execution_count": null,
   "metadata": {
    "id": "2-P_dlEYJWvr"
   },
   "outputs": [],
   "source": [
    "# enter solution here"
   ]
  },
  {
   "cell_type": "markdown",
   "metadata": {
    "id": "Hx4rPBt7GnFL"
   },
   "source": [
    "### <a name='7'></a> Exercise 67\n",
    "Note that the _power_ variable is of type _object_. Remove the last 4 characters from each element and convert to float type.\n",
    "\n",
    "Display the first five rows using the _head()_ method."
   ]
  },
  {
   "cell_type": "code",
   "execution_count": null,
   "metadata": {
    "id": "yGkr2bSNJUVs"
   },
   "outputs": [],
   "source": [
    "# enter solution here"
   ]
  },
  {
   "cell_type": "markdown",
   "metadata": {
    "id": "gFO2XnP4GpJL"
   },
   "source": [
    "### <a name='8'></a> Exercise 68\n",
    "Group data at year level (_year_) and count the number of rows for each year."
   ]
  },
  {
   "cell_type": "code",
   "execution_count": null,
   "metadata": {
    "id": "lmN3Sb57JT88"
   },
   "outputs": [],
   "source": [
    "# enter solution here"
   ]
  },
  {
   "cell_type": "markdown",
   "metadata": {
    "id": "jgEfc9xSGqwC"
   },
   "source": [
    "### <a name='9'></a> Exercise 69\n",
    "Check the distribution of the _transmission_ variable."
   ]
  },
  {
   "cell_type": "code",
   "execution_count": null,
   "metadata": {
    "id": "J6kaUhyHJS7s"
   },
   "outputs": [],
   "source": [
    "# enter solution here"
   ]
  },
  {
   "cell_type": "markdown",
   "metadata": {
    "id": "oQOqJkWXGtMV"
   },
   "source": [
    "Perform the following mapping of the _transmission_ variable:\n",
    "* Manual -> 0\n",
    "* Automatic -> 1\n",
    "\n",
    "Display the first five rows using the _head()_ method."
   ]
  },
  {
   "cell_type": "code",
   "execution_count": null,
   "metadata": {
    "id": "yqHEOQ9rJSXj"
   },
   "outputs": [],
   "source": [
    "# enter solution here"
   ]
  },
  {
   "cell_type": "markdown",
   "metadata": {
    "id": "scnr_vk1GvOl"
   },
   "source": [
    "### <a name='10'></a> Exercise 70\n",
    "Save the _df_ object to the _car.csv_ file (do not save the index)."
   ]
  },
  {
   "cell_type": "code",
   "execution_count": null,
   "metadata": {
    "id": "UYOhSKyiJQV7"
   },
   "outputs": [],
   "source": [
    "# enter solution here"
   ]
  },
  {
   "cell_type": "markdown",
   "metadata": {
    "id": "9sor4RckGxE3"
   },
   "source": [
    "Run the following instructions to check."
   ]
  },
  {
   "cell_type": "code",
   "execution_count": null,
   "metadata": {
    "id": "7gWZQzr3Gzmz"
   },
   "outputs": [],
   "source": [
    "!head car.csv"
   ]
  },
  {
   "cell_type": "markdown",
   "metadata": {
    "id": "VxjP6zXPJyez"
   },
   "source": [
    "Run the following code to download the _london_bike.csv_ file to your working directory."
   ]
  },
  {
   "cell_type": "code",
   "execution_count": null,
   "metadata": {
    "id": "SnsqQdd7J1TL"
   },
   "outputs": [],
   "source": [
    "!wget -q https://storage.googleapis.com/esmartdata-courses-files/ds-bootcamp/london_bike.csv"
   ]
  },
  {
   "cell_type": "markdown",
   "metadata": {
    "id": "iMD68yu5J4bo"
   },
   "source": [
    "### <a name='1'></a> Exercise 71\n",
    "Load the _london_bike.csv_ file into the DataFrame object named _df_ and display basic information about the object."
   ]
  },
  {
   "cell_type": "code",
   "execution_count": null,
   "metadata": {
    "id": "HIsreAjQK8Ck"
   },
   "outputs": [],
   "source": [
    "# enter solution here"
   ]
  },
  {
   "cell_type": "markdown",
   "metadata": {
    "id": "2R-JdtJzJ6zj"
   },
   "source": [
    "Display the first five rows of _df_."
   ]
  },
  {
   "cell_type": "code",
   "execution_count": null,
   "metadata": {
    "id": "-Rg1y85JK8p_"
   },
   "outputs": [],
   "source": [
    "# enter solution here"
   ]
  },
  {
   "cell_type": "markdown",
   "metadata": {
    "id": "h_7rkoPlJ8wz"
   },
   "source": [
    "Display the last five rows of _df_."
   ]
  },
  {
   "cell_type": "code",
   "execution_count": null,
   "metadata": {
    "id": "aeMfNCKIK9Pf"
   },
   "outputs": [],
   "source": [
    "# enter solution here"
   ]
  },
  {
   "cell_type": "markdown",
   "metadata": {
    "id": "o5cCOOKGJ-rV"
   },
   "source": [
    "### <a name='2'></a> Exercise 72\n",
    "Note that the _timestamp_ column is of type _object_. Replace it with _datetime_.\n",
    "\n",
    "__Tip:__ Use the _pd.to_datetime()_ function."
   ]
  },
  {
   "cell_type": "code",
   "execution_count": null,
   "metadata": {
    "id": "qZeNyIJHK47T"
   },
   "outputs": [],
   "source": [
    "# enter solution here"
   ]
  },
  {
   "cell_type": "markdown",
   "metadata": {
    "id": "5yRpbBS8KAez"
   },
   "source": [
    "Add a new column named _hour_ to the _df_ object and assign the time from the _timestamp_ column. Display the first five rows of the _df_ object."
   ]
  },
  {
   "cell_type": "code",
   "execution_count": null,
   "metadata": {
    "id": "1jVypw3fK5Wa"
   },
   "outputs": [],
   "source": [
    "# enter solution here"
   ]
  },
  {
   "cell_type": "markdown",
   "metadata": {
    "id": "AM5rll2LKETb"
   },
   "source": [
    "### <a name='3'></a> Exercise 73\n",
    "Add a new column named _month_ to the _df_ object and assign the month from the _timestamp_ column. Display the first five rows of the _df_ object."
   ]
  },
  {
   "cell_type": "code",
   "execution_count": null,
   "metadata": {
    "id": "IE19bQ_gK0QL"
   },
   "outputs": [],
   "source": [
    "# enter solution here"
   ]
  },
  {
   "cell_type": "markdown",
   "metadata": {
    "id": "zBwrQD9vKGXF"
   },
   "source": [
    "Group data by month (_month_) and calculate the average value for the variable _hum_. Assign the result to _humidity_by_month_ and reset the index."
   ]
  },
  {
   "cell_type": "code",
   "execution_count": null,
   "metadata": {
    "id": "WNKZK8H1K0rY"
   },
   "outputs": [],
   "source": [
    "# enter solution here"
   ]
  },
  {
   "cell_type": "markdown",
   "metadata": {
    "id": "ws_Fx8JhKIOc"
   },
   "source": [
    "Using the _plotly express_ library, build a line chart of the average value of the _hum_ variable for a given month (use the _humidity_by_month_ object).\n",
    "\n",
    "__Tip:__ Use the _px.line()_ function."
   ]
  },
  {
   "cell_type": "code",
   "execution_count": null,
   "metadata": {
    "id": "mYCXXR_vK1RD"
   },
   "outputs": [],
   "source": [
    "# enter solution here"
   ]
  },
  {
   "cell_type": "markdown",
   "metadata": {
    "id": "cS4xmozhKKhb"
   },
   "source": [
    "Build the same chart this time using the _plotly_dark_ template."
   ]
  },
  {
   "cell_type": "code",
   "execution_count": null,
   "metadata": {
    "id": "9PUmfnYZK1v7"
   },
   "outputs": [],
   "source": [
    "# enter solution here"
   ]
  },
  {
   "cell_type": "markdown",
   "metadata": {
    "id": "6-PyqWBGKL-z"
   },
   "source": [
    "Read for which month the average value of the _hum_ variable is the smallest and for which it is the largest."
   ]
  },
  {
   "cell_type": "markdown",
   "metadata": {
    "id": "GMsEFrsmKN-L"
   },
   "source": [
    "### <a name='4'></a> Exercise 74\n",
    "Group data at the hour level (_hour_) and then determine the average value of the variable _cnt_. Assign the result to the variable _cnt_by_hour_ and reset the index."
   ]
  },
  {
   "cell_type": "code",
   "execution_count": null,
   "metadata": {
    "id": "PAUee4y3KvgD"
   },
   "outputs": [],
   "source": [
    "# enter solution here"
   ]
  },
  {
   "cell_type": "markdown",
   "metadata": {
    "id": "Z9kl0QapKPum"
   },
   "source": [
    "Using the _plotly express_ library, build a line chart of the average value of the _cnt_ variable by hours (use the _cnt_by_hour_ object)."
   ]
  },
  {
   "cell_type": "code",
   "execution_count": null,
   "metadata": {
    "id": "magPvV8PKv-K"
   },
   "outputs": [],
   "source": [
    "# enter solution here"
   ]
  },
  {
   "cell_type": "markdown",
   "metadata": {
    "id": "hqSjIZTUKRnV"
   },
   "source": [
    "### <a name='5'></a> Exercise 75\n",
    "Group data by variables _is_weekend_ and _hour_ and determine the average value of the variable _cnt_. Assign the result to the variable _cnt_by_weekend_hour_ and reset the index."
   ]
  },
  {
   "cell_type": "code",
   "execution_count": null,
   "metadata": {
    "id": "TCa8vA8mKr6y"
   },
   "outputs": [],
   "source": [
    "# enter solution here"
   ]
  },
  {
   "cell_type": "markdown",
   "metadata": {
    "id": "sZudk8YTKTSb"
   },
   "source": [
    "Using the _plotly express_ library, build a line chart of the average value of the _cnt_ variable by hours __on non-weekend days__ (use the _cnt_by_weekend_hour_ object). Set the title of the chart: 'Out of the weekend'."
   ]
  },
  {
   "cell_type": "code",
   "execution_count": null,
   "metadata": {
    "id": "iKXDHCHaKsWa"
   },
   "outputs": [],
   "source": [
    "# enter solution here"
   ]
  },
  {
   "cell_type": "markdown",
   "metadata": {
    "id": "9liswNj2KVLz"
   },
   "source": [
    "Using the _plotly express_ library, build a line chart of the average value of _cnt_ by hour __on weekend days__ (use the _cnt_by_weekend_hour_ object). Set the chart title: 'Weekends'."
   ]
  },
  {
   "cell_type": "code",
   "execution_count": null,
   "metadata": {
    "id": "Yf_L2xc8Ks06"
   },
   "outputs": [],
   "source": [
    "# enter solution here"
   ]
  },
  {
   "cell_type": "markdown",
   "metadata": {
    "id": "wGjl7CDSKW9C"
   },
   "source": [
    "Are there any differences between non-weekend days and weekend days?"
   ]
  },
  {
   "cell_type": "markdown",
   "metadata": {
    "id": "U3tJkSZOKY26"
   },
   "source": [
    "### <a name='6'></a> Exercise 76\n",
    "Using the _plotly express_ library, build the histogram of the _cnt_ variable. Add chart title: 'Histogram of the cnt variable'.\n"
   ]
  },
  {
   "cell_type": "code",
   "execution_count": null,
   "metadata": {
    "id": "IUk-MUa4Kog1"
   },
   "outputs": [],
   "source": [
    "# enter solution here"
   ]
  },
  {
   "cell_type": "markdown",
   "metadata": {
    "id": "NjY6KAI3Kam2"
   },
   "source": [
    "Also add a box chart to the histogram.\n",
    "\n",
    "__Tip:__ Use parameter _marginal_ of function _px.histogram()_."
   ]
  },
  {
   "cell_type": "code",
   "execution_count": null,
   "metadata": {
    "id": "QmTVCsetKo-A"
   },
   "outputs": [],
   "source": [
    "# enter solution here"
   ]
  },
  {
   "cell_type": "markdown",
   "metadata": {
    "id": "esWgPynzKcUC"
   },
   "source": [
    "### <a name='7'></a> Exercise 77\n",
    "Extract rows for which the _wind_speed_ variable is less than 10.0 and the _hum_ variable is greater than 90.0."
   ]
  },
  {
   "cell_type": "code",
   "execution_count": null,
   "metadata": {
    "id": "SKJZoP5JKmv7"
   },
   "outputs": [],
   "source": [
    "# enter solution here"
   ]
  },
  {
   "cell_type": "markdown",
   "metadata": {
    "id": "OxpS__BwKeKa"
   },
   "source": [
    "### <a name='8'></a> Exercise 78\n",
    "Extract rows for which the _is_weekend_ variable is 1.0. Then copy the result and assign it to the _df_weekend_ variable."
   ]
  },
  {
   "cell_type": "code",
   "execution_count": null,
   "metadata": {
    "id": "U16ayUBbKmVb"
   },
   "outputs": [],
   "source": [
    "# enter solution here"
   ]
  },
  {
   "cell_type": "markdown",
   "metadata": {
    "id": "uIS1_nkaKf3F"
   },
   "source": [
    "### <a name='9'></a> Exercise 79\n",
    "Save the _df_weekend_ object to the _weekend.xlsx_ file. Name the worksheet _london_bike_ and skip saving the index to a file."
   ]
  },
  {
   "cell_type": "code",
   "execution_count": null,
   "metadata": {
    "id": "OYTHn28zKl2z"
   },
   "outputs": [],
   "source": [
    "# enter solution here"
   ]
  },
  {
   "cell_type": "markdown",
   "metadata": {
    "id": "TMZzUXrSKhdK"
   },
   "source": [
    "### <a name='10'></a> Exercise 80\n",
    "Save the first 10 rows of the _df_weekend_ object to the _head10.html_ file."
   ]
  },
  {
   "cell_type": "code",
   "execution_count": null,
   "metadata": {
    "id": "3JIWot5WKkXS"
   },
   "outputs": [],
   "source": [
    "# enter solution here"
   ]
  },
  {
   "cell_type": "markdown",
   "metadata": {
    "id": "2CuR07_9LVoK"
   },
   "source": [
    "Run the following instructions to download the _insurance.csv_ file to your working directory."
   ]
  },
  {
   "cell_type": "code",
   "execution_count": null,
   "metadata": {
    "id": "KjRyfZNqLXfg"
   },
   "outputs": [],
   "source": [
    "!wget -q https://storage.googleapis.com/esmartdata-courses-files/ml-course/insurance.csv"
   ]
  },
  {
   "cell_type": "markdown",
   "metadata": {
    "id": "_BpgOhXOLZis"
   },
   "source": [
    "### <a name='1'></a> Exercise 81\n",
    "Load the _insurance.csv_ file into the DataFrame object _df_raw_ and display the first few rows."
   ]
  },
  {
   "cell_type": "code",
   "execution_count": null,
   "metadata": {
    "id": "JgsF6b7qNpOG"
   },
   "outputs": [],
   "source": [
    "# enter solution here"
   ]
  },
  {
   "cell_type": "markdown",
   "metadata": {
    "id": "WrTiP9-4LbSe"
   },
   "source": [
    "Copy the _df_raw_ object to the _df_ variable and display basic information about the _df_ object."
   ]
  },
  {
   "cell_type": "code",
   "execution_count": null,
   "metadata": {
    "id": "nT1Dx4EaNpnJ"
   },
   "outputs": [],
   "source": [
    "# enter solution here"
   ]
  },
  {
   "cell_type": "markdown",
   "metadata": {
    "id": "VLmnjGh3LdFN"
   },
   "source": [
    "### <a name='2'></a> Exercise 82\n",
    "Check if there are duplicate rows in the _df_ object. If so, display these rows."
   ]
  },
  {
   "cell_type": "code",
   "execution_count": null,
   "metadata": {
    "id": "XDmqRHpaNm3m"
   },
   "outputs": [],
   "source": [
    "# enter solution here"
   ]
  },
  {
   "cell_type": "markdown",
   "metadata": {
    "id": "NPE_fsRXLe_o"
   },
   "source": [
    "Delete duplicates in object _df_."
   ]
  },
  {
   "cell_type": "code",
   "execution_count": null,
   "metadata": {
    "id": "nJNfcWA-Nndn"
   },
   "outputs": [],
   "source": [
    "# enter solution here"
   ]
  },
  {
   "cell_type": "markdown",
   "metadata": {
    "id": "prPcLrZRLhJq"
   },
   "source": [
    "### <a name='3'></a> Exercise 83\n",
    "Display variables from the object _df_ with the type _object_.\n",
    "\n",
    "__Tip:__ Use the _pd.DataFrame.select_dtypes()_ method."
   ]
  },
  {
   "cell_type": "code",
   "execution_count": null,
   "metadata": {
    "id": "XGLsbWAMNhH_"
   },
   "outputs": [],
   "source": [
    "# enter solution here"
   ]
  },
  {
   "cell_type": "markdown",
   "metadata": {
    "id": "73gwJ8FkLjgH"
   },
   "source": [
    "Convert these variables to categorical variables.\n",
    "\n",
    "__Tip:__ Use the _pd.DataFrame.astype()_ method."
   ]
  },
  {
   "cell_type": "code",
   "execution_count": null,
   "metadata": {
    "id": "PHldyz2DNhvB"
   },
   "outputs": [],
   "source": [
    "# enter solution here"
   ]
  },
  {
   "cell_type": "markdown",
   "metadata": {
    "id": "elWZYmWNLlWq"
   },
   "source": [
    "Display numeric variables (_float_, _int_) from the object _df_.\n",
    "\n",
    "__Tip:__ Use the _pd.DataFrame.select_dtypes()_ method"
   ]
  },
  {
   "cell_type": "code",
   "execution_count": null,
   "metadata": {
    "id": "oGmiM75INiiC"
   },
   "outputs": [],
   "source": [
    "# enter solution here"
   ]
  },
  {
   "cell_type": "markdown",
   "metadata": {
    "id": "FDTKwACKLnB7"
   },
   "source": [
    "Find the names of numeric variables (_float_, _int_) from the object _df_."
   ]
  },
  {
   "cell_type": "code",
   "execution_count": null,
   "metadata": {
    "id": "LWSwxiFuNjA6"
   },
   "outputs": [],
   "source": [
    "# enter solution here"
   ]
  },
  {
   "cell_type": "markdown",
   "metadata": {
    "id": "A3eh75wRLow6"
   },
   "source": [
    "### <a name='4'></a> Exercise 84\n",
    "Follow the steps below:\n",
    "\n",
    "* assign to the variable _df_cat_ categorical variables from the object _df_ and create a copy of them.\n",
    "\n",
    "* assign to the variable _df_num_ numerical variables from the object _df_ and create a copy of them."
   ]
  },
  {
   "cell_type": "code",
   "execution_count": null,
   "metadata": {
    "id": "3J6DiVGWNbmq"
   },
   "outputs": [],
   "source": [
    "# enter solution here"
   ]
  },
  {
   "cell_type": "markdown",
   "metadata": {
    "id": "BKpbRGVELrEb"
   },
   "source": [
    "Display the first 5 rows of the _df_cat_ object."
   ]
  },
  {
   "cell_type": "code",
   "execution_count": null,
   "metadata": {
    "id": "5dLDhRu9NZ-u"
   },
   "outputs": [],
   "source": [
    "# enter solution here"
   ]
  },
  {
   "cell_type": "markdown",
   "metadata": {
    "id": "peEZYljKLtPS"
   },
   "source": [
    "Display the first 5 rows of _df_num_."
   ]
  },
  {
   "cell_type": "code",
   "execution_count": null,
   "metadata": {
    "id": "roPiCJ7aNZW4"
   },
   "outputs": [],
   "source": [
    "# enter solution here"
   ]
  },
  {
   "cell_type": "markdown",
   "metadata": {
    "id": "jQPvSHXZLvdH"
   },
   "source": [
    "### <a name='5'></a> Exercise 85\n",
    "Display basic statistics of the _df_cat_ object."
   ]
  },
  {
   "cell_type": "code",
   "execution_count": null,
   "metadata": {
    "id": "wc-ZGzulNMyp"
   },
   "outputs": [],
   "source": [
    "# enter solution here"
   ]
  },
  {
   "cell_type": "markdown",
   "metadata": {
    "id": "qNLc8qzfLxHK"
   },
   "source": [
    "Display basic statistics of the object _df_num_."
   ]
  },
  {
   "cell_type": "code",
   "execution_count": null,
   "metadata": {
    "id": "qF-O6HAENNXK"
   },
   "outputs": [],
   "source": [
    "# enter solution here"
   ]
  },
  {
   "cell_type": "markdown",
   "metadata": {
    "id": "6BHURE6eLzHy"
   },
   "source": [
    "Display basic statistics of the _df_ object for numeric variables and transpose the resulting _DataFrame_ object."
   ]
  },
  {
   "cell_type": "code",
   "execution_count": null,
   "metadata": {
    "id": "wTWqgEWeNNsn"
   },
   "outputs": [],
   "source": [
    "# enter solution here"
   ]
  },
  {
   "cell_type": "markdown",
   "metadata": {
    "id": "KUQdm9WrL1OK"
   },
   "source": [
    "Display basic statistics of the _df_ object for numeric variables, transpose the resulting _DataFrame_ object and extract the two columns _mean_ and _std_."
   ]
  },
  {
   "cell_type": "code",
   "execution_count": null,
   "metadata": {
    "id": "1vV1Dy75NOrM"
   },
   "outputs": [],
   "source": [
    "# enter solution here"
   ]
  },
  {
   "cell_type": "markdown",
   "metadata": {
    "id": "fUos4DJuL28v"
   },
   "source": [
    "Display basic statistics of the _df_ object for categorical variables and transpose the resulting _DataFrame_ object."
   ]
  },
  {
   "cell_type": "code",
   "execution_count": null,
   "metadata": {
    "id": "ULK7nI5FNPL6"
   },
   "outputs": [],
   "source": [
    "# enter solution here"
   ]
  },
  {
   "cell_type": "markdown",
   "metadata": {
    "id": "OtgXj90HL5F9"
   },
   "source": [
    "Check if there are any missing data in the _df_ object."
   ]
  },
  {
   "cell_type": "code",
   "execution_count": null,
   "metadata": {
    "id": "mXBtWR3zNQdJ"
   },
   "outputs": [],
   "source": [
    "# enter solution here"
   ]
  },
  {
   "cell_type": "markdown",
   "metadata": {
    "id": "LiYX3wGKL60G"
   },
   "source": [
    "### <a name='6'></a> Exercise 86\n",
    "Using the _plotly express_ library, build the histogram of the _charges_ variable.\n",
    "\n",
    "Use the _px.histogram()_ function with the following parameters:\n",
    "* width = 800\n",
    "* height = 400\n",
    "* nbins = 50\n",
    "* facet_col = 'smoker'\n",
    "* facet_row = 'sex'\n"
   ]
  },
  {
   "cell_type": "code",
   "execution_count": null,
   "metadata": {
    "id": "6KyPK3X5M6-W"
   },
   "outputs": [],
   "source": [
    "# enter solution here"
   ]
  },
  {
   "cell_type": "markdown",
   "metadata": {
    "id": "1NP897yBL8pX"
   },
   "source": [
    "Using the _plotly express_ library, find the distribution of the _smoker_ variable.\n",
    "\n",
    "Use the _px.histogram()_ function with the following parameters:\n",
    "* width = 800\n",
    "* height = 400\n",
    "* facet_col = 'sex'\n",
    "* color = 'sex'"
   ]
  },
  {
   "cell_type": "code",
   "execution_count": null,
   "metadata": {
    "id": "Gm382u24M86a"
   },
   "outputs": [],
   "source": [
    "# enter solution here"
   ]
  },
  {
   "cell_type": "markdown",
   "metadata": {
    "id": "Pi1bcPwlL-tC"
   },
   "source": [
    "### <a name='7'></a> Exercise 87\n",
    "Convert categorical variables of the _df_ object to 0-1 encoding and assign it to the _df_dummies_ variable.  \n",
    "\n",
    "__Tip:__ Use the _pd.get_dummies()_ function with the `drop_first = True` parameter."
   ]
  },
  {
   "cell_type": "code",
   "execution_count": null,
   "metadata": {
    "id": "iiN4k47LMiEj"
   },
   "outputs": [],
   "source": [
    "# enter solution here"
   ]
  },
  {
   "cell_type": "markdown",
   "metadata": {
    "id": "3RNGwJxTMATq"
   },
   "source": [
    "### <a name='8'></a> Exercise 88\n",
    "Determine the correlations of variables in the _df_dummies_ object and assign it to the _corr_ variable."
   ]
  },
  {
   "cell_type": "code",
   "execution_count": null,
   "metadata": {
    "id": "gqs9dlqIMghf"
   },
   "outputs": [],
   "source": [
    "# enter solution here"
   ]
  },
  {
   "cell_type": "markdown",
   "metadata": {
    "id": "-dcDE-0RMB_b"
   },
   "source": [
    "Extract the column from the _corr_ object for the _charges_ variable (as a DataFrame object) and sort the values in descending order."
   ]
  },
  {
   "cell_type": "code",
   "execution_count": null,
   "metadata": {
    "id": "KGjK7qceMgBT"
   },
   "outputs": [],
   "source": [
    "# enter solution here"
   ]
  },
  {
   "cell_type": "markdown",
   "metadata": {
    "id": "tk1jn7aIMDyb"
   },
   "source": [
    "Using the _plotly express_ library, create a bar chart for such sorted values. Skip the first element of the object."
   ]
  },
  {
   "cell_type": "code",
   "execution_count": null,
   "metadata": {
    "id": "-Fb660q3MfUB"
   },
   "outputs": [],
   "source": [
    "# enter solution here"
   ]
  },
  {
   "cell_type": "markdown",
   "metadata": {
    "id": "l6eSrPKhMFW1"
   },
   "source": [
    "### <a name='9'></a> Exercise 89\n",
    "Copy the _df_dummies_ object to the _data_ variable. Then pop the _charges_ column from this object and assign it to the _target_ variable."
   ]
  },
  {
   "cell_type": "code",
   "execution_count": null,
   "metadata": {
    "id": "m2660ZvYMb_L"
   },
   "outputs": [],
   "source": [
    "# enter solution here"
   ]
  },
  {
   "cell_type": "markdown",
   "metadata": {
    "id": "qt5Cq8udMHC6"
   },
   "source": [
    "Display the first 5 rows of _data_. Make sure the _charges_ column is not in it."
   ]
  },
  {
   "cell_type": "code",
   "execution_count": null,
   "metadata": {
    "id": "Ljl1SLa_Mcl5"
   },
   "outputs": [],
   "source": [
    "# enter solution here"
   ]
  },
  {
   "cell_type": "markdown",
   "metadata": {
    "id": "HLddthwUMIsL"
   },
   "source": [
    "Display the first 5 rows of _target_."
   ]
  },
  {
   "cell_type": "code",
   "execution_count": null,
   "metadata": {
    "id": "WXYtE833MdS5"
   },
   "outputs": [],
   "source": [
    "# enter solution here"
   ]
  },
  {
   "cell_type": "markdown",
   "metadata": {
    "id": "MZOFe0YdMKbd"
   },
   "source": [
    "### <a name='10'></a> Exercise 90\n",
    "Using the _scikit-learn_ library and the _train_test_split_ function, divide the data from the _data_ and _target_ objects into a training set (_X\\_train_, _y\\_train_) and a test set (_X\\_test_, _y\\_test_). Assign 20% of the samples to the test set.\n",
    "\n",
    "Display object size:\n",
    "* _X\\_train_\n",
    "* _X\\_test_\n",
    "* _y\\_train_\n",
    "* _y\\_test_"
   ]
  },
  {
   "cell_type": "code",
   "execution_count": null,
   "metadata": {
    "id": "5hzu7e9VMXI6"
   },
   "outputs": [],
   "source": [
    "# enter solution here"
   ]
  },
  {
   "cell_type": "markdown",
   "metadata": {
    "id": "gbHwRDyTMMGO"
   },
   "source": [
    "Save objects:\n",
    "* _X\\_train_\n",
    "* _X\\_test_\n",
    "* _y\\_train_\n",
    "* _y\\_test_  \n",
    "\n",
    "to csv files with the appropriate name:\n",
    "* X_train.csv\n",
    "* X_test.csv\n",
    "* y_train.csv\n",
    "* y_test.csv\n"
   ]
  },
  {
   "cell_type": "code",
   "execution_count": null,
   "metadata": {
    "id": "pbneG09QMUk8"
   },
   "outputs": [],
   "source": [
    "# enter solution here"
   ]
  },
  {
   "cell_type": "markdown",
   "metadata": {
    "id": "V_Sh559dMPeK"
   },
   "source": [
    "Run the cell below to check."
   ]
  },
  {
   "cell_type": "code",
   "execution_count": null,
   "metadata": {
    "id": "vuswdtkkMQ8n"
   },
   "outputs": [],
   "source": [
    "!head -5 X_test.csv\n",
    "!head -5 X_train.csv\n",
    "!head -5 y_train.csv\n",
    "!head -5 y_test.csv"
   ]
  },
  {
   "cell_type": "markdown",
   "metadata": {
    "id": "0Qd6kVw-N_84"
   },
   "source": [
    "### <a name='1'></a> Exercise 91\n",
    "Create the _DataFrame_ object from the _data_ dictionary below and assign it to the _df_ variable.\n",
    "\n",
    "```\n",
    "data = {\n",
    "    'size': ['XL', 'L', 'M', 'L', 'M'],\n",
    "    'color': ['red', 'green', 'blue', 'green', 'red'],\n",
    "    'gender': ['female', 'male', 'male', 'female', 'female'],\n",
    "    'price': [199.0, 89.0, 99.0, 129.0, 79.0],\n",
    "    'weight': [500, 450, 300, 380, 410],\n",
    "    'bought': ['yes', 'no', 'yes', 'no', 'yes']\n",
    "}\n",
    "```"
   ]
  },
  {
   "cell_type": "code",
   "execution_count": null,
   "metadata": {
    "id": "eeUqBnaxOB5J"
   },
   "outputs": [],
   "source": [
    "data = {\n",
    "    'size': ['XL', 'L', 'M', 'L', 'M'],\n",
    "    'color': ['red', 'green', 'blue', 'green', 'red'],\n",
    "    'gender': ['female', 'male', 'male', 'female', 'female'],\n",
    "    'price': [199.0, 89.0, 99.0, 129.0, 79.0],\n",
    "    'weight': [500, 450, 300, 380, 410],\n",
    "    'bought': ['yes', 'no', 'yes', 'no', 'yes']\n",
    "}\n",
    "\n",
    "# enter solution here"
   ]
  },
  {
   "cell_type": "markdown",
   "metadata": {
    "id": "FmBljCl_OEAR"
   },
   "source": [
    "Display basic information about the object _df_."
   ]
  },
  {
   "cell_type": "code",
   "execution_count": null,
   "metadata": {
    "id": "HYBeLLI_OHl5"
   },
   "outputs": [],
   "source": [
    "# enter solution here"
   ]
  },
  {
   "cell_type": "markdown",
   "metadata": {
    "id": "rGPYMiK5OJFK"
   },
   "source": [
    "Convert variables to types:\n",
    "* size -> _category_\n",
    "* color -> _category_\n",
    "* gender -> _category_\n",
    "* weight -> _float_\n",
    "* bought -> _category_"
   ]
  },
  {
   "cell_type": "code",
   "execution_count": null,
   "metadata": {
    "id": "m-xNU5EUPO_M"
   },
   "outputs": [],
   "source": [
    "# enter solution here"
   ]
  },
  {
   "cell_type": "markdown",
   "metadata": {
    "id": "rSC7kgmKOK4d"
   },
   "source": [
    "### <a name='2'></a> Exercise 92\n",
    "Use the _scikit-learn_ machine learning library and the _LabelEncoder_ class to code 0-1 of the _bought_ variable. Assign changes to the _df_ object permanently and display the object."
   ]
  },
  {
   "cell_type": "code",
   "execution_count": null,
   "metadata": {
    "id": "U0foc9kNPJJr"
   },
   "outputs": [],
   "source": [
    "# enter solution here"
   ]
  },
  {
   "cell_type": "markdown",
   "metadata": {
    "id": "6boAKs0aONKp"
   },
   "source": [
    "Use the appropriate method of the _LabelEncoder_ class to restore the original values of the _bought_ variable. Note the type of the _bought_ variable."
   ]
  },
  {
   "cell_type": "code",
   "execution_count": null,
   "metadata": {
    "id": "NfFXenPPPJmV"
   },
   "outputs": [],
   "source": [
    "# enter solution here"
   ]
  },
  {
   "cell_type": "markdown",
   "metadata": {
    "id": "5l35rys2OO3J"
   },
   "source": [
    "### <a name='3'></a> Exercise 93\n",
    "Using the machine learning library _scikit-learn_ and the _OneHotEncoder_ class, encode 0-1 of the _size_ variable. Don't assign changes to the _df_ object.\n",
    "\n",
    "Use the `sparse = False` parameter of the _OneHotEncoder_ class."
   ]
  },
  {
   "cell_type": "code",
   "execution_count": null,
   "metadata": {
    "id": "3mk1Wa08PGnA"
   },
   "outputs": [],
   "source": [
    "# enter solution here"
   ]
  },
  {
   "cell_type": "markdown",
   "metadata": {
    "id": "AP_gE45BOQ9r"
   },
   "source": [
    "Using the machine learning library _scikit-learn_ and the _OneHotEncoder_ class, encode 0-1 of the _size_ variable. Don't assign changes to the _df_ object.\n",
    "\n",
    "Use the parameter `sparse = False` and `drop = first` of the _OneHotEncoder_ class."
   ]
  },
  {
   "cell_type": "code",
   "execution_count": null,
   "metadata": {
    "id": "Y_Cm3EwQPHC2"
   },
   "outputs": [],
   "source": [
    "# enter solution here"
   ]
  },
  {
   "cell_type": "markdown",
   "metadata": {
    "id": "Ou_V7Ne-OWsI"
   },
   "source": [
    "### <a name='4'></a> Exercise 94\n",
    "Using the _pandas_ library and the _get_dummies()_ function, present all categorical variables of the _df_ object in the form of 0-1 encoding. Don't assign changes permanently to the _df_ object."
   ]
  },
  {
   "cell_type": "code",
   "execution_count": null,
   "metadata": {
    "id": "nbeRCVF-PChO"
   },
   "outputs": [],
   "source": [
    "# enter solution here"
   ]
  },
  {
   "cell_type": "markdown",
   "metadata": {
    "id": "yY-0y1yrOYoV"
   },
   "source": [
    "Using the _pandas_ library and the _get_dummies()_ function, present all categorical variables of the _df_ object in the form of 0-1 encoding. Use the `drop_first = True` parameter. Don't assign changes permanently to the _df_ object."
   ]
  },
  {
   "cell_type": "code",
   "execution_count": null,
   "metadata": {
    "id": "fsFE5sohPDJq"
   },
   "outputs": [],
   "source": [
    "# enter solution here"
   ]
  },
  {
   "cell_type": "markdown",
   "metadata": {
    "id": "B-eblZgjOau8"
   },
   "source": [
    "Using the _pandas_ library and the _get_dummies()_ function, present the _size_ variable of the _df_ object in the form of 0-1 encoding. Use the `drop_first = True` parameter. Don't assign changes permanently to the _df_ object."
   ]
  },
  {
   "cell_type": "code",
   "execution_count": null,
   "metadata": {
    "id": "5UvdTRBhPDrw"
   },
   "outputs": [],
   "source": [
    "# enter solution here"
   ]
  },
  {
   "cell_type": "markdown",
   "metadata": {
    "id": "c__p_mA1Ocaa"
   },
   "source": [
    "### <a name='5'></a> Exercise 95\n",
    "Use the _scikit-learn_ machine learning library and the _StandardScaler_ class to scale the _weight_ variable. Don't assign changes to the _df_ object."
   ]
  },
  {
   "cell_type": "code",
   "execution_count": null,
   "metadata": {
    "id": "AOXGwTSzO_rR"
   },
   "outputs": [],
   "source": [
    "# enter solution here"
   ]
  },
  {
   "cell_type": "markdown",
   "metadata": {
    "id": "_guzUbsfOeKc"
   },
   "source": [
    "### <a name='6'></a> Exercise 96\n",
    "Load the _data_ dictionary again into the _DataFrame_ object named _df_."
   ]
  },
  {
   "cell_type": "code",
   "execution_count": null,
   "metadata": {
    "id": "hV5SFLlSO9cB"
   },
   "outputs": [],
   "source": [
    "# enter solution here"
   ]
  },
  {
   "cell_type": "markdown",
   "metadata": {
    "id": "YoTzGCJNOf3Y"
   },
   "source": [
    "Prepare the data for the machine learning model:\n",
    "* using the LabelEncoder class, encode 0-1 of the _bought_ variable\n",
    "* standardize the variables _weight_ and _price_\n",
    "* encode 0-1 categorical variables using the function _get_dummies()._\n",
    "\n",
    "Assign changes to the _df_prep_ variable."
   ]
  },
  {
   "cell_type": "code",
   "execution_count": null,
   "metadata": {
    "id": "OaGJ-hd1O-FW"
   },
   "outputs": [],
   "source": [
    "# enter solution here"
   ]
  },
  {
   "cell_type": "markdown",
   "metadata": {
    "id": "of--hdcbOhk6"
   },
   "source": [
    "### <a name='7'></a> Exercise 97\n",
    "Copy the _df_prep_ object to the _data_ variable. Then pop the _bought_ column from this object and assign it to the _target_ variable."
   ]
  },
  {
   "cell_type": "code",
   "execution_count": null,
   "metadata": {
    "id": "sMTr33b8O7aI"
   },
   "outputs": [],
   "source": [
    "# enter solution here"
   ]
  },
  {
   "cell_type": "markdown",
   "metadata": {
    "id": "KrHyAIgcOjbM"
   },
   "source": [
    "Display the first 5 rows of _data_. Make sure the _bought_ column is not in it."
   ]
  },
  {
   "cell_type": "code",
   "execution_count": null,
   "metadata": {
    "id": "hDGT466RO7H4"
   },
   "outputs": [],
   "source": [
    "# enter solution here"
   ]
  },
  {
   "cell_type": "markdown",
   "metadata": {
    "id": "A32jeGYJOlVh"
   },
   "source": [
    "Display the first 5 rows of _target_."
   ]
  },
  {
   "cell_type": "code",
   "execution_count": null,
   "metadata": {
    "id": "Mo8g-nduO6io"
   },
   "outputs": [],
   "source": [
    "# enter solution here"
   ]
  },
  {
   "cell_type": "markdown",
   "metadata": {
    "id": "2begq3GjOm2G"
   },
   "source": [
    "### <a name='8'></a> Exercise 98\n",
    "Using the _scikit-learn_ library and the _train_test_split_ function, divide the data from the _data_ and _target_ objects into a training set (_X\\_train_, _y\\_train_) and a test set (_X\\_test_, _y\\_test_). Assign 20% of the samples to the test set.\n",
    "\n",
    "Display object size:\n",
    "* _X\\_train_\n",
    "* _X\\_test_\n",
    "* _y\\_train_\n",
    "* _y\\_test_"
   ]
  },
  {
   "cell_type": "code",
   "execution_count": null,
   "metadata": {
    "id": "ZzicPOg0O2Dm"
   },
   "outputs": [],
   "source": [
    "# enter solution here"
   ]
  },
  {
   "cell_type": "markdown",
   "metadata": {
    "id": "DCzduqagOois"
   },
   "source": [
    "### <a name='9'></a> Exercise 99\n",
    "Combine _X\\_train_ and _X\\_test_ objects into one _DataFrame_ object named _X_."
   ]
  },
  {
   "cell_type": "code",
   "execution_count": null,
   "metadata": {
    "id": "j0L8QIwpO0hp"
   },
   "outputs": [],
   "source": [
    "# enter solution here"
   ]
  },
  {
   "cell_type": "markdown",
   "metadata": {
    "id": "9yCcyXXIOqLt"
   },
   "source": [
    "### <a name='10'></a> Exercise 100\n",
    "Combine the _y\\_train_ and _y\\_test_ objects into one _DataFrame_ object named _y_."
   ]
  },
  {
   "cell_type": "code",
   "execution_count": null,
   "metadata": {
    "id": "IIPZDno-OzHg"
   },
   "outputs": [],
   "source": [
    "# enter solution here"
   ]
  },
  {
   "cell_type": "markdown",
   "metadata": {
    "id": "XmeNI-lFOsgI"
   },
   "source": [
    "Combine _X_ and _y_ objects into one _DataFrame_ object."
   ]
  },
  {
   "cell_type": "code",
   "execution_count": null,
   "metadata": {
    "id": "-susp68fOxMK"
   },
   "outputs": [],
   "source": [
    "# enter solution here"
   ]
  }
 ],
 "metadata": {
  "colab": {
   "collapsed_sections": [],
   "name": "Pandas_exercises.ipynb",
   "provenance": [
    {
     "file_id": "1HdQY8rZG0puzmO8pyfZa0SGFFOWVzurf",
     "timestamp": 1645004976648
    },
    {
     "file_id": "1L0sZe_F4tsXgM3kh44-v04ljVxYJvTFE",
     "timestamp": 1589891222070
    },
    {
     "file_id": "1iUHdlUmGvmY0VRluKCT6v3CrD6kN7D5f",
     "timestamp": 1589811739728
    },
    {
     "file_id": "10z5RvixXCwjFDsEKVGGBpzZkHTUxZ7hb",
     "timestamp": 1589782151891
    },
    {
     "file_id": "1_m97_c_5qp5qG9wVA-pn9rJAj4PUJgSs",
     "timestamp": 1586944540238
    }
   ]
  },
  "kernelspec": {
   "display_name": "Python 3 (ipykernel)",
   "language": "python",
   "name": "python3"
  },
  "language_info": {
   "codemirror_mode": {
    "name": "ipython",
    "version": 3
   },
   "file_extension": ".py",
   "mimetype": "text/x-python",
   "name": "python",
   "nbconvert_exporter": "python",
   "pygments_lexer": "ipython3",
   "version": "3.9.12"
  }
 },
 "nbformat": 4,
 "nbformat_minor": 1
}
