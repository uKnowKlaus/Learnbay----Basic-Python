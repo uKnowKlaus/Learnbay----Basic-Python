{
 "cells": [
  {
   "cell_type": "code",
   "execution_count": 11,
   "id": "43f719d3",
   "metadata": {},
   "outputs": [
    {
     "name": "stdout",
     "output_type": "stream",
     "text": [
      "['__breakpointhook__', '__displayhook__', '__doc__', '__excepthook__', '__interactivehook__', '__loader__', '__name__', '__package__', '__spec__', '__stderr__', '__stdin__', '__stdout__', '__unraisablehook__', '_base_executable', '_clear_type_cache', '_current_frames', '_debugmallocstats', '_enablelegacywindowsfsencoding', '_framework', '_getframe', '_git', '_home', '_xoptions', 'addaudithook', 'api_version', 'argv', 'audit', 'base_exec_prefix', 'base_prefix', 'breakpointhook', 'builtin_module_names', 'byteorder', 'call_tracing', 'copyright', 'displayhook', 'dllhandle', 'dont_write_bytecode', 'exc_info', 'excepthook', 'exec_prefix', 'executable', 'exit', 'flags', 'float_info', 'float_repr_style', 'get_asyncgen_hooks', 'get_coroutine_origin_tracking_depth', 'getallocatedblocks', 'getdefaultencoding', 'getfilesystemencodeerrors', 'getfilesystemencoding', 'getprofile', 'getrecursionlimit', 'getrefcount', 'getsizeof', 'getswitchinterval', 'gettrace', 'getwindowsversion', 'hash_info', 'hexversion', 'implementation', 'int_info', 'intern', 'is_finalizing', 'maxsize', 'maxunicode', 'meta_path', 'modules', 'path', 'path_hooks', 'path_importer_cache', 'platform', 'platlibdir', 'prefix', 'ps1', 'ps2', 'ps3', 'pycache_prefix', 'set_asyncgen_hooks', 'set_coroutine_origin_tracking_depth', 'setprofile', 'setrecursionlimit', 'setswitchinterval', 'settrace', 'stderr', 'stdin', 'stdout', 'thread_info', 'unraisablehook', 'version', 'version_info', 'warnoptions', 'winver']\n"
     ]
    }
   ],
   "source": [
    "import sys\n",
    "\n",
    "print(dir(sys))"
   ]
  },
  {
   "cell_type": "code",
   "execution_count": 13,
   "id": "ada62ee0",
   "metadata": {},
   "outputs": [
    {
     "name": "stdout",
     "output_type": "stream",
     "text": [
      "['C:\\\\Users\\\\MIT\\\\Desktop\\\\ongoing classes\\\\9_dec_2022', 'C:\\\\Users\\\\MIT\\\\anaconda3\\\\python39.zip', 'C:\\\\Users\\\\MIT\\\\anaconda3\\\\DLLs', 'C:\\\\Users\\\\MIT\\\\anaconda3\\\\lib', 'C:\\\\Users\\\\MIT\\\\anaconda3', '', 'C:\\\\Users\\\\MIT\\\\anaconda3\\\\lib\\\\site-packages', 'C:\\\\Users\\\\MIT\\\\anaconda3\\\\lib\\\\site-packages\\\\win32', 'C:\\\\Users\\\\MIT\\\\anaconda3\\\\lib\\\\site-packages\\\\win32\\\\lib', 'C:\\\\Users\\\\MIT\\\\anaconda3\\\\lib\\\\site-packages\\\\Pythonwin']\n"
     ]
    }
   ],
   "source": [
    "print(sys.path)"
   ]
  },
  {
   "cell_type": "code",
   "execution_count": 14,
   "id": "963b5c5f",
   "metadata": {},
   "outputs": [
    {
     "data": {
      "text/plain": [
       "'C:\\\\Users\\\\MIT\\\\Desktop\\\\ongoing classes\\\\9_dec_2022'"
      ]
     },
     "execution_count": 14,
     "metadata": {},
     "output_type": "execute_result"
    }
   ],
   "source": [
    "pwd"
   ]
  },
  {
   "cell_type": "code",
   "execution_count": 16,
   "id": "8339a57d",
   "metadata": {},
   "outputs": [
    {
     "name": "stdout",
     "output_type": "stream",
     "text": [
      "C:\\Users\\MIT\\Desktop\n"
     ]
    }
   ],
   "source": [
    "cd .."
   ]
  },
  {
   "cell_type": "code",
   "execution_count": 17,
   "id": "294803d8",
   "metadata": {},
   "outputs": [
    {
     "name": "stdout",
     "output_type": "stream",
     "text": [
      "C:\\Users\\MIT\\Desktop\\finance_module\n"
     ]
    }
   ],
   "source": [
    "cd finance_module"
   ]
  },
  {
   "cell_type": "code",
   "execution_count": 19,
   "id": "fca881fe",
   "metadata": {},
   "outputs": [],
   "source": [
    "sys.path.append(r'C:\\Users\\MIT\\Desktop\\finance_module')"
   ]
  },
  {
   "cell_type": "code",
   "execution_count": 20,
   "id": "ff562563",
   "metadata": {},
   "outputs": [
    {
     "name": "stdout",
     "output_type": "stream",
     "text": [
      "['C:\\\\Users\\\\MIT\\\\Desktop\\\\ongoing classes\\\\9_dec_2022', 'C:\\\\Users\\\\MIT\\\\anaconda3\\\\python39.zip', 'C:\\\\Users\\\\MIT\\\\anaconda3\\\\DLLs', 'C:\\\\Users\\\\MIT\\\\anaconda3\\\\lib', 'C:\\\\Users\\\\MIT\\\\anaconda3', '', 'C:\\\\Users\\\\MIT\\\\anaconda3\\\\lib\\\\site-packages', 'C:\\\\Users\\\\MIT\\\\anaconda3\\\\lib\\\\site-packages\\\\win32', 'C:\\\\Users\\\\MIT\\\\anaconda3\\\\lib\\\\site-packages\\\\win32\\\\lib', 'C:\\\\Users\\\\MIT\\\\anaconda3\\\\lib\\\\site-packages\\\\Pythonwin', 'C:\\\\Users\\\\MIT\\\\Desktop\\\\finance_module']\n"
     ]
    }
   ],
   "source": [
    "print(sys.path)"
   ]
  },
  {
   "cell_type": "markdown",
   "id": "ce499840",
   "metadata": {},
   "source": [
    "# File Handling"
   ]
  },
  {
   "cell_type": "code",
   "execution_count": null,
   "id": "5d57be2d",
   "metadata": {},
   "outputs": [],
   "source": [
    "- textfile ---> .txt , .pdf , .doc\n",
    "- binary files ----> images , videos , audio"
   ]
  },
  {
   "cell_type": "code",
   "execution_count": null,
   "id": "f904d4e2",
   "metadata": {},
   "outputs": [],
   "source": [
    "# Points to keep in mind while working with file handling\n",
    "\n",
    "\n",
    "1. To read a file using file handling you will need to open \n",
    "syntax --> \n",
    "            var = open('file_name.ext' , 'mode') \n",
    "            var.close()\n",
    "     - Closing is important otherwise changes will not take places\n",
    "    \n",
    "2. Data read from the file is always be in form of string\n",
    "\n",
    "3. modes of operations - text files\n",
    "- read mode --> 'r'\n",
    "- write mode --> 'w'\n",
    "- append mode --> 'a'\n",
    "- read and write mode --> 'r+'\n",
    "- write and read mode --> 'w+'\n",
    "- append and read mode --> 'a+'\n",
    "\n",
    "4. mode of operations - binary files\n",
    "\n",
    "- read mode --> 'rb\n",
    "- write mode --> 'wb\n",
    "- append mode --> 'ab\n",
    "- read and write mode --> 'r+b'\n",
    "- write and read mode --> 'w+b\n",
    "- append and read mode --> 'a+b'\n",
    "\n",
    "5. methods on file objects\n",
    "- read() --> to read a content from the file\n",
    "- write() --> to write a content into the file\n",
    "- tell() --> It tells us the position of the cusor\n",
    "- seek() --> Used to move the cursor to any specific index location"
   ]
  },
  {
   "cell_type": "markdown",
   "id": "927ca2d6",
   "metadata": {},
   "source": [
    "# modes of operations"
   ]
  },
  {
   "cell_type": "markdown",
   "id": "d5ac472e",
   "metadata": {},
   "source": [
    "# Read mode - 'r'\n",
    "    \n",
    "- If the file exist then it will open the file and places the cursor at the begining of the file\n",
    "- If the file does not exist it'll throw an error FileNotFound\n",
    "- You are only allowed to read from the file"
   ]
  },
  {
   "cell_type": "code",
   "execution_count": 2,
   "id": "467572ac",
   "metadata": {},
   "outputs": [
    {
     "ename": "FileNotFoundError",
     "evalue": "[Errno 2] No such file or directory: 'file_handling/read_mode.txt'",
     "output_type": "error",
     "traceback": [
      "\u001b[1;31m---------------------------------------------------------------------------\u001b[0m",
      "\u001b[1;31mFileNotFoundError\u001b[0m                         Traceback (most recent call last)",
      "Input \u001b[1;32mIn [2]\u001b[0m, in \u001b[0;36m<cell line: 2>\u001b[1;34m()\u001b[0m\n\u001b[0;32m      1\u001b[0m \u001b[38;5;66;03m# file is not present\u001b[39;00m\n\u001b[1;32m----> 2\u001b[0m f \u001b[38;5;241m=\u001b[39m \u001b[38;5;28;43mopen\u001b[39;49m\u001b[43m(\u001b[49m\u001b[38;5;124;43m'\u001b[39;49m\u001b[38;5;124;43mfile_handling/read_mode.txt\u001b[39;49m\u001b[38;5;124;43m'\u001b[39;49m\u001b[43m \u001b[49m\u001b[43m,\u001b[49m\u001b[43m \u001b[49m\u001b[38;5;124;43m'\u001b[39;49m\u001b[38;5;124;43mr\u001b[39;49m\u001b[38;5;124;43m'\u001b[39;49m\u001b[43m)\u001b[49m\n",
      "\u001b[1;31mFileNotFoundError\u001b[0m: [Errno 2] No such file or directory: 'file_handling/read_mode.txt'"
     ]
    }
   ],
   "source": [
    "# file is not present\n",
    "f = open('file_handling/read_mode.txt' , 'r')"
   ]
  },
  {
   "cell_type": "code",
   "execution_count": 4,
   "id": "3d5ebde0",
   "metadata": {},
   "outputs": [
    {
     "data": {
      "text/plain": [
       "0"
      ]
     },
     "execution_count": 4,
     "metadata": {},
     "output_type": "execute_result"
    }
   ],
   "source": [
    "# file is present\n",
    "f = open('file_handling/read_mode.txt' , 'r')\n",
    "\n",
    "f.tell()"
   ]
  },
  {
   "cell_type": "code",
   "execution_count": 6,
   "id": "79dbb4ec",
   "metadata": {},
   "outputs": [
    {
     "name": "stdout",
     "output_type": "stream",
     "text": [
      "0\n",
      "hello world\n",
      "11\n"
     ]
    }
   ],
   "source": [
    "# file is present\n",
    "f = open('file_handling/read_mode.txt' , 'r')\n",
    "\n",
    "print(f.tell())\n",
    "print(f.read())\n",
    "print(f.tell())"
   ]
  },
  {
   "cell_type": "code",
   "execution_count": 7,
   "id": "adcf4dcf",
   "metadata": {},
   "outputs": [
    {
     "name": "stdout",
     "output_type": "stream",
     "text": [
      "0\n",
      "hello world\n",
      "11\n"
     ]
    },
    {
     "ename": "UnsupportedOperation",
     "evalue": "not writable",
     "output_type": "error",
     "traceback": [
      "\u001b[1;31m---------------------------------------------------------------------------\u001b[0m",
      "\u001b[1;31mUnsupportedOperation\u001b[0m                      Traceback (most recent call last)",
      "Input \u001b[1;32mIn [7]\u001b[0m, in \u001b[0;36m<cell line: 8>\u001b[1;34m()\u001b[0m\n\u001b[0;32m      5\u001b[0m \u001b[38;5;28mprint\u001b[39m(f\u001b[38;5;241m.\u001b[39mread())\n\u001b[0;32m      6\u001b[0m \u001b[38;5;28mprint\u001b[39m(f\u001b[38;5;241m.\u001b[39mtell())\n\u001b[1;32m----> 8\u001b[0m \u001b[43mf\u001b[49m\u001b[38;5;241;43m.\u001b[39;49m\u001b[43mwrite\u001b[49m\u001b[43m(\u001b[49m\u001b[38;5;124;43m'\u001b[39;49m\u001b[38;5;124;43mxyz\u001b[39;49m\u001b[38;5;124;43m'\u001b[39;49m\u001b[43m)\u001b[49m\n",
      "\u001b[1;31mUnsupportedOperation\u001b[0m: not writable"
     ]
    }
   ],
   "source": [
    "# file is present\n",
    "f = open('file_handling/read_mode.txt' , 'r')\n",
    "\n",
    "print(f.tell())\n",
    "print(f.read())\n",
    "print(f.tell())\n",
    "\n",
    "f.write('xyz')"
   ]
  },
  {
   "cell_type": "code",
   "execution_count": 8,
   "id": "c0397a17",
   "metadata": {},
   "outputs": [
    {
     "name": "stdout",
     "output_type": "stream",
     "text": [
      "0\n",
      "11\n"
     ]
    }
   ],
   "source": [
    "# file is present\n",
    "f = open('file_handling/read_mode.txt' , 'r')\n",
    "\n",
    "print(f.tell())\n",
    "a = f.read()\n",
    "print(f.tell())\n"
   ]
  },
  {
   "cell_type": "code",
   "execution_count": null,
   "id": "0dd4c8a3",
   "metadata": {},
   "outputs": [],
   "source": [
    "# Write mode - 'w'\n",
    "\n",
    "\n",
    "    \n",
    "- If the file exist then it will open the file and deletes the prevous content from it\n",
    "- If the file does not exist it'll create a file with that name and the ext\n",
    "- You are only allowed to write into the file not allowed to read from it"
   ]
  },
  {
   "cell_type": "code",
   "execution_count": 10,
   "id": "ab5afbdf",
   "metadata": {},
   "outputs": [],
   "source": [
    "# file is not present\n",
    "\n",
    "f = open('file_handling/write_mode.txt' , 'w')\n"
   ]
  },
  {
   "cell_type": "code",
   "execution_count": 15,
   "id": "deb147de",
   "metadata": {},
   "outputs": [
    {
     "name": "stdout",
     "output_type": "stream",
     "text": [
      "0\n",
      "6\n"
     ]
    }
   ],
   "source": [
    "# file is present\n",
    "\n",
    "f = open('file_handling/write_mode.txt' , 'w')\n",
    "\n",
    "print(f.tell())\n",
    "f.write('python')\n",
    "print(f.tell())\n",
    "f.seek(2)\n",
    "f.write('Learnbay')\n",
    "f.close()"
   ]
  },
  {
   "cell_type": "code",
   "execution_count": 16,
   "id": "093ccdeb",
   "metadata": {},
   "outputs": [
    {
     "name": "stdout",
     "output_type": "stream",
     "text": [
      "0\n"
     ]
    },
    {
     "ename": "UnsupportedOperation",
     "evalue": "not readable",
     "output_type": "error",
     "traceback": [
      "\u001b[1;31m---------------------------------------------------------------------------\u001b[0m",
      "\u001b[1;31mUnsupportedOperation\u001b[0m                      Traceback (most recent call last)",
      "Input \u001b[1;32mIn [16]\u001b[0m, in \u001b[0;36m<cell line: 8>\u001b[1;34m()\u001b[0m\n\u001b[0;32m      6\u001b[0m f\u001b[38;5;241m.\u001b[39mwrite(\u001b[38;5;124m'\u001b[39m\u001b[38;5;124mpython\u001b[39m\u001b[38;5;124m'\u001b[39m)\n\u001b[0;32m      7\u001b[0m f\u001b[38;5;241m.\u001b[39mseek(\u001b[38;5;241m0\u001b[39m)\n\u001b[1;32m----> 8\u001b[0m \u001b[43mf\u001b[49m\u001b[38;5;241;43m.\u001b[39;49m\u001b[43mread\u001b[49m\u001b[43m(\u001b[49m\u001b[43m)\u001b[49m\n",
      "\u001b[1;31mUnsupportedOperation\u001b[0m: not readable"
     ]
    }
   ],
   "source": [
    "# file is present\n",
    "\n",
    "f = open('file_handling/write_mode.txt' , 'w')\n",
    "\n",
    "print(f.tell())\n",
    "f.write('python')\n",
    "f.seek(0)\n",
    "f.read()"
   ]
  },
  {
   "cell_type": "code",
   "execution_count": 17,
   "id": "b0266968",
   "metadata": {},
   "outputs": [
    {
     "name": "stdout",
     "output_type": "stream",
     "text": [
      "0\n",
      "7\n"
     ]
    }
   ],
   "source": [
    "# file is present\n",
    "\n",
    "f = open('file_handling/write_mode.txt' , 'w')\n",
    "\n",
    "print(f.tell())\n",
    "f.write('usename')\n",
    "print(f.tell())\n",
    "f.write('\\npassword')\n",
    "f.close()"
   ]
  },
  {
   "cell_type": "code",
   "execution_count": 19,
   "id": "6007112a",
   "metadata": {},
   "outputs": [
    {
     "name": "stdout",
     "output_type": "stream",
     "text": [
      "0\n",
      "10\n"
     ]
    }
   ],
   "source": [
    "# file is present\n",
    "\n",
    "f = open('file_handling/write_mode.txt' , 'w')\n",
    "\n",
    "print(f.tell())\n",
    "f.write('username_2')\n",
    "print(f.tell())\n",
    "f.write('\\npassword_2')\n",
    "f.flush()"
   ]
  },
  {
   "cell_type": "code",
   "execution_count": 20,
   "id": "2ef5d10d",
   "metadata": {},
   "outputs": [],
   "source": [
    "f.write('\\nchanges')\n",
    "f.close()"
   ]
  },
  {
   "cell_type": "markdown",
   "id": "4bb8ecad",
   "metadata": {},
   "source": [
    "# append mode - 'a'\n",
    "    \n",
    "- If the file exist then it will open the file and places the cursor at the end of the file\n",
    "- If the file does not exist it'll create a file with that name and the ext\n",
    "- You are only allowed to write into the file not allowed to read from it\n",
    "\n",
    "- It will not overwrite the data, But always appends at the end"
   ]
  },
  {
   "cell_type": "code",
   "execution_count": 21,
   "id": "909de528",
   "metadata": {},
   "outputs": [],
   "source": [
    "# If the file does not exist\n",
    "\n",
    "f = open('file_handling/append_mode.txt' , 'a')"
   ]
  },
  {
   "cell_type": "code",
   "execution_count": 25,
   "id": "25506bd6",
   "metadata": {},
   "outputs": [
    {
     "name": "stdout",
     "output_type": "stream",
     "text": [
      "27\n",
      "35\n"
     ]
    }
   ],
   "source": [
    "# If the file exist\n",
    "\n",
    "f = open('file_handling/append_mode.txt' , 'a')\n",
    "\n",
    "print(f.tell())\n",
    "f.write('Learnbay')\n",
    "print(f.tell())\n",
    "f.close()"
   ]
  },
  {
   "cell_type": "code",
   "execution_count": 26,
   "id": "48593a35",
   "metadata": {},
   "outputs": [
    {
     "name": "stdout",
     "output_type": "stream",
     "text": [
      "11\n",
      "19\n"
     ]
    }
   ],
   "source": [
    "# If the file exist\n",
    "\n",
    "f = open('file_handling/append_mode.txt' , 'a')\n",
    "\n",
    "print(f.tell())\n",
    "f.seek(0)\n",
    "f.write('Learnbay')\n",
    "print(f.tell())\n",
    "f.close()\n"
   ]
  },
  {
   "cell_type": "code",
   "execution_count": 27,
   "id": "0a9eb9ae",
   "metadata": {},
   "outputs": [
    {
     "ename": "UnsupportedOperation",
     "evalue": "not readable",
     "output_type": "error",
     "traceback": [
      "\u001b[1;31m---------------------------------------------------------------------------\u001b[0m",
      "\u001b[1;31mUnsupportedOperation\u001b[0m                      Traceback (most recent call last)",
      "Input \u001b[1;32mIn [27]\u001b[0m, in \u001b[0;36m<cell line: 6>\u001b[1;34m()\u001b[0m\n\u001b[0;32m      3\u001b[0m f \u001b[38;5;241m=\u001b[39m \u001b[38;5;28mopen\u001b[39m(\u001b[38;5;124m'\u001b[39m\u001b[38;5;124mfile_handling/append_mode.txt\u001b[39m\u001b[38;5;124m'\u001b[39m , \u001b[38;5;124m'\u001b[39m\u001b[38;5;124ma\u001b[39m\u001b[38;5;124m'\u001b[39m)\n\u001b[0;32m      5\u001b[0m f\u001b[38;5;241m.\u001b[39mseek(\u001b[38;5;241m0\u001b[39m)\n\u001b[1;32m----> 6\u001b[0m \u001b[43mf\u001b[49m\u001b[38;5;241;43m.\u001b[39;49m\u001b[43mread\u001b[49m\u001b[43m(\u001b[49m\u001b[43m)\u001b[49m\n\u001b[0;32m      7\u001b[0m f\u001b[38;5;241m.\u001b[39mclose()\n",
      "\u001b[1;31mUnsupportedOperation\u001b[0m: not readable"
     ]
    }
   ],
   "source": [
    "# If the file exist\n",
    "\n",
    "f = open('file_handling/append_mode.txt' , 'a')\n",
    "\n",
    "f.seek(0)\n",
    "f.read()\n",
    "f.close()\n"
   ]
  },
  {
   "cell_type": "code",
   "execution_count": null,
   "id": "31a667c6",
   "metadata": {},
   "outputs": [],
   "source": [
    "# Read and write - 'r+'\n",
    "\n",
    "- File does not exist it will throw an error FileNotFound\n",
    "- If the file exist it will open the file and places the cursor at the begining\n",
    "- you can read and write in the file\n"
   ]
  },
  {
   "cell_type": "code",
   "execution_count": 28,
   "id": "5022aeab",
   "metadata": {},
   "outputs": [
    {
     "ename": "FileNotFoundError",
     "evalue": "[Errno 2] No such file or directory: 'file_handling/read_write.txt'",
     "output_type": "error",
     "traceback": [
      "\u001b[1;31m---------------------------------------------------------------------------\u001b[0m",
      "\u001b[1;31mFileNotFoundError\u001b[0m                         Traceback (most recent call last)",
      "Input \u001b[1;32mIn [28]\u001b[0m, in \u001b[0;36m<cell line: 1>\u001b[1;34m()\u001b[0m\n\u001b[1;32m----> 1\u001b[0m f \u001b[38;5;241m=\u001b[39m \u001b[38;5;28;43mopen\u001b[39;49m\u001b[43m(\u001b[49m\u001b[38;5;124;43m'\u001b[39;49m\u001b[38;5;124;43mfile_handling/read_write.txt\u001b[39;49m\u001b[38;5;124;43m'\u001b[39;49m\u001b[43m \u001b[49m\u001b[43m,\u001b[49m\u001b[43m \u001b[49m\u001b[38;5;124;43m'\u001b[39;49m\u001b[38;5;124;43mr+\u001b[39;49m\u001b[38;5;124;43m'\u001b[39;49m\u001b[43m)\u001b[49m\n",
      "\u001b[1;31mFileNotFoundError\u001b[0m: [Errno 2] No such file or directory: 'file_handling/read_write.txt'"
     ]
    }
   ],
   "source": [
    "f = open('file_handling/read_write.txt' , 'r+')"
   ]
  },
  {
   "cell_type": "code",
   "execution_count": 31,
   "id": "f8ec4447",
   "metadata": {},
   "outputs": [
    {
     "name": "stdout",
     "output_type": "stream",
     "text": [
      "0\n",
      "Hello world\n"
     ]
    }
   ],
   "source": [
    "# If the file exist\n",
    "\n",
    "f = open('file_handling/read_write.txt' , 'r+')\n",
    "print(f.tell())\n",
    "print(f.read())\n",
    "\n",
    "f.close()\n"
   ]
  },
  {
   "cell_type": "code",
   "execution_count": 32,
   "id": "1d99bab1",
   "metadata": {},
   "outputs": [
    {
     "name": "stdout",
     "output_type": "stream",
     "text": [
      "0\n",
      "Hello world\n",
      "11\n"
     ]
    }
   ],
   "source": [
    "# If the file exist\n",
    "\n",
    "f = open('file_handling/read_write.txt' , 'r+')\n",
    "print(f.tell())\n",
    "print(f.read())\n",
    "print(f.tell())\n",
    "\n",
    "f.close()\n"
   ]
  },
  {
   "cell_type": "code",
   "execution_count": 37,
   "id": "4f312c05",
   "metadata": {},
   "outputs": [
    {
     "name": "stdout",
     "output_type": "stream",
     "text": [
      "0\n",
      "Hello Football\n"
     ]
    }
   ],
   "source": [
    "# If the file exist\n",
    "\n",
    "f = open('file_handling/read_write.txt' , 'r+')\n",
    "print(f.tell())\n",
    "f.seek(6)\n",
    "f.write('Football')\n",
    "f.seek(0)\n",
    "print(f.read())\n",
    "f.close()\n"
   ]
  },
  {
   "cell_type": "code",
   "execution_count": null,
   "id": "352df32a",
   "metadata": {},
   "outputs": [],
   "source": [
    "# write and read - 'w+'\n",
    "\n",
    "- File does not exist it will create a new file with that extension\n",
    "- If the file exist it will open the file and deletes the previous data\n",
    "- you can read and write in the file"
   ]
  },
  {
   "cell_type": "code",
   "execution_count": 39,
   "id": "423a5f98",
   "metadata": {},
   "outputs": [],
   "source": [
    "f = open('file_handling/write_read.txt' , 'w+')"
   ]
  },
  {
   "cell_type": "code",
   "execution_count": 41,
   "id": "efc981ef",
   "metadata": {},
   "outputs": [
    {
     "name": "stdout",
     "output_type": "stream",
     "text": [
      "0\n"
     ]
    }
   ],
   "source": [
    "f = open('file_handling/write_read.txt' , 'w+')\n",
    "\n",
    "print(f.tell())"
   ]
  },
  {
   "cell_type": "code",
   "execution_count": 44,
   "id": "460319a3",
   "metadata": {},
   "outputs": [
    {
     "name": "stdout",
     "output_type": "stream",
     "text": [
      "0\n",
      "0\n",
      "Da vinci\n"
     ]
    }
   ],
   "source": [
    "f = open('file_handling/write_read.txt' , 'w+')\n",
    "\n",
    "print(f.tell())\n",
    "f.write('Da vinci')\n",
    "print(f.seek(0))\n",
    "print(f.read())\n",
    "f.seek(3)\n",
    "f.write('python')\n",
    "\n",
    "f.close()"
   ]
  },
  {
   "cell_type": "markdown",
   "id": "f7ec7316",
   "metadata": {},
   "source": [
    "# append and read - 'a+'\n",
    "\n",
    "- File does not exist it will create a new file with that extension\n",
    "- If the file exist it will open the file and place the cursor at the end\n",
    "- you can read and write in the file"
   ]
  },
  {
   "cell_type": "code",
   "execution_count": 45,
   "id": "2c85d415",
   "metadata": {},
   "outputs": [],
   "source": [
    "f = open('file_handling/append_read.txt' , 'a+')"
   ]
  },
  {
   "cell_type": "code",
   "execution_count": 48,
   "id": "9eaecb8e",
   "metadata": {},
   "outputs": [
    {
     "name": "stdout",
     "output_type": "stream",
     "text": [
      "24\n",
      "Heloo naskjldhsljk123456123456\n"
     ]
    }
   ],
   "source": [
    "f = open('file_handling/append_read.txt' , 'a+')\n",
    "\n",
    "print(f.tell())\n",
    "f.write('123456')\n",
    "f.seek(0)\n",
    "print(f.read())\n",
    "\n",
    "f.close()\n"
   ]
  },
  {
   "cell_type": "code",
   "execution_count": 49,
   "id": "5cd759cf",
   "metadata": {},
   "outputs": [
    {
     "name": "stdout",
     "output_type": "stream",
     "text": [
      "11\n",
      "0\n",
      "Hello world123456\n"
     ]
    }
   ],
   "source": [
    "f = open('file_handling/append_read.txt' , 'a+')\n",
    "\n",
    "print(f.tell())\n",
    "print(f.seek(0))\n",
    "f.write('123456')\n",
    "f.seek(0)\n",
    "print(f.read())\n",
    "\n",
    "f.close()\n"
   ]
  },
  {
   "cell_type": "markdown",
   "id": "86558587",
   "metadata": {},
   "source": [
    "# Methods to do the operations on read function\n",
    "\n",
    "- read() --> reads the whole data from the current position of the cursor\n",
    "- read(char) ---> reads that many number of char from the current position\n",
    "- readline() --> It reads the cuurent line from that index value\n",
    "- readlines() --> It read the whole contentfrom that location but will return a list of each line"
   ]
  },
  {
   "cell_type": "code",
   "execution_count": 54,
   "id": "1a3f2a55",
   "metadata": {},
   "outputs": [
    {
     "data": {
      "text/plain": [
       "'messi plays for paris\\nronaldo plays for manu\\nneymar plays for paris'"
      ]
     },
     "execution_count": 54,
     "metadata": {},
     "output_type": "execute_result"
    }
   ],
   "source": [
    "f = open('file_handling/football.txt' , 'r')\n",
    "\n",
    "f.read()"
   ]
  },
  {
   "cell_type": "code",
   "execution_count": 61,
   "id": "8d19e0a0",
   "metadata": {},
   "outputs": [
    {
     "data": {
      "text/plain": [
       "'ronaldo plays for manu\\nneymar plays for paris'"
      ]
     },
     "execution_count": 61,
     "metadata": {},
     "output_type": "execute_result"
    }
   ],
   "source": [
    "f = open('file_handling/football.txt' , 'r')\n",
    "\n",
    "f.seek(22)\n",
    "f.read()"
   ]
  },
  {
   "cell_type": "code",
   "execution_count": 55,
   "id": "b3e9121d",
   "metadata": {},
   "outputs": [
    {
     "name": "stdout",
     "output_type": "stream",
     "text": [
      "0\n"
     ]
    },
    {
     "data": {
      "text/plain": [
       "'messi'"
      ]
     },
     "execution_count": 55,
     "metadata": {},
     "output_type": "execute_result"
    }
   ],
   "source": [
    "f = open('file_handling/football.txt' , 'r')\n",
    "\n",
    "print(f.tell())\n",
    "f.read(5)"
   ]
  },
  {
   "cell_type": "code",
   "execution_count": 59,
   "id": "8c9fb31b",
   "metadata": {},
   "outputs": [
    {
     "name": "stdout",
     "output_type": "stream",
     "text": [
      "0\n",
      "paris\n"
     ]
    }
   ],
   "source": [
    "f = open('file_handling/football.txt' , 'r')\n",
    "\n",
    "print(f.tell())\n",
    "f.seek(16)\n",
    "print(f.read(5))"
   ]
  },
  {
   "cell_type": "code",
   "execution_count": 60,
   "id": "040b6f3d",
   "metadata": {},
   "outputs": [
    {
     "data": {
      "text/plain": [
       "21"
      ]
     },
     "execution_count": 60,
     "metadata": {},
     "output_type": "execute_result"
    }
   ],
   "source": [
    "a.find('\\n')"
   ]
  },
  {
   "cell_type": "code",
   "execution_count": 62,
   "id": "ad4bc665",
   "metadata": {},
   "outputs": [
    {
     "name": "stdout",
     "output_type": "stream",
     "text": [
      "0\n",
      "paris\n",
      "\n"
     ]
    }
   ],
   "source": [
    "f = open('file_handling/football.txt' , 'r')\n",
    "\n",
    "print(f.tell())\n",
    "f.seek(16)\n",
    "print(f.readline())"
   ]
  },
  {
   "cell_type": "code",
   "execution_count": 63,
   "id": "414211f7",
   "metadata": {},
   "outputs": [
    {
     "name": "stdout",
     "output_type": "stream",
     "text": [
      "0\n",
      "aldo plays for manu\n",
      "\n"
     ]
    }
   ],
   "source": [
    "f = open('file_handling/football.txt' , 'r')\n",
    "\n",
    "print(f.tell())\n",
    "f.seek(25)\n",
    "print(f.readline())"
   ]
  },
  {
   "cell_type": "code",
   "execution_count": 64,
   "id": "415498df",
   "metadata": {},
   "outputs": [
    {
     "name": "stdout",
     "output_type": "stream",
     "text": [
      "0\n",
      "['messi plays for paris\\n', 'ronaldo plays for manu\\n', 'neymar plays for paris']\n"
     ]
    }
   ],
   "source": [
    "f = open('file_handling/football.txt' , 'r')\n",
    "\n",
    "print(f.tell())\n",
    "print(f.readlines())"
   ]
  },
  {
   "cell_type": "code",
   "execution_count": 65,
   "id": "edc87531",
   "metadata": {},
   "outputs": [
    {
     "name": "stdout",
     "output_type": "stream",
     "text": [
      "0\n",
      "['paris\\n', 'ronaldo plays for manu\\n', 'neymar plays for paris']\n"
     ]
    }
   ],
   "source": [
    "f = open('file_handling/football.txt' , 'r')\n",
    "\n",
    "print(f.tell())\n",
    "f.seek(16)\n",
    "print(f.readlines())"
   ]
  },
  {
   "cell_type": "code",
   "execution_count": 66,
   "id": "176b446a",
   "metadata": {},
   "outputs": [
    {
     "name": "stdout",
     "output_type": "stream",
     "text": [
      "0\n"
     ]
    }
   ],
   "source": [
    "f = open('file_handling/football.txt' , 'r')\n",
    "\n",
    "print(f.tell())\n",
    "a = f.read()"
   ]
  },
  {
   "cell_type": "markdown",
   "id": "97a4b225",
   "metadata": {},
   "source": [
    "# Methods to do the operations on write function\n",
    "\n",
    "- write('str') --> writes the string into\n",
    "- writelines(['line1\\n' , 'line2\\n']) ---> write lines into the string"
   ]
  },
  {
   "cell_type": "code",
   "execution_count": 69,
   "id": "1f839d16",
   "metadata": {},
   "outputs": [],
   "source": [
    "f = open('file_handling/Trial.txt' , 'w')"
   ]
  },
  {
   "cell_type": "code",
   "execution_count": 70,
   "id": "5c606a52",
   "metadata": {},
   "outputs": [],
   "source": [
    "f = open('file_handling/Trial.txt' , 'w')\n",
    "f.write('hello\\nworld')\n",
    "f.close()"
   ]
  },
  {
   "cell_type": "code",
   "execution_count": 73,
   "id": "fa8bf09c",
   "metadata": {},
   "outputs": [],
   "source": [
    "f = open('file_handling/Trial.txt' , 'w')\n",
    "f.writelines(['line_1\\n' , 'line_2\\n' , 'line_3'])\n",
    "f.close()"
   ]
  },
  {
   "cell_type": "markdown",
   "id": "aec9f57c",
   "metadata": {},
   "source": [
    "# Task 1"
   ]
  },
  {
   "cell_type": "code",
   "execution_count": 76,
   "id": "a60fe367",
   "metadata": {},
   "outputs": [
    {
     "data": {
      "text/plain": [
       "'Today is the anniversary of the publication of Robert Frostâ€™s iconic poem \"Stopping by Woods on a Snowy Evening,\" a \\nfact that spurred the Literary Hub office into a long conversation about their favorite poems, the most iconic poems\\nwritten in English, and which poems we should all have already read (or at least be reading next). Turns out, \\ndespite frequent (false) claims that poetry is dead and/or irrelevant and/or boring, there are plenty of poems that\\nhave sunk deep into our collective consciousness as cultural icons. (What makes a poem iconic? For our purposes \\nhere, itâ€™s primarily a matter of cultural ubiquity, though unimpeachable excellence helps any case.) So for those of\\nyou who were not present for our epic office argument, I have listed some of them here.'"
      ]
     },
     "execution_count": 76,
     "metadata": {},
     "output_type": "execute_result"
    }
   ],
   "source": [
    "f = open('file_handling/poem.txt' , 'r')\n",
    "f.read()"
   ]
  },
  {
   "cell_type": "code",
   "execution_count": 78,
   "id": "a6cd4132",
   "metadata": {},
   "outputs": [
    {
     "name": "stdout",
     "output_type": "stream",
     "text": [
      "782\n",
      "130\n",
      "7\n"
     ]
    }
   ],
   "source": [
    "# The number of char\n",
    "# No of words\n",
    "# the number of lines\n",
    "\n",
    "\n",
    "f = open('file_handling/poem.txt' , 'r')\n",
    "no_of_char = len(f.read())\n",
    "f.seek(0)\n",
    "no_of_words = len(f.read().split())\n",
    "f.seek(0)\n",
    "no_of_lines = len(f.readlines())\n",
    "\n",
    "\n",
    "print(no_of_char)\n",
    "print(no_of_words)\n",
    "print(no_of_lines)"
   ]
  },
  {
   "cell_type": "markdown",
   "id": "52decbe2",
   "metadata": {},
   "source": [
    "# Task 2"
   ]
  },
  {
   "cell_type": "code",
   "execution_count": 77,
   "id": "f30fd1b9",
   "metadata": {},
   "outputs": [],
   "source": [
    "# convert png --> jpg"
   ]
  },
  {
   "cell_type": "code",
   "execution_count": 81,
   "id": "eeb357ef",
   "metadata": {},
   "outputs": [],
   "source": [
    "f = open('file_handling/img_1.png' , 'rb')\n",
    "\n",
    "a = f.read()\n",
    "\n",
    "f1 = open('file_handling/img_2.jpg' , 'wb')\n",
    "f1.write(a)\n",
    "f1.close()"
   ]
  },
  {
   "cell_type": "code",
   "execution_count": null,
   "id": "a45cf2df",
   "metadata": {},
   "outputs": [],
   "source": [
    "# Task till monday\n",
    "\n",
    "emp_data = {'emp_1': {'age': 24 , 'salary': 626223 , 'name': 'salahuddin'},\n",
    "           'emp_2': {'age': 23 , 'salary': 96780 , 'name': 'ajay'},\n",
    "           'emp_3': {'age': 26 , 'salary': 90890 , 'name': 'abhishek'}, \n",
    "           'emp_4': {'age': 32 , 'salary': 65756 , 'name': 'anas'}}\n",
    "\n",
    "ex_emp = {}"
   ]
  },
  {
   "cell_type": "code",
   "execution_count": null,
   "id": "ba2d030a",
   "metadata": {},
   "outputs": [],
   "source": [
    "def addEmployee(age,sal,name):\n",
    "    emp_id = \"emp_\"+str(len(emp_data)+1)\n",
    "    emp_data.setdefault(emp_id,{'age': age, 'salary':sal,'name':name})\n",
    "\n",
    "def removeEmployee(emp_id):\n",
    "    ex_emp.setdefault(emp_id,emp_data.pop(emp_id))\n"
   ]
  },
  {
   "cell_type": "code",
   "execution_count": null,
   "id": "54f766fe",
   "metadata": {},
   "outputs": [],
   "source": [
    "# A new record has been created with emp --> emp_5 --> values\n",
    "\n",
    "# A existing employess has been removed --> emp_id --> values"
   ]
  }
 ],
 "metadata": {
  "kernelspec": {
   "display_name": "Python 3 (ipykernel)",
   "language": "python",
   "name": "python3"
  },
  "language_info": {
   "codemirror_mode": {
    "name": "ipython",
    "version": 3
   },
   "file_extension": ".py",
   "mimetype": "text/x-python",
   "name": "python",
   "nbconvert_exporter": "python",
   "pygments_lexer": "ipython3",
   "version": "3.9.12"
  }
 },
 "nbformat": 4,
 "nbformat_minor": 5
}
