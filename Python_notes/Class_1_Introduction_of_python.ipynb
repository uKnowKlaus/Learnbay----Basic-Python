{
 "cells": [
  {
   "cell_type": "code",
   "execution_count": null,
   "id": "08be3503",
   "metadata": {},
   "outputs": [],
   "source": [
    "\n",
    "# \n",
    "\n",
    "Cell --- A place where you write python codes\n",
    "Markdown --> A place where you can write texts"
   ]
  },
  {
   "cell_type": "code",
   "execution_count": 3,
   "id": "ba5d46e8",
   "metadata": {},
   "outputs": [
    {
     "name": "stdout",
     "output_type": "stream",
     "text": [
      "hello world\n"
     ]
    }
   ],
   "source": [
    "print('hello world')"
   ]
  },
  {
   "cell_type": "code",
   "execution_count": 8,
   "id": "81d9e161",
   "metadata": {},
   "outputs": [
    {
     "name": "stdout",
     "output_type": "stream",
     "text": [
      "30\n"
     ]
    }
   ],
   "source": [
    "a = 10\n",
    "b = 20\n",
    "\n",
    "print(a+b)"
   ]
  },
  {
   "cell_type": "markdown",
   "id": "0eca8450",
   "metadata": {},
   "source": [
    "# Heading 1\n",
    "## Heading 2\n",
    "### Heading 3\n",
    "#### Heading 4\n",
    "##### Heading 5\n",
    "\n",
    "\n",
    "\n",
    "- point1\n",
    "* point 2\n",
    "\n",
    "\n",
    "1. stat 1\n",
    "2. stat2\n",
    "3. stat3"
   ]
  },
  {
   "cell_type": "markdown",
   "id": "892b72a3",
   "metadata": {},
   "source": [
    "# \n",
    "\n",
    "1. extension of a python file ---> .py\n",
    "2. extension of jupyter notebook is ----> .ipynb"
   ]
  },
  {
   "cell_type": "markdown",
   "id": "2fa1b435",
   "metadata": {},
   "source": [
    "# Different ways to execute a python file\n",
    "\n",
    "\n",
    "1. jupyter notebook\n",
    "2. python interpretor\n",
    "3. Python file and run through the anaconda prompt"
   ]
  },
  {
   "cell_type": "code",
   "execution_count": 10,
   "id": "8dcdef8f",
   "metadata": {},
   "outputs": [
    {
     "name": "stdout",
     "output_type": "stream",
     "text": [
      "30\n"
     ]
    }
   ],
   "source": [
    "a = 10\n",
    "b = 20\n",
    "print(a+b)"
   ]
  },
  {
   "cell_type": "code",
   "execution_count": null,
   "id": "8f77f53a",
   "metadata": {},
   "outputs": [],
   "source": [
    "- pwd --- (present working director)\n",
    "- ls ---- ( list all the files and folders in that directory)\n",
    "- cd folder_name\n",
    "- cd 'folder name'\n",
    "- python file_name.ext"
   ]
  },
  {
   "cell_type": "code",
   "execution_count": 12,
   "id": "f9a9ff63",
   "metadata": {},
   "outputs": [
    {
     "data": {
      "text/plain": [
       "'C:\\\\Users\\\\MIT\\\\Desktop\\\\ongoing classes\\\\9_dec_2022'"
      ]
     },
     "execution_count": 12,
     "metadata": {},
     "output_type": "execute_result"
    }
   ],
   "source": [
    "pwd"
   ]
  },
  {
   "cell_type": "markdown",
   "id": "b30f8bac",
   "metadata": {},
   "source": [
    "# Python components\n",
    "\n",
    "\n",
    "- Literals\n",
    "- Constants\n",
    "- variables\n",
    "- Identifiers\n",
    "- Reserved words \n",
    "- Statments and expression\n",
    "- Blocks and Indentation\n",
    "- comments"
   ]
  },
  {
   "cell_type": "markdown",
   "id": "d2417b34",
   "metadata": {},
   "source": [
    "# Literals\n",
    "\n",
    "\n",
    "- Any value that you see in program is called as a literals\n",
    "\n",
    "\n",
    "\n",
    "- different types of literals \n",
    "1. int ---> Any number without an decimal point eg -199 , 0 , 4543\n",
    "2. float --> Any number with an decimal point eg -199.0000 , 0.0 , 4543.44564\n",
    "3. Complex ---> Any value that can be represented in the form of a+bj , where a is the real and b is the imag\n",
    "4. None --> \n",
    "5. Bool --> True / False\n",
    "6. String --> anything written inside '..' , \"..\" , '''..''' , \"\"\"...\"\"\""
   ]
  },
  {
   "cell_type": "code",
   "execution_count": 15,
   "id": "f7453f82",
   "metadata": {},
   "outputs": [
    {
     "name": "stdout",
     "output_type": "stream",
     "text": [
      "4656545456464 <class 'int'>\n"
     ]
    }
   ],
   "source": [
    "a = 4656545456464\n",
    "\n",
    "print(a , type(a))"
   ]
  },
  {
   "cell_type": "code",
   "execution_count": 16,
   "id": "3ff35b68",
   "metadata": {},
   "outputs": [
    {
     "name": "stdout",
     "output_type": "stream",
     "text": [
      "0.0 <class 'float'>\n"
     ]
    }
   ],
   "source": [
    "a = 0.00000\n",
    "\n",
    "\n",
    "print(a , type(a))"
   ]
  },
  {
   "cell_type": "code",
   "execution_count": 17,
   "id": "288cf21c",
   "metadata": {},
   "outputs": [
    {
     "name": "stdout",
     "output_type": "stream",
     "text": [
      "(10+8j) <class 'complex'>\n"
     ]
    }
   ],
   "source": [
    "a = 10+8j # \n",
    "\n",
    "print(a , type(a))"
   ]
  },
  {
   "cell_type": "code",
   "execution_count": 18,
   "id": "f5d76e09",
   "metadata": {},
   "outputs": [
    {
     "name": "stdout",
     "output_type": "stream",
     "text": [
      "None <class 'NoneType'>\n"
     ]
    }
   ],
   "source": [
    "a = None\n",
    "\n",
    "print(a , type(a))"
   ]
  },
  {
   "cell_type": "code",
   "execution_count": 19,
   "id": "2c4f4613",
   "metadata": {},
   "outputs": [
    {
     "name": "stdout",
     "output_type": "stream",
     "text": [
      "True <class 'bool'>\n"
     ]
    }
   ],
   "source": [
    "a = True\n",
    "\n",
    "print(a , type(a))"
   ]
  },
  {
   "cell_type": "code",
   "execution_count": 25,
   "id": "c192d680",
   "metadata": {},
   "outputs": [
    {
     "name": "stdout",
     "output_type": "stream",
     "text": [
      "50.0\n",
      "8.0\n",
      "(50+8j) <class 'complex'>\n"
     ]
    }
   ],
   "source": [
    "# a+bj\n",
    "\n",
    "var = 50+8j\n",
    "\n",
    "print(var.real)\n",
    "print(var.imag)\n",
    "\n",
    "print(var, type(var))"
   ]
  },
  {
   "cell_type": "code",
   "execution_count": 27,
   "id": "76f4f178",
   "metadata": {},
   "outputs": [
    {
     "name": "stdout",
     "output_type": "stream",
     "text": [
      "1565 <class 'str'>\n"
     ]
    }
   ],
   "source": [
    "a = '1565'\n",
    "\n",
    "print(a , type(a))"
   ]
  },
  {
   "cell_type": "code",
   "execution_count": 28,
   "id": "ed060b4a",
   "metadata": {},
   "outputs": [
    {
     "name": "stdout",
     "output_type": "stream",
     "text": [
      "this is pythons class <class 'str'>\n"
     ]
    }
   ],
   "source": [
    "a = 'this is pythons class'\n",
    "\n",
    "print(a , type(a))"
   ]
  },
  {
   "cell_type": "code",
   "execution_count": 29,
   "id": "ade1ed0d",
   "metadata": {},
   "outputs": [
    {
     "ename": "SyntaxError",
     "evalue": "invalid syntax (4221937925.py, line 1)",
     "output_type": "error",
     "traceback": [
      "\u001b[1;36m  Input \u001b[1;32mIn [29]\u001b[1;36m\u001b[0m\n\u001b[1;33m    a = 'this is python's class'\u001b[0m\n\u001b[1;37m                        ^\u001b[0m\n\u001b[1;31mSyntaxError\u001b[0m\u001b[1;31m:\u001b[0m invalid syntax\n"
     ]
    }
   ],
   "source": [
    "a = 'this is python's class'\n",
    "\n",
    "print(a , type(a))"
   ]
  },
  {
   "cell_type": "code",
   "execution_count": 30,
   "id": "fc768063",
   "metadata": {},
   "outputs": [
    {
     "name": "stdout",
     "output_type": "stream",
     "text": [
      "this is python's class <class 'str'>\n"
     ]
    }
   ],
   "source": [
    "a = \"this is python's class\"\n",
    "\n",
    "print(a , type(a))"
   ]
  },
  {
   "cell_type": "code",
   "execution_count": 31,
   "id": "a9099c5f",
   "metadata": {},
   "outputs": [
    {
     "ename": "SyntaxError",
     "evalue": "EOL while scanning string literal (1750271635.py, line 1)",
     "output_type": "error",
     "traceback": [
      "\u001b[1;36m  Input \u001b[1;32mIn [31]\u001b[1;36m\u001b[0m\n\u001b[1;33m    a = \"this\u001b[0m\n\u001b[1;37m              ^\u001b[0m\n\u001b[1;31mSyntaxError\u001b[0m\u001b[1;31m:\u001b[0m EOL while scanning string literal\n"
     ]
    }
   ],
   "source": [
    "a = \"this \n",
    "is python's \n",
    "class\"\n",
    "\n",
    "print(a , type(a))"
   ]
  },
  {
   "cell_type": "code",
   "execution_count": 32,
   "id": "fd6b626f",
   "metadata": {},
   "outputs": [
    {
     "name": "stdout",
     "output_type": "stream",
     "text": [
      "this \n",
      "is python's \n",
      "class <class 'str'>\n"
     ]
    }
   ],
   "source": [
    "a = '''this \n",
    "is python's \n",
    "class'''\n",
    "\n",
    "print(a , type(a))"
   ]
  },
  {
   "cell_type": "code",
   "execution_count": 33,
   "id": "ad9648c9",
   "metadata": {},
   "outputs": [
    {
     "name": "stdout",
     "output_type": "stream",
     "text": [
      "this \n",
      "is python's \n",
      "class <class 'str'>\n"
     ]
    }
   ],
   "source": [
    "a = \"\"\"this \n",
    "is python's \n",
    "class\"\"\"\n",
    "\n",
    "print(a , type(a))"
   ]
  },
  {
   "cell_type": "code",
   "execution_count": 36,
   "id": "fa68e5be",
   "metadata": {},
   "outputs": [
    {
     "name": "stdout",
     "output_type": "stream",
     "text": [
      "this \n",
      "is python's \n",
      "class <class 'str'>\n"
     ]
    }
   ],
   "source": [
    "a = '''this \n",
    "is python's \n",
    "class'''\n",
    "\n",
    "print(a , type(a))"
   ]
  },
  {
   "cell_type": "markdown",
   "id": "964ab1f3",
   "metadata": {},
   "source": [
    "# CONSTANTS , VARIABLES AND Identifiers\n",
    "\n",
    "\n",
    "\n",
    "- constants and variables are subsets of identifiers\n",
    "\n",
    "\n",
    "Identifier - Any name used in program like variable name , constant , function name , class ets\n",
    "\n",
    "\n",
    "\n",
    "Rules\n",
    "\n",
    "\n",
    "1. Allowed char A-Z , a-z , 0-9 , _\n",
    "2. Not allowed are special char and space\n",
    "3. should not start with numbers\n",
    "4. Case sensitive\n",
    "5. All the constants should be in capital letters\n",
    "6. You cannot use reserved words."
   ]
  },
  {
   "cell_type": "code",
   "execution_count": 40,
   "id": "7a30d6fd",
   "metadata": {},
   "outputs": [],
   "source": [
    "123data_science = 10"
   ]
  },
  {
   "cell_type": "code",
   "execution_count": 41,
   "id": "5c1769eb",
   "metadata": {},
   "outputs": [],
   "source": [
    "data = 10\n",
    "Data = 20"
   ]
  },
  {
   "cell_type": "code",
   "execution_count": 43,
   "id": "39bf783d",
   "metadata": {},
   "outputs": [
    {
     "data": {
      "text/plain": [
       "10"
      ]
     },
     "execution_count": 43,
     "metadata": {},
     "output_type": "execute_result"
    }
   ],
   "source": [
    "data"
   ]
  },
  {
   "cell_type": "code",
   "execution_count": 44,
   "id": "3138aba9",
   "metadata": {},
   "outputs": [
    {
     "name": "stdout",
     "output_type": "stream",
     "text": [
      "['False', 'None', 'True', '__peg_parser__', 'and', 'as', 'assert', 'async', 'await', 'break', 'class', 'continue', 'def', 'del', 'elif', 'else', 'except', 'finally', 'for', 'from', 'global', 'if', 'import', 'in', 'is', 'lambda', 'nonlocal', 'not', 'or', 'pass', 'raise', 'return', 'try', 'while', 'with', 'yield']\n"
     ]
    }
   ],
   "source": [
    "import keyword\n",
    "print(keyword.kwlist)"
   ]
  },
  {
   "cell_type": "code",
   "execution_count": 45,
   "id": "d1669528",
   "metadata": {},
   "outputs": [
    {
     "ename": "SyntaxError",
     "evalue": "cannot assign to False (907462636.py, line 1)",
     "output_type": "error",
     "traceback": [
      "\u001b[1;36m  Input \u001b[1;32mIn [45]\u001b[1;36m\u001b[0m\n\u001b[1;33m    False = 19\u001b[0m\n\u001b[1;37m    ^\u001b[0m\n\u001b[1;31mSyntaxError\u001b[0m\u001b[1;31m:\u001b[0m cannot assign to False\n"
     ]
    }
   ],
   "source": [
    "False = 19"
   ]
  },
  {
   "cell_type": "code",
   "execution_count": 1,
   "id": "efab3807",
   "metadata": {},
   "outputs": [
    {
     "name": "stdout",
     "output_type": "stream",
     "text": [
      "['In', 'Out', '_', '__', '___', '__builtin__', '__builtins__', '__doc__', '__loader__', '__name__', '__package__', '__spec__', '_dh', '_i', '_i1', '_ih', '_ii', '_iii', '_oh', 'exit', 'get_ipython', 'quit']\n"
     ]
    }
   ],
   "source": [
    "print(dir())"
   ]
  },
  {
   "cell_type": "code",
   "execution_count": 47,
   "id": "8e676f34",
   "metadata": {},
   "outputs": [
    {
     "name": "stdout",
     "output_type": "stream",
     "text": [
      "['ArithmeticError', 'AssertionError', 'AttributeError', 'BaseException', 'BlockingIOError', 'BrokenPipeError', 'BufferError', 'BytesWarning', 'ChildProcessError', 'ConnectionAbortedError', 'ConnectionError', 'ConnectionRefusedError', 'ConnectionResetError', 'DeprecationWarning', 'EOFError', 'Ellipsis', 'EnvironmentError', 'Exception', 'False', 'FileExistsError', 'FileNotFoundError', 'FloatingPointError', 'FutureWarning', 'GeneratorExit', 'IOError', 'ImportError', 'ImportWarning', 'IndentationError', 'IndexError', 'InterruptedError', 'IsADirectoryError', 'KeyError', 'KeyboardInterrupt', 'LookupError', 'MemoryError', 'ModuleNotFoundError', 'NameError', 'None', 'NotADirectoryError', 'NotImplemented', 'NotImplementedError', 'OSError', 'OverflowError', 'PendingDeprecationWarning', 'PermissionError', 'ProcessLookupError', 'RecursionError', 'ReferenceError', 'ResourceWarning', 'RuntimeError', 'RuntimeWarning', 'StopAsyncIteration', 'StopIteration', 'SyntaxError', 'SyntaxWarning', 'SystemError', 'SystemExit', 'TabError', 'TimeoutError', 'True', 'TypeError', 'UnboundLocalError', 'UnicodeDecodeError', 'UnicodeEncodeError', 'UnicodeError', 'UnicodeTranslateError', 'UnicodeWarning', 'UserWarning', 'ValueError', 'Warning', 'WindowsError', 'ZeroDivisionError', '__IPYTHON__', '__build_class__', '__debug__', '__doc__', '__import__', '__loader__', '__name__', '__package__', '__spec__', 'abs', 'all', 'any', 'ascii', 'bin', 'bool', 'breakpoint', 'bytearray', 'bytes', 'callable', 'chr', 'classmethod', 'compile', 'complex', 'copyright', 'credits', 'delattr', 'dict', 'dir', 'display', 'divmod', 'enumerate', 'eval', 'exec', 'execfile', 'filter', 'float', 'format', 'frozenset', 'get_ipython', 'getattr', 'globals', 'hasattr', 'hash', 'help', 'hex', 'id', 'input', 'int', 'isinstance', 'issubclass', 'iter', 'len', 'license', 'list', 'locals', 'map', 'max', 'memoryview', 'min', 'next', 'object', 'oct', 'open', 'ord', 'pow', 'print', 'property', 'range', 'repr', 'reversed', 'round', 'runfile', 'set', 'setattr', 'slice', 'sorted', 'staticmethod', 'str', 'sum', 'super', 'tuple', 'type', 'vars', 'zip']\n"
     ]
    }
   ],
   "source": [
    "print(dir(__builtins__))"
   ]
  },
  {
   "cell_type": "code",
   "execution_count": 48,
   "id": "a33d8e2e",
   "metadata": {},
   "outputs": [
    {
     "name": "stdout",
     "output_type": "stream",
     "text": [
      "30\n"
     ]
    }
   ],
   "source": [
    "print(10 +20)"
   ]
  },
  {
   "cell_type": "code",
   "execution_count": 49,
   "id": "2e700323",
   "metadata": {},
   "outputs": [],
   "source": [
    "print = 2092"
   ]
  },
  {
   "cell_type": "code",
   "execution_count": 50,
   "id": "b14e1509",
   "metadata": {},
   "outputs": [
    {
     "data": {
      "text/plain": [
       "2092"
      ]
     },
     "execution_count": 50,
     "metadata": {},
     "output_type": "execute_result"
    }
   ],
   "source": [
    "print"
   ]
  },
  {
   "cell_type": "code",
   "execution_count": 51,
   "id": "50843b6b",
   "metadata": {},
   "outputs": [
    {
     "ename": "TypeError",
     "evalue": "'int' object is not callable",
     "output_type": "error",
     "traceback": [
      "\u001b[1;31m---------------------------------------------------------------------------\u001b[0m",
      "\u001b[1;31mTypeError\u001b[0m                                 Traceback (most recent call last)",
      "Input \u001b[1;32mIn [51]\u001b[0m, in \u001b[0;36m<cell line: 1>\u001b[1;34m()\u001b[0m\n\u001b[1;32m----> 1\u001b[0m \u001b[38;5;28;43mprint\u001b[39;49m\u001b[43m(\u001b[49m\u001b[38;5;241;43m10\u001b[39;49m\u001b[43m \u001b[49m\u001b[38;5;241;43m+\u001b[39;49m\u001b[38;5;241;43m20\u001b[39;49m\u001b[43m)\u001b[49m\n",
      "\u001b[1;31mTypeError\u001b[0m: 'int' object is not callable"
     ]
    }
   ],
   "source": [
    "print(10 +20)"
   ]
  },
  {
   "cell_type": "code",
   "execution_count": null,
   "id": "df9c18ad",
   "metadata": {},
   "outputs": [],
   "source": [
    " abc # valid\n",
    " _abc # valid \n",
    " +bcd # invalid\n",
    " If # valid\n",
    " True # invalid\n",
    " if # invalid\n",
    " False # invalid\n",
    " 12abc # incvalid\n",
    " 123@abc # invalid\n",
    " abc@123 # invalid\n",
    " yielD # valid\n",
    " paSS # valid\n",
    " pass # invalid\n",
    " Else # valid"
   ]
  },
  {
   "cell_type": "code",
   "execution_count": 4,
   "id": "1ecf2ca9",
   "metadata": {},
   "outputs": [
    {
     "name": "stdout",
     "output_type": "stream",
     "text": [
      "39.4384\n"
     ]
    }
   ],
   "source": [
    "PI = 3.14\n",
    "r = 2\n",
    "\n",
    "\n",
    "print((PI * r)**2)"
   ]
  },
  {
   "cell_type": "code",
   "execution_count": 5,
   "id": "791f1edd",
   "metadata": {},
   "outputs": [
    {
     "data": {
      "text/plain": [
       "6.14"
      ]
     },
     "execution_count": 5,
     "metadata": {},
     "output_type": "execute_result"
    }
   ],
   "source": [
    "PI = 3.14\n",
    "\n",
    "PI = 6.14\n",
    "\n",
    "\n",
    "PI"
   ]
  },
  {
   "cell_type": "markdown",
   "id": "af497440",
   "metadata": {},
   "source": [
    "# Statments and expression\n",
    "\n",
    "\n",
    "\n",
    "expression --- combination of variables and literals , Which when executed always gives you an output\n",
    "\n",
    "statements ---> does not give you an ouptput"
   ]
  },
  {
   "cell_type": "code",
   "execution_count": 6,
   "id": "9d91276e",
   "metadata": {},
   "outputs": [
    {
     "data": {
      "text/plain": [
       "30"
      ]
     },
     "execution_count": 6,
     "metadata": {},
     "output_type": "execute_result"
    }
   ],
   "source": [
    "10+20"
   ]
  },
  {
   "cell_type": "code",
   "execution_count": 7,
   "id": "7a4c437c",
   "metadata": {},
   "outputs": [
    {
     "data": {
      "text/plain": [
       "'datascience'"
      ]
     },
     "execution_count": 7,
     "metadata": {},
     "output_type": "execute_result"
    }
   ],
   "source": [
    "'data' + 'science'"
   ]
  },
  {
   "cell_type": "code",
   "execution_count": 8,
   "id": "ef687f00",
   "metadata": {},
   "outputs": [],
   "source": [
    "a = 10"
   ]
  },
  {
   "cell_type": "code",
   "execution_count": 10,
   "id": "6a5f5108",
   "metadata": {},
   "outputs": [],
   "source": [
    "for i in range(5):\n",
    "    pass"
   ]
  },
  {
   "cell_type": "code",
   "execution_count": null,
   "id": "a96ca3f5",
   "metadata": {},
   "outputs": [],
   "source": [
    "# "
   ]
  }
 ],
 "metadata": {
  "kernelspec": {
   "display_name": "Python 3 (ipykernel)",
   "language": "python",
   "name": "python3"
  },
  "language_info": {
   "codemirror_mode": {
    "name": "ipython",
    "version": 3
   },
   "file_extension": ".py",
   "mimetype": "text/x-python",
   "name": "python",
   "nbconvert_exporter": "python",
   "pygments_lexer": "ipython3",
   "version": "3.9.12"
  }
 },
 "nbformat": 4,
 "nbformat_minor": 5
}
