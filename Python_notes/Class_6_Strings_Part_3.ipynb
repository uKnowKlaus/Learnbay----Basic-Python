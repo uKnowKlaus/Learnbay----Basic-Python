{
 "cells": [
  {
   "cell_type": "code",
   "execution_count": null,
   "id": "fd117281",
   "metadata": {},
   "outputs": [],
   "source": [
    "# carraige return\n",
    "\n",
    "moves all the char on the right hand side to the left hand side while replacing the char"
   ]
  },
  {
   "cell_type": "code",
   "execution_count": 35,
   "id": "9fad9e8a",
   "metadata": {},
   "outputs": [
    {
     "name": "stdout",
     "output_type": "stream",
     "text": [
      "data \r",
      "science\n"
     ]
    }
   ],
   "source": [
    "a = 'data \\rscience'\n",
    "\n",
    "print(a)"
   ]
  },
  {
   "cell_type": "code",
   "execution_count": 36,
   "id": "75ec532d",
   "metadata": {},
   "outputs": [
    {
     "name": "stdout",
     "output_type": "stream",
     "text": [
      "hello\r",
      "wor\n"
     ]
    }
   ],
   "source": [
    "a = 'hello\\rwor'\n",
    "\n",
    "print(a)"
   ]
  },
  {
   "cell_type": "code",
   "execution_count": 37,
   "id": "08b120a9",
   "metadata": {},
   "outputs": [
    {
     "name": "stdout",
     "output_type": "stream",
     "text": [
      "hello\r",
      "Indian\n"
     ]
    }
   ],
   "source": [
    "a = 'hello\\rIndian'\n",
    "\n",
    "print(a)"
   ]
  },
  {
   "cell_type": "code",
   "execution_count": 38,
   "id": "e73701d2",
   "metadata": {},
   "outputs": [
    {
     "name": "stdout",
     "output_type": "stream",
     "text": [
      "hello\r",
      "1234567891\n"
     ]
    }
   ],
   "source": [
    "a = 'hello\\r1234567891'\n",
    "\n",
    "print(a)"
   ]
  },
  {
   "cell_type": "code",
   "execution_count": 42,
   "id": "ec1ede92",
   "metadata": {},
   "outputs": [
    {
     "name": "stdout",
     "output_type": "stream",
     "text": [
      "False\n",
      "ABC\n"
     ]
    }
   ],
   "source": [
    "s1 = 'abc'\n",
    "\n",
    "# \n",
    "print(s1.isupper())\n",
    "print(s1.upper())"
   ]
  },
  {
   "cell_type": "code",
   "execution_count": 43,
   "id": "b6c12835",
   "metadata": {},
   "outputs": [
    {
     "name": "stdout",
     "output_type": "stream",
     "text": [
      "True\n",
      "abc\n"
     ]
    }
   ],
   "source": [
    "s1 = 'abc'\n",
    "\n",
    "# \n",
    "print(s1.islower())\n",
    "print(s1.lower())"
   ]
  },
  {
   "cell_type": "code",
   "execution_count": 44,
   "id": "a0a42184",
   "metadata": {},
   "outputs": [
    {
     "name": "stdout",
     "output_type": "stream",
     "text": [
      "False\n",
      "Abc\n"
     ]
    }
   ],
   "source": [
    "s1 = 'abc'\n",
    "\n",
    "# \n",
    "print(s1.istitle())\n",
    "print(s1.title())"
   ]
  },
  {
   "cell_type": "markdown",
   "id": "baef47cd",
   "metadata": {},
   "source": [
    "# Strip , lstrip , rstrip"
   ]
  },
  {
   "cell_type": "code",
   "execution_count": null,
   "id": "775421ae",
   "metadata": {},
   "outputs": [],
   "source": [
    "# strip\n",
    "\n",
    "* removes the specified char from both sides\n",
    "* by default it'll remove spaces"
   ]
  },
  {
   "cell_type": "code",
   "execution_count": 52,
   "id": "e3519763",
   "metadata": {},
   "outputs": [
    {
     "name": "stdout",
     "output_type": "stream",
     "text": [
      "python\n",
      "python\n",
      "python\n",
      "python\n"
     ]
    }
   ],
   "source": [
    "print('                python               '.strip())\n",
    "\n",
    "\n",
    "print('******python*************'.strip('*'))\n",
    "\n",
    "\n",
    "print('######******python*************######'.strip('*#'))\n",
    "\n",
    "\n",
    "print('######******        python*************######'.strip('*# '))"
   ]
  },
  {
   "cell_type": "code",
   "execution_count": 54,
   "id": "a45bdeda",
   "metadata": {},
   "outputs": [
    {
     "name": "stdout",
     "output_type": "stream",
     "text": [
      "python               \n",
      "python*************\n",
      "python*************######\n",
      "python*************######\n"
     ]
    }
   ],
   "source": [
    "print('                python               '.lstrip())\n",
    "\n",
    "\n",
    "print('******python*************'.lstrip('*'))\n",
    "\n",
    "\n",
    "print('######******python*************######'.lstrip('*#'))\n",
    "\n",
    "\n",
    "print('######******        python*************######'.lstrip('*# '))"
   ]
  },
  {
   "cell_type": "code",
   "execution_count": 55,
   "id": "c4232867",
   "metadata": {},
   "outputs": [
    {
     "name": "stdout",
     "output_type": "stream",
     "text": [
      "                python\n",
      "******python\n",
      "######******python\n",
      "######******        python\n"
     ]
    }
   ],
   "source": [
    "print('                python               '.rstrip())\n",
    "\n",
    "\n",
    "print('******python*************'.rstrip('*'))\n",
    "\n",
    "\n",
    "print('######******python*************######'.rstrip('*#'))\n",
    "\n",
    "\n",
    "print('######******        python*************######'.rstrip('*# '))"
   ]
  },
  {
   "cell_type": "code",
   "execution_count": 61,
   "id": "20f496e4",
   "metadata": {},
   "outputs": [
    {
     "name": "stdout",
     "output_type": "stream",
     "text": [
      "4568798a123abc\n"
     ]
    }
   ],
   "source": [
    "print('1234568798a123abc'.strip('321'))"
   ]
  },
  {
   "cell_type": "code",
   "execution_count": null,
   "id": "18e4e67b",
   "metadata": {},
   "outputs": [],
   "source": [
    "a = '1234568798a123abc'\n",
    "b = []\n",
    "\n",
    "for i in a:\n",
    "    "
   ]
  },
  {
   "cell_type": "code",
   "execution_count": 66,
   "id": "04227a77",
   "metadata": {},
   "outputs": [
    {
     "name": "stdout",
     "output_type": "stream",
     "text": [
      "Please enter the username : PYTHON@GMAIL.COM\n",
      "Please enter the password : PYTHON      \n",
      "Logged in\n"
     ]
    }
   ],
   "source": [
    "user_name = 'python@gmail.com'\n",
    "password = 'python'\n",
    "\n",
    "a = input('Please enter the username : ')\n",
    "b = input('Please enter the password : ')\n",
    "\n",
    "if user_name == a.strip().lower() and password == b.strip().lower():\n",
    "    print('Logged in')\n",
    "else:\n",
    "    print('Incorrect info')"
   ]
  },
  {
   "cell_type": "code",
   "execution_count": 68,
   "id": "32ecdd24",
   "metadata": {},
   "outputs": [
    {
     "data": {
      "text/plain": [
       "3"
      ]
     },
     "execution_count": 68,
     "metadata": {},
     "output_type": "execute_result"
    }
   ],
   "source": [
    "# count\n",
    "\n",
    "\n",
    "a = 'This is python , python is a programing language , python is easy'\n",
    "\n",
    "\n",
    "a.count('python')"
   ]
  },
  {
   "cell_type": "markdown",
   "id": "7dcdc840",
   "metadata": {},
   "source": [
    "# find , rfind , index , rindex\n",
    "\n",
    "\n"
   ]
  },
  {
   "cell_type": "code",
   "execution_count": 75,
   "id": "76e58165",
   "metadata": {},
   "outputs": [
    {
     "name": "stdout",
     "output_type": "stream",
     "text": [
      "8\n",
      "17\n",
      "29\n"
     ]
    }
   ],
   "source": [
    "a = 'This is python , python is a programing language , python is easy'\n",
    "\n",
    "\n",
    "\n",
    "print(a.find('p'))\n",
    "\n",
    "\n",
    "print(a.find('p' , 9))\n",
    "print(a.find('p' , 18))\n",
    "\n"
   ]
  },
  {
   "cell_type": "code",
   "execution_count": 77,
   "id": "558bb5e4",
   "metadata": {
    "scrolled": true
   },
   "outputs": [
    {
     "name": "stdout",
     "output_type": "stream",
     "text": [
      "8\n",
      "51\n",
      "8\n",
      "51\n"
     ]
    }
   ],
   "source": [
    "a = 'This is python , python is a programing language , python is easy'\n",
    "\n",
    "\n",
    "print(a.find('p'))\n",
    "print(a.rfind('p'))\n",
    "\n",
    "\n",
    "print(a.index('p'))\n",
    "print(a.rindex('p'))"
   ]
  },
  {
   "cell_type": "code",
   "execution_count": null,
   "id": "494e15b5",
   "metadata": {},
   "outputs": [],
   "source": [
    "# Difference b/w find and index"
   ]
  },
  {
   "cell_type": "code",
   "execution_count": 78,
   "id": "61f0c609",
   "metadata": {},
   "outputs": [
    {
     "name": "stdout",
     "output_type": "stream",
     "text": [
      "-1\n"
     ]
    }
   ],
   "source": [
    "a = 'This is python , python is a programing language , python is easy'\n",
    "\n",
    "\n",
    "print(a.find('Z'))"
   ]
  },
  {
   "cell_type": "code",
   "execution_count": 79,
   "id": "1daacf83",
   "metadata": {},
   "outputs": [
    {
     "ename": "ValueError",
     "evalue": "substring not found",
     "output_type": "error",
     "traceback": [
      "\u001b[1;31m---------------------------------------------------------------------------\u001b[0m",
      "\u001b[1;31mValueError\u001b[0m                                Traceback (most recent call last)",
      "Input \u001b[1;32mIn [79]\u001b[0m, in \u001b[0;36m<cell line: 4>\u001b[1;34m()\u001b[0m\n\u001b[0;32m      1\u001b[0m a \u001b[38;5;241m=\u001b[39m \u001b[38;5;124m'\u001b[39m\u001b[38;5;124mThis is python , python is a programing language , python is easy\u001b[39m\u001b[38;5;124m'\u001b[39m\n\u001b[1;32m----> 4\u001b[0m \u001b[38;5;28mprint\u001b[39m(\u001b[43ma\u001b[49m\u001b[38;5;241;43m.\u001b[39;49m\u001b[43mindex\u001b[49m\u001b[43m(\u001b[49m\u001b[38;5;124;43m'\u001b[39;49m\u001b[38;5;124;43mZ\u001b[39;49m\u001b[38;5;124;43m'\u001b[39;49m\u001b[43m)\u001b[49m)\n",
      "\u001b[1;31mValueError\u001b[0m: substring not found"
     ]
    }
   ],
   "source": [
    "a = 'This is python , python is a programing language , python is easy'\n",
    "\n",
    "\n",
    "print(a.index('Z'))"
   ]
  },
  {
   "cell_type": "markdown",
   "id": "f7e83f85",
   "metadata": {},
   "source": [
    "# l just , rjust\n",
    "\n",
    "- Used to maintain the lenght of the string by filling with some char , If not specified by default it'll fill with space"
   ]
  },
  {
   "cell_type": "code",
   "execution_count": 178,
   "id": "ee4bad0c",
   "metadata": {},
   "outputs": [],
   "source": [
    "a = 'python'\n",
    "\n",
    "\n",
    "print(a.ljust(10))"
   ]
  },
  {
   "cell_type": "code",
   "execution_count": 92,
   "id": "0aed751e",
   "metadata": {},
   "outputs": [
    {
     "name": "stdout",
     "output_type": "stream",
     "text": [
      "    python\n"
     ]
    }
   ],
   "source": [
    "a = 'python'\n",
    "\n",
    "\n",
    "print(a.rjust(10))"
   ]
  },
  {
   "cell_type": "code",
   "execution_count": 93,
   "id": "0990eac9",
   "metadata": {},
   "outputs": [
    {
     "name": "stdout",
     "output_type": "stream",
     "text": [
      "python****\n"
     ]
    }
   ],
   "source": [
    "a = 'python'\n",
    "\n",
    "\n",
    "print(a.ljust(10 , '*'))"
   ]
  },
  {
   "cell_type": "code",
   "execution_count": 94,
   "id": "444df156",
   "metadata": {},
   "outputs": [
    {
     "name": "stdout",
     "output_type": "stream",
     "text": [
      "####python\n"
     ]
    }
   ],
   "source": [
    "a = 'python'\n",
    "\n",
    "\n",
    "print(a.rjust(10 , '#'))"
   ]
  },
  {
   "cell_type": "code",
   "execution_count": 97,
   "id": "18d3c61e",
   "metadata": {},
   "outputs": [
    {
     "name": "stdout",
     "output_type": "stream",
     "text": [
      "09113034064\n"
     ]
    }
   ],
   "source": [
    "a = '9113034064'\n",
    "\n",
    "print(a.rjust(11 , '0'))"
   ]
  },
  {
   "cell_type": "code",
   "execution_count": 98,
   "id": "48c7034c",
   "metadata": {},
   "outputs": [
    {
     "name": "stdout",
     "output_type": "stream",
     "text": [
      "09113034064\n"
     ]
    }
   ],
   "source": [
    "b = '09113034064'\n",
    "\n",
    "\n",
    "print(b.rjust(11 , '0'))"
   ]
  },
  {
   "cell_type": "code",
   "execution_count": 103,
   "id": "8fb78610",
   "metadata": {},
   "outputs": [
    {
     "name": "stdout",
     "output_type": "stream",
     "text": [
      "9113034065\n"
     ]
    }
   ],
   "source": [
    "b = '09113034065'\n",
    "\n",
    "\n",
    "print(b.strip('0'))"
   ]
  },
  {
   "cell_type": "code",
   "execution_count": 105,
   "id": "15f120af",
   "metadata": {},
   "outputs": [
    {
     "name": "stdout",
     "output_type": "stream",
     "text": [
      "##########python****\n"
     ]
    }
   ],
   "source": [
    "a = 'python'\n",
    "\n",
    "\n",
    "print(a.ljust(10 , '*').rjust(20 , '#'))"
   ]
  },
  {
   "cell_type": "markdown",
   "id": "9f7807ce",
   "metadata": {},
   "source": [
    "# Replace"
   ]
  },
  {
   "cell_type": "code",
   "execution_count": 108,
   "id": "da590992",
   "metadata": {},
   "outputs": [
    {
     "name": "stdout",
     "output_type": "stream",
     "text": [
      "thip ip pythonp clapp\n"
     ]
    }
   ],
   "source": [
    "a = 'this is pythons class'\n",
    "\n",
    "\n",
    "print(a.replace('s' , 'p'))"
   ]
  },
  {
   "cell_type": "code",
   "execution_count": 110,
   "id": "3e4354e9",
   "metadata": {},
   "outputs": [
    {
     "name": "stdout",
     "output_type": "stream",
     "text": [
      "this is javas class\n"
     ]
    }
   ],
   "source": [
    "a = 'this is pythons class'\n",
    "\n",
    "\n",
    "print(a.replace('python' , 'java'))"
   ]
  },
  {
   "cell_type": "code",
   "execution_count": 114,
   "id": "46d6c2f1",
   "metadata": {},
   "outputs": [
    {
     "name": "stdout",
     "output_type": "stream",
     "text": [
      "this is java class java\n"
     ]
    }
   ],
   "source": [
    "a = 'this is pythons class pythons'\n",
    "\n",
    "\n",
    "print(a.replace('pythons' , 'java'))"
   ]
  },
  {
   "cell_type": "code",
   "execution_count": 116,
   "id": "a38fca93",
   "metadata": {},
   "outputs": [
    {
     "name": "stdout",
     "output_type": "stream",
     "text": [
      "this is java class java , pythons\n"
     ]
    }
   ],
   "source": [
    "a = 'this is pythons class pythons , pythons'\n",
    "\n",
    "\n",
    "print(a.replace('pythons' , 'java' ,2))"
   ]
  },
  {
   "cell_type": "code",
   "execution_count": 127,
   "id": "b543ed1b",
   "metadata": {},
   "outputs": [
    {
     "name": "stdout",
     "output_type": "stream",
     "text": [
      "this is java class java , pythons\n"
     ]
    }
   ],
   "source": [
    "a = 'this is pythons class pythons , pythons'\n",
    "\n",
    "\n",
    "print(a.replace('pythons' , 'java' ,2))"
   ]
  },
  {
   "cell_type": "markdown",
   "id": "051145e5",
   "metadata": {},
   "source": [
    "# Split"
   ]
  },
  {
   "cell_type": "markdown",
   "id": "7765488d",
   "metadata": {},
   "source": [
    "- It converst the string into a list and split according to space"
   ]
  },
  {
   "cell_type": "code",
   "execution_count": 131,
   "id": "08f84ee4",
   "metadata": {},
   "outputs": [
    {
     "data": {
      "text/plain": [
       "['this', 'is', 'pythons', 'class']"
      ]
     },
     "execution_count": 131,
     "metadata": {},
     "output_type": "execute_result"
    }
   ],
   "source": [
    "a = 'this is pythons class'\n",
    "\n",
    "b = a.split()\n",
    "b"
   ]
  },
  {
   "cell_type": "code",
   "execution_count": 137,
   "id": "a1f8dbe1",
   "metadata": {},
   "outputs": [
    {
     "data": {
      "text/plain": [
       "'this****is****pythons****class'"
      ]
     },
     "execution_count": 137,
     "metadata": {},
     "output_type": "execute_result"
    }
   ],
   "source": [
    "# Join\n",
    "\n",
    "\n",
    "a = '****'.join(b)\n",
    "a"
   ]
  },
  {
   "cell_type": "code",
   "execution_count": 139,
   "id": "d6b79484",
   "metadata": {},
   "outputs": [
    {
     "data": {
      "text/plain": [
       "['this', 'is', 'pythons', 'class']"
      ]
     },
     "execution_count": 139,
     "metadata": {},
     "output_type": "execute_result"
    }
   ],
   "source": [
    "a\n",
    "a.split('****')"
   ]
  },
  {
   "cell_type": "code",
   "execution_count": 145,
   "id": "5d2e92c4",
   "metadata": {},
   "outputs": [],
   "source": [
    "a = '''\n",
    "34324325445 name\n",
    "5435345346565 nsdafs\n",
    "65654654 gdfgdfg\n",
    "654645645 gdfgfd\n",
    "56456456456 fdgdfgdf\n",
    "654654645646 dfgfdgdf\n",
    "4563445345345 fdgfdgdf\n",
    "8678786786786 jhgjgh\n",
    "87686786786786 fdtgdfgdf\n",
    "'''"
   ]
  },
  {
   "cell_type": "code",
   "execution_count": 147,
   "id": "be1fdb7b",
   "metadata": {},
   "outputs": [
    {
     "data": {
      "text/plain": [
       "['name',\n",
       " 'nsdafs',\n",
       " 'gdfgdfg',\n",
       " 'gdfgfd',\n",
       " 'fdgdfgdf',\n",
       " 'dfgfdgdf',\n",
       " 'fdgfdgdf',\n",
       " 'jhgjgh',\n",
       " 'fdtgdfgdf']"
      ]
     },
     "execution_count": 147,
     "metadata": {},
     "output_type": "execute_result"
    }
   ],
   "source": [
    "lst = a.split()\n",
    "lst[1::2]"
   ]
  },
  {
   "cell_type": "code",
   "execution_count": 149,
   "id": "6c64f26e",
   "metadata": {},
   "outputs": [
    {
     "data": {
      "text/plain": [
       "['34324325445',\n",
       " '5435345346565',\n",
       " '65654654',\n",
       " '654645645',\n",
       " '56456456456',\n",
       " '654654645646',\n",
       " '4563445345345',\n",
       " '8678786786786',\n",
       " '87686786786786']"
      ]
     },
     "execution_count": 149,
     "metadata": {},
     "output_type": "execute_result"
    }
   ],
   "source": [
    "lst = a.split()\n",
    "lst[::2]"
   ]
  },
  {
   "cell_type": "markdown",
   "id": "382a8643",
   "metadata": {},
   "source": [
    "# List"
   ]
  },
  {
   "cell_type": "markdown",
   "id": "b31aa99c",
   "metadata": {},
   "source": [
    "# Creation of list"
   ]
  },
  {
   "cell_type": "code",
   "execution_count": 150,
   "id": "c700df3f",
   "metadata": {},
   "outputs": [
    {
     "name": "stdout",
     "output_type": "stream",
     "text": [
      "['a', 'b', 'c', 'd']\n"
     ]
    }
   ],
   "source": [
    "# 1. You already know the elements\n",
    "\n",
    "\n",
    "\n",
    "lst = ['a' , 'b' , 'c' , 'd']\n",
    "print(lst)"
   ]
  },
  {
   "cell_type": "code",
   "execution_count": 156,
   "id": "f5d9a178",
   "metadata": {},
   "outputs": [
    {
     "name": "stdout",
     "output_type": "stream",
     "text": [
      "Enter the list : [1,2,34,5,6]\n",
      "[1, 2, 34, 5, 6] <class 'list'>\n"
     ]
    }
   ],
   "source": [
    "# 2. Taking user input \n",
    "\n",
    "lst = eval(input('Enter the list : '))\n",
    "\n",
    "print(lst , type(lst))"
   ]
  },
  {
   "cell_type": "code",
   "execution_count": 158,
   "id": "44b395b8",
   "metadata": {},
   "outputs": [
    {
     "name": "stdout",
     "output_type": "stream",
     "text": [
      "['a', 'b', 'c', ' ', 'x', 'y', 'z']\n",
      "[1, 2, 3, 4]\n"
     ]
    }
   ],
   "source": [
    "# 3. Type casting\n",
    "\n",
    "\n",
    "a = 'abc xyz'\n",
    "b = (1,2,3,4)\n",
    "\n",
    "\n",
    "print(list(a))\n",
    "print(list(b))"
   ]
  },
  {
   "cell_type": "code",
   "execution_count": 159,
   "id": "31436c0d",
   "metadata": {},
   "outputs": [
    {
     "data": {
      "text/plain": [
       "['abc', 'xyz']"
      ]
     },
     "execution_count": 159,
     "metadata": {},
     "output_type": "execute_result"
    }
   ],
   "source": [
    "a = 'abc xyz'\n",
    "\n",
    "\n",
    "a.split()"
   ]
  },
  {
   "cell_type": "markdown",
   "id": "6a1ccd7a",
   "metadata": {},
   "source": [
    "# Properties of list\n",
    "\n",
    "\n",
    "\n",
    "- Seq data type \n",
    "- indexing (accessing one elelemnt at a time\n",
    "- slicing (multiple elements at a time)\n",
    "- support +ve and -ve indexing\n",
    "- Mutable \n",
    "- allows duplication\n",
    "- It is hetrogenous ---> can store mutiple data types\n",
    "- concatination\n",
    "- membership\n",
    "- repetation\n",
    "- identity"
   ]
  },
  {
   "cell_type": "code",
   "execution_count": 161,
   "id": "24941519",
   "metadata": {},
   "outputs": [
    {
     "name": "stdout",
     "output_type": "stream",
     "text": [
      "7\n",
      "5\n"
     ]
    }
   ],
   "source": [
    "# indexing\n",
    "\n",
    "\n",
    "a = [1,2,3,4,5,65,7,8,9]\n",
    "\n",
    "\n",
    "print(a[-3])\n",
    "print(a[4])"
   ]
  },
  {
   "cell_type": "code",
   "execution_count": 164,
   "id": "9232ff65",
   "metadata": {},
   "outputs": [
    {
     "name": "stdout",
     "output_type": "stream",
     "text": [
      "[3, 4, 5, 65, 7, 8]\n",
      "[1, 2, 3]\n"
     ]
    }
   ],
   "source": [
    "# SLICING\n",
    "\n",
    "\n",
    "a = [1,2,3,4,5,65,7,8,9]\n",
    "\n",
    "print(a[2:8])\n",
    "print(a[0:3])"
   ]
  },
  {
   "cell_type": "code",
   "execution_count": 169,
   "id": "8eb68b7c",
   "metadata": {},
   "outputs": [
    {
     "name": "stdout",
     "output_type": "stream",
     "text": [
      "['a', 'b', 'c', 'd', 'e', 'f', 'g', 'h', 'i']\n"
     ]
    }
   ],
   "source": [
    "a = 'abcdefghi'\n",
    "\n",
    "\n",
    "b = list(a)\n",
    "print(b)"
   ]
  },
  {
   "cell_type": "code",
   "execution_count": 171,
   "id": "ee3f2e4e",
   "metadata": {},
   "outputs": [
    {
     "data": {
      "text/plain": [
       "['c', 'd', 'e', 'f']"
      ]
     },
     "execution_count": 171,
     "metadata": {},
     "output_type": "execute_result"
    }
   ],
   "source": [
    "# +ve\n",
    "\n",
    "b[2:6]\n",
    "\n"
   ]
  },
  {
   "cell_type": "code",
   "execution_count": 170,
   "id": "78a274e9",
   "metadata": {},
   "outputs": [
    {
     "data": {
      "text/plain": [
       "['d', 'e', 'f']"
      ]
     },
     "execution_count": 170,
     "metadata": {},
     "output_type": "execute_result"
    }
   ],
   "source": [
    "# -ve \n",
    "\n",
    "b[-6:-3]"
   ]
  },
  {
   "cell_type": "code",
   "execution_count": 175,
   "id": "237be6e6",
   "metadata": {},
   "outputs": [
    {
     "data": {
      "text/plain": [
       "['f', 'e', 'd', 'c']"
      ]
     },
     "execution_count": 175,
     "metadata": {},
     "output_type": "execute_result"
    }
   ],
   "source": [
    "# +ve\n",
    "\n",
    "b[5 : 1 :-1]\n",
    "\n"
   ]
  },
  {
   "cell_type": "code",
   "execution_count": 173,
   "id": "6d8a307f",
   "metadata": {},
   "outputs": [
    {
     "data": {
      "text/plain": [
       "['a', 'b', 'c', 'd', 'e', 'f', 'g', 'h', 'i']"
      ]
     },
     "execution_count": 173,
     "metadata": {},
     "output_type": "execute_result"
    }
   ],
   "source": [
    "b"
   ]
  },
  {
   "cell_type": "code",
   "execution_count": 177,
   "id": "ffbcd279",
   "metadata": {},
   "outputs": [
    {
     "data": {
      "text/plain": [
       "['f', 'e', 'd']"
      ]
     },
     "execution_count": 177,
     "metadata": {},
     "output_type": "execute_result"
    }
   ],
   "source": [
    "# -ve \n",
    "\n",
    "b[-4:-7:-1]"
   ]
  },
  {
   "cell_type": "markdown",
   "id": "cab4edda",
   "metadata": {},
   "source": [
    "# Mutable"
   ]
  },
  {
   "cell_type": "code",
   "execution_count": null,
   "id": "f467b292",
   "metadata": {},
   "outputs": [],
   "source": []
  }
 ],
 "metadata": {
  "kernelspec": {
   "display_name": "Python 3 (ipykernel)",
   "language": "python",
   "name": "python3"
  },
  "language_info": {
   "codemirror_mode": {
    "name": "ipython",
    "version": 3
   },
   "file_extension": ".py",
   "mimetype": "text/x-python",
   "name": "python",
   "nbconvert_exporter": "python",
   "pygments_lexer": "ipython3",
   "version": "3.9.12"
  }
 },
 "nbformat": 4,
 "nbformat_minor": 5
}
