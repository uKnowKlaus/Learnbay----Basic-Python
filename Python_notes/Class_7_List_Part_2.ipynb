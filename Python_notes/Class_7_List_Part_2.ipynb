{
 "cells": [
  {
   "cell_type": "markdown",
   "id": "328b8887",
   "metadata": {},
   "source": [
    "# To replace nth chr or word"
   ]
  },
  {
   "cell_type": "code",
   "execution_count": 15,
   "id": "dec648b2",
   "metadata": {},
   "outputs": [
    {
     "data": {
      "text/plain": [
       "'this is python , python is a programing language , java is easy'"
      ]
     },
     "execution_count": 15,
     "metadata": {},
     "output_type": "execute_result"
    }
   ],
   "source": [
    "a = 'this is python , python is a programing language , python is easy'\n",
    "elist = []\n",
    "occurence = 0\n",
    "\n",
    "for i,j in enumerate(a.split()):\n",
    "    if j == 'python':\n",
    "        occurence +=1 \n",
    "        if occurence == 3:\n",
    "            j = 'java'\n",
    "    elist.append(j)\n",
    "    \n",
    "' '.join(elist)"
   ]
  },
  {
   "cell_type": "code",
   "execution_count": 16,
   "id": "a69f383d",
   "metadata": {},
   "outputs": [],
   "source": [
    "def supper_replace(string, old, new, n=1, option='nth'):\n",
    "    \"\"\"\n",
    "    This function replaces occurrences of string 'old' with string 'new'.\n",
    "    There are three types of replacement of string 'old':\n",
    "    1) 'nth' replaces only nth occurrence (default).\n",
    "    2) 'left' replaces nth occurrence and all occurrences to the left.\n",
    "    3) 'right' replaces nth occurrence and all occurrences to the right.\n",
    "    \"\"\"\n",
    "    if option == 'nth':\n",
    "        left_join = old\n",
    "        right_join = old\n",
    "    elif option == 'left':\n",
    "        left_join = new\n",
    "        right_join = old\n",
    "    elif option == 'right':\n",
    "        left_join = old\n",
    "        right_join = new\n",
    "    else:\n",
    "        print(\"Invalid option. Please choose from: 'nth' (default), 'left' or 'right'\")\n",
    "        return None\n",
    "    groups = string.split(old)\n",
    "    nth_split = [left_join.join(groups[:n]), right_join.join(groups[n:])]\n",
    "    return new.join(nth_split)"
   ]
  },
  {
   "cell_type": "code",
   "execution_count": 20,
   "id": "cf9e557e",
   "metadata": {},
   "outputs": [
    {
     "data": {
      "text/plain": [
       "'this is python , java is a programing language , java is easy'"
      ]
     },
     "execution_count": 20,
     "metadata": {},
     "output_type": "execute_result"
    }
   ],
   "source": [
    "a = 'this is python , python is a programing language , python is easy'\n",
    "\n",
    "\n",
    "supper_replace(a , 'python' , 'java' , 2 , 'right')"
   ]
  },
  {
   "cell_type": "code",
   "execution_count": 25,
   "id": "ab57db18",
   "metadata": {},
   "outputs": [
    {
     "name": "stdout",
     "output_type": "stream",
     "text": [
      "this is python , java is a programing language , python is easy\n"
     ]
    }
   ],
   "source": [
    "import re\n",
    "def replace_ith_instance(string, pattern, new_str, i = None, pattern_flags = 0):\n",
    "    # If i is None - replacing last occurrence\n",
    "    match_obj = re.finditer(r'{0}'.format(pattern), string, flags = pattern_flags)\n",
    "    matches = [item for item in match_obj]\n",
    "    if i == None:\n",
    "        i = len(matches)\n",
    "    if len(matches) == 0 or len(matches) < i:\n",
    "        return string\n",
    "    match = matches[i - 1]\n",
    "    match_start_index = match.start()\n",
    "    match_len = len(match.group())\n",
    "\n",
    "    return '{0}{1}{2}'.format(string[0:match_start_index], new_str, string[match_start_index + match_len:])\n",
    "str_1 = 'this is pythons class pythons , pythons'\n",
    "\n",
    "ns = replace_ith_instance(a, 'python', 'java', 2)\n",
    "print(ns)\n"
   ]
  },
  {
   "cell_type": "markdown",
   "id": "f6ba61b8",
   "metadata": {},
   "source": [
    "# Properties of list\n",
    "\n",
    "\n",
    "\n",
    "- Seq data type \n",
    "- indexing (accessing one elelemnt at a time\n",
    "- slicing (multiple elements at a time)\n",
    "- support +ve and -ve indexing\n",
    "- Mutable \n",
    "- allows duplication\n",
    "- It is hetrogenous ---> can store mutiple data types\n",
    "- concatination\n",
    "- membership\n",
    "- repetation\n",
    "- identity"
   ]
  },
  {
   "cell_type": "markdown",
   "id": "eb6bcd2e",
   "metadata": {},
   "source": [
    "# Mutable "
   ]
  },
  {
   "cell_type": "code",
   "execution_count": 26,
   "id": "c922a50c",
   "metadata": {},
   "outputs": [
    {
     "data": {
      "text/plain": [
       "['a', 'g', 'c', 'd', 'e']"
      ]
     },
     "execution_count": 26,
     "metadata": {},
     "output_type": "execute_result"
    }
   ],
   "source": [
    "lst = ['a' , 'b' , 'c' , 'd' , 'e']\n",
    "\n",
    "\n",
    "lst[1] = 'g'\n",
    "lst"
   ]
  },
  {
   "cell_type": "code",
   "execution_count": 27,
   "id": "bd9bf46c",
   "metadata": {},
   "outputs": [
    {
     "data": {
      "text/plain": [
       "['a', 12, 12.4, None, (10+3j), [1, 2, 3]]"
      ]
     },
     "execution_count": 27,
     "metadata": {},
     "output_type": "execute_result"
    }
   ],
   "source": [
    "lst = ['a' , 12 , 12.4 , None , 10+3j , [1,2,3]]\n",
    "lst"
   ]
  },
  {
   "cell_type": "code",
   "execution_count": 28,
   "id": "55a4011a",
   "metadata": {},
   "outputs": [
    {
     "name": "stdout",
     "output_type": "stream",
     "text": [
      "[1, 2, 3, 4, 5, 6]\n"
     ]
    }
   ],
   "source": [
    "# Concatination\n",
    "# op -- +\n",
    "# operands ---> both the operands should be a list\n",
    "\n",
    "\n",
    "a = [1,2,3]\n",
    "b = [4,5,6]\n",
    "\n",
    "print(a+b)"
   ]
  },
  {
   "cell_type": "code",
   "execution_count": 37,
   "id": "9754b0ec",
   "metadata": {},
   "outputs": [
    {
     "name": "stdout",
     "output_type": "stream",
     "text": [
      "[1, 2, 3, 1, 2, 3, 1, 2, 3]\n"
     ]
    }
   ],
   "source": [
    "# repetation\n",
    "# op -- *\n",
    "# operands ---> one should be a list and another should be a int\n",
    "\n",
    "\n",
    "a = [1,2,3]\n",
    "b = 3\n",
    "\n",
    "print(a*b)"
   ]
  },
  {
   "cell_type": "code",
   "execution_count": 38,
   "id": "37af8164",
   "metadata": {},
   "outputs": [
    {
     "name": "stdout",
     "output_type": "stream",
     "text": [
      "True\n"
     ]
    }
   ],
   "source": [
    "# membership\n",
    "# op -- in and not in\n",
    "# if that element is present in the list\n",
    "\n",
    "\n",
    "a = [1,2,3,4,5,67]\n",
    "\n",
    "\n",
    "print(3 in a)"
   ]
  },
  {
   "cell_type": "code",
   "execution_count": 39,
   "id": "faefe28f",
   "metadata": {},
   "outputs": [
    {
     "name": "stdout",
     "output_type": "stream",
     "text": [
      "False\n"
     ]
    }
   ],
   "source": [
    "\n",
    "a = [1,2,3,4,5,67]\n",
    "\n",
    "\n",
    "print(3 not in a)"
   ]
  },
  {
   "cell_type": "code",
   "execution_count": 42,
   "id": "78f4f03f",
   "metadata": {},
   "outputs": [
    {
     "name": "stdout",
     "output_type": "stream",
     "text": [
      "False\n"
     ]
    }
   ],
   "source": [
    "\n",
    "a = ['Jyoti' , 'Kavita' , 'Kiran' , 'Mamtha']\n",
    "\n",
    "\n",
    "print('kavita' in a)"
   ]
  },
  {
   "cell_type": "code",
   "execution_count": 44,
   "id": "d1528e43",
   "metadata": {},
   "outputs": [
    {
     "name": "stdout",
     "output_type": "stream",
     "text": [
      "1611806966976\n",
      "1611806930560\n",
      "False\n"
     ]
    }
   ],
   "source": [
    "# Identity\n",
    "# op ----> is and is not\n",
    "\n",
    "\n",
    "a = [1,2,3]\n",
    "b = [1,2,3]\n",
    "\n",
    "print(id(a))\n",
    "print(id(b))\n",
    "print(a is b)"
   ]
  },
  {
   "cell_type": "code",
   "execution_count": 47,
   "id": "40a5704a",
   "metadata": {},
   "outputs": [
    {
     "name": "stdout",
     "output_type": "stream",
     "text": [
      "1611682048304\n",
      "1611682048304\n",
      "True\n"
     ]
    }
   ],
   "source": [
    "# Identity\n",
    "# op ----> is and is not\n",
    "\n",
    "\n",
    "a = [1,2,3]\n",
    "b = [1,2,3]\n",
    "\n",
    "print(id(a[0]))\n",
    "print(id(b[0]))\n",
    "print(a[0] is b[0])"
   ]
  },
  {
   "cell_type": "markdown",
   "id": "a6aea799",
   "metadata": {},
   "source": [
    "# Nested list\n",
    "\n",
    "\n",
    "- list inside a list"
   ]
  },
  {
   "cell_type": "code",
   "execution_count": null,
   "id": "1b4e66c3",
   "metadata": {},
   "outputs": [],
   "source": [
    "a = [1,2,3,4,6,7] # list\n",
    "\n",
    "b = [1,2,3, [5,6,7]] # nested list"
   ]
  },
  {
   "cell_type": "code",
   "execution_count": 48,
   "id": "bfaf2421",
   "metadata": {},
   "outputs": [
    {
     "name": "stdout",
     "output_type": "stream",
     "text": [
      "6\n",
      "4\n"
     ]
    }
   ],
   "source": [
    "a = [1,2,3,4,6,7] # list\n",
    "\n",
    "b = [1,2,3, [5,6,7]] # nested list\n",
    "\n",
    "\n",
    "print(len(a))\n",
    "print(len(b))"
   ]
  },
  {
   "cell_type": "code",
   "execution_count": 49,
   "id": "fe8aa79a",
   "metadata": {},
   "outputs": [
    {
     "data": {
      "text/plain": [
       "3"
      ]
     },
     "execution_count": 49,
     "metadata": {},
     "output_type": "execute_result"
    }
   ],
   "source": [
    "a = [1,2,3,34]\n",
    "\n",
    "a[2]"
   ]
  },
  {
   "cell_type": "code",
   "execution_count": 51,
   "id": "040ccb38",
   "metadata": {},
   "outputs": [
    {
     "data": {
      "text/plain": [
       "6"
      ]
     },
     "execution_count": 51,
     "metadata": {},
     "output_type": "execute_result"
    }
   ],
   "source": [
    "a = [1,2,3 , [4,5,6,7]]\n",
    "\n",
    "a[3][2]"
   ]
  },
  {
   "cell_type": "code",
   "execution_count": 55,
   "id": "1b11f566",
   "metadata": {},
   "outputs": [
    {
     "data": {
      "text/plain": [
       "2"
      ]
     },
     "execution_count": 55,
     "metadata": {},
     "output_type": "execute_result"
    }
   ],
   "source": [
    "a = [[1,2,3] , 'python' , 'learnbay' , 'a' , 'b']\n",
    "\n",
    "a[0][-2]"
   ]
  },
  {
   "cell_type": "code",
   "execution_count": 66,
   "id": "39ec1277",
   "metadata": {},
   "outputs": [
    {
     "data": {
      "text/plain": [
       "'nohtyp'"
      ]
     },
     "execution_count": 66,
     "metadata": {},
     "output_type": "execute_result"
    }
   ],
   "source": [
    "nest = [[1,2,3] , [5,6,7] , [8,9,[10 , 'a' , ['python' , 'b']]]]\n",
    "\n",
    "# 'python'\n",
    "\n",
    "\n",
    "nest[-1][-1][2][0][::-1]"
   ]
  },
  {
   "cell_type": "code",
   "execution_count": 65,
   "id": "fdc9543e",
   "metadata": {},
   "outputs": [
    {
     "data": {
      "text/plain": [
       "'python'"
      ]
     },
     "execution_count": 65,
     "metadata": {},
     "output_type": "execute_result"
    }
   ],
   "source": [
    "nest[2][2][-1][-2]"
   ]
  },
  {
   "cell_type": "code",
   "execution_count": 69,
   "id": "b65238dc",
   "metadata": {},
   "outputs": [],
   "source": [
    "a =   [[ 0,  1,  2,  3,  4,  5],\n",
    "       [ 6,  7,  8,  9, 10, 11],\n",
    "       [12, 13, 14, 15, 16, 17],\n",
    "       [18, 19, 20, 21, 22, 23],\n",
    "       [24, 25, 26, 27, 28, 29],\n",
    "       [30, 31, 32, 33, 34, 35]]"
   ]
  },
  {
   "cell_type": "code",
   "execution_count": null,
   "id": "c0116c5d",
   "metadata": {},
   "outputs": [],
   "source": [
    "27, 28, 29"
   ]
  },
  {
   "cell_type": "code",
   "execution_count": 71,
   "id": "dca39148",
   "metadata": {},
   "outputs": [
    {
     "name": "stdout",
     "output_type": "stream",
     "text": [
      "[27, 28, 29]\n"
     ]
    }
   ],
   "source": [
    "print(a[-2][3:])"
   ]
  },
  {
   "cell_type": "markdown",
   "id": "7112d6d1",
   "metadata": {},
   "source": [
    "# Methods in list"
   ]
  },
  {
   "cell_type": "code",
   "execution_count": 72,
   "id": "d44e5bde",
   "metadata": {},
   "outputs": [
    {
     "name": "stdout",
     "output_type": "stream",
     "text": [
      "['__add__', '__class__', '__class_getitem__', '__contains__', '__delattr__', '__delitem__', '__dir__', '__doc__', '__eq__', '__format__', '__ge__', '__getattribute__', '__getitem__', '__gt__', '__hash__', '__iadd__', '__imul__', '__init__', '__init_subclass__', '__iter__', '__le__', '__len__', '__lt__', '__mul__', '__ne__', '__new__', '__reduce__', '__reduce_ex__', '__repr__', '__reversed__', '__rmul__', '__setattr__', '__setitem__', '__sizeof__', '__str__', '__subclasshook__', 'append', 'clear', 'copy', 'count', 'extend', 'index', 'insert', 'pop', 'remove', 'reverse', 'sort']\n"
     ]
    }
   ],
   "source": [
    "print(dir(list))"
   ]
  },
  {
   "cell_type": "markdown",
   "id": "506f1e16",
   "metadata": {},
   "source": [
    "# Methods to insert elements in a list\n",
    "\n",
    "- append\n",
    "- extend \n",
    "- insert"
   ]
  },
  {
   "cell_type": "markdown",
   "id": "fbf38651",
   "metadata": {},
   "source": [
    "# append \n",
    "\n",
    "- inserts only 1 element to the list\n",
    "- inserst only at the last or the end of the list"
   ]
  },
  {
   "cell_type": "code",
   "execution_count": 73,
   "id": "1ceb9c00",
   "metadata": {},
   "outputs": [
    {
     "data": {
      "text/plain": [
       "[1, 2, 3, 4, 5]"
      ]
     },
     "execution_count": 73,
     "metadata": {},
     "output_type": "execute_result"
    }
   ],
   "source": [
    "lst = [1,2,3,4]\n",
    "\n",
    "lst.append(5)\n",
    "lst"
   ]
  },
  {
   "cell_type": "code",
   "execution_count": 75,
   "id": "e5ea9772",
   "metadata": {},
   "outputs": [
    {
     "data": {
      "text/plain": [
       "[1, 2, 3, 4, 5, 6, 7, 12]"
      ]
     },
     "execution_count": 75,
     "metadata": {},
     "output_type": "execute_result"
    }
   ],
   "source": [
    "lst = [1,2,3,4 , 5, 6,7]\n",
    "\n",
    "lst.append(12)\n",
    "lst"
   ]
  },
  {
   "cell_type": "code",
   "execution_count": 76,
   "id": "fbe4b963",
   "metadata": {},
   "outputs": [
    {
     "ename": "TypeError",
     "evalue": "list.append() takes exactly one argument (2 given)",
     "output_type": "error",
     "traceback": [
      "\u001b[1;31m---------------------------------------------------------------------------\u001b[0m",
      "\u001b[1;31mTypeError\u001b[0m                                 Traceback (most recent call last)",
      "Input \u001b[1;32mIn [76]\u001b[0m, in \u001b[0;36m<cell line: 3>\u001b[1;34m()\u001b[0m\n\u001b[0;32m      1\u001b[0m lst \u001b[38;5;241m=\u001b[39m [\u001b[38;5;241m1\u001b[39m,\u001b[38;5;241m2\u001b[39m,\u001b[38;5;241m3\u001b[39m,\u001b[38;5;241m4\u001b[39m , \u001b[38;5;241m5\u001b[39m, \u001b[38;5;241m6\u001b[39m,\u001b[38;5;241m7\u001b[39m]\n\u001b[1;32m----> 3\u001b[0m \u001b[43mlst\u001b[49m\u001b[38;5;241;43m.\u001b[39;49m\u001b[43mappend\u001b[49m\u001b[43m(\u001b[49m\u001b[38;5;241;43m12\u001b[39;49m\u001b[43m \u001b[49m\u001b[43m,\u001b[49m\u001b[43m \u001b[49m\u001b[38;5;241;43m13\u001b[39;49m\u001b[43m)\u001b[49m\n\u001b[0;32m      4\u001b[0m lst\n",
      "\u001b[1;31mTypeError\u001b[0m: list.append() takes exactly one argument (2 given)"
     ]
    }
   ],
   "source": [
    "lst = [1,2,3,4 , 5, 6,7]\n",
    "\n",
    "lst.append(12 , 13)\n",
    "lst"
   ]
  },
  {
   "cell_type": "code",
   "execution_count": 77,
   "id": "2bc1261b",
   "metadata": {},
   "outputs": [
    {
     "data": {
      "text/plain": [
       "[1, 2, 3, 4, 5, 6, 7, [12, 13]]"
      ]
     },
     "execution_count": 77,
     "metadata": {},
     "output_type": "execute_result"
    }
   ],
   "source": [
    "lst = [1,2,3,4 , 5, 6,7]\n",
    "\n",
    "lst.append([12 , 13])\n",
    "lst"
   ]
  },
  {
   "cell_type": "code",
   "execution_count": null,
   "id": "3729f26d",
   "metadata": {},
   "outputs": [],
   "source": [
    "# extend \n",
    "\n",
    "- Inserts n no of elements to the list\n",
    "- inserst only at the last or the end of the list"
   ]
  },
  {
   "cell_type": "code",
   "execution_count": 79,
   "id": "f32e6f6a",
   "metadata": {},
   "outputs": [
    {
     "name": "stdout",
     "output_type": "stream",
     "text": [
      "[1, 2, 3, 4, 5, 6, 7, 7, 89, 9, 0, 0]\n",
      "[1, 2, 3, 4]\n",
      "[5, 6, 7, 7, 89, 9, 0, 0]\n"
     ]
    }
   ],
   "source": [
    "a = [1,2,3,4]\n",
    "b = [5,6,7,7,89,9,0,0]\n",
    "\n",
    "print(a+b)\n",
    "print(a)\n",
    "print(b)"
   ]
  },
  {
   "cell_type": "code",
   "execution_count": 82,
   "id": "3be74442",
   "metadata": {},
   "outputs": [
    {
     "name": "stdout",
     "output_type": "stream",
     "text": [
      "[1, 2, 3, 4, 5, 6, 7, 7, 89, 9, 0, 0]\n",
      "[5, 6, 7, 7, 89, 9, 0, 0]\n"
     ]
    }
   ],
   "source": [
    "a = [1,2,3,4]\n",
    "b = [5,6,7,7,89,9,0,0]\n",
    "\n",
    "a.extend(b)\n",
    "print(a)\n",
    "print(b)"
   ]
  },
  {
   "cell_type": "code",
   "execution_count": 85,
   "id": "efd09e1c",
   "metadata": {},
   "outputs": [
    {
     "name": "stdout",
     "output_type": "stream",
     "text": [
      "[1, 2, 3, 5, 6, [10, 7], 20]\n"
     ]
    }
   ],
   "source": [
    "a = [1,2,3,5,6]\n",
    "\n",
    "\n",
    "a.extend([[10,7 ], 20])\n",
    "print(a)"
   ]
  },
  {
   "cell_type": "code",
   "execution_count": 83,
   "id": "ebdf291e",
   "metadata": {},
   "outputs": [
    {
     "data": {
      "text/plain": [
       "[1, 2, 3, 4, 5, 6, 7, [12, 13]]"
      ]
     },
     "execution_count": 83,
     "metadata": {},
     "output_type": "execute_result"
    }
   ],
   "source": [
    "lst = [1,2,3,4 , 5, 6,7]\n",
    "\n",
    "lst.append([12 , 13])\n",
    "lst"
   ]
  },
  {
   "cell_type": "markdown",
   "id": "1bab5d68",
   "metadata": {},
   "source": [
    "# insert\n",
    "\n",
    "- insert elements at any particular index value"
   ]
  },
  {
   "cell_type": "code",
   "execution_count": 86,
   "id": "b4472704",
   "metadata": {},
   "outputs": [
    {
     "data": {
      "text/plain": [
       "['a', 'b', 'c', 'd', 'e', 'f']"
      ]
     },
     "execution_count": 86,
     "metadata": {},
     "output_type": "execute_result"
    }
   ],
   "source": [
    "a =['a' , 'b' , 'c' , 'd' , 'e']\n",
    "\n",
    "\n",
    "a.append('f')\n",
    "\n",
    "a"
   ]
  },
  {
   "cell_type": "code",
   "execution_count": 87,
   "id": "80606a68",
   "metadata": {},
   "outputs": [
    {
     "data": {
      "text/plain": [
       "['a', 'b', 'c', 'f', 'd', 'e']"
      ]
     },
     "execution_count": 87,
     "metadata": {},
     "output_type": "execute_result"
    }
   ],
   "source": [
    "a =['a' , 'b' , 'c' , 'd' , 'e']\n",
    "\n",
    "\n",
    "a.insert(3,'f')\n",
    "\n",
    "a"
   ]
  },
  {
   "cell_type": "code",
   "execution_count": null,
   "id": "764b2034",
   "metadata": {},
   "outputs": [],
   "source": [
    "# index"
   ]
  },
  {
   "cell_type": "code",
   "execution_count": 91,
   "id": "4e34b02c",
   "metadata": {},
   "outputs": [
    {
     "data": {
      "text/plain": [
       "['a', 'b', 'c', 'f', 'd', 'e']"
      ]
     },
     "execution_count": 91,
     "metadata": {},
     "output_type": "execute_result"
    }
   ],
   "source": [
    "a =['a' , 'b' , 'c' , 'd' , 'e']\n",
    "\n",
    "\n",
    "a.index('c')\n",
    "\n",
    "\n",
    "a.insert( a.index('c') + 1,'f')\n",
    "a"
   ]
  },
  {
   "cell_type": "code",
   "execution_count": 88,
   "id": "c0b04ff2",
   "metadata": {},
   "outputs": [
    {
     "name": "stdout",
     "output_type": "stream",
     "text": [
      "['__add__', '__class__', '__class_getitem__', '__contains__', '__delattr__', '__delitem__', '__dir__', '__doc__', '__eq__', '__format__', '__ge__', '__getattribute__', '__getitem__', '__gt__', '__hash__', '__iadd__', '__imul__', '__init__', '__init_subclass__', '__iter__', '__le__', '__len__', '__lt__', '__mul__', '__ne__', '__new__', '__reduce__', '__reduce_ex__', '__repr__', '__reversed__', '__rmul__', '__setattr__', '__setitem__', '__sizeof__', '__str__', '__subclasshook__', 'append', 'clear', 'copy', 'count', 'extend', 'index', 'insert', 'pop', 'remove', 'reverse', 'sort']\n"
     ]
    }
   ],
   "source": [
    "print(dir(list))"
   ]
  },
  {
   "cell_type": "code",
   "execution_count": 93,
   "id": "8e5f690d",
   "metadata": {},
   "outputs": [
    {
     "data": {
      "text/plain": [
       "5"
      ]
     },
     "execution_count": 93,
     "metadata": {},
     "output_type": "execute_result"
    }
   ],
   "source": [
    "a =['a' , 'b' , 'c' , 'd' , 'e' , 'c' ]\n",
    "\n",
    "\n",
    "a.index('c' , 3)"
   ]
  },
  {
   "cell_type": "markdown",
   "id": "77c4eca7",
   "metadata": {},
   "source": [
    "# Methods to remove the elements from the list\n",
    "\n",
    "- pop\n",
    "- remove"
   ]
  },
  {
   "cell_type": "code",
   "execution_count": null,
   "id": "93f71fd6",
   "metadata": {},
   "outputs": [],
   "source": [
    "# pop\n",
    "- will pop the elements from the specified index value \n",
    "- if index value not given then by default it'll pop the last element\n",
    "\n",
    "\n",
    "# you can save the poped elements"
   ]
  },
  {
   "cell_type": "code",
   "execution_count": 98,
   "id": "015f5c0e",
   "metadata": {},
   "outputs": [
    {
     "data": {
      "text/plain": [
       "'c'"
      ]
     },
     "execution_count": 98,
     "metadata": {},
     "output_type": "execute_result"
    }
   ],
   "source": [
    "a =['a' , 'b' , 'c' , 'd' , 'e' , 'c' ]\n",
    "\n",
    "a.pop()"
   ]
  },
  {
   "cell_type": "code",
   "execution_count": 99,
   "id": "2f6ef990",
   "metadata": {},
   "outputs": [
    {
     "data": {
      "text/plain": [
       "'d'"
      ]
     },
     "execution_count": 99,
     "metadata": {},
     "output_type": "execute_result"
    }
   ],
   "source": [
    "a =['a' , 'b' , 'c' , 'd' , 'e' , 'c' ]\n",
    "\n",
    "a.pop(-3)"
   ]
  },
  {
   "cell_type": "code",
   "execution_count": 100,
   "id": "336a5585",
   "metadata": {},
   "outputs": [
    {
     "data": {
      "text/plain": [
       "'d'"
      ]
     },
     "execution_count": 100,
     "metadata": {},
     "output_type": "execute_result"
    }
   ],
   "source": [
    "a =['a' , 'b' , 'c' , 'd' , 'e' , 'c' ]\n",
    "\n",
    "a.pop(3)"
   ]
  },
  {
   "cell_type": "code",
   "execution_count": null,
   "id": "37f64c25",
   "metadata": {},
   "outputs": [],
   "source": [
    "# \n",
    "- removes the specified element from the list\n",
    "- It'll remove only the first occurance\n",
    "- You cannot save the removed elemnts"
   ]
  },
  {
   "cell_type": "code",
   "execution_count": 101,
   "id": "675d21d8",
   "metadata": {},
   "outputs": [],
   "source": [
    "a =['a' , 'b' , 'c' , 'd' , 'e' , 'c' ]\n",
    "\n",
    "a.remove('c')"
   ]
  },
  {
   "cell_type": "code",
   "execution_count": 102,
   "id": "bb81e4dd",
   "metadata": {},
   "outputs": [
    {
     "data": {
      "text/plain": [
       "['a', 'b', 'd', 'e', 'c']"
      ]
     },
     "execution_count": 102,
     "metadata": {},
     "output_type": "execute_result"
    }
   ],
   "source": [
    "a"
   ]
  },
  {
   "cell_type": "markdown",
   "id": "602cc4db",
   "metadata": {},
   "source": [
    "# reverse "
   ]
  },
  {
   "cell_type": "code",
   "execution_count": 104,
   "id": "871e8d24",
   "metadata": {},
   "outputs": [
    {
     "data": {
      "text/plain": [
       "[354, 456, 8789, 56, 43, 23, 543, 112]"
      ]
     },
     "execution_count": 104,
     "metadata": {},
     "output_type": "execute_result"
    }
   ],
   "source": [
    "a =[112,543,23,43,56,8789,456,354]\n",
    "\n",
    "a.reverse()\n",
    "a"
   ]
  },
  {
   "cell_type": "markdown",
   "id": "86b5880a",
   "metadata": {},
   "source": [
    "# sort"
   ]
  },
  {
   "cell_type": "code",
   "execution_count": 105,
   "id": "05d72a10",
   "metadata": {},
   "outputs": [
    {
     "data": {
      "text/plain": [
       "[23, 43, 56, 112, 354, 456, 543, 8789]"
      ]
     },
     "execution_count": 105,
     "metadata": {},
     "output_type": "execute_result"
    }
   ],
   "source": [
    "a =[112,543,23,43,56,8789,456,354]\n",
    "\n",
    "a.sort() # reverse=False\n",
    "a"
   ]
  },
  {
   "cell_type": "code",
   "execution_count": 106,
   "id": "788e1135",
   "metadata": {},
   "outputs": [
    {
     "data": {
      "text/plain": [
       "[8789, 543, 456, 354, 112, 56, 43, 23]"
      ]
     },
     "execution_count": 106,
     "metadata": {},
     "output_type": "execute_result"
    }
   ],
   "source": [
    "a =[112,543,23,43,56,8789,456,354]\n",
    "\n",
    "a.sort(reverse= True) # reverse=False\n",
    "a"
   ]
  },
  {
   "cell_type": "code",
   "execution_count": 109,
   "id": "32e24193",
   "metadata": {},
   "outputs": [
    {
     "data": {
      "text/plain": [
       "[8789, 456, 354, 112, 56, 54.3, 4.3, 2.3]"
      ]
     },
     "execution_count": 109,
     "metadata": {},
     "output_type": "execute_result"
    }
   ],
   "source": [
    "a =[112,54.3,2.3,4.3,56,8789,456,354]\n",
    "\n",
    "a.sort(reverse= True) # reverse=False\n",
    "a"
   ]
  },
  {
   "cell_type": "code",
   "execution_count": 111,
   "id": "35336016",
   "metadata": {},
   "outputs": [
    {
     "ename": "TypeError",
     "evalue": "'<' not supported between instances of 'int' and 'str'",
     "output_type": "error",
     "traceback": [
      "\u001b[1;31m---------------------------------------------------------------------------\u001b[0m",
      "\u001b[1;31mTypeError\u001b[0m                                 Traceback (most recent call last)",
      "Input \u001b[1;32mIn [111]\u001b[0m, in \u001b[0;36m<cell line: 3>\u001b[1;34m()\u001b[0m\n\u001b[0;32m      1\u001b[0m a \u001b[38;5;241m=\u001b[39m[\u001b[38;5;241m112\u001b[39m,\u001b[38;5;241m54.3\u001b[39m,\u001b[38;5;241m2.3\u001b[39m,\u001b[38;5;241m4.3\u001b[39m,\u001b[38;5;241m56\u001b[39m,\u001b[38;5;124m'\u001b[39m\u001b[38;5;124m8789\u001b[39m\u001b[38;5;124m'\u001b[39m,\u001b[38;5;124m'\u001b[39m\u001b[38;5;124m456\u001b[39m\u001b[38;5;124m'\u001b[39m,\u001b[38;5;124m'\u001b[39m\u001b[38;5;124m354\u001b[39m\u001b[38;5;124m'\u001b[39m]\n\u001b[1;32m----> 3\u001b[0m \u001b[43ma\u001b[49m\u001b[38;5;241;43m.\u001b[39;49m\u001b[43msort\u001b[49m\u001b[43m(\u001b[49m\u001b[43mreverse\u001b[49m\u001b[38;5;241;43m=\u001b[39;49m\u001b[43m \u001b[49m\u001b[38;5;28;43;01mTrue\u001b[39;49;00m\u001b[43m)\u001b[49m \u001b[38;5;66;03m# reverse=False\u001b[39;00m\n\u001b[0;32m      4\u001b[0m a\n",
      "\u001b[1;31mTypeError\u001b[0m: '<' not supported between instances of 'int' and 'str'"
     ]
    }
   ],
   "source": [
    "a =[112,54.3,2.3,4.3,56,'8789','456','354']\n",
    "\n",
    "a.sort(reverse= True) # reverse=False\n",
    "a"
   ]
  },
  {
   "cell_type": "code",
   "execution_count": 112,
   "id": "54e171a0",
   "metadata": {},
   "outputs": [
    {
     "ename": "TypeError",
     "evalue": "'>' not supported between instances of 'int' and 'complex'",
     "output_type": "error",
     "traceback": [
      "\u001b[1;31m---------------------------------------------------------------------------\u001b[0m",
      "\u001b[1;31mTypeError\u001b[0m                                 Traceback (most recent call last)",
      "Input \u001b[1;32mIn [112]\u001b[0m, in \u001b[0;36m<cell line: 1>\u001b[1;34m()\u001b[0m\n\u001b[1;32m----> 1\u001b[0m \u001b[38;5;241;43m12\u001b[39;49m\u001b[38;5;241;43m>\u001b[39;49m\u001b[43m \u001b[49m\u001b[38;5;241;43m12\u001b[39;49m\u001b[38;5;241;43m+\u001b[39;49m\u001b[38;5;241;43m5\u001b[39;49m\u001b[43mj\u001b[49m\n",
      "\u001b[1;31mTypeError\u001b[0m: '>' not supported between instances of 'int' and 'complex'"
     ]
    }
   ],
   "source": [
    "12> 12+5j"
   ]
  },
  {
   "cell_type": "markdown",
   "id": "19fa4d65",
   "metadata": {},
   "source": [
    "# Count"
   ]
  },
  {
   "cell_type": "code",
   "execution_count": 107,
   "id": "7a168155",
   "metadata": {},
   "outputs": [
    {
     "data": {
      "text/plain": [
       "6"
      ]
     },
     "execution_count": 107,
     "metadata": {},
     "output_type": "execute_result"
    }
   ],
   "source": [
    "a =['a' , 'b' , 'c' , 'd' , 'e' , 'c' ,  'c'  , 'c' ,  'c'  , 'c' ]\n",
    "\n",
    "\n",
    "\n",
    "a.count('c')"
   ]
  },
  {
   "cell_type": "markdown",
   "id": "1fbf4e0a",
   "metadata": {},
   "source": [
    "# Clear"
   ]
  },
  {
   "cell_type": "code",
   "execution_count": 113,
   "id": "39762d1c",
   "metadata": {},
   "outputs": [
    {
     "data": {
      "text/plain": [
       "[112, 54.3, 2.3, 4.3, 56, '8789', '456', '354']"
      ]
     },
     "execution_count": 113,
     "metadata": {},
     "output_type": "execute_result"
    }
   ],
   "source": [
    "a"
   ]
  },
  {
   "cell_type": "code",
   "execution_count": 114,
   "id": "bce56ac4",
   "metadata": {},
   "outputs": [],
   "source": [
    "a.clear()"
   ]
  },
  {
   "cell_type": "code",
   "execution_count": 115,
   "id": "0b3827f9",
   "metadata": {},
   "outputs": [
    {
     "data": {
      "text/plain": [
       "[]"
      ]
     },
     "execution_count": 115,
     "metadata": {},
     "output_type": "execute_result"
    }
   ],
   "source": [
    "a"
   ]
  },
  {
   "cell_type": "code",
   "execution_count": null,
   "id": "636794c2",
   "metadata": {},
   "outputs": [],
   "source": [
    "# del"
   ]
  },
  {
   "cell_type": "code",
   "execution_count": 117,
   "id": "fadbda96",
   "metadata": {},
   "outputs": [],
   "source": [
    "a =['a' , 'b' , 'c' , 'd' , 'e' , 'c' ,  'c'  , 'c' ,  'c'  , 'c' ]\n",
    "\n",
    "del a"
   ]
  },
  {
   "cell_type": "code",
   "execution_count": 118,
   "id": "5b758662",
   "metadata": {},
   "outputs": [
    {
     "ename": "NameError",
     "evalue": "name 'a' is not defined",
     "output_type": "error",
     "traceback": [
      "\u001b[1;31m---------------------------------------------------------------------------\u001b[0m",
      "\u001b[1;31mNameError\u001b[0m                                 Traceback (most recent call last)",
      "Input \u001b[1;32mIn [118]\u001b[0m, in \u001b[0;36m<cell line: 1>\u001b[1;34m()\u001b[0m\n\u001b[1;32m----> 1\u001b[0m \u001b[43ma\u001b[49m\n",
      "\u001b[1;31mNameError\u001b[0m: name 'a' is not defined"
     ]
    }
   ],
   "source": [
    "a"
   ]
  },
  {
   "cell_type": "code",
   "execution_count": 119,
   "id": "4854861b",
   "metadata": {},
   "outputs": [
    {
     "name": "stdout",
     "output_type": "stream",
     "text": [
      "['__add__', '__class__', '__class_getitem__', '__contains__', '__delattr__', '__delitem__', '__dir__', '__doc__', '__eq__', '__format__', '__ge__', '__getattribute__', '__getitem__', '__gt__', '__hash__', '__iadd__', '__imul__', '__init__', '__init_subclass__', '__iter__', '__le__', '__len__', '__lt__', '__mul__', '__ne__', '__new__', '__reduce__', '__reduce_ex__', '__repr__', '__reversed__', '__rmul__', '__setattr__', '__setitem__', '__sizeof__', '__str__', '__subclasshook__', 'append', 'clear', 'copy', 'count', 'extend', 'index', 'insert', 'pop', 'remove', 'reverse', 'sort']\n"
     ]
    }
   ],
   "source": [
    "print(dir(list))"
   ]
  },
  {
   "cell_type": "code",
   "execution_count": 120,
   "id": "267f36e7",
   "metadata": {},
   "outputs": [
    {
     "data": {
      "text/plain": [
       "[2, 5, 6, 7, 11, 14, 33, 54]"
      ]
     },
     "execution_count": 120,
     "metadata": {},
     "output_type": "execute_result"
    }
   ],
   "source": [
    "a = [11,2,33,14,54,5,6,7]\n",
    "\n",
    "\n",
    "\n",
    "a.sort() # ascending\n",
    "a"
   ]
  },
  {
   "cell_type": "code",
   "execution_count": 121,
   "id": "866498d9",
   "metadata": {},
   "outputs": [
    {
     "data": {
      "text/plain": [
       "[54, 33, 14, 11, 7, 6, 5, 2]"
      ]
     },
     "execution_count": 121,
     "metadata": {},
     "output_type": "execute_result"
    }
   ],
   "source": [
    "a = [11,2,33,14,54,5,6,7]\n",
    "\n",
    "\n",
    "\n",
    "a.sort(reverse= True) # decnding\n",
    "a"
   ]
  },
  {
   "cell_type": "code",
   "execution_count": 122,
   "id": "f8db309d",
   "metadata": {},
   "outputs": [
    {
     "name": "stdout",
     "output_type": "stream",
     "text": [
      "None\n"
     ]
    }
   ],
   "source": [
    "a = [11,2,33,14,54,5,6,7]\n",
    "\n",
    "\n",
    "print(a.sort())"
   ]
  },
  {
   "cell_type": "code",
   "execution_count": 123,
   "id": "791e84be",
   "metadata": {},
   "outputs": [
    {
     "data": {
      "text/plain": [
       "[2, 5, 6, 7, 11, 14, 33, 54]"
      ]
     },
     "execution_count": 123,
     "metadata": {},
     "output_type": "execute_result"
    }
   ],
   "source": [
    "a"
   ]
  },
  {
   "cell_type": "code",
   "execution_count": 124,
   "id": "6bcb019f",
   "metadata": {},
   "outputs": [
    {
     "name": "stdout",
     "output_type": "stream",
     "text": [
      "cython\n"
     ]
    }
   ],
   "source": [
    "a = 'python'\n",
    "\n",
    "print(a.replace('p' , 'c'))"
   ]
  },
  {
   "cell_type": "code",
   "execution_count": 125,
   "id": "9256e644",
   "metadata": {},
   "outputs": [
    {
     "data": {
      "text/plain": [
       "'python'"
      ]
     },
     "execution_count": 125,
     "metadata": {},
     "output_type": "execute_result"
    }
   ],
   "source": [
    "a"
   ]
  },
  {
   "cell_type": "code",
   "execution_count": 126,
   "id": "e3a1997a",
   "metadata": {},
   "outputs": [
    {
     "name": "stdout",
     "output_type": "stream",
     "text": [
      "[2, 5, 6, 7, 11, 14, 33, 54]\n",
      "None\n"
     ]
    }
   ],
   "source": [
    "a = [11,2,33,14,54,5,6,7]\n",
    "\n",
    "\n",
    "b = a.sort()\n",
    "\n",
    "print(a)\n",
    "print(b)"
   ]
  },
  {
   "cell_type": "code",
   "execution_count": 129,
   "id": "26ba5bc4",
   "metadata": {},
   "outputs": [
    {
     "name": "stdout",
     "output_type": "stream",
     "text": [
      "3\n"
     ]
    }
   ],
   "source": [
    "# \n",
    "\n",
    "a = [1,2,3,4,6]\n",
    "\n",
    "\n",
    "print(a.pop(2))"
   ]
  },
  {
   "cell_type": "code",
   "execution_count": 130,
   "id": "f6053fac",
   "metadata": {},
   "outputs": [
    {
     "name": "stdout",
     "output_type": "stream",
     "text": [
      "[1, 2, 4, 6]\n"
     ]
    }
   ],
   "source": [
    "print(a)"
   ]
  },
  {
   "cell_type": "code",
   "execution_count": 134,
   "id": "505c8e7e",
   "metadata": {},
   "outputs": [
    {
     "data": {
      "text/plain": [
       "6"
      ]
     },
     "execution_count": 134,
     "metadata": {},
     "output_type": "execute_result"
    }
   ],
   "source": [
    "a =['a' , 'b' , 'c' , 'd' , 'e' , 'c' ,  'c'  , 'c' ,  'c'  , 'c' ]\n",
    "\n",
    "\n",
    "a.index('c' , 6)"
   ]
  },
  {
   "cell_type": "code",
   "execution_count": 136,
   "id": "efc1a192",
   "metadata": {},
   "outputs": [
    {
     "name": "stdout",
     "output_type": "stream",
     "text": [
      "[1, 2, 3, 4, 76, 45, 87, 879]\n"
     ]
    }
   ],
   "source": [
    "a = [1,2,3,4]\n",
    "\n",
    "a.extend([76,45,87,879])\n",
    "print(a)"
   ]
  },
  {
   "cell_type": "markdown",
   "id": "65c00cfb",
   "metadata": {},
   "source": [
    "# Aliasing , shallow copy and deep copy"
   ]
  },
  {
   "cell_type": "code",
   "execution_count": 137,
   "id": "590d457b",
   "metadata": {},
   "outputs": [
    {
     "name": "stdout",
     "output_type": "stream",
     "text": [
      "1611813801728\n",
      "1611813801280\n"
     ]
    }
   ],
   "source": [
    "a = [1,2,3]\n",
    "b = [1,2,3]\n",
    "\n",
    "print(id(a))\n",
    "print(id(b))"
   ]
  },
  {
   "cell_type": "code",
   "execution_count": 138,
   "id": "4c81990c",
   "metadata": {},
   "outputs": [
    {
     "name": "stdout",
     "output_type": "stream",
     "text": [
      "1611813721472\n",
      "1611813721472\n"
     ]
    }
   ],
   "source": [
    "a = [1,2,3,4]\n",
    "\n",
    "b = a\n",
    "\n",
    "print(id(a))\n",
    "print(id(b))"
   ]
  },
  {
   "cell_type": "code",
   "execution_count": 139,
   "id": "207f36f7",
   "metadata": {},
   "outputs": [
    {
     "name": "stdout",
     "output_type": "stream",
     "text": [
      "1611812660288\n",
      "1611812660288\n",
      "[999, 2, 3, 4]\n",
      "[999, 2, 3, 4]\n"
     ]
    }
   ],
   "source": [
    "a = [1,2,3,4]\n",
    "\n",
    "b = a # aliasing\n",
    "\n",
    "print(id(a))\n",
    "print(id(b))\n",
    "\n",
    "b[0] = 999\n",
    "\n",
    "\n",
    "print(a)\n",
    "print(b)"
   ]
  },
  {
   "cell_type": "markdown",
   "id": "62080d05",
   "metadata": {},
   "source": [
    "# Shallow copy"
   ]
  },
  {
   "cell_type": "code",
   "execution_count": 141,
   "id": "24e9ec9d",
   "metadata": {},
   "outputs": [
    {
     "name": "stdout",
     "output_type": "stream",
     "text": [
      "1611813864320\n",
      "1611813798400\n",
      "[1, 2, 3, 4, 5]\n",
      "[999, 2, 3, 4, 5]\n"
     ]
    }
   ],
   "source": [
    "a = [1,2,3,4,5]\n",
    "b = a.copy() # shallow copy\n",
    "\n",
    "\n",
    "print(id(a))\n",
    "print(id(b))\n",
    "\n",
    "b[0] = 999\n",
    "\n",
    "\n",
    "print(a)\n",
    "print(b)"
   ]
  },
  {
   "cell_type": "code",
   "execution_count": 143,
   "id": "2c9e9340",
   "metadata": {},
   "outputs": [
    {
     "name": "stdout",
     "output_type": "stream",
     "text": [
      "1611813881664\n",
      "1611813839104\n",
      "---------\n",
      "[1, 2, 3, [7, 8]]\n",
      "[9999, 2, 3, [7, 8]]\n"
     ]
    }
   ],
   "source": [
    "a = [1,2,3,[7,8]]\n",
    "b = a.copy()\n",
    "\n",
    "\n",
    "print(id(a))\n",
    "print(id(b))\n",
    "\n",
    "print('---------')\n",
    "\n",
    "b[0] = 9999\n",
    "\n",
    "\n",
    "print(a)\n",
    "print(b)\n"
   ]
  },
  {
   "cell_type": "code",
   "execution_count": 149,
   "id": "a64f6f2a",
   "metadata": {},
   "outputs": [
    {
     "name": "stdout",
     "output_type": "stream",
     "text": [
      "1611811819712\n",
      "1611812803136\n",
      "------\n",
      "1611812692096\n",
      "1611812692096\n",
      "---------\n",
      "[1, 2, 3, [7, 9999]]\n",
      "[1, 2, 3, [7, 9999]]\n"
     ]
    }
   ],
   "source": [
    "a = [1,2,3,[7,8]]\n",
    "b = a.copy()\n",
    "\n",
    "print(id(a))\n",
    "print(id(b))\n",
    "\n",
    "print('------')\n",
    "\n",
    "print(id(a[-1]))\n",
    "print(id(b[-1]))\n",
    "\n",
    "print('---------')\n",
    "\n",
    "b[-1][-1] = 9999\n",
    "\n",
    "\n",
    "print(a)\n",
    "print(b)\n"
   ]
  },
  {
   "cell_type": "markdown",
   "id": "293f6da1",
   "metadata": {},
   "source": [
    "# Deep copy"
   ]
  },
  {
   "cell_type": "code",
   "execution_count": 146,
   "id": "968b54e8",
   "metadata": {},
   "outputs": [],
   "source": [
    "from copy import deepcopy"
   ]
  },
  {
   "cell_type": "code",
   "execution_count": 148,
   "id": "cc3fd83b",
   "metadata": {},
   "outputs": [
    {
     "name": "stdout",
     "output_type": "stream",
     "text": [
      "1611813932608\n",
      "1611813864320\n",
      "------------\n",
      "1611813418368\n",
      "1611813801728\n",
      "[1, 2, 3, [7, 8]]\n",
      "[1, 2, 3, [7, 999]]\n"
     ]
    }
   ],
   "source": [
    "a = [1,2,3,[7,8]]\n",
    "b = deepcopy(a)\n",
    "\n",
    "print(id(a))\n",
    "print(id(b))\n",
    "\n",
    "print('------------')\n",
    "\n",
    "print(id(a[-1]))\n",
    "print(id(b[-1]))\n",
    "\n",
    "\n",
    "b[-1][-1] =  999\n",
    "\n",
    "\n",
    "print(a)\n",
    "print(b)\n"
   ]
  },
  {
   "cell_type": "code",
   "execution_count": 167,
   "id": "1ee4e90b",
   "metadata": {},
   "outputs": [
    {
     "name": "stdout",
     "output_type": "stream",
     "text": [
      "['__add__', '__class__', '__class_getitem__', '__contains__', '__delattr__', '__delitem__', '__dir__', '__doc__', '__eq__', '__format__', '__ge__', '__getattribute__', '__getitem__', '__gt__', '__hash__', '__iadd__', '__imul__', '__init__', '__init_subclass__', '__iter__', '__le__', '__len__', '__lt__', '__mul__', '__ne__', '__new__', '__reduce__', '__reduce_ex__', '__repr__', '__reversed__', '__rmul__', '__setattr__', '__setitem__', '__sizeof__', '__str__', '__subclasshook__', 'append', 'clear', 'copy', 'count', 'extend', 'index', 'insert', 'pop', 'remove', 'reverse', 'sort']\n"
     ]
    }
   ],
   "source": [
    "print(dir(list))"
   ]
  },
  {
   "cell_type": "markdown",
   "id": "66cb7ea3",
   "metadata": {},
   "source": [
    "# For loop"
   ]
  },
  {
   "cell_type": "code",
   "execution_count": null,
   "id": "2b148a55",
   "metadata": {},
   "outputs": [],
   "source": [
    "syntax \n",
    "\n",
    "\n",
    "for var in iterables:\n",
    "    stat1\n",
    "    stat2\n",
    "    stat3\n",
    "stat4"
   ]
  },
  {
   "cell_type": "code",
   "execution_count": null,
   "id": "19a81e20",
   "metadata": {},
   "outputs": [],
   "source": [
    "# to find which data type you can take as an iterable\n",
    "\n",
    "\n",
    "- len() --> should work\n",
    "- print(dir(object))"
   ]
  },
  {
   "cell_type": "code",
   "execution_count": 178,
   "id": "4f5e6743",
   "metadata": {},
   "outputs": [
    {
     "name": "stdout",
     "output_type": "stream",
     "text": [
      "['__abs__', '__add__', '__and__', '__bool__', '__ceil__', '__class__', '__delattr__', '__dir__', '__divmod__', '__doc__', '__eq__', '__float__', '__floor__', '__floordiv__', '__format__', '__ge__', '__getattribute__', '__getnewargs__', '__gt__', '__hash__', '__index__', '__init__', '__init_subclass__', '__int__', '__invert__', '__le__', '__lshift__', '__lt__', '__mod__', '__mul__', '__ne__', '__neg__', '__new__', '__or__', '__pos__', '__pow__', '__radd__', '__rand__', '__rdivmod__', '__reduce__', '__reduce_ex__', '__repr__', '__rfloordiv__', '__rlshift__', '__rmod__', '__rmul__', '__ror__', '__round__', '__rpow__', '__rrshift__', '__rshift__', '__rsub__', '__rtruediv__', '__rxor__', '__setattr__', '__sizeof__', '__str__', '__sub__', '__subclasshook__', '__truediv__', '__trunc__', '__xor__', 'as_integer_ratio', 'bit_length', 'conjugate', 'denominator', 'from_bytes', 'imag', 'numerator', 'real', 'to_bytes']\n"
     ]
    }
   ],
   "source": [
    "print(dir(int))"
   ]
  },
  {
   "cell_type": "code",
   "execution_count": 175,
   "id": "8d2a86c3",
   "metadata": {},
   "outputs": [
    {
     "data": {
      "text/plain": [
       "3"
      ]
     },
     "execution_count": 175,
     "metadata": {},
     "output_type": "execute_result"
    }
   ],
   "source": [
    "len([1,2,34])"
   ]
  },
  {
   "cell_type": "code",
   "execution_count": 172,
   "id": "1c7454df",
   "metadata": {},
   "outputs": [
    {
     "ename": "TypeError",
     "evalue": "'complex' object is not iterable",
     "output_type": "error",
     "traceback": [
      "\u001b[1;31m---------------------------------------------------------------------------\u001b[0m",
      "\u001b[1;31mTypeError\u001b[0m                                 Traceback (most recent call last)",
      "Input \u001b[1;32mIn [172]\u001b[0m, in \u001b[0;36m<cell line: 1>\u001b[1;34m()\u001b[0m\n\u001b[1;32m----> 1\u001b[0m \u001b[38;5;28;01mfor\u001b[39;00m i \u001b[38;5;129;01min\u001b[39;00m \u001b[38;5;241m10\u001b[39m\u001b[38;5;241m+\u001b[39m\u001b[38;5;241m3\u001b[39mj:\n\u001b[0;32m      2\u001b[0m     \u001b[38;5;28mprint\u001b[39m(i)\n",
      "\u001b[1;31mTypeError\u001b[0m: 'complex' object is not iterable"
     ]
    }
   ],
   "source": [
    "for i in 10+3j:\n",
    "    print(i)"
   ]
  },
  {
   "cell_type": "code",
   "execution_count": 179,
   "id": "f1b0fe26",
   "metadata": {},
   "outputs": [
    {
     "name": "stdout",
     "output_type": "stream",
     "text": [
      "a\n",
      "b\n",
      "c\n"
     ]
    }
   ],
   "source": [
    "for var in ['a' , 'b' , 'c']:\n",
    "    print(var)"
   ]
  },
  {
   "cell_type": "code",
   "execution_count": 180,
   "id": "2f4ef0d7",
   "metadata": {},
   "outputs": [
    {
     "name": "stdout",
     "output_type": "stream",
     "text": [
      "Python\n",
      "Python\n",
      "Python\n"
     ]
    }
   ],
   "source": [
    "for var in ['a' , 'b' , 'c']:\n",
    "    print('Python')"
   ]
  },
  {
   "cell_type": "code",
   "execution_count": null,
   "id": "a18d3ba4",
   "metadata": {},
   "outputs": [],
   "source": [
    "for iteration 1\n",
    "var    'a'\n",
    "print('')\n",
    "\n",
    "\n",
    "for iteration 2\n",
    "var    'b'\n",
    "\n",
    "\n",
    "for iteration 3\n",
    "var    'c'\n"
   ]
  },
  {
   "cell_type": "code",
   "execution_count": 182,
   "id": "373ec916",
   "metadata": {},
   "outputs": [
    {
     "name": "stdout",
     "output_type": "stream",
     "text": [
      "a\n",
      "b\n",
      "c\n",
      "d\n"
     ]
    }
   ],
   "source": [
    "for var in 'abcd':\n",
    "    print(var)"
   ]
  },
  {
   "cell_type": "code",
   "execution_count": null,
   "id": "6c130f76",
   "metadata": {},
   "outputs": [],
   "source": [
    "# Write a python program to print the table of 2\n",
    "\n",
    "\n",
    "\n",
    "2    *     1     =     2\n",
    "2    *     2     =     4\n",
    ".\n",
    ".\n",
    ".\n",
    ".\n",
    "2    *    10    =      20\n"
   ]
  },
  {
   "cell_type": "code",
   "execution_count": null,
   "id": "8054328b",
   "metadata": {},
   "outputs": [],
   "source": [
    "# "
   ]
  },
  {
   "cell_type": "code",
   "execution_count": null,
   "id": "f823513c",
   "metadata": {},
   "outputs": [],
   "source": []
  },
  {
   "cell_type": "code",
   "execution_count": null,
   "id": "c7df0f6f",
   "metadata": {},
   "outputs": [],
   "source": []
  },
  {
   "cell_type": "code",
   "execution_count": null,
   "id": "8cc467a7",
   "metadata": {},
   "outputs": [],
   "source": []
  }
 ],
 "metadata": {
  "kernelspec": {
   "display_name": "Python 3 (ipykernel)",
   "language": "python",
   "name": "python3"
  },
  "language_info": {
   "codemirror_mode": {
    "name": "ipython",
    "version": 3
   },
   "file_extension": ".py",
   "mimetype": "text/x-python",
   "name": "python",
   "nbconvert_exporter": "python",
   "pygments_lexer": "ipython3",
   "version": "3.9.12"
  }
 },
 "nbformat": 4,
 "nbformat_minor": 5
}
