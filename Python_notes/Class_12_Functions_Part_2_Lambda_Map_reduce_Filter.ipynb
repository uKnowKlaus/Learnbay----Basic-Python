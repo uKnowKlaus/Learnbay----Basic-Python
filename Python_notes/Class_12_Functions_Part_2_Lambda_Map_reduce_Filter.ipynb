{
 "cells": [
  {
   "cell_type": "code",
   "execution_count": 2,
   "id": "988c9fca",
   "metadata": {},
   "outputs": [],
   "source": [
    "# Task\n",
    "\n",
    "emp_data = {'emp_1': {'age': 24 , 'salary': 626223 , 'name': 'salahuddin'},\n",
    "           'emp_2': {'age': 23 , 'salary': 96780 , 'name': 'ajay'},\n",
    "           'emp_3': {'age': 26 , 'salary': 90890 , 'name': 'abhishek'}, \n",
    "           'emp_4': {'age': 32 , 'salary': 65756 , 'name': 'anas'}}\n",
    "\n",
    "ex_emp = {}"
   ]
  },
  {
   "cell_type": "code",
   "execution_count": 3,
   "id": "17c8aca5",
   "metadata": {},
   "outputs": [],
   "source": [
    "def addEmployee(age,sal,name):\n",
    "    emp_id = \"emp_\"+str(len(emp_data)+1)\n",
    "    emp_data.setdefault(emp_id,{'age': age, 'salary':sal,'name':name})\n",
    "\n",
    "def removeEmployee(emp_id):\n",
    "    ex_emp.setdefault(emp_id,emp_data.pop(emp_id))\n"
   ]
  },
  {
   "cell_type": "code",
   "execution_count": 12,
   "id": "46309fb9",
   "metadata": {},
   "outputs": [],
   "source": [
    "addEmployee(28 , 8387373 , 'xyz')"
   ]
  },
  {
   "cell_type": "code",
   "execution_count": 13,
   "id": "c1240a93",
   "metadata": {},
   "outputs": [
    {
     "data": {
      "text/plain": [
       "{'emp_1': {'age': 24, 'salary': 626223, 'name': 'salahuddin'},\n",
       " 'emp_2': {'age': 23, 'salary': 96780, 'name': 'ajay'},\n",
       " 'emp_3': {'age': 26, 'salary': 90890, 'name': 'abhishek'},\n",
       " 'emp_4': {'age': 32, 'salary': 65756, 'name': 'anas'},\n",
       " 'emp_5': {'age': 28, 'salary': 8387373, 'name': 'xyz'},\n",
       " 'emp_6': {'age': 28, 'salary': 8387373, 'name': 'xyz'},\n",
       " 'emp_7': {'age': 28, 'salary': 8387373, 'name': 'xyz'},\n",
       " 'emp_8': {'age': 28, 'salary': 8387373, 'name': 'xyz'},\n",
       " 'emp_9': {'age': 28, 'salary': 8387373, 'name': 'xyz'}}"
      ]
     },
     "execution_count": 13,
     "metadata": {},
     "output_type": "execute_result"
    }
   ],
   "source": [
    "emp_data"
   ]
  },
  {
   "cell_type": "code",
   "execution_count": 17,
   "id": "215af6cc",
   "metadata": {},
   "outputs": [],
   "source": [
    "removeEmployee('emp_8')"
   ]
  },
  {
   "cell_type": "code",
   "execution_count": 18,
   "id": "43cb3f0b",
   "metadata": {},
   "outputs": [
    {
     "data": {
      "text/plain": [
       "{'emp_1': {'age': 24, 'salary': 626223, 'name': 'salahuddin'},\n",
       " 'emp_2': {'age': 23, 'salary': 96780, 'name': 'ajay'},\n",
       " 'emp_3': {'age': 26, 'salary': 90890, 'name': 'abhishek'},\n",
       " 'emp_4': {'age': 32, 'salary': 65756, 'name': 'anas'},\n",
       " 'emp_5': {'age': 28, 'salary': 8387373, 'name': 'xyz'},\n",
       " 'emp_6': {'age': 28, 'salary': 8387373, 'name': 'xyz'},\n",
       " 'emp_7': {'age': 28, 'salary': 8387373, 'name': 'xyz'}}"
      ]
     },
     "execution_count": 18,
     "metadata": {},
     "output_type": "execute_result"
    }
   ],
   "source": [
    "emp_data"
   ]
  },
  {
   "cell_type": "code",
   "execution_count": 19,
   "id": "11e42de8",
   "metadata": {},
   "outputs": [
    {
     "data": {
      "text/plain": [
       "{'emp_9': {'age': 28, 'salary': 8387373, 'name': 'xyz'},\n",
       " 'emp_8': {'age': 28, 'salary': 8387373, 'name': 'xyz'}}"
      ]
     },
     "execution_count": 19,
     "metadata": {},
     "output_type": "execute_result"
    }
   ],
   "source": [
    "ex_emp"
   ]
  },
  {
   "cell_type": "code",
   "execution_count": null,
   "id": "f6055b33",
   "metadata": {},
   "outputs": [],
   "source": [
    "def addEmployee(age,sal,name):\n",
    "    emp_id = \"emp_\"+str(len(emp_data)+1)\n",
    "    emp_data.setdefault(emp_id,{'age': age, 'salary':sal,'name':name})"
   ]
  },
  {
   "cell_type": "code",
   "execution_count": null,
   "id": "83109b15",
   "metadata": {},
   "outputs": [],
   "source": [
    "salary , name , emp_pin"
   ]
  },
  {
   "cell_type": "code",
   "execution_count": 24,
   "id": "51eac5f1",
   "metadata": {},
   "outputs": [],
   "source": [
    "def addEmployee(**kwargs):\n",
    "    '''This is a function used to \n",
    "    add the employe detail'''\n",
    "    emp_id = \"emp_\"+str(len(emp_data)+1)\n",
    "    emp_data.setdefault(emp_id, kwargs)"
   ]
  },
  {
   "cell_type": "code",
   "execution_count": 21,
   "id": "bf25dfb5",
   "metadata": {},
   "outputs": [],
   "source": [
    "addEmployee(salary = 836783673 , name = 'abc' , emp_pin = 823635)"
   ]
  },
  {
   "cell_type": "code",
   "execution_count": 22,
   "id": "8f9dd7b0",
   "metadata": {},
   "outputs": [
    {
     "data": {
      "text/plain": [
       "{'emp_1': {'age': 24, 'salary': 626223, 'name': 'salahuddin'},\n",
       " 'emp_2': {'age': 23, 'salary': 96780, 'name': 'ajay'},\n",
       " 'emp_3': {'age': 26, 'salary': 90890, 'name': 'abhishek'},\n",
       " 'emp_4': {'age': 32, 'salary': 65756, 'name': 'anas'},\n",
       " 'emp_5': {'age': 28, 'salary': 8387373, 'name': 'xyz'},\n",
       " 'emp_6': {'age': 28, 'salary': 8387373, 'name': 'xyz'},\n",
       " 'emp_7': {'age': 28, 'salary': 8387373, 'name': 'xyz'},\n",
       " 'emp_8': {'salary': 836783673, 'name': 'abc', 'emp_pin': 823635}}"
      ]
     },
     "execution_count": 22,
     "metadata": {},
     "output_type": "execute_result"
    }
   ],
   "source": [
    "emp_data"
   ]
  },
  {
   "cell_type": "code",
   "execution_count": 29,
   "id": "656b9a8a",
   "metadata": {},
   "outputs": [
    {
     "name": "stdout",
     "output_type": "stream",
     "text": [
      "How do you wish to continue? enter 1 for adding an employee and 2 for removing an employee1\n",
      "enter new employee's namejfdslsd\n",
      "enter new employee's salary3873784\n",
      "enter new employee's age76\n",
      "New emmployees are {'emp_1': {'age': 24, 'salary': 626223, 'name': 'salahuddin'}, 'emp_2': {'age': 23, 'salary': 96780, 'name': 'ajay'}, 'emp_3': {'age': 26, 'salary': 90890, 'name': 'abhishek'}, 'emp_4': {'age': 32, 'salary': 65756, 'name': 'anas'}, 'emp_5': {'age': 28, 'salary': 8387373, 'name': 'xyz'}, 'emp_6': {'age': 28, 'salary': 8387373, 'name': 'xyz'}, 'emp_7': {'age': 28, 'salary': 8387373, 'name': 'xyz'}, 'emp_8': {'salary': 836783673, 'name': 'abc', 'emp_pin': 823635}, 'emp_9': {'a': 23}, 'emp_10': {'age': 76, 'salary': 3873784, 'name': 'jfdslsd'}}\n"
     ]
    }
   ],
   "source": [
    "def add_employee(**kwargs):\n",
    "    key   = f'emp_{len(emp_data)+1}'\n",
    "    emp_data[key] = kwargs\n",
    "def remove_employee(name_in):\n",
    "    for i in emp_data.keys():\n",
    "        if(emp_data[i]['name'])==name_in:\n",
    "            ex_employee[i] = emp_data.pop(i)\n",
    "            break\n",
    "               \n",
    "opt = eval(input(\"How do you wish to continue? enter 1 for adding an employee and 2 for removing an employee\"))\n",
    "if (opt==1):\n",
    "    name_in   = input(\"enter new employee's name\")\n",
    "    salary_in = eval(input(\"enter new employee's salary\"))\n",
    "    age_in    = eval(input(\"enter new employee's age\"))\n",
    "    add_employee(age=age_in,salary=salary_in,name=name_in)\n",
    "    print(f'New emmployees are {emp_data}')\n",
    "elif(opt==2):\n",
    "    name_in   = eval(input(\"enter employee to be removed\"))\n",
    "    remove_employee(name_in)\n",
    "    print(f'Ex emmployees are {ex_employee}')\n",
    "else:\n",
    "    print(\"You have entered a wrong choice\")\n"
   ]
  },
  {
   "cell_type": "code",
   "execution_count": 30,
   "id": "928e3b6c",
   "metadata": {},
   "outputs": [
    {
     "data": {
      "text/plain": [
       "{'emp_1': {'age': 24, 'salary': 626223, 'name': 'salahuddin'},\n",
       " 'emp_2': {'age': 23, 'salary': 96780, 'name': 'ajay'},\n",
       " 'emp_3': {'age': 26, 'salary': 90890, 'name': 'abhishek'},\n",
       " 'emp_4': {'age': 32, 'salary': 65756, 'name': 'anas'},\n",
       " 'emp_5': {'age': 28, 'salary': 8387373, 'name': 'xyz'},\n",
       " 'emp_6': {'age': 28, 'salary': 8387373, 'name': 'xyz'},\n",
       " 'emp_7': {'age': 28, 'salary': 8387373, 'name': 'xyz'},\n",
       " 'emp_8': {'salary': 836783673, 'name': 'abc', 'emp_pin': 823635},\n",
       " 'emp_9': {'a': 23},\n",
       " 'emp_10': {'age': 76, 'salary': 3873784, 'name': 'jfdslsd'}}"
      ]
     },
     "execution_count": 30,
     "metadata": {},
     "output_type": "execute_result"
    }
   ],
   "source": [
    "emp_data"
   ]
  },
  {
   "cell_type": "code",
   "execution_count": 26,
   "id": "94d9bfca",
   "metadata": {},
   "outputs": [],
   "source": [
    "emp_data['emp_9'] = {'a':23}"
   ]
  },
  {
   "cell_type": "code",
   "execution_count": 27,
   "id": "f6ee674a",
   "metadata": {},
   "outputs": [
    {
     "data": {
      "text/plain": [
       "{'emp_1': {'age': 24, 'salary': 626223, 'name': 'salahuddin'},\n",
       " 'emp_2': {'age': 23, 'salary': 96780, 'name': 'ajay'},\n",
       " 'emp_3': {'age': 26, 'salary': 90890, 'name': 'abhishek'},\n",
       " 'emp_4': {'age': 32, 'salary': 65756, 'name': 'anas'},\n",
       " 'emp_5': {'age': 28, 'salary': 8387373, 'name': 'xyz'},\n",
       " 'emp_6': {'age': 28, 'salary': 8387373, 'name': 'xyz'},\n",
       " 'emp_7': {'age': 28, 'salary': 8387373, 'name': 'xyz'},\n",
       " 'emp_8': {'salary': 836783673, 'name': 'abc', 'emp_pin': 823635},\n",
       " 'emp_9': {'a': 23}}"
      ]
     },
     "execution_count": 27,
     "metadata": {},
     "output_type": "execute_result"
    }
   ],
   "source": [
    "emp_data"
   ]
  },
  {
   "cell_type": "markdown",
   "id": "3238252c",
   "metadata": {},
   "source": [
    "# Return\n",
    "\n",
    "- It is optional\n",
    "- if the return is not used by default the returned value is None"
   ]
  },
  {
   "cell_type": "code",
   "execution_count": 50,
   "id": "5882b803",
   "metadata": {},
   "outputs": [],
   "source": [
    "def palindrom(a):\n",
    "    if a == a[::-1]:\n",
    "        return ('yes')\n",
    "    else:\n",
    "        return ('no')"
   ]
  },
  {
   "cell_type": "code",
   "execution_count": 53,
   "id": "0398e87e",
   "metadata": {},
   "outputs": [],
   "source": [
    "a = palindrom('python')"
   ]
  },
  {
   "cell_type": "code",
   "execution_count": 54,
   "id": "c6f4fe80",
   "metadata": {},
   "outputs": [
    {
     "name": "stdout",
     "output_type": "stream",
     "text": [
      "no\n"
     ]
    }
   ],
   "source": [
    "print(a)"
   ]
  },
  {
   "cell_type": "code",
   "execution_count": 55,
   "id": "b5e2f3c4",
   "metadata": {},
   "outputs": [],
   "source": [
    "def odd_even_filter(a):\n",
    "    even_list = [i for i in a if i%2 == 0]\n",
    "    return (even_list)\n",
    "    \n",
    "\n"
   ]
  },
  {
   "cell_type": "code",
   "execution_count": 48,
   "id": "ce052496",
   "metadata": {},
   "outputs": [],
   "source": [
    "lst = [1,2,3,4,5,6,7,8,9,10,11,12]\n",
    "\n",
    "lst_1 = odd_even_filter(lst)"
   ]
  },
  {
   "cell_type": "code",
   "execution_count": 49,
   "id": "4abaec09",
   "metadata": {},
   "outputs": [
    {
     "name": "stdout",
     "output_type": "stream",
     "text": [
      "[2, 4, 6, 8, 10, 12]\n"
     ]
    }
   ],
   "source": [
    "print(lst_1)"
   ]
  },
  {
   "cell_type": "code",
   "execution_count": 45,
   "id": "e2aa4bd4",
   "metadata": {},
   "outputs": [],
   "source": [
    "def adder(a,b):\n",
    "    return a+b\n",
    "    \n",
    "num = adder(23,544)"
   ]
  },
  {
   "cell_type": "code",
   "execution_count": 46,
   "id": "01395b27",
   "metadata": {},
   "outputs": [
    {
     "name": "stdout",
     "output_type": "stream",
     "text": [
      "567\n"
     ]
    }
   ],
   "source": [
    "print(num)"
   ]
  },
  {
   "cell_type": "code",
   "execution_count": 62,
   "id": "945b4475",
   "metadata": {},
   "outputs": [],
   "source": [
    "def adder(a,b):\n",
    "    return a+b ,b+a\n",
    "    \n",
    "num , num_1 = adder(23,544)"
   ]
  },
  {
   "cell_type": "code",
   "execution_count": 63,
   "id": "9d8d4c51",
   "metadata": {},
   "outputs": [
    {
     "name": "stdout",
     "output_type": "stream",
     "text": [
      "567 <class 'int'>\n"
     ]
    }
   ],
   "source": [
    "print(num , type(num))"
   ]
  },
  {
   "cell_type": "code",
   "execution_count": 65,
   "id": "e98cceed",
   "metadata": {},
   "outputs": [
    {
     "name": "stdout",
     "output_type": "stream",
     "text": [
      "anything <class 'str'>\n"
     ]
    }
   ],
   "source": [
    "def adder(a,b):\n",
    "    return 'anything'\n",
    "    \n",
    "num = adder(23,544)\n",
    "print(num , type(num))"
   ]
  },
  {
   "cell_type": "code",
   "execution_count": 66,
   "id": "c6089428",
   "metadata": {},
   "outputs": [
    {
     "name": "stdout",
     "output_type": "stream",
     "text": [
      "(567, -521) <class 'tuple'>\n"
     ]
    }
   ],
   "source": [
    "def adder(a,b):\n",
    "    c = a+b\n",
    "    d = a-b\n",
    "    return c,d\n",
    "    \n",
    "num = adder(23,544)\n",
    "print(num , type(num))"
   ]
  },
  {
   "cell_type": "code",
   "execution_count": 67,
   "id": "5dee3d4b",
   "metadata": {},
   "outputs": [
    {
     "name": "stdout",
     "output_type": "stream",
     "text": [
      "567 <class 'int'>\n"
     ]
    }
   ],
   "source": [
    "def adder(a,b):\n",
    "    c = a+b\n",
    "    d = a-b\n",
    "    return c\n",
    "    return d\n",
    "    \n",
    "num = adder(23,544)\n",
    "print(num , type(num))"
   ]
  },
  {
   "cell_type": "markdown",
   "id": "bd1bfe59",
   "metadata": {},
   "source": [
    "# Global and local variables"
   ]
  },
  {
   "cell_type": "code",
   "execution_count": 1,
   "id": "5fe154cc",
   "metadata": {},
   "outputs": [
    {
     "name": "stdout",
     "output_type": "stream",
     "text": [
      "44\n",
      "-20\n",
      "10\n",
      "20\n"
     ]
    },
    {
     "ename": "NameError",
     "evalue": "name 'a' is not defined",
     "output_type": "error",
     "traceback": [
      "\u001b[1;31m---------------------------------------------------------------------------\u001b[0m",
      "\u001b[1;31mNameError\u001b[0m                                 Traceback (most recent call last)",
      "Input \u001b[1;32mIn [1]\u001b[0m, in \u001b[0;36m<cell line: 15>\u001b[1;34m()\u001b[0m\n\u001b[0;32m     13\u001b[0m \u001b[38;5;28mprint\u001b[39m(x)\n\u001b[0;32m     14\u001b[0m \u001b[38;5;28mprint\u001b[39m(y)\n\u001b[1;32m---> 15\u001b[0m \u001b[38;5;28mprint\u001b[39m(\u001b[43ma\u001b[49m)\n\u001b[0;32m     16\u001b[0m \u001b[38;5;28mprint\u001b[39m(b)\n\u001b[0;32m     17\u001b[0m \u001b[38;5;28mprint\u001b[39m(c)\n",
      "\u001b[1;31mNameError\u001b[0m: name 'a' is not defined"
     ]
    }
   ],
   "source": [
    "x = 10\n",
    "y = 20\n",
    "\n",
    "def adder(a,b):\n",
    "    c = a+b\n",
    "    d = a-b\n",
    "    print(c)\n",
    "    print(d)\n",
    "    \n",
    "adder(12,32)\n",
    "\n",
    "\n",
    "print(x)\n",
    "print(y)\n",
    "print(a)\n",
    "print(b)\n",
    "print(c)\n",
    "print(d)"
   ]
  },
  {
   "cell_type": "code",
   "execution_count": null,
   "id": "d2520a31",
   "metadata": {},
   "outputs": [],
   "source": [
    "# Anonymous function ( function without a name )\n",
    "\n",
    "- syntax\n",
    "        lambda arg : expression\n",
    "\n",
    "# NOTE:- Lambda can take n number of args but only one expression"
   ]
  },
  {
   "cell_type": "code",
   "execution_count": 2,
   "id": "e0577284",
   "metadata": {},
   "outputs": [
    {
     "name": "stdout",
     "output_type": "stream",
     "text": [
      "567 <class 'int'>\n"
     ]
    }
   ],
   "source": [
    "def adder(a,b):\n",
    "    c = a+b\n",
    "    return c\n",
    "    \n",
    "num = adder(23,544)\n",
    "print(num , type(num))"
   ]
  },
  {
   "cell_type": "code",
   "execution_count": 3,
   "id": "68eaa84a",
   "metadata": {},
   "outputs": [],
   "source": [
    "# \n",
    "\n",
    "var = lambda a,b: a+b"
   ]
  },
  {
   "cell_type": "code",
   "execution_count": 4,
   "id": "6e027c10",
   "metadata": {},
   "outputs": [
    {
     "data": {
      "text/plain": [
       "70"
      ]
     },
     "execution_count": 4,
     "metadata": {},
     "output_type": "execute_result"
    }
   ],
   "source": [
    "var(20 , 50)"
   ]
  },
  {
   "cell_type": "code",
   "execution_count": 5,
   "id": "5777695e",
   "metadata": {},
   "outputs": [],
   "source": [
    "var = (lambda a,b: a+b)(20,50)"
   ]
  },
  {
   "cell_type": "code",
   "execution_count": 6,
   "id": "47fdd66f",
   "metadata": {},
   "outputs": [
    {
     "data": {
      "text/plain": [
       "70"
      ]
     },
     "execution_count": 6,
     "metadata": {},
     "output_type": "execute_result"
    }
   ],
   "source": [
    "var"
   ]
  },
  {
   "cell_type": "code",
   "execution_count": 7,
   "id": "8178ceaf",
   "metadata": {},
   "outputs": [],
   "source": [
    "# built a function to find a number is even or not\n",
    "\n",
    "def even_number(a):\n",
    "    if a%2 ==0:\n",
    "        return 'even'\n",
    "    else:\n",
    "        return 'odd'\n"
   ]
  },
  {
   "cell_type": "code",
   "execution_count": 8,
   "id": "cf3f0f36",
   "metadata": {},
   "outputs": [
    {
     "data": {
      "text/plain": [
       "'odd'"
      ]
     },
     "execution_count": 8,
     "metadata": {},
     "output_type": "execute_result"
    }
   ],
   "source": [
    "even_number(253)"
   ]
  },
  {
   "cell_type": "code",
   "execution_count": 9,
   "id": "92ff55c5",
   "metadata": {},
   "outputs": [
    {
     "data": {
      "text/plain": [
       "'even'"
      ]
     },
     "execution_count": 9,
     "metadata": {},
     "output_type": "execute_result"
    }
   ],
   "source": [
    "x = (lambda a: 'even' if a%2 ==0 else 'odd')(10)\n",
    "x"
   ]
  },
  {
   "cell_type": "markdown",
   "id": "0b3050e6",
   "metadata": {},
   "source": [
    "# Map\n",
    "\n",
    "- The map takes 2 args\n",
    "\n",
    "1. function\n",
    "2. a seq iterable\n",
    "\n",
    "map(function , iter )\n"
   ]
  },
  {
   "cell_type": "code",
   "execution_count": 15,
   "id": "7a97e75e",
   "metadata": {},
   "outputs": [
    {
     "data": {
      "text/plain": [
       "89.6"
      ]
     },
     "execution_count": 15,
     "metadata": {},
     "output_type": "execute_result"
    }
   ],
   "source": [
    "# \n",
    "\n",
    "temp_cel = 32\n",
    "\n",
    "# (9/5)*t +32\n",
    "\n",
    "def temp_converter(t):\n",
    "    return (9/5)*t +32\n",
    "\n",
    "temp_converter(temp_cel)"
   ]
  },
  {
   "cell_type": "code",
   "execution_count": 17,
   "id": "c4872699",
   "metadata": {},
   "outputs": [
    {
     "data": {
      "text/plain": [
       "[89.6, 93.2, 95.0, 96.8, 104.0]"
      ]
     },
     "execution_count": 17,
     "metadata": {},
     "output_type": "execute_result"
    }
   ],
   "source": [
    "def temp_converter(t):\n",
    "    return (9/5)*t +32\n",
    "\n",
    "temp_cel = [32 ,34 ,35, 36 , 40]\n",
    "\n",
    "list(map(temp_converter , temp_cel))"
   ]
  },
  {
   "cell_type": "code",
   "execution_count": 18,
   "id": "e89380f9",
   "metadata": {},
   "outputs": [
    {
     "data": {
      "text/plain": [
       "[89.6, 93.2, 95.0, 96.8, 104.0]"
      ]
     },
     "execution_count": 18,
     "metadata": {},
     "output_type": "execute_result"
    }
   ],
   "source": [
    "list(map((lambda x: (9/5)*x +32) , temp_cel))"
   ]
  },
  {
   "cell_type": "code",
   "execution_count": 20,
   "id": "121c640e",
   "metadata": {},
   "outputs": [
    {
     "data": {
      "text/plain": [
       "[7, 9, 11, 13, 15]"
      ]
     },
     "execution_count": 20,
     "metadata": {},
     "output_type": "execute_result"
    }
   ],
   "source": [
    "# Task 1\n",
    "a = [1,2,3,4,5]\n",
    "b = [6,7,8,9,10]\n",
    "\n",
    "list(map((lambda x,y : x+y) , a,b))"
   ]
  },
  {
   "cell_type": "code",
   "execution_count": 23,
   "id": "9cab5831",
   "metadata": {},
   "outputs": [],
   "source": [
    "# extract the usernames from the list\n",
    "lst = ['akzelxw@hotmail.com',\n",
    "'elum@gmail.com',\n",
    "'akbar.caakaterasu@gmail.com',\n",
    "'akarui.kibuno@gmail.com',\n",
    "'ajsparkchick@hotmail.com',\n",
    "'ajmeia@yahoo.com',\n",
    "'ajhnstn87@gmail.com',\n",
    "'ailuvzhoko4@hotmail.com',\n",
    "'ailuvzhoko3@hotmail.com',\n",
    "'ailuvzhoko2@hotmail.com',\n",
    "'ailuvzhoko@hotmail.com',\n",
    "'aillensiquioco@aol.com',\n",
    "'ahmovic_ines@hotmail.com',\n",
    "'ahmed_g300@yahoo.com',\n",
    "'ahmadjazlan@gmail.com',\n",
    "'ahmad_ridho19@yahoo.com']"
   ]
  },
  {
   "cell_type": "code",
   "execution_count": 21,
   "id": "b44ad5ec",
   "metadata": {},
   "outputs": [
    {
     "data": {
      "text/plain": [
       "'ahmad_ridho19'"
      ]
     },
     "execution_count": 21,
     "metadata": {},
     "output_type": "execute_result"
    }
   ],
   "source": [
    "mail = 'ahmad_ridho19@yahoo.com'\n",
    "\n",
    "\n",
    "def user_extracter(a):\n",
    "    return a.split('@')[0]\n",
    "\n",
    "\n",
    "user_extracter(mail)"
   ]
  },
  {
   "cell_type": "code",
   "execution_count": 25,
   "id": "4e5c65ba",
   "metadata": {},
   "outputs": [
    {
     "data": {
      "text/plain": [
       "['akzelxw',\n",
       " 'elum',\n",
       " 'akbar.caakaterasu',\n",
       " 'akarui.kibuno',\n",
       " 'ajsparkchick',\n",
       " 'ajmeia',\n",
       " 'ajhnstn87',\n",
       " 'ailuvzhoko4',\n",
       " 'ailuvzhoko3',\n",
       " 'ailuvzhoko2',\n",
       " 'ailuvzhoko',\n",
       " 'aillensiquioco',\n",
       " 'ahmovic_ines',\n",
       " 'ahmed_g300',\n",
       " 'ahmadjazlan',\n",
       " 'ahmad_ridho19']"
      ]
     },
     "execution_count": 25,
     "metadata": {},
     "output_type": "execute_result"
    }
   ],
   "source": [
    "list(map(user_extracter , lst))"
   ]
  },
  {
   "cell_type": "code",
   "execution_count": 27,
   "id": "377ec909",
   "metadata": {},
   "outputs": [
    {
     "data": {
      "text/plain": [
       "['akzelxw',\n",
       " 'elum',\n",
       " 'akbar.caakaterasu',\n",
       " 'akarui.kibuno',\n",
       " 'ajsparkchick',\n",
       " 'ajmeia',\n",
       " 'ajhnstn87',\n",
       " 'ailuvzhoko4',\n",
       " 'ailuvzhoko3',\n",
       " 'ailuvzhoko2',\n",
       " 'ailuvzhoko',\n",
       " 'aillensiquioco',\n",
       " 'ahmovic_ines',\n",
       " 'ahmed_g300',\n",
       " 'ahmadjazlan',\n",
       " 'ahmad_ridho19']"
      ]
     },
     "execution_count": 27,
     "metadata": {},
     "output_type": "execute_result"
    }
   ],
   "source": [
    "# extract the usernames from the list\n",
    "lst = ['akzelxw@hotmail.com',\n",
    "'elum@gmail.com',\n",
    "'akbar.caakaterasu@gmail.com',\n",
    "'akarui.kibuno@gmail.com',\n",
    "'ajsparkchick@hotmail.com',\n",
    "'ajmeia@yahoo.com',\n",
    "'ajhnstn87@gmail.com',\n",
    "'ailuvzhoko4@hotmail.com',\n",
    "'ailuvzhoko3@hotmail.com',\n",
    "'ailuvzhoko2@hotmail.com',\n",
    "'ailuvzhoko@hotmail.com',\n",
    "'aillensiquioco@aol.com',\n",
    "'ahmovic_ines@hotmail.com',\n",
    "'ahmed_g300@yahoo.com',\n",
    "'ahmadjazlan@gmail.com',\n",
    "'ahmad_ridho19@yahoo.com']\n",
    "\n",
    "list(map(lambda a: a.split('@')[0] , lst))"
   ]
  },
  {
   "cell_type": "code",
   "execution_count": 33,
   "id": "d95806b2",
   "metadata": {},
   "outputs": [
    {
     "data": {
      "text/plain": [
       "[None,\n",
       " 'elum',\n",
       " 'akbar.caakaterasu',\n",
       " 'akarui.kibuno',\n",
       " None,\n",
       " None,\n",
       " 'ajhnstn87',\n",
       " None,\n",
       " None,\n",
       " None,\n",
       " None,\n",
       " None,\n",
       " None,\n",
       " None,\n",
       " 'ahmadjazlan',\n",
       " None]"
      ]
     },
     "execution_count": 33,
     "metadata": {},
     "output_type": "execute_result"
    }
   ],
   "source": [
    "# extract the usernames from the list\n",
    "lst = ['akzelxw@hotmail.com',\n",
    "'elum@gmail.com',\n",
    "'akbar.caakaterasu@gmail.com',\n",
    "'akarui.kibuno@gmail.com',\n",
    "'ajsparkchick@hotmail.com',\n",
    "'ajmeia@yahoo.com',\n",
    "'ajhnstn87@gmail.com',\n",
    "'ailuvzhoko4@hotmail.com',\n",
    "'ailuvzhoko3@hotmail.com',\n",
    "'ailuvzhoko2@hotmail.com',\n",
    "'ailuvzhoko@hotmail.com',\n",
    "'aillensiquioco@aol.com',\n",
    "'ahmovic_ines@hotmail.com',\n",
    "'ahmed_g300@yahoo.com',\n",
    "'ahmadjazlan@gmail.com',\n",
    "'ahmad_ridho19@yahoo.com']\n",
    "\n",
    "list(map((lambda a: a.split('@')[0] if a.split('@')[1] == 'gmail.com' else None) , lst))"
   ]
  },
  {
   "cell_type": "code",
   "execution_count": null,
   "id": "eadeaac7",
   "metadata": {},
   "outputs": [],
   "source": [
    "if a.split('@')[1] == 'gmail.com':\n",
    "    a.split('@')[0]"
   ]
  },
  {
   "cell_type": "markdown",
   "id": "241bba1b",
   "metadata": {},
   "source": [
    "# Filter\n",
    "\n",
    "- takes 2 args\n",
    "1. function\n",
    "2. seq\n",
    "\n",
    "\n",
    "syntax \n",
    "filter(function , seq)\n",
    "\n",
    "#### Note:- you function should only return True or false \n",
    "- Filter will only let the True elements to pass through it"
   ]
  },
  {
   "cell_type": "code",
   "execution_count": 38,
   "id": "3c35fb89",
   "metadata": {},
   "outputs": [
    {
     "data": {
      "text/plain": [
       "[False, True, False, True, False, False, True]"
      ]
     },
     "execution_count": 38,
     "metadata": {},
     "output_type": "execute_result"
    }
   ],
   "source": [
    "a = [1,2,3,4,5,565,676]\n",
    "\n",
    "\n",
    "list(map((lambda a: True if a%2 ==0 else False) , a))"
   ]
  },
  {
   "cell_type": "code",
   "execution_count": 39,
   "id": "4955ed9a",
   "metadata": {},
   "outputs": [
    {
     "data": {
      "text/plain": [
       "[2, 4, 676]"
      ]
     },
     "execution_count": 39,
     "metadata": {},
     "output_type": "execute_result"
    }
   ],
   "source": [
    "a = [1,2,3,4,5,565,676]\n",
    "\n",
    "\n",
    "list(filter((lambda a: True if a%2 ==0 else False) , a))"
   ]
  },
  {
   "cell_type": "code",
   "execution_count": 46,
   "id": "f13cc861",
   "metadata": {},
   "outputs": [
    {
     "data": {
      "text/plain": [
       "[2, 4, 676]"
      ]
     },
     "execution_count": 46,
     "metadata": {},
     "output_type": "execute_result"
    }
   ],
   "source": [
    "a = [1,2,3,4,5,565,676]\n",
    "\n",
    "\n",
    "list(filter((lambda a: a%2 ==0) , a))"
   ]
  },
  {
   "cell_type": "code",
   "execution_count": 48,
   "id": "ced32a23",
   "metadata": {},
   "outputs": [
    {
     "data": {
      "text/plain": [
       "['elum@gmail.com',\n",
       " 'akbar.caakaterasu@gmail.com',\n",
       " 'akarui.kibuno@gmail.com',\n",
       " 'ajhnstn87@gmail.com',\n",
       " 'ahmadjazlan@gmail.com']"
      ]
     },
     "execution_count": 48,
     "metadata": {},
     "output_type": "execute_result"
    }
   ],
   "source": [
    "# extract the usernames from the list\n",
    "lst = ['akzelxw@hotmail.com',\n",
    "'elum@gmail.com',\n",
    "'akbar.caakaterasu@gmail.com',\n",
    "'akarui.kibuno@gmail.com',\n",
    "'ajsparkchick@hotmail.com',\n",
    "'ajmeia@yahoo.com',\n",
    "'ajhnstn87@gmail.com',\n",
    "'ailuvzhoko4@hotmail.com',\n",
    "'ailuvzhoko3@hotmail.com',\n",
    "'ailuvzhoko2@hotmail.com',\n",
    "'ailuvzhoko@hotmail.com',\n",
    "'aillensiquioco@aol.com',\n",
    "'ahmovic_ines@hotmail.com',\n",
    "'ahmed_g300@yahoo.com',\n",
    "'ahmadjazlan@gmail.com',\n",
    "'ahmad_ridho19@yahoo.com']\n",
    "\n",
    "list(filter(lambda x : '@gmail.com' in x , lst))"
   ]
  },
  {
   "cell_type": "code",
   "execution_count": 51,
   "id": "14cc81c4",
   "metadata": {},
   "outputs": [
    {
     "data": {
      "text/plain": [
       "['elum@gmail.com',\n",
       " 'akbar.caakaterasu@gmail.com',\n",
       " 'akarui.kibuno@gmail.com',\n",
       " 'ajhnstn87@gmail.com',\n",
       " 'ahmadjazlan@gmail.com']"
      ]
     },
     "execution_count": 51,
     "metadata": {},
     "output_type": "execute_result"
    }
   ],
   "source": [
    "# extract the usernames from the list\n",
    "lst = ['akzelxw@hotmail.com',\n",
    "'elum@gmail.com',\n",
    "'akbar.caakaterasu@gmail.com',\n",
    "'akarui.kibuno@gmail.com',\n",
    "'ajsparkchick@hotmail.com',\n",
    "'ajmeia@yahoo.com',\n",
    "'ajhnstn87@gmail.com',\n",
    "'ailuvzhoko4@hotmail.com',\n",
    "'ailuvzhoko3@hotmail.com',\n",
    "'ailuvzhoko2@hotmail.com',\n",
    "'ailuvzhoko@hotmail.com',\n",
    "'aillensiquioco@aol.com',\n",
    "'ahmovic_ines@hotmail.com',\n",
    "'ahmed_g300@yahoo.com',\n",
    "'ahmadjazlan@gmail.com',\n",
    "'ahmad_ridho19@yahoo.com']\n",
    "\n",
    "elist = list(filter(lambda x : '@gmail.com' in x , lst))\n",
    "elist"
   ]
  },
  {
   "cell_type": "code",
   "execution_count": 52,
   "id": "71663aaa",
   "metadata": {},
   "outputs": [
    {
     "data": {
      "text/plain": [
       "['elum', 'akbar.caakaterasu', 'akarui.kibuno', 'ajhnstn87', 'ahmadjazlan']"
      ]
     },
     "execution_count": 52,
     "metadata": {},
     "output_type": "execute_result"
    }
   ],
   "source": [
    "list(map(lambda a: a.split('@')[0] , elist))"
   ]
  },
  {
   "cell_type": "code",
   "execution_count": 53,
   "id": "4f0bae3b",
   "metadata": {},
   "outputs": [
    {
     "data": {
      "text/plain": [
       "['elum', 'akbar.caakaterasu', 'akarui.kibuno', 'ajhnstn87', 'ahmadjazlan']"
      ]
     },
     "execution_count": 53,
     "metadata": {},
     "output_type": "execute_result"
    }
   ],
   "source": [
    "# extract the usernames from the list\n",
    "lst = ['akzelxw@hotmail.com',\n",
    "'elum@gmail.com',\n",
    "'akbar.caakaterasu@gmail.com',\n",
    "'akarui.kibuno@gmail.com',\n",
    "'ajsparkchick@hotmail.com',\n",
    "'ajmeia@yahoo.com',\n",
    "'ajhnstn87@gmail.com',\n",
    "'ailuvzhoko4@hotmail.com',\n",
    "'ailuvzhoko3@hotmail.com',\n",
    "'ailuvzhoko2@hotmail.com',\n",
    "'ailuvzhoko@hotmail.com',\n",
    "'aillensiquioco@aol.com',\n",
    "'ahmovic_ines@hotmail.com',\n",
    "'ahmed_g300@yahoo.com',\n",
    "'ahmadjazlan@gmail.com',\n",
    "'ahmad_ridho19@yahoo.com']\n",
    "\n",
    "list(map(lambda a: a.split('@')[0], filter(lambda x : '@gmail.com' in x , lst)))\n"
   ]
  },
  {
   "cell_type": "markdown",
   "id": "3d51bea3",
   "metadata": {},
   "source": [
    "# reduce\n",
    "\n",
    "1. function\n",
    "2. itreable\n",
    "\n",
    "- avg , min , max , aggregate"
   ]
  },
  {
   "cell_type": "code",
   "execution_count": 56,
   "id": "99a73b46",
   "metadata": {},
   "outputs": [],
   "source": [
    "from functools import reduce"
   ]
  },
  {
   "cell_type": "code",
   "execution_count": 57,
   "id": "3c6e5ffd",
   "metadata": {},
   "outputs": [
    {
     "data": {
      "text/plain": [
       "162"
      ]
     },
     "execution_count": 57,
     "metadata": {},
     "output_type": "execute_result"
    }
   ],
   "source": [
    "a = [1,2,3,4,54,6,7,8,9,0,5,4,3,56]\n",
    "\n",
    "sum(a)"
   ]
  },
  {
   "cell_type": "code",
   "execution_count": 58,
   "id": "6fab89b7",
   "metadata": {},
   "outputs": [
    {
     "data": {
      "text/plain": [
       "162"
      ]
     },
     "execution_count": 58,
     "metadata": {},
     "output_type": "execute_result"
    }
   ],
   "source": [
    "reduce( (lambda a,b: (a+b)) , a)"
   ]
  },
  {
   "cell_type": "code",
   "execution_count": null,
   "id": "cac3326c",
   "metadata": {},
   "outputs": [],
   "source": [
    "1,2,3,4,54,6,7,8,9,0,5,4,3,56\n",
    "3,3,4,54,6,7,8,9,0,5,4,3,56\n",
    "6,4,54,6,7,8,9,0,5,4,3,56\n",
    "10,54,6,7,8,9,0,5,4,3,56"
   ]
  },
  {
   "cell_type": "code",
   "execution_count": 61,
   "id": "06e896eb",
   "metadata": {},
   "outputs": [
    {
     "data": {
      "text/plain": [
       "0"
      ]
     },
     "execution_count": 61,
     "metadata": {},
     "output_type": "execute_result"
    }
   ],
   "source": [
    "# min\n",
    "\n",
    "a = [1,2,3,4,54,6,7,8,0,9,5,4,3,56]\n",
    "\n",
    "reduce( (lambda a,b: a if a<b else b ) , a)"
   ]
  },
  {
   "cell_type": "code",
   "execution_count": 62,
   "id": "5f7e9bb5",
   "metadata": {},
   "outputs": [
    {
     "data": {
      "text/plain": [
       "56"
      ]
     },
     "execution_count": 62,
     "metadata": {},
     "output_type": "execute_result"
    }
   ],
   "source": [
    "# max\n",
    "\n",
    "a = [1,2,3,4,54,6,7,8,0,9,5,4,3,56]\n",
    "\n",
    "reduce( (lambda a,b: a if a>b else b ) , a)"
   ]
  },
  {
   "cell_type": "code",
   "execution_count": 63,
   "id": "1db6e756",
   "metadata": {},
   "outputs": [
    {
     "data": {
      "text/plain": [
       "11.571428571428571"
      ]
     },
     "execution_count": 63,
     "metadata": {},
     "output_type": "execute_result"
    }
   ],
   "source": [
    "(reduce( (lambda a,b: (a+b)) , a)) / len(a)"
   ]
  },
  {
   "cell_type": "code",
   "execution_count": null,
   "id": "818f0b12",
   "metadata": {},
   "outputs": [],
   "source": []
  }
 ],
 "metadata": {
  "kernelspec": {
   "display_name": "Python 3 (ipykernel)",
   "language": "python",
   "name": "python3"
  },
  "language_info": {
   "codemirror_mode": {
    "name": "ipython",
    "version": 3
   },
   "file_extension": ".py",
   "mimetype": "text/x-python",
   "name": "python",
   "nbconvert_exporter": "python",
   "pygments_lexer": "ipython3",
   "version": "3.9.12"
  }
 },
 "nbformat": 4,
 "nbformat_minor": 5
}
