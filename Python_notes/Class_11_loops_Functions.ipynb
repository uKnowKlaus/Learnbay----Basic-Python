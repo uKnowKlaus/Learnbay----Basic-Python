{
 "cells": [
  {
   "cell_type": "markdown",
   "id": "1010c158",
   "metadata": {},
   "source": [
    "# Loops \n",
    "- for loop\n",
    "- while loop"
   ]
  },
  {
   "cell_type": "code",
   "execution_count": null,
   "id": "9cac8b18",
   "metadata": {},
   "outputs": [],
   "source": [
    "# For loop\n",
    "- For fixed iterations we used for loop\n",
    "\n",
    "\n",
    "\n",
    "for var in iterable:\n",
    "    stat1\n",
    "    stat2\n",
    "    stat3"
   ]
  },
  {
   "cell_type": "code",
   "execution_count": 8,
   "id": "f6da4669",
   "metadata": {},
   "outputs": [
    {
     "name": "stdout",
     "output_type": "stream",
     "text": [
      "4\n",
      "['__add__', '__class__', '__class_getitem__', '__contains__', '__delattr__', '__dir__', '__doc__', '__eq__', '__format__', '__ge__', '__getattribute__', '__getitem__', '__getnewargs__', '__gt__', '__hash__', '__init__', '__init_subclass__', '__iter__', '__le__', '__len__', '__lt__', '__mul__', '__ne__', '__new__', '__reduce__', '__reduce_ex__', '__repr__', '__rmul__', '__setattr__', '__sizeof__', '__str__', '__subclasshook__', 'count', 'index']\n"
     ]
    }
   ],
   "source": [
    "a = (1,2,3,43)\n",
    "\n",
    "print(len(a))\n",
    "# or\n",
    "print(dir(a))\n"
   ]
  },
  {
   "cell_type": "code",
   "execution_count": null,
   "id": "fbdc8c3a",
   "metadata": {},
   "outputs": [],
   "source": [
    "# While loop\n",
    "\n",
    "- if we do not know the iteration \n",
    "\n",
    "\n",
    "syntax \n",
    "1. initialization\n",
    "2. condition checking\n",
    "3. inc / dec"
   ]
  },
  {
   "cell_type": "code",
   "execution_count": 11,
   "id": "75b4b721",
   "metadata": {},
   "outputs": [
    {
     "name": "stdout",
     "output_type": "stream",
     "text": [
      "statements\n",
      "statements\n",
      "statements\n",
      "statements\n",
      "statements\n",
      "statements\n"
     ]
    }
   ],
   "source": [
    "num = 0 # initiaalization\n",
    "while num<=5: # condition checking\n",
    "    print('statements')\n",
    "    num +=1 # inx/ dec"
   ]
  },
  {
   "cell_type": "code",
   "execution_count": 10,
   "id": "4bcbb2fe",
   "metadata": {},
   "outputs": [
    {
     "data": {
      "text/plain": [
       "6"
      ]
     },
     "execution_count": 10,
     "metadata": {},
     "output_type": "execute_result"
    }
   ],
   "source": [
    "x = 5\n",
    "\n",
    "x +=1\n",
    "\n",
    "x"
   ]
  },
  {
   "cell_type": "code",
   "execution_count": 19,
   "id": "46644d0d",
   "metadata": {},
   "outputs": [
    {
     "name": "stdout",
     "output_type": "stream",
     "text": [
      "p\n",
      "yy\n",
      "ttt\n",
      "hhhh\n",
      "ooooo\n",
      "nnnnnn\n",
      "------\n",
      "p\n",
      "yy\n",
      "ttt\n",
      "hhhh\n",
      "ooooo\n",
      "nnnnnn\n",
      "------\n",
      "p\n",
      "yy\n",
      "ttt\n",
      "hhhh\n",
      "ooooo\n",
      "nnnnnn\n"
     ]
    }
   ],
   "source": [
    "a = 'python' \n",
    "\n",
    "# p\n",
    "# yy\n",
    "# ttt\n",
    "# hhhh\n",
    "# ooooo\n",
    "# nnnnnn\n",
    "\n",
    "# Algorithm\n",
    "print(a[0] * 1)\n",
    "print(a[1] * 2)\n",
    "print(a[2] * 3)\n",
    "print(a[3] * 4)\n",
    "print(a[4] * 5)\n",
    "print(a[5] * 6)\n",
    "\n",
    "# for loop \n",
    "print('------')\n",
    "\n",
    "for i in range(0,len(a)):\n",
    "    print(a[i] * (i+1))\n",
    "\n",
    "\n",
    "# while loop\n",
    "print('------')\n",
    "\n",
    "i = 0\n",
    "while i< len(a):\n",
    "    print(a[i] * (i+1))\n",
    "    i+=1"
   ]
  },
  {
   "cell_type": "code",
   "execution_count": 26,
   "id": "22030eab",
   "metadata": {},
   "outputs": [
    {
     "name": "stdout",
     "output_type": "stream",
     "text": [
      "nnnnnn\n",
      "ooooo\n",
      "hhhh\n",
      "ttt\n",
      "yy\n",
      "p\n",
      " -------- \n",
      "nnnnnn\n",
      "ooooo\n",
      "hhhh\n",
      "ttt\n",
      "yy\n",
      "p\n",
      " -------- \n",
      "nnnnnn\n",
      "ooooo\n",
      "hhhh\n",
      "ttt\n",
      "yy\n",
      "p\n",
      "\n"
     ]
    }
   ],
   "source": [
    "# nnnnnn\n",
    "# ooooo\n",
    "# hhhh\n",
    "# ttt\n",
    "# yy\n",
    "# p\n",
    "\n",
    "a = 'python'\n",
    "\n",
    "print(a[5] * 6)\n",
    "print(a[4] * 5)\n",
    "print(a[3] * 4)\n",
    "print(a[2] * 3)\n",
    "print(a[1] * 2)\n",
    "print(a[0] * 1)\n",
    "\n",
    "# for \n",
    "print(' -------- ')\n",
    "for i in range(len(a) , 0 ,-1):\n",
    "    print(a[i-1] * i)\n",
    "\n",
    "\n",
    "# while loop\n",
    "print(' -------- ')\n",
    "\n",
    "i = len(a)\n",
    "while i >= 0:\n",
    "    print(a[i-1] * i)\n",
    "    i -= 1\n",
    "\n"
   ]
  },
  {
   "cell_type": "markdown",
   "id": "b648171f",
   "metadata": {},
   "source": [
    "# Break, continue and pass"
   ]
  },
  {
   "cell_type": "markdown",
   "id": "cd6f94b9",
   "metadata": {},
   "source": [
    "# This keyword is used to break out of the loop"
   ]
  },
  {
   "cell_type": "code",
   "execution_count": 28,
   "id": "d7442344",
   "metadata": {},
   "outputs": [
    {
     "name": "stdout",
     "output_type": "stream",
     "text": [
      "1\n",
      "2\n",
      "3\n",
      "Hello\n"
     ]
    }
   ],
   "source": [
    "# Break \n",
    "\n",
    "a = [1,2,3,4,5,6,7]\n",
    "\n",
    "for i in a:\n",
    "    if i == 4:\n",
    "        break\n",
    "    print(i)\n",
    "        \n",
    "print('Hello')"
   ]
  },
  {
   "cell_type": "code",
   "execution_count": null,
   "id": "e1494078",
   "metadata": {},
   "outputs": [],
   "source": [
    "# continue\n",
    "- keyword is used to end that iteration itself"
   ]
  },
  {
   "cell_type": "code",
   "execution_count": 29,
   "id": "a006ac16",
   "metadata": {},
   "outputs": [
    {
     "name": "stdout",
     "output_type": "stream",
     "text": [
      "1\n",
      "2\n",
      "3\n",
      "5\n",
      "6\n",
      "7\n",
      "Hello\n"
     ]
    }
   ],
   "source": [
    "# continue \n",
    "\n",
    "a = [1,2,3,4,5,6,7]\n",
    "\n",
    "for i in a:\n",
    "    if i == 4:\n",
    "        continue\n",
    "    print(i)\n",
    "        \n",
    "print('Hello')"
   ]
  },
  {
   "cell_type": "markdown",
   "id": "0a220e4e",
   "metadata": {},
   "source": [
    "# Pass"
   ]
  },
  {
   "cell_type": "code",
   "execution_count": 31,
   "id": "e7b0aa7c",
   "metadata": {},
   "outputs": [
    {
     "name": "stdout",
     "output_type": "stream",
     "text": [
      " v1 a\n",
      "v1 c\n",
      "v1 d\n"
     ]
    }
   ],
   "source": [
    "# pass \n",
    "\n",
    "a = ['a' ,'b' , 'c' , 'd']\n",
    "\n",
    "for i in a:\n",
    "    if i == 'a':\n",
    "        print(' v1 a')\n",
    "    if i == 'b':\n",
    "        pass\n",
    "    if i == 'c':\n",
    "        print('v1 c')\n",
    "    if i == 'd':\n",
    "        print('v1 d')"
   ]
  },
  {
   "cell_type": "code",
   "execution_count": 35,
   "id": "c911b2c1",
   "metadata": {},
   "outputs": [
    {
     "name": "stdout",
     "output_type": "stream",
     "text": [
      "v1 a\n",
      "v1 b\n",
      "v1 c\n",
      "v1 d\n"
     ]
    }
   ],
   "source": [
    "# pass \n",
    "\n",
    "a = ['a' ,'b' , 'c' , 'd']\n",
    "\n",
    "for i in a:\n",
    "    if i == 'a':\n",
    "        print('v1 a')\n",
    "    if i == 'b':\n",
    "        pass\n",
    "    if i == 'c':\n",
    "        print('v1 c')\n",
    "    if i == 'd':\n",
    "        print('v1 d')\n",
    "    if i == 'b':\n",
    "        print('v1 b')"
   ]
  },
  {
   "cell_type": "code",
   "execution_count": 33,
   "id": "e89fef6c",
   "metadata": {},
   "outputs": [
    {
     "name": "stdout",
     "output_type": "stream",
     "text": [
      " v1 a\n",
      "v1 c\n",
      "v1 d\n"
     ]
    }
   ],
   "source": [
    "# pass \n",
    "\n",
    "a = ['a' ,'b' , 'c' , 'd']\n",
    "\n",
    "for i in a:\n",
    "    if i == 'a':\n",
    "        print(' v1 a')\n",
    "    if i == 'b':\n",
    "        continue\n",
    "    if i == 'c':\n",
    "        print('v1 c')\n",
    "    if i == 'd':\n",
    "        print('v1 d')\n",
    "    if i == 'b':\n",
    "        print('v1 b')"
   ]
  },
  {
   "cell_type": "code",
   "execution_count": 34,
   "id": "01674197",
   "metadata": {},
   "outputs": [
    {
     "name": "stdout",
     "output_type": "stream",
     "text": [
      " v1 a\n"
     ]
    }
   ],
   "source": [
    "# pass \n",
    "\n",
    "a = ['a' ,'b' , 'c' , 'd']\n",
    "\n",
    "for i in a:\n",
    "    if i == 'a':\n",
    "        print('v1 a')\n",
    "    if i == 'b':\n",
    "        break\n",
    "    if i == 'c':\n",
    "        print('v1 c')\n",
    "    if i == 'd':\n",
    "        print('v1 d')\n",
    "    if i == 'b':\n",
    "        print('v1 b')"
   ]
  },
  {
   "cell_type": "code",
   "execution_count": 42,
   "id": "ecd1c566",
   "metadata": {},
   "outputs": [
    {
     "name": "stdout",
     "output_type": "stream",
     "text": [
      "v1 A\n",
      "v2 A\n"
     ]
    }
   ],
   "source": [
    "# pass \n",
    "\n",
    "a = ['a' ,'b' , 'c' , 'd']\n",
    "\n",
    "for i in a:\n",
    "    if i == 'a':\n",
    "        print('v1 A')\n",
    "        pass\n",
    "    if i == 'b':\n",
    "        pass\n",
    "        break\n",
    "    if i == 'c':\n",
    "        print('v1 C')\n",
    "    if i == 'd':\n",
    "        print('v1 D')\n",
    "    if i == 'b':\n",
    "        print('v1 B')\n",
    "    if i == 'a':\n",
    "        print('v2 A')\n",
    "    if i == 'c':\n",
    "        print('V2 C')\n",
    "    if i == 'd':\n",
    "        print('v2 D')"
   ]
  },
  {
   "cell_type": "code",
   "execution_count": null,
   "id": "3cc72558",
   "metadata": {},
   "outputs": [],
   "source": [
    "v1 A\n",
    "v1 B\n",
    "v1 C"
   ]
  },
  {
   "cell_type": "code",
   "execution_count": 39,
   "id": "c720fff9",
   "metadata": {},
   "outputs": [
    {
     "name": "stdout",
     "output_type": "stream",
     "text": [
      "1\n",
      "2\n"
     ]
    }
   ],
   "source": [
    "a = [1,2,3,4]\n",
    "\n",
    "for i in a:\n",
    "    if i == 3:\n",
    "        break\n",
    "        print('hello')\n",
    "    print(i)"
   ]
  },
  {
   "cell_type": "markdown",
   "id": "ba74c425",
   "metadata": {},
   "source": [
    "# Functions"
   ]
  },
  {
   "cell_type": "code",
   "execution_count": 43,
   "id": "4f1f7845",
   "metadata": {},
   "outputs": [
    {
     "name": "stdout",
     "output_type": "stream",
     "text": [
      "no\n",
      "30\n",
      "no\n",
      "50\n"
     ]
    }
   ],
   "source": [
    "# task1\n",
    "\n",
    "a = 'xyz'\n",
    "if a == a[::-1]:\n",
    "    print('yes')\n",
    "else:\n",
    "    print('no')\n",
    "    \n",
    "# task 2 \n",
    "x = 10\n",
    "y = 20\n",
    "print(x + y)\n",
    "\n",
    "# task 3\n",
    "a = 'abc'\n",
    "if a == a[::-1]:\n",
    "    print('yes')\n",
    "else:\n",
    "    print('no')\n",
    "\n",
    "# Task 4    \n",
    "x = 30\n",
    "y = 20\n",
    "print(x + y)"
   ]
  },
  {
   "cell_type": "markdown",
   "id": "285d422d",
   "metadata": {},
   "source": [
    "# Best practices\n",
    "- code should be written in a manner that it is understandable\n",
    "- code should be written in minimum lines as possible"
   ]
  },
  {
   "cell_type": "code",
   "execution_count": null,
   "id": "49f5f3b1",
   "metadata": {},
   "outputs": [],
   "source": [
    "# Functions -- DRY (do not repeat yourself)\n",
    "\n",
    "- function defination --- a place where we define our function\n",
    "- function call --- we execute the function\n",
    "\n",
    "\n",
    "\n",
    "# Syntax\n",
    "1. function defination\n",
    "\n",
    "    def funct_name(parameters):\n",
    "        stat1\n",
    "        stat2\n",
    "        sat3\n",
    "        return stat4\n",
    "    \n",
    "2. function call \n",
    "    funct_name(arguments)\n",
    "    \n",
    "# Things which are optional\n",
    "- parameters \n",
    "- return\n",
    "\n",
    "#### please note: If you have given parameters then you should give the arguments"
   ]
  },
  {
   "cell_type": "code",
   "execution_count": 44,
   "id": "c58926bd",
   "metadata": {},
   "outputs": [],
   "source": [
    "# create a function\n",
    "\n",
    "# function defination\n",
    "def adder():\n",
    "    print(10+20)"
   ]
  },
  {
   "cell_type": "code",
   "execution_count": 45,
   "id": "d128fd70",
   "metadata": {},
   "outputs": [
    {
     "name": "stdout",
     "output_type": "stream",
     "text": [
      "30\n"
     ]
    }
   ],
   "source": [
    "# function call\n",
    "\n",
    "adder()"
   ]
  },
  {
   "cell_type": "code",
   "execution_count": 48,
   "id": "ff804b33",
   "metadata": {},
   "outputs": [
    {
     "name": "stdout",
     "output_type": "stream",
     "text": [
      "30\n",
      "30\n",
      "30\n",
      "30\n"
     ]
    }
   ],
   "source": [
    "\n",
    "adder()\n",
    "adder()\n",
    "adder()\n",
    "adder()"
   ]
  },
  {
   "cell_type": "code",
   "execution_count": 49,
   "id": "cfdfb7cf",
   "metadata": {},
   "outputs": [],
   "source": [
    "# create a function\n",
    "\n",
    "# function defination\n",
    "def adder(a ,b):\n",
    "    print(a+b)"
   ]
  },
  {
   "cell_type": "code",
   "execution_count": 51,
   "id": "dd80b10e",
   "metadata": {},
   "outputs": [
    {
     "name": "stdout",
     "output_type": "stream",
     "text": [
      "60\n"
     ]
    }
   ],
   "source": [
    "adder(20 , 40)"
   ]
  },
  {
   "cell_type": "code",
   "execution_count": 52,
   "id": "95804dcf",
   "metadata": {},
   "outputs": [],
   "source": [
    "# Write a function to check if user given string is an palindrom or not\n",
    "\n",
    "def palindrom(a):\n",
    "    if a == a[::-1]:\n",
    "        print('yes')\n",
    "    else:\n",
    "        print('no')\n"
   ]
  },
  {
   "cell_type": "code",
   "execution_count": 53,
   "id": "0bdd1c1e",
   "metadata": {},
   "outputs": [
    {
     "name": "stdout",
     "output_type": "stream",
     "text": [
      "yes\n"
     ]
    }
   ],
   "source": [
    "palindrom('level')"
   ]
  },
  {
   "cell_type": "code",
   "execution_count": 54,
   "id": "1be4b196",
   "metadata": {},
   "outputs": [
    {
     "name": "stdout",
     "output_type": "stream",
     "text": [
      "no\n",
      "30\n",
      "no\n",
      "60\n"
     ]
    }
   ],
   "source": [
    "# task1\n",
    "\n",
    "palindrom('xyz')\n",
    "    \n",
    "# task 2 \n",
    "adder(10,20)\n",
    "\n",
    "# task 3\n",
    "palindrom('abc')\n",
    "\n",
    "# Task 4    \n",
    "adder(20 ,40)"
   ]
  },
  {
   "cell_type": "markdown",
   "id": "a670d769",
   "metadata": {},
   "source": [
    "# Types of arguments\n",
    "3 types of arguments\n",
    "\n",
    "\n",
    "1. positional arguments\n",
    "   - order is important\n",
    "   - num of args should match with num of parameters"
   ]
  },
  {
   "cell_type": "code",
   "execution_count": 57,
   "id": "97844af0",
   "metadata": {},
   "outputs": [
    {
     "name": "stdout",
     "output_type": "stream",
     "text": [
      "The name of the emp is  python\n",
      "The salary of the emp is  626253\n",
      "The age of the emp is  98\n"
     ]
    }
   ],
   "source": [
    "def emp_info(emp_name , emp_sal , emp_age):\n",
    "    print('The name of the emp is ' , emp_name)\n",
    "    print('The salary of the emp is ' , emp_sal)\n",
    "    print('The age of the emp is ' , emp_age)\n",
    "    \n",
    "emp_info('python' , 626253 , 98)"
   ]
  },
  {
   "cell_type": "code",
   "execution_count": 58,
   "id": "8054d01b",
   "metadata": {},
   "outputs": [
    {
     "name": "stdout",
     "output_type": "stream",
     "text": [
      "The name of the emp is  626253\n",
      "The salary of the emp is  98\n",
      "The age of the emp is  python\n"
     ]
    }
   ],
   "source": [
    "def emp_info(emp_name , emp_sal , emp_age):\n",
    "    print('The name of the emp is ' , emp_name)\n",
    "    print('The salary of the emp is ' , emp_sal)\n",
    "    print('The age of the emp is ' , emp_age)\n",
    "    \n",
    "emp_info(626253 , 98 ,'python')"
   ]
  },
  {
   "cell_type": "code",
   "execution_count": 59,
   "id": "40018e84",
   "metadata": {},
   "outputs": [
    {
     "ename": "TypeError",
     "evalue": "emp_info() missing 1 required positional argument: 'emp_age'",
     "output_type": "error",
     "traceback": [
      "\u001b[1;31m---------------------------------------------------------------------------\u001b[0m",
      "\u001b[1;31mTypeError\u001b[0m                                 Traceback (most recent call last)",
      "Input \u001b[1;32mIn [59]\u001b[0m, in \u001b[0;36m<cell line: 6>\u001b[1;34m()\u001b[0m\n\u001b[0;32m      3\u001b[0m     \u001b[38;5;28mprint\u001b[39m(\u001b[38;5;124m'\u001b[39m\u001b[38;5;124mThe salary of the emp is \u001b[39m\u001b[38;5;124m'\u001b[39m , emp_sal)\n\u001b[0;32m      4\u001b[0m     \u001b[38;5;28mprint\u001b[39m(\u001b[38;5;124m'\u001b[39m\u001b[38;5;124mThe age of the emp is \u001b[39m\u001b[38;5;124m'\u001b[39m , emp_age)\n\u001b[1;32m----> 6\u001b[0m \u001b[43memp_info\u001b[49m\u001b[43m(\u001b[49m\u001b[43m \u001b[49m\u001b[38;5;241;43m98\u001b[39;49m\u001b[43m \u001b[49m\u001b[43m,\u001b[49m\u001b[38;5;124;43m'\u001b[39;49m\u001b[38;5;124;43mpython\u001b[39;49m\u001b[38;5;124;43m'\u001b[39;49m\u001b[43m)\u001b[49m\n",
      "\u001b[1;31mTypeError\u001b[0m: emp_info() missing 1 required positional argument: 'emp_age'"
     ]
    }
   ],
   "source": [
    "def emp_info(emp_name , emp_sal , emp_age):\n",
    "    print('The name of the emp is ' , emp_name)\n",
    "    print('The salary of the emp is ' , emp_sal)\n",
    "    print('The age of the emp is ' , emp_age)\n",
    "    \n",
    "emp_info( 98 ,'python')"
   ]
  },
  {
   "cell_type": "markdown",
   "id": "43cfcb0d",
   "metadata": {},
   "source": [
    "# 2. Default arguments"
   ]
  },
  {
   "cell_type": "code",
   "execution_count": 61,
   "id": "ff343ea5",
   "metadata": {},
   "outputs": [
    {
     "name": "stdout",
     "output_type": "stream",
     "text": [
      "The name of the emp is : python\n",
      "The salary of the emp is : 7625635634\n",
      "The age of the emp is : 98\n",
      "The location of the emp is : Goa\n"
     ]
    }
   ],
   "source": [
    "def emp_info(emp_name , emp_sal , emp_age , emp_loc = 'Goa'):\n",
    "    print('The name of the emp is :' , emp_name)\n",
    "    print('The salary of the emp is :' , emp_sal)\n",
    "    print('The age of the emp is :' , emp_age)\n",
    "    print('The location of the emp is :' , emp_loc)\n",
    "    \n",
    "emp_info('python' , 7625635634 ,98)"
   ]
  },
  {
   "cell_type": "code",
   "execution_count": 62,
   "id": "ddcef15b",
   "metadata": {},
   "outputs": [
    {
     "name": "stdout",
     "output_type": "stream",
     "text": [
      "The name of the emp is : python\n",
      "The salary of the emp is : 7625635634\n",
      "The age of the emp is : 98\n",
      "The location of the emp is : Bangalore\n"
     ]
    }
   ],
   "source": [
    "def emp_info(emp_name , emp_sal , emp_age , emp_loc = 'Goa'):\n",
    "    print('The name of the emp is :' , emp_name)\n",
    "    print('The salary of the emp is :' , emp_sal)\n",
    "    print('The age of the emp is :' , emp_age)\n",
    "    print('The location of the emp is :' , emp_loc)\n",
    "    \n",
    "emp_info('python' , 7625635634 ,98 , 'Bangalore')"
   ]
  },
  {
   "cell_type": "code",
   "execution_count": 63,
   "id": "fa2444d5",
   "metadata": {},
   "outputs": [
    {
     "name": "stdout",
     "output_type": "stream",
     "text": [
      "The name of the emp is : python\n",
      "The salary of the emp is : 7625635634\n",
      "The age of the emp is : 98\n",
      "The location of the emp is : Bangalore\n"
     ]
    }
   ],
   "source": [
    "def emp_info(emp_name , emp_sal , emp_age , emp_loc = 'Goa'):\n",
    "    print('The name of the emp is :' , emp_name)\n",
    "    print('The salary of the emp is :' , emp_sal)\n",
    "    print('The age of the emp is :' , emp_age)\n",
    "    print('The location of the emp is :' , emp_loc)\n",
    "    \n",
    "emp_info('python' , 7625635634 ,98 ,emp_loc= 'Bangalore')"
   ]
  },
  {
   "cell_type": "code",
   "execution_count": 64,
   "id": "9859d9db",
   "metadata": {},
   "outputs": [
    {
     "name": "stdout",
     "output_type": "stream",
     "text": [
      "The name of the emp is : python\n",
      "The salary of the emp is : 7625635634\n",
      "The age of the emp is : 98\n",
      "The location of the emp is : Goa\n",
      "The pin of the emp is : 535353\n"
     ]
    }
   ],
   "source": [
    "def emp_info(emp_name , emp_sal , emp_age , emp_loc = 'Goa' , emp_pin = 535353):\n",
    "    print('The name of the emp is :' , emp_name)\n",
    "    print('The salary of the emp is :' , emp_sal)\n",
    "    print('The age of the emp is :' , emp_age)\n",
    "    print('The location of the emp is :' , emp_loc)\n",
    "    print('The pin of the emp is :' , emp_pin)\n",
    "    \n",
    "emp_info('python' , 7625635634 ,98)"
   ]
  },
  {
   "cell_type": "code",
   "execution_count": 65,
   "id": "5333fa71",
   "metadata": {},
   "outputs": [
    {
     "name": "stdout",
     "output_type": "stream",
     "text": [
      "The name of the emp is : python\n",
      "The salary of the emp is : 7625635634\n",
      "The age of the emp is : 98\n",
      "The location of the emp is : bangalore\n",
      "The pin of the emp is : 535353\n"
     ]
    }
   ],
   "source": [
    "def emp_info(emp_name , emp_sal , emp_age , emp_loc = 'Goa' , emp_pin = 535353):\n",
    "    print('The name of the emp is :' , emp_name)\n",
    "    print('The salary of the emp is :' , emp_sal)\n",
    "    print('The age of the emp is :' , emp_age)\n",
    "    print('The location of the emp is :' , emp_loc)\n",
    "    print('The pin of the emp is :' , emp_pin)\n",
    "    \n",
    "emp_info('python' , 7625635634 ,98 , 'bangalore')"
   ]
  },
  {
   "cell_type": "code",
   "execution_count": 66,
   "id": "b47e772b",
   "metadata": {},
   "outputs": [
    {
     "name": "stdout",
     "output_type": "stream",
     "text": [
      "The name of the emp is : python\n",
      "The salary of the emp is : 7625635634\n",
      "The age of the emp is : 98\n",
      "The location of the emp is : \n",
      "The pin of the emp is : 93939\n"
     ]
    }
   ],
   "source": [
    "def emp_info(emp_name , emp_sal , emp_age , emp_loc = 'Goa' , emp_pin = 535353):\n",
    "    print('The name of the emp is :' , emp_name)\n",
    "    print('The salary of the emp is :' , emp_sal)\n",
    "    print('The age of the emp is :' , emp_age)\n",
    "    print('The location of the emp is :' , emp_loc)\n",
    "    print('The pin of the emp is :' , emp_pin)\n",
    "    \n",
    "emp_info('python' , 7625635634 ,98 , '' , 93939)"
   ]
  },
  {
   "cell_type": "code",
   "execution_count": 69,
   "id": "7222820d",
   "metadata": {},
   "outputs": [
    {
     "name": "stdout",
     "output_type": "stream",
     "text": [
      "The name of the emp is : python\n",
      "The salary of the emp is : 7625635634\n",
      "The age of the emp is : 98\n",
      "The location of the emp is : 93939\n",
      "The pin of the emp is : 535353\n"
     ]
    }
   ],
   "source": [
    "def emp_info(emp_name , emp_sal , emp_age , emp_loc = 'Goa' , emp_pin = 535353):\n",
    "    print('The name of the emp is :' , emp_name)\n",
    "    print('The salary of the emp is :' , emp_sal)\n",
    "    print('The age of the emp is :' , emp_age)\n",
    "    print('The location of the emp is :' , emp_loc)\n",
    "    print('The pin of the emp is :' , emp_pin)\n",
    "    \n",
    "emp_info('python' , 7625635634 ,98, 93939)"
   ]
  },
  {
   "cell_type": "code",
   "execution_count": 70,
   "id": "c81bc369",
   "metadata": {},
   "outputs": [
    {
     "name": "stdout",
     "output_type": "stream",
     "text": [
      "The name of the emp is : python\n",
      "The salary of the emp is : 7625635634\n",
      "The age of the emp is : 98\n",
      "The location of the emp is : Goa\n",
      "The pin of the emp is : 93939\n"
     ]
    }
   ],
   "source": [
    "def emp_info(emp_name , emp_sal , emp_age , emp_loc = 'Goa' , emp_pin = 535353):\n",
    "    print('The name of the emp is :' , emp_name)\n",
    "    print('The salary of the emp is :' , emp_sal)\n",
    "    print('The age of the emp is :' , emp_age)\n",
    "    print('The location of the emp is :' , emp_loc)\n",
    "    print('The pin of the emp is :' , emp_pin)\n",
    "    \n",
    "emp_info('python' , 7625635634 ,98,'Goa' ,93939)"
   ]
  },
  {
   "cell_type": "code",
   "execution_count": 71,
   "id": "b86a74ab",
   "metadata": {},
   "outputs": [
    {
     "name": "stdout",
     "output_type": "stream",
     "text": [
      "The name of the emp is : python\n",
      "The salary of the emp is : 7625635634\n",
      "The age of the emp is : 98\n",
      "The location of the emp is : Goa\n",
      "The pin of the emp is : 93939\n"
     ]
    }
   ],
   "source": [
    "def emp_info(emp_name , emp_sal , emp_age , emp_loc = 'Goa' , emp_pin = 535353):\n",
    "    print('The name of the emp is :' , emp_name)\n",
    "    print('The salary of the emp is :' , emp_sal)\n",
    "    print('The age of the emp is :' , emp_age)\n",
    "    print('The location of the emp is :' , emp_loc)\n",
    "    print('The pin of the emp is :' , emp_pin)\n",
    "    \n",
    "emp_info('python' , 7625635634 ,98, emp_pin= 93939)"
   ]
  },
  {
   "cell_type": "markdown",
   "id": "e9f9c5a0",
   "metadata": {},
   "source": [
    "# Note\n",
    "\n",
    "### If there is a combination of positional and default arg, then default args should be followed posible args"
   ]
  },
  {
   "cell_type": "code",
   "execution_count": 73,
   "id": "3b6a2228",
   "metadata": {},
   "outputs": [
    {
     "ename": "SyntaxError",
     "evalue": "positional argument follows keyword argument (1727065678.py, line 8)",
     "output_type": "error",
     "traceback": [
      "\u001b[1;36m  Input \u001b[1;32mIn [73]\u001b[1;36m\u001b[0m\n\u001b[1;33m    emp_info(emp_pin= 93939 ,'python' , 7625635634 ,98)\u001b[0m\n\u001b[1;37m                                                      ^\u001b[0m\n\u001b[1;31mSyntaxError\u001b[0m\u001b[1;31m:\u001b[0m positional argument follows keyword argument\n"
     ]
    }
   ],
   "source": [
    "def emp_info(emp_name , emp_sal , emp_age , emp_loc = 'Goa' , emp_pin = 535353):\n",
    "    print('The name of the emp is :' , emp_name)\n",
    "    print('The salary of the emp is :' , emp_sal)\n",
    "    print('The age of the emp is :' , emp_age)\n",
    "    print('The location of the emp is :' , emp_loc)\n",
    "    print('The pin of the emp is :' , emp_pin)\n",
    "    \n",
    "emp_info(emp_pin= 93939 ,'python' , 7625635634 ,98)"
   ]
  },
  {
   "cell_type": "code",
   "execution_count": 74,
   "id": "32cfe10e",
   "metadata": {},
   "outputs": [
    {
     "ename": "SyntaxError",
     "evalue": "non-default argument follows default argument (297730604.py, line 1)",
     "output_type": "error",
     "traceback": [
      "\u001b[1;36m  Input \u001b[1;32mIn [74]\u001b[1;36m\u001b[0m\n\u001b[1;33m    def emp_info(emp_pin = 535353 , emp_name , emp_sal , emp_age , emp_loc = 'Goa' ):\u001b[0m\n\u001b[1;37m                                               ^\u001b[0m\n\u001b[1;31mSyntaxError\u001b[0m\u001b[1;31m:\u001b[0m non-default argument follows default argument\n"
     ]
    }
   ],
   "source": [
    "def emp_info(emp_pin = 535353 , emp_name , emp_sal , emp_age , emp_loc = 'Goa' ):\n",
    "    print('The name of the emp is :' , emp_name)\n",
    "    print('The salary of the emp is :' , emp_sal)\n",
    "    print('The age of the emp is :' , emp_age)\n",
    "    print('The location of the emp is :' , emp_loc)\n",
    "    print('The pin of the emp is :' , emp_pin)\n",
    "    \n",
    "emp_info(emp_pin= 93939 ,'python' , 7625635634 ,98)"
   ]
  },
  {
   "cell_type": "markdown",
   "id": "b96d317b",
   "metadata": {},
   "source": [
    "# Keyword arg\n",
    "- You have to call the keyword for every positional arg"
   ]
  },
  {
   "cell_type": "code",
   "execution_count": 78,
   "id": "1a14c1ae",
   "metadata": {},
   "outputs": [
    {
     "name": "stdout",
     "output_type": "stream",
     "text": [
      "The name of the emp is : python\n",
      "The salary of the emp is : 7625635634\n",
      "The age of the emp is : 98\n",
      "The location of the emp is : Goa\n",
      "The pin of the emp is : 535353\n"
     ]
    }
   ],
   "source": [
    "def emp_info(emp_name , emp_sal , emp_age , emp_loc = 'Goa' , emp_pin = 535353):\n",
    "    print('The name of the emp is :' , emp_name)\n",
    "    print('The salary of the emp is :' , emp_sal)\n",
    "    print('The age of the emp is :' , emp_age)\n",
    "    print('The location of the emp is :' , emp_loc)\n",
    "    print('The pin of the emp is :' , emp_pin)\n",
    "    \n",
    "emp_info(emp_sal = 7625635634 ,emp_age=98 , emp_name ='python' )"
   ]
  },
  {
   "cell_type": "code",
   "execution_count": 80,
   "id": "c60f360c",
   "metadata": {},
   "outputs": [
    {
     "name": "stdout",
     "output_type": "stream",
     "text": [
      "60\n"
     ]
    }
   ],
   "source": [
    "# create a function\n",
    "\n",
    "# function defination\n",
    "def adder(a ,b):\n",
    "    print(a+b)\n",
    "adder(20, 40)"
   ]
  },
  {
   "cell_type": "code",
   "execution_count": null,
   "id": "b7d9c983",
   "metadata": {},
   "outputs": [],
   "source": [
    "adder(20, 40 ,5,67,8,89)"
   ]
  },
  {
   "cell_type": "code",
   "execution_count": 87,
   "id": "b015178a",
   "metadata": {},
   "outputs": [
    {
     "name": "stdout",
     "output_type": "stream",
     "text": [
      "148\n"
     ]
    }
   ],
   "source": [
    "def adder(a):\n",
    "    print(sum(a))\n",
    "    \n",
    "    \n",
    "    \n",
    "adder((20, 40 , 50 , 38))"
   ]
  },
  {
   "cell_type": "code",
   "execution_count": null,
   "id": "344f2b24",
   "metadata": {},
   "outputs": [],
   "source": [
    "# Variable length args\n",
    "\n",
    "\n",
    "1. *args ---> takes variable length posional args and store it in for if tuple\n",
    "2. **kwargs ---> Takes the varable length keyword args and store it in form of dic"
   ]
  },
  {
   "cell_type": "code",
   "execution_count": 91,
   "id": "7c8378a0",
   "metadata": {},
   "outputs": [
    {
     "name": "stdout",
     "output_type": "stream",
     "text": [
      "(10, 20, 30) <class 'tuple'>\n"
     ]
    }
   ],
   "source": [
    "def adder(*args):\n",
    "    print(args , type(args))\n",
    "    \n",
    "adder(10,20,30)"
   ]
  },
  {
   "cell_type": "code",
   "execution_count": 94,
   "id": "8364ef14",
   "metadata": {},
   "outputs": [
    {
     "name": "stdout",
     "output_type": "stream",
     "text": [
      "(10, 20, 30) <class 'tuple'>\n",
      "{'a': 37, 'b': 587, 'c': 832734} <class 'dict'>\n"
     ]
    }
   ],
   "source": [
    "def adder(*args , **kwargs):\n",
    "    print(args , type(args))\n",
    "    print(kwargs , type(kwargs))\n",
    "    \n",
    "adder(10,20,30 , a= 37 , b =587 , c= 832734)"
   ]
  },
  {
   "cell_type": "code",
   "execution_count": 95,
   "id": "f1ee257d",
   "metadata": {},
   "outputs": [],
   "source": [
    "# Task\n",
    "\n",
    "emp_data = {'emp_1': {'age': 24 , 'salary': 626223 , 'name': 'salahuddin'},\n",
    "           'emp_2': {'age': 23 , 'salary': 96780 , 'name': 'ajay'},\n",
    "           'emp_3': {'age': 26 , 'salary': 90890 , 'name': 'abhishek'}, \n",
    "           'emp_4': {'age': 32 , 'salary': 65756 , 'name': 'anas'}}"
   ]
  },
  {
   "cell_type": "code",
   "execution_count": 98,
   "id": "5a4b99e9",
   "metadata": {},
   "outputs": [
    {
     "name": "stdout",
     "output_type": "stream",
     "text": [
      "Please enter the age of the employee : 987\n",
      "Please enter the salary of the employee : 9876\n",
      "Enter the name of the employee : ljkh\n"
     ]
    },
    {
     "data": {
      "text/plain": [
       "{'age': 987, 'salary': 9876, 'name': 'ljkh'}"
      ]
     },
     "execution_count": 98,
     "metadata": {},
     "output_type": "execute_result"
    }
   ],
   "source": [
    "age = eval(input('Please enter the age of the employee : '))\n",
    "salary = eval(input('Please enter the salary of the employee : '))\n",
    "name = input('Enter the name of the employee : ')\n",
    "\n",
    "key = f'emp_{len(emp_data)+1}'\n",
    "\n",
    "emp_data.setdefault(key , {'age':age , 'salary': salary , 'name': name})"
   ]
  },
  {
   "cell_type": "code",
   "execution_count": 99,
   "id": "6caefb4f",
   "metadata": {},
   "outputs": [
    {
     "data": {
      "text/plain": [
       "{'emp_1': {'age': 24, 'salary': 626223, 'name': 'salahuddin'},\n",
       " 'emp_2': {'age': 23, 'salary': 96780, 'name': 'ajay'},\n",
       " 'emp_3': {'age': 26, 'salary': 90890, 'name': 'abhishek'},\n",
       " 'emp_4': {'age': 32, 'salary': 65756, 'name': 'anas'},\n",
       " 'emp_5': {'age': 25, 'salary': 784364, 'name': 'jkhdsfkjs'},\n",
       " 'emp_6': {'age': 987, 'salary': 9876, 'name': 'ljkh'}}"
      ]
     },
     "execution_count": 99,
     "metadata": {},
     "output_type": "execute_result"
    }
   ],
   "source": [
    "emp_data"
   ]
  },
  {
   "cell_type": "code",
   "execution_count": null,
   "id": "a7c2381f",
   "metadata": {},
   "outputs": [],
   "source": [
    "# Add as well as remove"
   ]
  }
 ],
 "metadata": {
  "kernelspec": {
   "display_name": "Python 3 (ipykernel)",
   "language": "python",
   "name": "python3"
  },
  "language_info": {
   "codemirror_mode": {
    "name": "ipython",
    "version": 3
   },
   "file_extension": ".py",
   "mimetype": "text/x-python",
   "name": "python",
   "nbconvert_exporter": "python",
   "pygments_lexer": "ipython3",
   "version": "3.9.12"
  }
 },
 "nbformat": 4,
 "nbformat_minor": 5
}
