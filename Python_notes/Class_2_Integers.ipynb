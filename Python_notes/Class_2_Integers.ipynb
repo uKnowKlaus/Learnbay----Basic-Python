{
 "cells": [
  {
   "cell_type": "markdown",
   "id": "56cc785d",
   "metadata": {},
   "source": [
    "# Blocks and Indentation"
   ]
  },
  {
   "cell_type": "code",
   "execution_count": null,
   "id": "431808e0",
   "metadata": {},
   "outputs": [],
   "source": [
    "stat1\n",
    "stat2\n",
    "stat3\n",
    "stat4\n",
    "stat5\n",
    "stat6\n",
    "\n",
    "1,2,3,4,5,6\n",
    "\n",
    "stat1\n",
    "stat2\n",
    "stat3\n",
    "if conditi:\n",
    "    stat7\n",
    "    stat8\n",
    "stat4\n",
    "stat5\n",
    "stat6\n",
    "\n",
    "\n",
    "1,2,3,7,8,4,5,6\n"
   ]
  },
  {
   "cell_type": "code",
   "execution_count": 11,
   "id": "6f156bdd",
   "metadata": {},
   "outputs": [
    {
     "name": "stdout",
     "output_type": "stream",
     "text": [
      "Hi\n",
      "hello\n",
      "line1\n",
      "line2\n",
      "world\n",
      "python\n"
     ]
    }
   ],
   "source": [
    "a = 10\n",
    "\n",
    "\n",
    "print('Hi')\n",
    "print('hello')\n",
    "\n",
    "if a<20:\n",
    "    print('line1')\n",
    "    print('line2')\n",
    "print('world')\n",
    "print('python')\n"
   ]
  },
  {
   "cell_type": "code",
   "execution_count": 14,
   "id": "0ac56637",
   "metadata": {},
   "outputs": [
    {
     "name": "stdout",
     "output_type": "stream",
     "text": [
      "0\n",
      "-1\n",
      "2\n",
      "0\n",
      "4\n",
      "1\n",
      "6\n",
      "2\n",
      "8\n",
      "3\n",
      "Hello\n"
     ]
    }
   ],
   "source": [
    "for i in range(5):\n",
    "    print(i*2)\n",
    "    print(i-1)\n",
    "print('Hello')"
   ]
  },
  {
   "cell_type": "markdown",
   "id": "e7a4bc26",
   "metadata": {},
   "source": [
    "# Comments\n",
    "\n",
    "- To explain you code\n",
    "- To stop the execution\n",
    "- To make the code more readable"
   ]
  },
  {
   "cell_type": "code",
   "execution_count": 16,
   "id": "031c4d9e",
   "metadata": {},
   "outputs": [
    {
     "data": {
      "text/plain": [
       "16"
      ]
     },
     "execution_count": 16,
     "metadata": {},
     "output_type": "execute_result"
    }
   ],
   "source": [
    "PI = 3.14 # This is simply defined which has no link\n",
    "\n",
    "r = 4 # This is an side of a sqaure \n",
    "\n",
    "\n",
    "a = r*r # area of  an sqaure\n",
    "a"
   ]
  },
  {
   "cell_type": "code",
   "execution_count": 2,
   "id": "9183fdee",
   "metadata": {},
   "outputs": [
    {
     "name": "stdout",
     "output_type": "stream",
     "text": [
      "10\n"
     ]
    }
   ],
   "source": [
    "a = 10\n",
    "b = 20\n",
    "c = 30\n",
    "\n",
    "print(a)\n",
    "# print(b)\n",
    "# print(c)"
   ]
  },
  {
   "cell_type": "code",
   "execution_count": 3,
   "id": "4e4553af",
   "metadata": {},
   "outputs": [
    {
     "data": {
      "text/plain": [
       "16"
      ]
     },
     "execution_count": 3,
     "metadata": {},
     "output_type": "execute_result"
    }
   ],
   "source": [
    "'''This \n",
    "is a piece of code \n",
    "where I am gettting the area'''\n",
    "\n",
    "\n",
    "PI = 3.14 # This is simply defined which has no link\n",
    "\n",
    "r = 4 # This is an side of a sqaure \n",
    "\n",
    "\n",
    "a = r*r # area of  an sqaure\n",
    "a"
   ]
  },
  {
   "cell_type": "code",
   "execution_count": null,
   "id": "a541bb8b",
   "metadata": {},
   "outputs": [],
   "source": [
    "# Datatypes\n",
    "\n",
    "1. Fundamental\n",
    "- int\n",
    "- float\n",
    "- string\n",
    "- bool\n",
    "- none\n",
    "- complex\n",
    "\n",
    "\n",
    "2. derived \n",
    "- list\n",
    "- tuple\n",
    "- dic\n",
    "- sets"
   ]
  },
  {
   "cell_type": "markdown",
   "id": "3fe68413",
   "metadata": {},
   "source": [
    "# Integers\n",
    "\n",
    "\n",
    "- Any value which does not have a decimal point"
   ]
  },
  {
   "cell_type": "code",
   "execution_count": 4,
   "id": "ab3df4cd",
   "metadata": {},
   "outputs": [
    {
     "name": "stdout",
     "output_type": "stream",
     "text": [
      "10 <class 'int'>\n"
     ]
    }
   ],
   "source": [
    "a = 10\n",
    "\n",
    "print(a , type(a))"
   ]
  },
  {
   "cell_type": "markdown",
   "id": "1b07bde1",
   "metadata": {},
   "source": [
    "# Operations which we can perform on int"
   ]
  },
  {
   "cell_type": "code",
   "execution_count": null,
   "id": "869c7d45",
   "metadata": {},
   "outputs": [],
   "source": [
    "# 1. Arithmetic operations + , - , / (float division) , * , ** (exponent) , % (modulus) , // (floor division)"
   ]
  },
  {
   "cell_type": "code",
   "execution_count": 5,
   "id": "e0b00fc7",
   "metadata": {},
   "outputs": [
    {
     "name": "stdout",
     "output_type": "stream",
     "text": [
      "30\n"
     ]
    }
   ],
   "source": [
    "a = 10\n",
    "b = 20\n",
    "\n",
    "\n",
    "print(a+b)"
   ]
  },
  {
   "cell_type": "code",
   "execution_count": 6,
   "id": "e97d532a",
   "metadata": {},
   "outputs": [
    {
     "name": "stdout",
     "output_type": "stream",
     "text": [
      "-10\n"
     ]
    }
   ],
   "source": [
    "a = 10\n",
    "b = 20\n",
    "\n",
    "\n",
    "print(a-b)"
   ]
  },
  {
   "cell_type": "code",
   "execution_count": 7,
   "id": "8a50c60e",
   "metadata": {},
   "outputs": [
    {
     "name": "stdout",
     "output_type": "stream",
     "text": [
      "50\n"
     ]
    }
   ],
   "source": [
    "a = 10\n",
    "b = 5\n",
    "\n",
    "\n",
    "print(a*b)"
   ]
  },
  {
   "cell_type": "code",
   "execution_count": 8,
   "id": "907070ec",
   "metadata": {},
   "outputs": [
    {
     "name": "stdout",
     "output_type": "stream",
     "text": [
      "16\n"
     ]
    }
   ],
   "source": [
    "a = 4\n",
    "b = 2\n",
    "\n",
    "\n",
    "print(a ** b)"
   ]
  },
  {
   "cell_type": "code",
   "execution_count": 9,
   "id": "88e696e0",
   "metadata": {},
   "outputs": [
    {
     "name": "stdout",
     "output_type": "stream",
     "text": [
      "5.0\n"
     ]
    }
   ],
   "source": [
    "a = 10\n",
    "b = 2\n",
    "\n",
    "\n",
    "print(a / b)"
   ]
  },
  {
   "cell_type": "code",
   "execution_count": 10,
   "id": "7958cede",
   "metadata": {},
   "outputs": [
    {
     "name": "stdout",
     "output_type": "stream",
     "text": [
      "1.1111111111111112\n"
     ]
    }
   ],
   "source": [
    "a = 10\n",
    "b = 9\n",
    "\n",
    "\n",
    "print(a / b)"
   ]
  },
  {
   "cell_type": "code",
   "execution_count": 25,
   "id": "fba8c206",
   "metadata": {},
   "outputs": [
    {
     "name": "stdout",
     "output_type": "stream",
     "text": [
      "-2.857142857142857\n"
     ]
    }
   ],
   "source": [
    "a = -20\n",
    "b = 7\n",
    "\n",
    "\n",
    "print(a /b)"
   ]
  },
  {
   "cell_type": "code",
   "execution_count": null,
   "id": "ef6b35f2",
   "metadata": {},
   "outputs": [],
   "source": [
    "floor value              exact value                cieling value\n",
    "\n",
    "\n",
    "1                           1.66                         2\n",
    "\n",
    "-3                           -2.8                       -2\n",
    "\n",
    "\n",
    "1                            1.4                          2"
   ]
  },
  {
   "cell_type": "code",
   "execution_count": 26,
   "id": "9077fdd2",
   "metadata": {},
   "outputs": [
    {
     "name": "stdout",
     "output_type": "stream",
     "text": [
      "-3\n"
     ]
    }
   ],
   "source": [
    "a = -20\n",
    "b = 7\n",
    "\n",
    "\n",
    "print(a//b)"
   ]
  },
  {
   "cell_type": "code",
   "execution_count": 32,
   "id": "de1ec8bb",
   "metadata": {},
   "outputs": [
    {
     "name": "stdout",
     "output_type": "stream",
     "text": [
      "1.5714285714285714\n"
     ]
    },
    {
     "data": {
      "text/plain": [
       "2"
      ]
     },
     "execution_count": 32,
     "metadata": {},
     "output_type": "execute_result"
    }
   ],
   "source": [
    "a = 11\n",
    "b = 7\n",
    "\n",
    "print(a/b)\n",
    "round(a/b)"
   ]
  },
  {
   "cell_type": "code",
   "execution_count": 13,
   "id": "1cd56848",
   "metadata": {},
   "outputs": [
    {
     "name": "stdout",
     "output_type": "stream",
     "text": [
      "0\n"
     ]
    }
   ],
   "source": [
    "# modulos\n",
    "\n",
    "a = 10\n",
    "b = 5\n",
    "\n",
    "\n",
    "print(a % b)"
   ]
  },
  {
   "cell_type": "code",
   "execution_count": 14,
   "id": "1db0d575",
   "metadata": {},
   "outputs": [
    {
     "name": "stdout",
     "output_type": "stream",
     "text": [
      "1\n"
     ]
    }
   ],
   "source": [
    "# modulos\n",
    "\n",
    "a = 10\n",
    "b = 3\n",
    "\n",
    "\n",
    "print(a % b)"
   ]
  },
  {
   "cell_type": "code",
   "execution_count": null,
   "id": "8e8e66bd",
   "metadata": {},
   "outputs": [],
   "source": [
    "# Comparision operators < , > , >= , <=\n",
    "\n",
    "- Always gives the output in bool\n",
    "- can be performed on int and float\n",
    "- can be performed on str and str\n",
    "- bool\n"
   ]
  },
  {
   "cell_type": "markdown",
   "id": "77db7efc",
   "metadata": {},
   "source": [
    "# Cannot be performed \n",
    "- cannot be performed on None\n",
    "- Complex"
   ]
  },
  {
   "cell_type": "code",
   "execution_count": 33,
   "id": "905043ae",
   "metadata": {},
   "outputs": [
    {
     "name": "stdout",
     "output_type": "stream",
     "text": [
      "True\n"
     ]
    }
   ],
   "source": [
    "a = 10\n",
    "b = 20\n",
    "\n",
    "\n",
    "print(a < b)\n"
   ]
  },
  {
   "cell_type": "code",
   "execution_count": 44,
   "id": "6421dee4",
   "metadata": {},
   "outputs": [
    {
     "ename": "TypeError",
     "evalue": "'>=' not supported between instances of 'NoneType' and 'int'",
     "output_type": "error",
     "traceback": [
      "\u001b[1;31m---------------------------------------------------------------------------\u001b[0m",
      "\u001b[1;31mTypeError\u001b[0m                                 Traceback (most recent call last)",
      "Input \u001b[1;32mIn [44]\u001b[0m, in \u001b[0;36m<cell line: 5>\u001b[1;34m()\u001b[0m\n\u001b[0;32m      1\u001b[0m a \u001b[38;5;241m=\u001b[39m \u001b[38;5;28;01mNone\u001b[39;00m \u001b[38;5;66;03m# 1\u001b[39;00m\n\u001b[0;32m      2\u001b[0m b \u001b[38;5;241m=\u001b[39m \u001b[38;5;241m11\u001b[39m \u001b[38;5;66;03m# 0\u001b[39;00m\n\u001b[1;32m----> 5\u001b[0m \u001b[38;5;28mprint\u001b[39m(\u001b[43ma\u001b[49m\u001b[43m \u001b[49m\u001b[38;5;241;43m>\u001b[39;49m\u001b[38;5;241;43m=\u001b[39;49m\u001b[43m \u001b[49m\u001b[43mb\u001b[49m)\n",
      "\u001b[1;31mTypeError\u001b[0m: '>=' not supported between instances of 'NoneType' and 'int'"
     ]
    }
   ],
   "source": [
    "a = None # 1\n",
    "b = 11 # 0\n",
    "\n",
    "\n",
    "print(a >= b)"
   ]
  },
  {
   "cell_type": "code",
   "execution_count": 45,
   "id": "5568be5c",
   "metadata": {},
   "outputs": [
    {
     "ename": "TypeError",
     "evalue": "'>=' not supported between instances of 'complex' and 'complex'",
     "output_type": "error",
     "traceback": [
      "\u001b[1;31m---------------------------------------------------------------------------\u001b[0m",
      "\u001b[1;31mTypeError\u001b[0m                                 Traceback (most recent call last)",
      "Input \u001b[1;32mIn [45]\u001b[0m, in \u001b[0;36m<cell line: 5>\u001b[1;34m()\u001b[0m\n\u001b[0;32m      1\u001b[0m a \u001b[38;5;241m=\u001b[39m \u001b[38;5;241m10\u001b[39m\u001b[38;5;241m+\u001b[39m\u001b[38;5;241m9\u001b[39mj \u001b[38;5;66;03m# 1\u001b[39;00m\n\u001b[0;32m      2\u001b[0m b \u001b[38;5;241m=\u001b[39m \u001b[38;5;241m11\u001b[39m\u001b[38;5;241m+\u001b[39m\u001b[38;5;241m6\u001b[39mj \u001b[38;5;66;03m# 0\u001b[39;00m\n\u001b[1;32m----> 5\u001b[0m \u001b[38;5;28mprint\u001b[39m(\u001b[43ma\u001b[49m\u001b[43m \u001b[49m\u001b[38;5;241;43m>\u001b[39;49m\u001b[38;5;241;43m=\u001b[39;49m\u001b[43m \u001b[49m\u001b[43mb\u001b[49m)\n",
      "\u001b[1;31mTypeError\u001b[0m: '>=' not supported between instances of 'complex' and 'complex'"
     ]
    }
   ],
   "source": [
    "a = 10+9j # 1\n",
    "b = 11+6j # 0\n",
    "\n",
    "\n",
    "print(a >= b)"
   ]
  },
  {
   "cell_type": "code",
   "execution_count": 46,
   "id": "81059dfc",
   "metadata": {},
   "outputs": [
    {
     "name": "stdout",
     "output_type": "stream",
     "text": [
      "False\n"
     ]
    }
   ],
   "source": [
    "a = False # 0\n",
    "b = True # 1\n",
    "\n",
    "\n",
    "print(a >= b)"
   ]
  },
  {
   "cell_type": "markdown",
   "id": "15c84f4a",
   "metadata": {},
   "source": [
    "# Equality == , !="
   ]
  },
  {
   "cell_type": "code",
   "execution_count": 47,
   "id": "ef3874c5",
   "metadata": {},
   "outputs": [
    {
     "name": "stdout",
     "output_type": "stream",
     "text": [
      "True\n"
     ]
    }
   ],
   "source": [
    "a = 11\n",
    "b = 11\n",
    "\n",
    "\n",
    "print(a == b)"
   ]
  },
  {
   "cell_type": "code",
   "execution_count": 48,
   "id": "ea51394c",
   "metadata": {},
   "outputs": [
    {
     "name": "stdout",
     "output_type": "stream",
     "text": [
      "False\n"
     ]
    }
   ],
   "source": [
    "a = 11\n",
    "b = 12\n",
    "\n",
    "\n",
    "print(a == b)"
   ]
  },
  {
   "cell_type": "code",
   "execution_count": 49,
   "id": "61d0efcc",
   "metadata": {},
   "outputs": [
    {
     "ename": "TypeError",
     "evalue": "'>' not supported between instances of 'int' and 'str'",
     "output_type": "error",
     "traceback": [
      "\u001b[1;31m---------------------------------------------------------------------------\u001b[0m",
      "\u001b[1;31mTypeError\u001b[0m                                 Traceback (most recent call last)",
      "Input \u001b[1;32mIn [49]\u001b[0m, in \u001b[0;36m<cell line: 5>\u001b[1;34m()\u001b[0m\n\u001b[0;32m      1\u001b[0m a \u001b[38;5;241m=\u001b[39m \u001b[38;5;241m11\u001b[39m\n\u001b[0;32m      2\u001b[0m b \u001b[38;5;241m=\u001b[39m \u001b[38;5;124m'\u001b[39m\u001b[38;5;124m11\u001b[39m\u001b[38;5;124m'\u001b[39m\n\u001b[1;32m----> 5\u001b[0m \u001b[38;5;28mprint\u001b[39m(\u001b[43ma\u001b[49m\u001b[43m \u001b[49m\u001b[38;5;241;43m>\u001b[39;49m\u001b[43m \u001b[49m\u001b[43mb\u001b[49m)\n",
      "\u001b[1;31mTypeError\u001b[0m: '>' not supported between instances of 'int' and 'str'"
     ]
    }
   ],
   "source": [
    "a = 11\n",
    "b = '11'\n",
    "\n",
    "\n",
    "print(a > b)"
   ]
  },
  {
   "cell_type": "code",
   "execution_count": 55,
   "id": "5e5597ca",
   "metadata": {},
   "outputs": [
    {
     "name": "stdout",
     "output_type": "stream",
     "text": [
      "False\n"
     ]
    }
   ],
   "source": [
    "a = 11\n",
    "b = '11.0001'\n",
    "\n",
    "\n",
    "print(a == b)"
   ]
  },
  {
   "cell_type": "code",
   "execution_count": 56,
   "id": "6cf5b629",
   "metadata": {},
   "outputs": [
    {
     "name": "stdout",
     "output_type": "stream",
     "text": [
      "False\n"
     ]
    }
   ],
   "source": [
    "a = 11\n",
    "b = 10+45j\n",
    "\n",
    "\n",
    "print(a == b)"
   ]
  },
  {
   "cell_type": "code",
   "execution_count": 57,
   "id": "838e89bc",
   "metadata": {},
   "outputs": [
    {
     "name": "stdout",
     "output_type": "stream",
     "text": [
      "True\n"
     ]
    }
   ],
   "source": [
    "a = 11\n",
    "b = 9\n",
    "\n",
    "\n",
    "print(a != b)"
   ]
  },
  {
   "cell_type": "code",
   "execution_count": 58,
   "id": "f8e83e2c",
   "metadata": {},
   "outputs": [
    {
     "data": {
      "text/plain": [
       "104"
      ]
     },
     "execution_count": 58,
     "metadata": {},
     "output_type": "execute_result"
    }
   ],
   "source": [
    "# \n",
    "\n",
    "ord('h')"
   ]
  },
  {
   "cell_type": "code",
   "execution_count": 59,
   "id": "c936a663",
   "metadata": {},
   "outputs": [
    {
     "data": {
      "text/plain": [
       "'0b1101000'"
      ]
     },
     "execution_count": 59,
     "metadata": {},
     "output_type": "execute_result"
    }
   ],
   "source": [
    "bin(104)"
   ]
  },
  {
   "cell_type": "code",
   "execution_count": 60,
   "id": "6a396718",
   "metadata": {},
   "outputs": [
    {
     "data": {
      "text/plain": [
       "104"
      ]
     },
     "execution_count": 60,
     "metadata": {},
     "output_type": "execute_result"
    }
   ],
   "source": [
    "int(0b1101000)"
   ]
  },
  {
   "cell_type": "code",
   "execution_count": 61,
   "id": "ef7553d3",
   "metadata": {},
   "outputs": [
    {
     "data": {
      "text/plain": [
       "'h'"
      ]
     },
     "execution_count": 61,
     "metadata": {},
     "output_type": "execute_result"
    }
   ],
   "source": [
    "chr(104)"
   ]
  },
  {
   "cell_type": "code",
   "execution_count": 63,
   "id": "1f5c53a5",
   "metadata": {},
   "outputs": [
    {
     "name": "stdout",
     "output_type": "stream",
     "text": [
      "True\n"
     ]
    }
   ],
   "source": [
    "print('A' <= chr(69))"
   ]
  },
  {
   "cell_type": "code",
   "execution_count": 65,
   "id": "32344360",
   "metadata": {},
   "outputs": [
    {
     "name": "stdout",
     "output_type": "stream",
     "text": [
      "False\n"
     ]
    }
   ],
   "source": [
    "print(65 == chr(104))"
   ]
  },
  {
   "cell_type": "code",
   "execution_count": 64,
   "id": "dc373abb",
   "metadata": {},
   "outputs": [
    {
     "data": {
      "text/plain": [
       "False"
      ]
     },
     "execution_count": 64,
     "metadata": {},
     "output_type": "execute_result"
    }
   ],
   "source": [
    "65 == 'fd'"
   ]
  },
  {
   "cell_type": "code",
   "execution_count": 68,
   "id": "c10d65bb",
   "metadata": {},
   "outputs": [
    {
     "data": {
      "text/plain": [
       "False"
      ]
     },
     "execution_count": 68,
     "metadata": {},
     "output_type": "execute_result"
    }
   ],
   "source": [
    "'abc' == 'ABC'"
   ]
  },
  {
   "cell_type": "code",
   "execution_count": null,
   "id": "c392191b",
   "metadata": {},
   "outputs": [],
   "source": [
    "# operator precedence \n",
    "\n",
    "() ---> parenthesis\n",
    "** ---> exponent\n",
    "+x , -x --> unary plus, unary minus\n",
    "* , / , // , %\n",
    "+ , -\n",
    "<< , >>\n",
    "&\n",
    "^\n",
    "|\n",
    "== , != , <= , >=\n",
    "not\n",
    "and\n",
    "or"
   ]
  },
  {
   "cell_type": "markdown",
   "id": "1d047135",
   "metadata": {},
   "source": [
    "# Logical operators"
   ]
  },
  {
   "cell_type": "code",
   "execution_count": 76,
   "id": "daef5f55",
   "metadata": {},
   "outputs": [
    {
     "name": "stdout",
     "output_type": "stream",
     "text": [
      "Something\n"
     ]
    }
   ],
   "source": [
    "a = 10\n",
    "\n",
    "\n",
    "if not ( a == 9 and a<20 or a== 20):\n",
    "    print('Something')"
   ]
  },
  {
   "cell_type": "code",
   "execution_count": 71,
   "id": "9f13eb6f",
   "metadata": {},
   "outputs": [
    {
     "data": {
      "text/plain": [
       "False"
      ]
     },
     "execution_count": 71,
     "metadata": {},
     "output_type": "execute_result"
    }
   ],
   "source": [
    "False and True"
   ]
  },
  {
   "cell_type": "code",
   "execution_count": 72,
   "id": "ac24372b",
   "metadata": {},
   "outputs": [
    {
     "data": {
      "text/plain": [
       "True"
      ]
     },
     "execution_count": 72,
     "metadata": {},
     "output_type": "execute_result"
    }
   ],
   "source": [
    "False or True"
   ]
  },
  {
   "cell_type": "code",
   "execution_count": 74,
   "id": "24fd49e8",
   "metadata": {},
   "outputs": [
    {
     "data": {
      "text/plain": [
       "True"
      ]
     },
     "execution_count": 74,
     "metadata": {},
     "output_type": "execute_result"
    }
   ],
   "source": [
    "not False"
   ]
  },
  {
   "cell_type": "code",
   "execution_count": 75,
   "id": "864b5f9e",
   "metadata": {},
   "outputs": [
    {
     "name": "stdout",
     "output_type": "stream",
     "text": [
      "False\n"
     ]
    }
   ],
   "source": [
    "print(a == 9 and a<20 or a== 20)"
   ]
  },
  {
   "cell_type": "code",
   "execution_count": 101,
   "id": "69f67f5e",
   "metadata": {},
   "outputs": [],
   "source": [
    "user_name = 'xyz@gmail.com'\n",
    "password = 'python'\n"
   ]
  },
  {
   "cell_type": "code",
   "execution_count": 105,
   "id": "c5868834",
   "metadata": {},
   "outputs": [
    {
     "name": "stdout",
     "output_type": "stream",
     "text": [
      "Please enter the used ID : xyz@gmail.com\n",
      "Please enter your password : python\n",
      "LOGGED IN\n"
     ]
    }
   ],
   "source": [
    "a = input('Please enter the used ID : ')\n",
    "b = input('Please enter your password : ')\n",
    "\n",
    "\n",
    "if a == user_name or b == password:\n",
    "    print('LOGGED IN')\n",
    "    \n",
    "else:\n",
    "    print('INCORRECT INFO')"
   ]
  },
  {
   "cell_type": "code",
   "execution_count": 106,
   "id": "91307462",
   "metadata": {},
   "outputs": [
    {
     "name": "stdout",
     "output_type": "stream",
     "text": [
      "Please enter the used ID : xyz@gmail.com\n",
      "Please enter your password : python\n",
      "LOGGED IN\n"
     ]
    }
   ],
   "source": [
    "a = input('Please enter the used ID : ')\n",
    "b = input('Please enter your password : ')\n",
    "\n",
    "\n",
    "if a == user_name and b == password:\n",
    "    print('LOGGED IN')\n",
    "    \n",
    "else:\n",
    "    print('INCORRECT INFO')"
   ]
  },
  {
   "cell_type": "code",
   "execution_count": 113,
   "id": "197e671c",
   "metadata": {},
   "outputs": [
    {
     "name": "stdout",
     "output_type": "stream",
     "text": [
      "Something\n"
     ]
    }
   ],
   "source": [
    "a = 10\n",
    "\n",
    "\n",
    "if a == 20 and a < 40 or a < 40 and a==10:\n",
    "    print('Something')"
   ]
  },
  {
   "cell_type": "code",
   "execution_count": 107,
   "id": "799e8597",
   "metadata": {},
   "outputs": [
    {
     "data": {
      "text/plain": [
       "False"
      ]
     },
     "execution_count": 107,
     "metadata": {},
     "output_type": "execute_result"
    }
   ],
   "source": [
    "False and True"
   ]
  },
  {
   "cell_type": "code",
   "execution_count": 111,
   "id": "b40d8f5e",
   "metadata": {},
   "outputs": [
    {
     "data": {
      "text/plain": [
       "True"
      ]
     },
     "execution_count": 111,
     "metadata": {},
     "output_type": "execute_result"
    }
   ],
   "source": [
    "False or True"
   ]
  },
  {
   "cell_type": "code",
   "execution_count": 112,
   "id": "db8cf63e",
   "metadata": {},
   "outputs": [
    {
     "data": {
      "text/plain": [
       "True"
      ]
     },
     "execution_count": 112,
     "metadata": {},
     "output_type": "execute_result"
    }
   ],
   "source": [
    "True and True"
   ]
  },
  {
   "cell_type": "markdown",
   "id": "aded40b5",
   "metadata": {},
   "source": [
    "# Type casting Of Bool\n",
    "\n",
    "- int - 0 is False rest all is true\n",
    "- Float --> 0.0 is false and rest all is true\n",
    "- complex --> 0+0j is flase \n",
    "- None -- False\n",
    "- string --> empty string is false and rest all is true\n",
    "\n",
    "\n",
    "[]\n",
    "()\n",
    "{}\n",
    "{}\n"
   ]
  },
  {
   "cell_type": "code",
   "execution_count": null,
   "id": "19945cb8",
   "metadata": {},
   "outputs": [],
   "source": []
  },
  {
   "cell_type": "code",
   "execution_count": 88,
   "id": "182872e5",
   "metadata": {},
   "outputs": [
    {
     "name": "stdout",
     "output_type": "stream",
     "text": [
      "True\n"
     ]
    }
   ],
   "source": [
    "a = -1236\n",
    "print(bool(a))"
   ]
  },
  {
   "cell_type": "code",
   "execution_count": 91,
   "id": "891dadae",
   "metadata": {},
   "outputs": [
    {
     "name": "stdout",
     "output_type": "stream",
     "text": [
      "20\n"
     ]
    }
   ],
   "source": [
    "print( 10 and 20 )"
   ]
  },
  {
   "cell_type": "code",
   "execution_count": 90,
   "id": "b770e293",
   "metadata": {},
   "outputs": [
    {
     "name": "stdout",
     "output_type": "stream",
     "text": [
      "False\n"
     ]
    }
   ],
   "source": [
    "print(10 == 9 and 10<20 or 10== 20)"
   ]
  },
  {
   "cell_type": "code",
   "execution_count": 89,
   "id": "6471925e",
   "metadata": {},
   "outputs": [
    {
     "data": {
      "text/plain": [
       "False"
      ]
     },
     "execution_count": 89,
     "metadata": {},
     "output_type": "execute_result"
    }
   ],
   "source": [
    "False and True or False "
   ]
  },
  {
   "cell_type": "code",
   "execution_count": 93,
   "id": "6db84112",
   "metadata": {},
   "outputs": [
    {
     "name": "stdout",
     "output_type": "stream",
     "text": [
      "\n"
     ]
    }
   ],
   "source": [
    "print( '' and 20 )"
   ]
  },
  {
   "cell_type": "code",
   "execution_count": null,
   "id": "85a64aff",
   "metadata": {},
   "outputs": [],
   "source": [
    "# There is a small devaition with the \n",
    "\n",
    "\n",
    "# A and B  ----> result will be A if A is False else it will be B\n",
    "\n",
    "# A or B ----> result will be A if A is True else B"
   ]
  },
  {
   "cell_type": "code",
   "execution_count": 94,
   "id": "141b576c",
   "metadata": {},
   "outputs": [
    {
     "name": "stdout",
     "output_type": "stream",
     "text": [
      "\n"
     ]
    }
   ],
   "source": [
    "print( '' and 20 )"
   ]
  },
  {
   "cell_type": "code",
   "execution_count": 95,
   "id": "393d686c",
   "metadata": {},
   "outputs": [
    {
     "name": "stdout",
     "output_type": "stream",
     "text": [
      "0\n"
     ]
    }
   ],
   "source": [
    "print( 0 and 20 )"
   ]
  },
  {
   "cell_type": "code",
   "execution_count": 96,
   "id": "a2fdb7ad",
   "metadata": {},
   "outputs": [
    {
     "name": "stdout",
     "output_type": "stream",
     "text": [
      "20\n"
     ]
    }
   ],
   "source": [
    "print( 10 and 20 )"
   ]
  },
  {
   "cell_type": "code",
   "execution_count": 97,
   "id": "9bab35ad",
   "metadata": {},
   "outputs": [
    {
     "name": "stdout",
     "output_type": "stream",
     "text": [
      "10\n"
     ]
    }
   ],
   "source": [
    "print( 10 or 20 )"
   ]
  },
  {
   "cell_type": "code",
   "execution_count": 98,
   "id": "a3694edb",
   "metadata": {},
   "outputs": [
    {
     "name": "stdout",
     "output_type": "stream",
     "text": [
      "0\n"
     ]
    }
   ],
   "source": [
    "print( 10 and 0 )"
   ]
  },
  {
   "cell_type": "markdown",
   "id": "fd6aeddb",
   "metadata": {},
   "source": [
    "# Bitwise operator\n",
    "\n",
    "- Bitwise and &\n",
    "- bitwise or |\n",
    "- bitwise xor (^)\n",
    "- bitwise << left shift\n",
    "- bitwise >> right shift\n",
    "- bitwise ~ not "
   ]
  },
  {
   "cell_type": "code",
   "execution_count": 99,
   "id": "78ad776c",
   "metadata": {},
   "outputs": [
    {
     "name": "stdout",
     "output_type": "stream",
     "text": [
      "0\n"
     ]
    }
   ],
   "source": [
    "print( 10 and 0 )"
   ]
  },
  {
   "cell_type": "code",
   "execution_count": 100,
   "id": "d48c8878",
   "metadata": {},
   "outputs": [
    {
     "name": "stdout",
     "output_type": "stream",
     "text": [
      "0\n"
     ]
    }
   ],
   "source": [
    "print( 10 & 0 )"
   ]
  },
  {
   "cell_type": "code",
   "execution_count": 115,
   "id": "383e8d13",
   "metadata": {},
   "outputs": [
    {
     "name": "stdout",
     "output_type": "stream",
     "text": [
      "0\n"
     ]
    }
   ],
   "source": [
    "# &\n",
    "\n",
    "x = 10\n",
    "y = 4\n",
    "\n",
    "print(x & y)"
   ]
  },
  {
   "cell_type": "code",
   "execution_count": 114,
   "id": "655eb697",
   "metadata": {},
   "outputs": [
    {
     "name": "stdout",
     "output_type": "stream",
     "text": [
      "0b1010\n"
     ]
    }
   ],
   "source": [
    "print(bin(10))"
   ]
  },
  {
   "cell_type": "code",
   "execution_count": null,
   "id": "9a1da02d",
   "metadata": {},
   "outputs": [],
   "source": [
    "10 ------>  1    0    1    0\n",
    "4  ------>  0    1    0    0\n",
    "\n",
    "\n",
    "         0     0    0     0  "
   ]
  },
  {
   "cell_type": "code",
   "execution_count": 116,
   "id": "5ecc491e",
   "metadata": {},
   "outputs": [
    {
     "name": "stdout",
     "output_type": "stream",
     "text": [
      "0\n"
     ]
    }
   ],
   "source": [
    "print(0b0000)"
   ]
  },
  {
   "cell_type": "code",
   "execution_count": 120,
   "id": "363ff55c",
   "metadata": {},
   "outputs": [
    {
     "name": "stdout",
     "output_type": "stream",
     "text": [
      "40\n"
     ]
    }
   ],
   "source": [
    "# &\n",
    "\n",
    "x = 44\n",
    "y = 56\n",
    "\n",
    "print(x & y)"
   ]
  },
  {
   "cell_type": "code",
   "execution_count": 117,
   "id": "2061c4bc",
   "metadata": {},
   "outputs": [
    {
     "name": "stdout",
     "output_type": "stream",
     "text": [
      "0b101100\n"
     ]
    }
   ],
   "source": [
    "print(bin(44))"
   ]
  },
  {
   "cell_type": "code",
   "execution_count": 118,
   "id": "612f4802",
   "metadata": {},
   "outputs": [
    {
     "name": "stdout",
     "output_type": "stream",
     "text": [
      "0b111000\n"
     ]
    }
   ],
   "source": [
    "print(bin(56))"
   ]
  },
  {
   "cell_type": "code",
   "execution_count": null,
   "id": "b5f798ae",
   "metadata": {},
   "outputs": [],
   "source": [
    "1    0     1     1     0     0\n",
    "1    1     1     0     0     0\n",
    "\n",
    "\n",
    "1     0       1    0       0     0"
   ]
  },
  {
   "cell_type": "code",
   "execution_count": 119,
   "id": "8c5db372",
   "metadata": {},
   "outputs": [
    {
     "data": {
      "text/plain": [
       "40"
      ]
     },
     "execution_count": 119,
     "metadata": {},
     "output_type": "execute_result"
    }
   ],
   "source": [
    "int(0b101000)"
   ]
  },
  {
   "cell_type": "code",
   "execution_count": 121,
   "id": "d272437a",
   "metadata": {},
   "outputs": [
    {
     "name": "stdout",
     "output_type": "stream",
     "text": [
      "60\n"
     ]
    }
   ],
   "source": [
    "# |\n",
    "\n",
    "x = 44\n",
    "y = 56\n",
    "\n",
    "print(x | y)"
   ]
  },
  {
   "cell_type": "markdown",
   "id": "0403ad45",
   "metadata": {},
   "source": [
    "# Bitwise Left shift"
   ]
  },
  {
   "cell_type": "code",
   "execution_count": null,
   "id": "97e2e3fa",
   "metadata": {},
   "outputs": [],
   "source": []
  },
  {
   "cell_type": "code",
   "execution_count": null,
   "id": "050737ea",
   "metadata": {},
   "outputs": [],
   "source": []
  }
 ],
 "metadata": {
  "kernelspec": {
   "display_name": "Python 3 (ipykernel)",
   "language": "python",
   "name": "python3"
  },
  "language_info": {
   "codemirror_mode": {
    "name": "ipython",
    "version": 3
   },
   "file_extension": ".py",
   "mimetype": "text/x-python",
   "name": "python",
   "nbconvert_exporter": "python",
   "pygments_lexer": "ipython3",
   "version": "3.9.12"
  }
 },
 "nbformat": 4,
 "nbformat_minor": 5
}
