{
 "cells": [
  {
   "cell_type": "code",
   "execution_count": 1,
   "id": "349d08c5",
   "metadata": {},
   "outputs": [
    {
     "name": "stdout",
     "output_type": "stream",
     "text": [
      "97\n"
     ]
    }
   ],
   "source": [
    "print(ord('a'))"
   ]
  },
  {
   "cell_type": "code",
   "execution_count": null,
   "id": "423c8310",
   "metadata": {},
   "outputs": [],
   "source": [
    "2       97           1\n",
    "2       48           0\n",
    "2       24           0\n",
    "2       12           0\n",
    "2        6           0 \n",
    "2        3           1         \n",
    "         1"
   ]
  },
  {
   "cell_type": "code",
   "execution_count": 2,
   "id": "6c1ee87b",
   "metadata": {},
   "outputs": [
    {
     "data": {
      "text/plain": [
       "48"
      ]
     },
     "execution_count": 2,
     "metadata": {},
     "output_type": "execute_result"
    }
   ],
   "source": [
    "97//2"
   ]
  },
  {
   "cell_type": "code",
   "execution_count": 3,
   "id": "b804741f",
   "metadata": {},
   "outputs": [
    {
     "data": {
      "text/plain": [
       "1"
      ]
     },
     "execution_count": 3,
     "metadata": {},
     "output_type": "execute_result"
    }
   ],
   "source": [
    "97%2"
   ]
  },
  {
   "cell_type": "code",
   "execution_count": null,
   "id": "e3581fbe",
   "metadata": {},
   "outputs": [],
   "source": [
    "1100001"
   ]
  },
  {
   "cell_type": "code",
   "execution_count": 4,
   "id": "4974b7f4",
   "metadata": {},
   "outputs": [
    {
     "name": "stdout",
     "output_type": "stream",
     "text": [
      "0b1100001\n"
     ]
    }
   ],
   "source": [
    "print(bin(97))"
   ]
  },
  {
   "cell_type": "code",
   "execution_count": 12,
   "id": "b006c123",
   "metadata": {},
   "outputs": [
    {
     "name": "stdout",
     "output_type": "stream",
     "text": [
      "0b10101\n"
     ]
    }
   ],
   "source": [
    "print(bin(21))"
   ]
  },
  {
   "cell_type": "code",
   "execution_count": 9,
   "id": "2bc583ee",
   "metadata": {},
   "outputs": [
    {
     "name": "stdout",
     "output_type": "stream",
     "text": [
      "\u0014\n"
     ]
    }
   ],
   "source": [
    "print(chr(20))"
   ]
  },
  {
   "cell_type": "code",
   "execution_count": 10,
   "id": "bdc36261",
   "metadata": {},
   "outputs": [
    {
     "name": "stdout",
     "output_type": "stream",
     "text": [
      "0x61\n"
     ]
    }
   ],
   "source": [
    "print(hex(97))"
   ]
  },
  {
   "cell_type": "code",
   "execution_count": 11,
   "id": "71ad548a",
   "metadata": {},
   "outputs": [
    {
     "name": "stdout",
     "output_type": "stream",
     "text": [
      "0o141\n"
     ]
    }
   ],
   "source": [
    "print(oct(97))"
   ]
  },
  {
   "cell_type": "markdown",
   "id": "2dac4683",
   "metadata": {},
   "source": [
    "# Input and output function"
   ]
  },
  {
   "cell_type": "code",
   "execution_count": null,
   "id": "1cd33842",
   "metadata": {},
   "outputs": [],
   "source": [
    "# Input function\n",
    "\n",
    "- is used to take an input from the user\n",
    "- Input function will always give you string data type"
   ]
  },
  {
   "cell_type": "code",
   "execution_count": 18,
   "id": "484ab539",
   "metadata": {},
   "outputs": [
    {
     "name": "stdout",
     "output_type": "stream",
     "text": [
      "Please enter the first number : 10\n",
      "Please enter the second number : 20\n",
      "10 <class 'str'>\n",
      "20 <class 'str'>\n",
      "1020\n"
     ]
    }
   ],
   "source": [
    "a = input('Please enter the first number : ')\n",
    "b = input('Please enter the second number : ')\n",
    "\n",
    "print(a , type(a))\n",
    "print(b , type(b))\n",
    "\n",
    "print(a + b)"
   ]
  },
  {
   "cell_type": "code",
   "execution_count": 16,
   "id": "9ec5e3c2",
   "metadata": {},
   "outputs": [
    {
     "data": {
      "text/plain": [
       "'1020'"
      ]
     },
     "execution_count": 16,
     "metadata": {},
     "output_type": "execute_result"
    }
   ],
   "source": [
    "'10' + '20'"
   ]
  },
  {
   "cell_type": "code",
   "execution_count": 17,
   "id": "7a1d584e",
   "metadata": {},
   "outputs": [
    {
     "data": {
      "text/plain": [
       "30"
      ]
     },
     "execution_count": 17,
     "metadata": {},
     "output_type": "execute_result"
    }
   ],
   "source": [
    "10 + 20"
   ]
  },
  {
   "cell_type": "markdown",
   "id": "645c9439",
   "metadata": {},
   "source": [
    "# Type casting\n",
    "\n",
    "- converting one data type to another data type\n",
    "\n",
    "\n",
    "int()\n",
    "float()\n",
    "str()\n",
    "complex()\n",
    "bool()"
   ]
  },
  {
   "cell_type": "code",
   "execution_count": 19,
   "id": "764a82bb",
   "metadata": {},
   "outputs": [
    {
     "name": "stdout",
     "output_type": "stream",
     "text": [
      "10.0\n"
     ]
    }
   ],
   "source": [
    "# 1 st \n",
    "\n",
    "a = 10\n",
    "\n",
    "print(float(a))"
   ]
  },
  {
   "cell_type": "code",
   "execution_count": 21,
   "id": "399c7135",
   "metadata": {},
   "outputs": [
    {
     "name": "stdout",
     "output_type": "stream",
     "text": [
      "10.0\n"
     ]
    }
   ],
   "source": [
    "# 2 nd\n",
    "\n",
    "a = float(10)\n",
    "\n",
    "print(a)"
   ]
  },
  {
   "cell_type": "code",
   "execution_count": 24,
   "id": "f2795656",
   "metadata": {},
   "outputs": [
    {
     "data": {
      "text/plain": [
       "178"
      ]
     },
     "execution_count": 24,
     "metadata": {},
     "output_type": "execute_result"
    }
   ],
   "source": [
    "int(178.567)"
   ]
  },
  {
   "cell_type": "code",
   "execution_count": 26,
   "id": "2b4d5138",
   "metadata": {},
   "outputs": [
    {
     "data": {
      "text/plain": [
       "-2"
      ]
     },
     "execution_count": 26,
     "metadata": {},
     "output_type": "execute_result"
    }
   ],
   "source": [
    "int(-2.9)"
   ]
  },
  {
   "cell_type": "code",
   "execution_count": 27,
   "id": "124d924b",
   "metadata": {},
   "outputs": [
    {
     "data": {
      "text/plain": [
       "(10+0j)"
      ]
     },
     "execution_count": 27,
     "metadata": {},
     "output_type": "execute_result"
    }
   ],
   "source": [
    "complex(10)"
   ]
  },
  {
   "cell_type": "code",
   "execution_count": 30,
   "id": "7ce72043",
   "metadata": {},
   "outputs": [
    {
     "data": {
      "text/plain": [
       "False"
      ]
     },
     "execution_count": 30,
     "metadata": {},
     "output_type": "execute_result"
    }
   ],
   "source": [
    "bool(00000)"
   ]
  },
  {
   "cell_type": "code",
   "execution_count": 31,
   "id": "c54dcb91",
   "metadata": {},
   "outputs": [
    {
     "name": "stdout",
     "output_type": "stream",
     "text": [
      "123 <class 'str'>\n"
     ]
    }
   ],
   "source": [
    "a = '123'\n",
    "\n",
    "\n",
    "print(a , type(a))"
   ]
  },
  {
   "cell_type": "code",
   "execution_count": 32,
   "id": "169feab6",
   "metadata": {},
   "outputs": [
    {
     "name": "stdout",
     "output_type": "stream",
     "text": [
      "123 <class 'int'>\n"
     ]
    }
   ],
   "source": [
    "a = int('123')\n",
    "\n",
    "\n",
    "print(a , type(a))"
   ]
  },
  {
   "cell_type": "code",
   "execution_count": 33,
   "id": "00311d1e",
   "metadata": {},
   "outputs": [
    {
     "ename": "ValueError",
     "evalue": "invalid literal for int() with base 10: '123abc'",
     "output_type": "error",
     "traceback": [
      "\u001b[1;31m---------------------------------------------------------------------------\u001b[0m",
      "\u001b[1;31mValueError\u001b[0m                                Traceback (most recent call last)",
      "Input \u001b[1;32mIn [33]\u001b[0m, in \u001b[0;36m<cell line: 1>\u001b[1;34m()\u001b[0m\n\u001b[1;32m----> 1\u001b[0m a \u001b[38;5;241m=\u001b[39m \u001b[38;5;28;43mint\u001b[39;49m\u001b[43m(\u001b[49m\u001b[38;5;124;43m'\u001b[39;49m\u001b[38;5;124;43m123abc\u001b[39;49m\u001b[38;5;124;43m'\u001b[39;49m\u001b[43m)\u001b[49m\n\u001b[0;32m      4\u001b[0m \u001b[38;5;28mprint\u001b[39m(a , \u001b[38;5;28mtype\u001b[39m(a))\n",
      "\u001b[1;31mValueError\u001b[0m: invalid literal for int() with base 10: '123abc'"
     ]
    }
   ],
   "source": [
    "a = int('123abc')\n",
    "\n",
    "\n",
    "print(a , type(a))"
   ]
  },
  {
   "cell_type": "code",
   "execution_count": 34,
   "id": "43b1e1a0",
   "metadata": {},
   "outputs": [
    {
     "name": "stdout",
     "output_type": "stream",
     "text": [
      "20 <class 'int'>\n"
     ]
    }
   ],
   "source": [
    "a = int(20.3)\n",
    "\n",
    "\n",
    "print(a , type(a))"
   ]
  },
  {
   "cell_type": "code",
   "execution_count": 35,
   "id": "044dc210",
   "metadata": {},
   "outputs": [
    {
     "ename": "ValueError",
     "evalue": "invalid literal for int() with base 10: '20.3'",
     "output_type": "error",
     "traceback": [
      "\u001b[1;31m---------------------------------------------------------------------------\u001b[0m",
      "\u001b[1;31mValueError\u001b[0m                                Traceback (most recent call last)",
      "Input \u001b[1;32mIn [35]\u001b[0m, in \u001b[0;36m<cell line: 1>\u001b[1;34m()\u001b[0m\n\u001b[1;32m----> 1\u001b[0m a \u001b[38;5;241m=\u001b[39m \u001b[38;5;28;43mint\u001b[39;49m\u001b[43m(\u001b[49m\u001b[38;5;124;43m'\u001b[39;49m\u001b[38;5;124;43m20.3\u001b[39;49m\u001b[38;5;124;43m'\u001b[39;49m\u001b[43m)\u001b[49m\n\u001b[0;32m      4\u001b[0m \u001b[38;5;28mprint\u001b[39m(a , \u001b[38;5;28mtype\u001b[39m(a))\n",
      "\u001b[1;31mValueError\u001b[0m: invalid literal for int() with base 10: '20.3'"
     ]
    }
   ],
   "source": [
    "a = int('20.3')\n",
    "\n",
    "\n",
    "print(a , type(a))"
   ]
  },
  {
   "cell_type": "code",
   "execution_count": 36,
   "id": "4b898c65",
   "metadata": {},
   "outputs": [
    {
     "name": "stdout",
     "output_type": "stream",
     "text": [
      "20.3 <class 'float'>\n"
     ]
    }
   ],
   "source": [
    "a = float('20.3')\n",
    "\n",
    "\n",
    "print(a , type(a))"
   ]
  },
  {
   "cell_type": "code",
   "execution_count": 38,
   "id": "d78db941",
   "metadata": {},
   "outputs": [
    {
     "name": "stdout",
     "output_type": "stream",
     "text": [
      "123 <class 'int'>\n"
     ]
    }
   ],
   "source": [
    "a = int(float('123.567'))\n",
    "\n",
    "\n",
    "print(a , type(a))"
   ]
  },
  {
   "cell_type": "code",
   "execution_count": 40,
   "id": "62d46f6d",
   "metadata": {},
   "outputs": [
    {
     "name": "stdout",
     "output_type": "stream",
     "text": [
      "Please enter the first number : 10\n",
      "Please enter the second number : 20\n",
      "10 <class 'int'>\n",
      "20 <class 'int'>\n",
      "30\n"
     ]
    }
   ],
   "source": [
    "a = int(input('Please enter the first number : '))\n",
    "b = int(input('Please enter the second number : '))\n",
    "\n",
    "print(a , type(a))\n",
    "print(b , type(b))\n",
    "\n",
    "print(a + b)"
   ]
  },
  {
   "cell_type": "code",
   "execution_count": 42,
   "id": "a55d248b",
   "metadata": {},
   "outputs": [
    {
     "name": "stdout",
     "output_type": "stream",
     "text": [
      "Please enter the first number : 10.3\n",
      "Please enter the second number : 20\n",
      "10.3 <class 'float'>\n",
      "20 <class 'int'>\n",
      "30.3\n"
     ]
    }
   ],
   "source": [
    "a = float(input('Please enter the first number : '))\n",
    "b = int(input('Please enter the second number : '))\n",
    "\n",
    "print(a , type(a))\n",
    "print(b , type(b))\n",
    "\n",
    "print(a + b)"
   ]
  },
  {
   "cell_type": "code",
   "execution_count": 43,
   "id": "9e6407e0",
   "metadata": {},
   "outputs": [
    {
     "ename": "ValueError",
     "evalue": "invalid literal for int() with base 10: '20.3'",
     "output_type": "error",
     "traceback": [
      "\u001b[1;31m---------------------------------------------------------------------------\u001b[0m",
      "\u001b[1;31mValueError\u001b[0m                                Traceback (most recent call last)",
      "Input \u001b[1;32mIn [43]\u001b[0m, in \u001b[0;36m<cell line: 1>\u001b[1;34m()\u001b[0m\n\u001b[1;32m----> 1\u001b[0m a \u001b[38;5;241m=\u001b[39m \u001b[38;5;28;43mint\u001b[39;49m\u001b[43m(\u001b[49m\u001b[38;5;124;43m'\u001b[39;49m\u001b[38;5;124;43m20.3\u001b[39;49m\u001b[38;5;124;43m'\u001b[39;49m\u001b[43m)\u001b[49m\n\u001b[0;32m      4\u001b[0m \u001b[38;5;28mprint\u001b[39m(a , \u001b[38;5;28mtype\u001b[39m(a))\n",
      "\u001b[1;31mValueError\u001b[0m: invalid literal for int() with base 10: '20.3'"
     ]
    }
   ],
   "source": [
    "a = int('20.3')\n",
    "\n",
    "\n",
    "print(a , type(a))"
   ]
  },
  {
   "cell_type": "code",
   "execution_count": 44,
   "id": "439700e8",
   "metadata": {},
   "outputs": [
    {
     "name": "stdout",
     "output_type": "stream",
     "text": [
      "20.3 <class 'float'>\n"
     ]
    }
   ],
   "source": [
    "a = eval('20.3')\n",
    "\n",
    "\n",
    "print(a , type(a))"
   ]
  },
  {
   "cell_type": "code",
   "execution_count": 45,
   "id": "1b4cc6a8",
   "metadata": {},
   "outputs": [
    {
     "name": "stdout",
     "output_type": "stream",
     "text": [
      "123 <class 'int'>\n"
     ]
    }
   ],
   "source": [
    "a = eval('123')\n",
    "\n",
    "\n",
    "print(a , type(a))"
   ]
  },
  {
   "cell_type": "code",
   "execution_count": 49,
   "id": "de574c2d",
   "metadata": {},
   "outputs": [
    {
     "name": "stdout",
     "output_type": "stream",
     "text": [
      "Please enter the first number : 10\n",
      "Please enter the second number : 20\n",
      "10 <class 'int'>\n",
      "20 <class 'int'>\n",
      "30\n"
     ]
    }
   ],
   "source": [
    "a = eval(input('Please enter the first number : '))\n",
    "b = eval(input('Please enter the second number : '))\n",
    "\n",
    "print(a , type(a))\n",
    "print(b , type(b))\n",
    "\n",
    "print(a + b)"
   ]
  },
  {
   "cell_type": "code",
   "execution_count": 53,
   "id": "21ec43a1",
   "metadata": {},
   "outputs": [
    {
     "name": "stdout",
     "output_type": "stream",
     "text": [
      "Please enter the first number : 20,30,40\n",
      "Please enter the second number : 30,50,60\n",
      "(20, 30, 40) <class 'tuple'>\n",
      "(30, 50, 60) <class 'tuple'>\n",
      "(20, 30, 40, 30, 50, 60)\n"
     ]
    }
   ],
   "source": [
    "a = eval(input('Please enter the first number : '))\n",
    "b = eval(input('Please enter the second number : '))\n",
    "\n",
    "print(a , type(a))\n",
    "print(b , type(b))\n",
    "\n",
    "print(a + b)"
   ]
  },
  {
   "cell_type": "code",
   "execution_count": null,
   "id": "91fd2f9c",
   "metadata": {},
   "outputs": [],
   "source": [
    "1020"
   ]
  },
  {
   "cell_type": "code",
   "execution_count": 50,
   "id": "ba99d2b2",
   "metadata": {},
   "outputs": [
    {
     "data": {
      "text/plain": [
       "'1020'"
      ]
     },
     "execution_count": 50,
     "metadata": {},
     "output_type": "execute_result"
    }
   ],
   "source": [
    "'10'+'20'"
   ]
  },
  {
   "cell_type": "code",
   "execution_count": null,
   "id": "a38fd158",
   "metadata": {},
   "outputs": [],
   "source": [
    "# 2 input from the user \n",
    "- first name\n",
    "- second name\n",
    "\n",
    "\n",
    "\n",
    "My first name is abc and second name is xyz"
   ]
  },
  {
   "cell_type": "code",
   "execution_count": null,
   "id": "18c78dc8",
   "metadata": {},
   "outputs": [],
   "source": [
    "# concatination"
   ]
  },
  {
   "cell_type": "code",
   "execution_count": 55,
   "id": "18988d8e",
   "metadata": {},
   "outputs": [
    {
     "name": "stdout",
     "output_type": "stream",
     "text": [
      "Enter the first name : abc\n",
      "enter the second name : xyz\n",
      "My first name is abc and  second name is xyz\n"
     ]
    }
   ],
   "source": [
    "a = input('Enter the first name : ')\n",
    "b = input('enter the second name : ')\n",
    "\n",
    "print('My first name is '+a+' and  second name is '+b)"
   ]
  },
  {
   "cell_type": "code",
   "execution_count": null,
   "id": "0d278d6f",
   "metadata": {},
   "outputs": [],
   "source": [
    "# format string"
   ]
  },
  {
   "cell_type": "code",
   "execution_count": 56,
   "id": "c752aaf2",
   "metadata": {},
   "outputs": [
    {
     "name": "stdout",
     "output_type": "stream",
     "text": [
      "Enter the first name : abc\n",
      "enter the second name : xyz\n",
      "My first name is abc and  second name is xyz\n"
     ]
    }
   ],
   "source": [
    "a = input('Enter the first name : ')\n",
    "b = input('enter the second name : ')\n",
    "\n",
    "print('My first name is {} and  second name is {}'.format(a , b))"
   ]
  },
  {
   "cell_type": "code",
   "execution_count": 57,
   "id": "0cf1cb6b",
   "metadata": {},
   "outputs": [
    {
     "name": "stdout",
     "output_type": "stream",
     "text": [
      "Enter the first name : abc\n",
      "enter the second name : xyz\n",
      "My first name is abc and  second name is xyz\n"
     ]
    }
   ],
   "source": [
    "a = input('Enter the first name : ')\n",
    "b = input('enter the second name : ')\n",
    "\n",
    "print(f'My first name is {a} and  second name is {b}')"
   ]
  },
  {
   "cell_type": "code",
   "execution_count": 58,
   "id": "528ded6d",
   "metadata": {},
   "outputs": [
    {
     "name": "stdout",
     "output_type": "stream",
     "text": [
      "Please enter the emp Id : 123\n",
      "emp_123\n"
     ]
    }
   ],
   "source": [
    "a = input('Please enter the emp Id : ')\n",
    "\n",
    "\n",
    "print('emp_'+a)"
   ]
  },
  {
   "cell_type": "code",
   "execution_count": 59,
   "id": "a9844053",
   "metadata": {},
   "outputs": [
    {
     "name": "stdout",
     "output_type": "stream",
     "text": [
      "Please enter the emp Id : 123\n",
      "emp_123\n"
     ]
    }
   ],
   "source": [
    "a = input('Please enter the emp Id : ')\n",
    "\n",
    "\n",
    "print('emp_{}'.format(a))"
   ]
  },
  {
   "cell_type": "code",
   "execution_count": 60,
   "id": "1455dc7b",
   "metadata": {},
   "outputs": [
    {
     "name": "stdout",
     "output_type": "stream",
     "text": [
      "Please enter the emp Id : 123\n",
      "emp_123\n"
     ]
    }
   ],
   "source": [
    "a = input('Please enter the emp Id : ')\n",
    "\n",
    "\n",
    "print(f'emp_{a}')"
   ]
  },
  {
   "cell_type": "code",
   "execution_count": 61,
   "id": "93412376",
   "metadata": {},
   "outputs": [
    {
     "name": "stdout",
     "output_type": "stream",
     "text": [
      "Please enter the emp Id : 123\n",
      "emp_246\n"
     ]
    }
   ],
   "source": [
    "a = int(input('Please enter the emp Id : '))\n",
    "\n",
    "\n",
    "print(f'emp_{a*2}')"
   ]
  },
  {
   "cell_type": "markdown",
   "id": "a86446ad",
   "metadata": {},
   "source": [
    "# Output function\n",
    "\n",
    "- print"
   ]
  },
  {
   "cell_type": "code",
   "execution_count": 62,
   "id": "4003aef3",
   "metadata": {},
   "outputs": [
    {
     "name": "stdout",
     "output_type": "stream",
     "text": [
      "10\n",
      "20\n"
     ]
    }
   ],
   "source": [
    "a = 10\n",
    "b = 20\n",
    "\n",
    "\n",
    "print(a)\n",
    "print(b)"
   ]
  },
  {
   "cell_type": "code",
   "execution_count": 63,
   "id": "53e7da82",
   "metadata": {},
   "outputs": [
    {
     "name": "stdout",
     "output_type": "stream",
     "text": [
      "10 20\n"
     ]
    }
   ],
   "source": [
    "a = 10\n",
    "b = 20\n",
    "\n",
    "\n",
    "print(a , b)"
   ]
  },
  {
   "cell_type": "code",
   "execution_count": 64,
   "id": "02c800f8",
   "metadata": {},
   "outputs": [
    {
     "name": "stdout",
     "output_type": "stream",
     "text": [
      "10\n",
      "20\n"
     ]
    }
   ],
   "source": [
    "a = 10\n",
    "b = 20\n",
    "\n",
    "\n",
    "print(a , sep = '*****')\n",
    "print(b)"
   ]
  },
  {
   "cell_type": "code",
   "execution_count": 65,
   "id": "490e2b73",
   "metadata": {},
   "outputs": [
    {
     "name": "stdout",
     "output_type": "stream",
     "text": [
      "10*****20\n",
      "20\n"
     ]
    }
   ],
   "source": [
    "a = 10\n",
    "b = 20\n",
    "\n",
    "\n",
    "print(a,b , sep = '*****')\n",
    "print(b)"
   ]
  },
  {
   "cell_type": "code",
   "execution_count": 67,
   "id": "a4b213cf",
   "metadata": {},
   "outputs": [
    {
     "name": "stdout",
     "output_type": "stream",
     "text": [
      "10*****20--hello world\n"
     ]
    }
   ],
   "source": [
    "a = 10\n",
    "b = 20\n",
    "\n",
    "\n",
    "print(a,b , sep = '*****' , end = '--')\n",
    "print('hello world')"
   ]
  },
  {
   "cell_type": "code",
   "execution_count": 69,
   "id": "97bae8e8",
   "metadata": {},
   "outputs": [
    {
     "name": "stdout",
     "output_type": "stream",
     "text": [
      "10\n",
      "20\n"
     ]
    }
   ],
   "source": [
    "print(a , b ,sep= '\\n')"
   ]
  },
  {
   "cell_type": "code",
   "execution_count": 70,
   "id": "853ea232",
   "metadata": {},
   "outputs": [
    {
     "name": "stdout",
     "output_type": "stream",
     "text": [
      "10----20\n"
     ]
    }
   ],
   "source": [
    "a = 10\n",
    "b = 20\n",
    "\n",
    "\n",
    "print(a , end = '----')\n",
    "print(b)"
   ]
  },
  {
   "cell_type": "code",
   "execution_count": 71,
   "id": "ea373852",
   "metadata": {},
   "outputs": [
    {
     "name": "stdout",
     "output_type": "stream",
     "text": [
      "10*****20--hello world\n"
     ]
    }
   ],
   "source": [
    "a = 10\n",
    "b = 20\n",
    "\n",
    "\n",
    "print(a,b , sep = '*****' , end = '--')\n",
    "print('hello world')"
   ]
  },
  {
   "cell_type": "code",
   "execution_count": 72,
   "id": "d73c7a35",
   "metadata": {},
   "outputs": [
    {
     "name": "stdout",
     "output_type": "stream",
     "text": [
      "10+++20--30\n",
      "40##10&&20&&50%%"
     ]
    }
   ],
   "source": [
    "a = 10\n",
    "b = 20\n",
    "c = 30\n",
    "d = 40\n",
    "e = 50\n",
    "\n",
    "\n",
    "print(a,b , sep = '+++' , end = '--')\n",
    "print(c, sep = '????')\n",
    "print(d , end = '##')\n",
    "print(a,b,e, sep = '&&' , end = '%%')"
   ]
  },
  {
   "cell_type": "code",
   "execution_count": null,
   "id": "c55b5159",
   "metadata": {},
   "outputs": [],
   "source": [
    "10+++20--30\n",
    "40##10&&20&&50%%"
   ]
  },
  {
   "cell_type": "code",
   "execution_count": 76,
   "id": "3a714f6a",
   "metadata": {},
   "outputs": [
    {
     "name": "stdout",
     "output_type": "stream",
     "text": [
      "Enter the first name : abc\n",
      "enter the second name : xyz\n",
      "My first name is abc and  second name is xyz\n"
     ]
    }
   ],
   "source": [
    "a = input('Enter the first name : ')\n",
    "b = input('enter the second name : ')\n",
    "\n",
    "c = 'My first name is '+a+' and  second name is '+b\n",
    "\n",
    "print(c)"
   ]
  },
  {
   "cell_type": "code",
   "execution_count": 75,
   "id": "fd43172a",
   "metadata": {},
   "outputs": [
    {
     "name": "stdout",
     "output_type": "stream",
     "text": [
      "Enter the first name : abc\n",
      "enter the second name : xyz\n",
      "My first name is abc and  second name is  xyz\n"
     ]
    }
   ],
   "source": [
    "a = input('Enter the first name : ')\n",
    "b = input('enter the second name : ')\n",
    "\n",
    "print('My first name is',a,'and  second name is ',b)"
   ]
  },
  {
   "cell_type": "markdown",
   "id": "40c97556",
   "metadata": {},
   "source": [
    "# String\n",
    "\n",
    "\n",
    "- Anything that is written inside '..' , \"..\" , '''..''' , \"\"\"..\"\"\""
   ]
  },
  {
   "cell_type": "code",
   "execution_count": 78,
   "id": "1141b3dc",
   "metadata": {},
   "outputs": [
    {
     "name": "stdout",
     "output_type": "stream",
     "text": [
      "123 <class 'str'>\n"
     ]
    }
   ],
   "source": [
    "a = '123'\n",
    "\n",
    "print(a , type(a))"
   ]
  },
  {
   "cell_type": "code",
   "execution_count": 79,
   "id": "48650bb9",
   "metadata": {},
   "outputs": [
    {
     "name": "stdout",
     "output_type": "stream",
     "text": [
      "python <class 'str'>\n",
      "python <class 'str'>\n",
      "python <class 'str'>\n",
      "python <class 'str'>\n"
     ]
    }
   ],
   "source": [
    "a = 'python'\n",
    "b = \"python\"\n",
    "c = '''python'''\n",
    "d = \"\"\"python\"\"\"\n",
    "\n",
    "print(a , type(a))\n",
    "print(b , type(b))\n",
    "print(c , type(c))\n",
    "print(d, type(d))"
   ]
  },
  {
   "cell_type": "code",
   "execution_count": 81,
   "id": "40212f9f",
   "metadata": {},
   "outputs": [
    {
     "name": "stdout",
     "output_type": "stream",
     "text": [
      "This is pythons class <class 'str'>\n"
     ]
    }
   ],
   "source": [
    "a = 'This is pythons class'\n",
    "\n",
    "print(a , type(a))"
   ]
  },
  {
   "cell_type": "code",
   "execution_count": 82,
   "id": "58c62c31",
   "metadata": {},
   "outputs": [
    {
     "ename": "SyntaxError",
     "evalue": "invalid syntax (214377939.py, line 1)",
     "output_type": "error",
     "traceback": [
      "\u001b[1;36m  Input \u001b[1;32mIn [82]\u001b[1;36m\u001b[0m\n\u001b[1;33m    a = 'This is python's class'\u001b[0m\n\u001b[1;37m                        ^\u001b[0m\n\u001b[1;31mSyntaxError\u001b[0m\u001b[1;31m:\u001b[0m invalid syntax\n"
     ]
    }
   ],
   "source": [
    "a = 'This is python's class'\n",
    "\n",
    "print(a , type(a))"
   ]
  },
  {
   "cell_type": "code",
   "execution_count": 83,
   "id": "e6681770",
   "metadata": {},
   "outputs": [
    {
     "name": "stdout",
     "output_type": "stream",
     "text": [
      "This is python's class <class 'str'>\n"
     ]
    }
   ],
   "source": [
    "a = \"This is python's class\"\n",
    "\n",
    "print(a , type(a))"
   ]
  },
  {
   "cell_type": "code",
   "execution_count": 84,
   "id": "cb21d32b",
   "metadata": {},
   "outputs": [
    {
     "ename": "SyntaxError",
     "evalue": "EOL while scanning string literal (1557538177.py, line 1)",
     "output_type": "error",
     "traceback": [
      "\u001b[1;36m  Input \u001b[1;32mIn [84]\u001b[1;36m\u001b[0m\n\u001b[1;33m    a = \"This\u001b[0m\n\u001b[1;37m              ^\u001b[0m\n\u001b[1;31mSyntaxError\u001b[0m\u001b[1;31m:\u001b[0m EOL while scanning string literal\n"
     ]
    }
   ],
   "source": [
    "a = \"This \n",
    "is python's \n",
    "class\"\n",
    "\n",
    "print(a , type(a))"
   ]
  },
  {
   "cell_type": "code",
   "execution_count": 85,
   "id": "1e436c10",
   "metadata": {},
   "outputs": [
    {
     "name": "stdout",
     "output_type": "stream",
     "text": [
      "This \n",
      "is python's \n",
      "class <class 'str'>\n"
     ]
    }
   ],
   "source": [
    "a = '''This \n",
    "is python's \n",
    "class'''\n",
    "\n",
    "print(a , type(a))"
   ]
  },
  {
   "cell_type": "markdown",
   "id": "899e3c4b",
   "metadata": {},
   "source": [
    "# Indexing and slicing"
   ]
  },
  {
   "cell_type": "markdown",
   "id": "a9cff7f4",
   "metadata": {},
   "source": [
    "# Indexing\n",
    "\n",
    "- Accessing 1 char at a time\n",
    "- +ve index starts from 0 direction L -R\n",
    "- -ve index starts from -1 direction R-L"
   ]
  },
  {
   "cell_type": "code",
   "execution_count": 86,
   "id": "0c5dd403",
   "metadata": {},
   "outputs": [
    {
     "name": "stdout",
     "output_type": "stream",
     "text": [
      "o\n"
     ]
    }
   ],
   "source": [
    "a = 'python'\n",
    "\n",
    "\n",
    "print(a[4])"
   ]
  },
  {
   "cell_type": "code",
   "execution_count": 87,
   "id": "186d6c4c",
   "metadata": {},
   "outputs": [
    {
     "name": "stdout",
     "output_type": "stream",
     "text": [
      "n\n"
     ]
    }
   ],
   "source": [
    "a = 'python'\n",
    "\n",
    "\n",
    "print(a[-1])"
   ]
  },
  {
   "cell_type": "code",
   "execution_count": null,
   "id": "bfd167ff",
   "metadata": {},
   "outputs": [],
   "source": [
    "# Slicing\n",
    "\n",
    "- accessiong multiple char at a time\n",
    "\n",
    "syntax : var[start index : stop index : step]\n",
    "\n",
    "by default you step 1\n",
    "\n",
    "start idex --> inclusive\n",
    "stop index --> exclusive\n",
    "\n",
    "\n",
    "var [:]\n",
    "by default the start is 0\n",
    "stop end of the string\n",
    "\n",
    "var [::-1]\n",
    "by default the start is -1\n",
    "start of the string"
   ]
  },
  {
   "cell_type": "code",
   "execution_count": 89,
   "id": "368070b1",
   "metadata": {},
   "outputs": [
    {
     "name": "stdout",
     "output_type": "stream",
     "text": [
      "data\n",
      "data\n"
     ]
    }
   ],
   "source": [
    "a = 'data science'\n",
    "\n",
    "\n",
    "# +ve \n",
    "print(a[:4]) # \n",
    "\n",
    "# -ve\n",
    "print(a[-12:-8])"
   ]
  },
  {
   "cell_type": "code",
   "execution_count": 92,
   "id": "b931d146",
   "metadata": {},
   "outputs": [
    {
     "name": "stdout",
     "output_type": "stream",
     "text": [
      "ecneics\n",
      "ecneics\n"
     ]
    }
   ],
   "source": [
    "a = 'data science'\n",
    "\n",
    "\n",
    "# +ve \n",
    "print(a[:4:-1]) # \n",
    "\n",
    "# -ve\n",
    "print(a[-1:-8:-1])"
   ]
  },
  {
   "cell_type": "code",
   "execution_count": 93,
   "id": "7dbfd385",
   "metadata": {},
   "outputs": [
    {
     "name": "stdout",
     "output_type": "stream",
     "text": [
      "\n"
     ]
    }
   ],
   "source": [
    "a = 'data science'\n",
    "\n",
    "# -ve\n",
    "print(a[-1:-8:1])"
   ]
  },
  {
   "cell_type": "code",
   "execution_count": 95,
   "id": "8f6d2944",
   "metadata": {},
   "outputs": [
    {
     "name": "stdout",
     "output_type": "stream",
     "text": [
      "ecneics\n"
     ]
    }
   ],
   "source": [
    "a = 'data science'\n",
    "\n",
    "# -ve\n",
    "print(a[11:-8:-1])"
   ]
  },
  {
   "cell_type": "code",
   "execution_count": 96,
   "id": "846899a5",
   "metadata": {},
   "outputs": [
    {
     "name": "stdout",
     "output_type": "stream",
     "text": [
      "data science\n"
     ]
    }
   ],
   "source": [
    "a = 'data science'\n",
    "\n",
    "# -ve\n",
    "print(a[::])"
   ]
  },
  {
   "cell_type": "code",
   "execution_count": 97,
   "id": "341922fa",
   "metadata": {},
   "outputs": [
    {
     "name": "stdout",
     "output_type": "stream",
     "text": [
      "ecneics atad\n"
     ]
    }
   ],
   "source": [
    "a = 'data science'\n",
    "\n",
    "# -ve\n",
    "print(a[::-1])"
   ]
  },
  {
   "cell_type": "code",
   "execution_count": 104,
   "id": "2f919f4d",
   "metadata": {},
   "outputs": [
    {
     "name": "stdout",
     "output_type": "stream",
     "text": [
      "data\n"
     ]
    }
   ],
   "source": [
    "a = 'data science'\n",
    "\n",
    "# d -1\n",
    "# space 4\n",
    "print(a[-12:4]) # 1"
   ]
  },
  {
   "cell_type": "code",
   "execution_count": 103,
   "id": "e469e234",
   "metadata": {},
   "outputs": [
    {
     "name": "stdout",
     "output_type": "stream",
     "text": [
      "data\n"
     ]
    }
   ],
   "source": [
    "a = 'data science'\n",
    "\n",
    "# d -1\n",
    "# space 4\n",
    "print(a[-12:-8]) # 1"
   ]
  },
  {
   "cell_type": "code",
   "execution_count": null,
   "id": "1dd75a34",
   "metadata": {},
   "outputs": [],
   "source": [
    "date = '2015-07-31'\n",
    "\n",
    "\n",
    "day = \n",
    "month = \n",
    "year = \n",
    "\n",
    "print(day)\n",
    "print(month)\n",
    "print(day)"
   ]
  },
  {
   "cell_type": "code",
   "execution_count": null,
   "id": "70cb8579",
   "metadata": {},
   "outputs": [],
   "source": []
  },
  {
   "cell_type": "code",
   "execution_count": null,
   "id": "05ce1c51",
   "metadata": {},
   "outputs": [],
   "source": []
  },
  {
   "cell_type": "markdown",
   "id": "c4bc7f5b",
   "metadata": {},
   "source": [
    "# Step"
   ]
  },
  {
   "cell_type": "code",
   "execution_count": null,
   "id": "56eb330e",
   "metadata": {},
   "outputs": [],
   "source": []
  }
 ],
 "metadata": {
  "kernelspec": {
   "display_name": "Python 3 (ipykernel)",
   "language": "python",
   "name": "python3"
  },
  "language_info": {
   "codemirror_mode": {
    "name": "ipython",
    "version": 3
   },
   "file_extension": ".py",
   "mimetype": "text/x-python",
   "name": "python",
   "nbconvert_exporter": "python",
   "pygments_lexer": "ipython3",
   "version": "3.9.12"
  }
 },
 "nbformat": 4,
 "nbformat_minor": 5
}
