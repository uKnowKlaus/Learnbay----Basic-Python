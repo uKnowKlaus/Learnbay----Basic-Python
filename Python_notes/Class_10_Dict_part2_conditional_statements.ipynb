{
 "cells": [
  {
   "cell_type": "code",
   "execution_count": 26,
   "id": "73b89bd4",
   "metadata": {},
   "outputs": [],
   "source": [
    "emp_data_existing = {'emp_1': {'age': 24, 'salary': 626223, 'name': 'salahuddin'},\n",
    " 'emp_2': {'age': 23, 'salary': 96780, 'name': 'ajay'},\n",
    " 'emp_3': {'age': 26, 'salary': 90890, 'name': 'abhishek'},\n",
    " 'emp_4': {'age': 32, 'salary': 65756, 'name': 'anas'},\n",
    " 'emp_5': {'age': 23, 'salary': 454466, 'name': 'hjagsdhja'},\n",
    " 'emp_6': {'age': 64, 'salary': 78465874, 'name': 'jkfsdhk'},\n",
    " 'emp_7': {'age': 674, 'salary': 454, 'name': 'klfdghj;sdkjg'},\n",
    " 'emp_8': {'age': 74, 'salary': 89345, 'name': 'fdjkhgfd'}}\n",
    "\n",
    "\n",
    "ex_emp = {}"
   ]
  },
  {
   "cell_type": "code",
   "execution_count": 28,
   "id": "11f12b50",
   "metadata": {},
   "outputs": [
    {
     "name": "stdout",
     "output_type": "stream",
     "text": [
      "Enter the emp ID to removeemp_5\n"
     ]
    },
    {
     "data": {
      "text/plain": [
       "{'emp_7': {'age': 674, 'salary': 454, 'name': 'klfdghj;sdkjg'},\n",
       " 'emp_5': {'age': 23, 'salary': 454466, 'name': 'hjagsdhja'}}"
      ]
     },
     "execution_count": 28,
     "metadata": {},
     "output_type": "execute_result"
    }
   ],
   "source": [
    "to_remove = input('Enter the emp ID to remove')\n",
    "\n",
    "\n",
    "ex_emp.setdefault(to_remove , emp_data_existing.pop(to_remove))\n",
    "\n",
    "ex_emp"
   ]
  },
  {
   "cell_type": "code",
   "execution_count": 12,
   "id": "429b6568",
   "metadata": {},
   "outputs": [
    {
     "name": "stdout",
     "output_type": "stream",
     "text": [
      "List of current Employees:\n",
      "emp_1 {'age': 24, 'salary': 626223, 'name': 'salahuddin'}\n",
      "emp_2 {'age': 23, 'salary': 96780, 'name': 'ajay'}\n",
      "emp_3 {'age': 26, 'salary': 90890, 'name': 'abhishek'}\n",
      "emp_4 {'age': 32, 'salary': 65756, 'name': 'anas'}\n",
      "emp_6 {'age': 64, 'salary': 78465874, 'name': 'jkfsdhk'}\n",
      "emp_7 {'age': 674, 'salary': 454, 'name': 'klfdghj;sdkjg'}\n",
      "emp_8 {'age': 74, 'salary': 89345, 'name': 'fdjkhgfd'}\n",
      "\n",
      "Please enter the employee id of the employee who is leaving the company: emp_3\n",
      "\n",
      "emp_3 has been successfully removed from current Employee database and added to the Ex-employee database\n",
      "\n",
      "List of ex employees:\n",
      "emp_5 {'age': 23, 'salary': 454466, 'name': 'hjagsdhja'}\n",
      "emp_3 {'age': 26, 'salary': 90890, 'name': 'abhishek'}\n",
      "\n",
      "List of current employees after the update:\n",
      "emp_1 {'age': 24, 'salary': 626223, 'name': 'salahuddin'}\n",
      "emp_2 {'age': 23, 'salary': 96780, 'name': 'ajay'}\n",
      "emp_4 {'age': 32, 'salary': 65756, 'name': 'anas'}\n",
      "emp_6 {'age': 64, 'salary': 78465874, 'name': 'jkfsdhk'}\n",
      "emp_7 {'age': 674, 'salary': 454, 'name': 'klfdghj;sdkjg'}\n",
      "emp_8 {'age': 74, 'salary': 89345, 'name': 'fdjkhgfd'}\n"
     ]
    }
   ],
   "source": [
    "print('List of current Employees:')\n",
    "for i in emp_data_existing:\n",
    "    print(i, emp_data_existing[i])\n",
    "emp_id=input('\\nPlease enter the employee id of the employee who is leaving the company: ')\n",
    "val=emp_data_existing.pop(emp_id)\n",
    "ex_emp.setdefault(emp_id,val)\n",
    "print(f'\\n{emp_id} has been successfully removed from current Employee database and added to the Ex-employee database\\n')\n",
    "print('List of ex employees:')\n",
    "for i in ex_emp:\n",
    "    print(i, ex_emp[i])\n",
    "\n",
    "print('\\nList of current employees after the update:')\n",
    "for i in emp_data_existing:\n",
    "    print(i, emp_data_existing[i])\n"
   ]
  },
  {
   "cell_type": "code",
   "execution_count": 13,
   "id": "b78f011d",
   "metadata": {},
   "outputs": [
    {
     "data": {
      "text/plain": [
       "{'emp_5': {'age': 23, 'salary': 454466, 'name': 'hjagsdhja'},\n",
       " 'emp_3': {'age': 26, 'salary': 90890, 'name': 'abhishek'}}"
      ]
     },
     "execution_count": 13,
     "metadata": {},
     "output_type": "execute_result"
    }
   ],
   "source": [
    "ex_emp"
   ]
  },
  {
   "cell_type": "code",
   "execution_count": 14,
   "id": "d66bdfb7",
   "metadata": {},
   "outputs": [
    {
     "name": "stdout",
     "output_type": "stream",
     "text": [
      "Please enter the emp id to be removed : emp_2\n",
      "{'emp_1': {'age': 24, 'salary': 626223, 'name': 'salahuddin'}, 'emp_3': {'age': 26, 'salary': 90890, 'name': 'abhishek'}, 'emp_4': {'age': 32, 'salary': 65756, 'name': 'anas'}, 'emp_5': {'age': 23, 'salary': 454466, 'name': 'hjagsdhja'}, 'emp_6': {'age': 64, 'salary': 78465874, 'name': 'jkfsdhk'}, 'emp_7': {'age': 674, 'salary': 454, 'name': 'klfdghj;sdkjg'}, 'emp_8': {'age': 74, 'salary': 89345, 'name': 'fdjkhgfd'}}\n",
      "{'emp_2': {'age': 23, 'salary': 96780, 'name': 'ajay'}}\n"
     ]
    }
   ],
   "source": [
    "emp_data_existing = {'emp_1': {'age': 24, 'salary': 626223, 'name': 'salahuddin'},\n",
    " 'emp_2': {'age': 23, 'salary': 96780, 'name': 'ajay'},\n",
    " 'emp_3': {'age': 26, 'salary': 90890, 'name': 'abhishek'},\n",
    " 'emp_4': {'age': 32, 'salary': 65756, 'name': 'anas'},\n",
    " 'emp_5': {'age': 23, 'salary': 454466, 'name': 'hjagsdhja'},\n",
    " 'emp_6': {'age': 64, 'salary': 78465874, 'name': 'jkfsdhk'},\n",
    " 'emp_7': {'age': 674, 'salary': 454, 'name': 'klfdghj;sdkjg'},\n",
    " 'emp_8': {'age': 74, 'salary': 89345, 'name': 'fdjkhgfd'}}\n"
   ]
  },
  {
   "cell_type": "code",
   "execution_count": 16,
   "id": "a7b81e1e",
   "metadata": {},
   "outputs": [
    {
     "name": "stdout",
     "output_type": "stream",
     "text": [
      "Please enter the emp id to be removed : emp_5\n",
      "{'emp_1': {'age': 24, 'salary': 626223, 'name': 'salahuddin'}, 'emp_3': {'age': 26, 'salary': 90890, 'name': 'abhishek'}, 'emp_4': {'age': 32, 'salary': 65756, 'name': 'anas'}, 'emp_6': {'age': 64, 'salary': 78465874, 'name': 'jkfsdhk'}, 'emp_7': {'age': 674, 'salary': 454, 'name': 'klfdghj;sdkjg'}, 'emp_8': {'age': 74, 'salary': 89345, 'name': 'fdjkhgfd'}}\n",
      "{'emp_2': {'age': 23, 'salary': 96780, 'name': 'ajay'}, 'emp_5': {'age': 23, 'salary': 454466, 'name': 'hjagsdhja'}}\n"
     ]
    }
   ],
   "source": [
    "\n",
    "\n",
    "emp_id = input(\"Please enter the emp id to be removed : \")\n",
    "\n",
    "ex_emp[emp_id] = emp_data_existing[emp_id]\n",
    "\n",
    "\n",
    "emp_data_existing.pop(emp_id)\n",
    "\n",
    "print(emp_data_existing)\n",
    "print(ex_emp)"
   ]
  },
  {
   "cell_type": "code",
   "execution_count": 17,
   "id": "037683d3",
   "metadata": {},
   "outputs": [
    {
     "data": {
      "text/plain": [
       "{'emp_2': {'age': 23, 'salary': 96780, 'name': 'ajay'},\n",
       " 'emp_5': {'age': 23, 'salary': 454466, 'name': 'hjagsdhja'}}"
      ]
     },
     "execution_count": 17,
     "metadata": {},
     "output_type": "execute_result"
    }
   ],
   "source": [
    "ex_emp"
   ]
  },
  {
   "cell_type": "code",
   "execution_count": 19,
   "id": "cf4ccfab",
   "metadata": {},
   "outputs": [],
   "source": [
    "a = {'a':1}"
   ]
  },
  {
   "cell_type": "code",
   "execution_count": 20,
   "id": "da896811",
   "metadata": {},
   "outputs": [],
   "source": [
    "a['b'] = 12"
   ]
  },
  {
   "cell_type": "code",
   "execution_count": 21,
   "id": "39e5c9c3",
   "metadata": {},
   "outputs": [
    {
     "data": {
      "text/plain": [
       "{'a': 1, 'b': 12}"
      ]
     },
     "execution_count": 21,
     "metadata": {},
     "output_type": "execute_result"
    }
   ],
   "source": [
    "a"
   ]
  },
  {
   "cell_type": "code",
   "execution_count": 39,
   "id": "8fbab5e6",
   "metadata": {},
   "outputs": [
    {
     "name": "stdout",
     "output_type": "stream",
     "text": [
      "['__class__', '__class_getitem__', '__contains__', '__delattr__', '__delitem__', '__dir__', '__doc__', '__eq__', '__format__', '__ge__', '__getattribute__', '__getitem__', '__gt__', '__hash__', '__init__', '__init_subclass__', '__ior__', '__iter__', '__le__', '__len__', '__lt__', '__ne__', '__new__', '__or__', '__reduce__', '__reduce_ex__', '__repr__', '__reversed__', '__ror__', '__setattr__', '__setitem__', '__sizeof__', '__str__', '__subclasshook__', 'clear', 'copy', 'fromkeys', 'get', 'items', 'keys', 'pop', 'popitem', 'setdefault', 'update', 'values']\n"
     ]
    }
   ],
   "source": [
    "#\n",
    "\n",
    "print(dir(dict))"
   ]
  },
  {
   "cell_type": "markdown",
   "id": "6ad4f53c",
   "metadata": {},
   "source": [
    "# Keys , items , values"
   ]
  },
  {
   "cell_type": "code",
   "execution_count": 40,
   "id": "826fd0f5",
   "metadata": {},
   "outputs": [],
   "source": [
    "emp_data_existing = {'emp_1': {'age': 24, 'salary': 626223, 'name': 'salahuddin'},\n",
    " 'emp_2': {'age': 23, 'salary': 96780, 'name': 'ajay'},\n",
    " 'emp_3': {'age': 26, 'salary': 90890, 'name': 'abhishek'},\n",
    " 'emp_4': {'age': 32, 'salary': 65756, 'name': 'anas'},\n",
    " 'emp_5': {'age': 23, 'salary': 454466, 'name': 'hjagsdhja'},\n",
    " 'emp_6': {'age': 64, 'salary': 78465874, 'name': 'jkfsdhk'},\n",
    " 'emp_7': {'age': 674, 'salary': 454, 'name': 'klfdghj;sdkjg'},\n",
    " 'emp_8': {'age': 74, 'salary': 89345, 'name': 'fdjkhgfd'}}\n"
   ]
  },
  {
   "cell_type": "code",
   "execution_count": null,
   "id": "331c75b5",
   "metadata": {},
   "outputs": [],
   "source": []
  },
  {
   "cell_type": "code",
   "execution_count": 41,
   "id": "83bd28ad",
   "metadata": {},
   "outputs": [
    {
     "data": {
      "text/plain": [
       "dict_keys(['emp_1', 'emp_2', 'emp_3', 'emp_4', 'emp_5', 'emp_6', 'emp_7', 'emp_8'])"
      ]
     },
     "execution_count": 41,
     "metadata": {},
     "output_type": "execute_result"
    }
   ],
   "source": [
    "emp_data_existing.keys()"
   ]
  },
  {
   "cell_type": "code",
   "execution_count": 44,
   "id": "292558db",
   "metadata": {},
   "outputs": [
    {
     "name": "stdout",
     "output_type": "stream",
     "text": [
      "emp_1\n",
      "emp_2\n",
      "emp_3\n",
      "emp_4\n",
      "emp_5\n",
      "emp_6\n",
      "emp_7\n",
      "emp_8\n"
     ]
    }
   ],
   "source": [
    "for i in emp_data_existing.keys():\n",
    "    print(i)"
   ]
  },
  {
   "cell_type": "code",
   "execution_count": 42,
   "id": "79b4560a",
   "metadata": {},
   "outputs": [
    {
     "data": {
      "text/plain": [
       "dict_values([{'age': 24, 'salary': 626223, 'name': 'salahuddin'}, {'age': 23, 'salary': 96780, 'name': 'ajay'}, {'age': 26, 'salary': 90890, 'name': 'abhishek'}, {'age': 32, 'salary': 65756, 'name': 'anas'}, {'age': 23, 'salary': 454466, 'name': 'hjagsdhja'}, {'age': 64, 'salary': 78465874, 'name': 'jkfsdhk'}, {'age': 674, 'salary': 454, 'name': 'klfdghj;sdkjg'}, {'age': 74, 'salary': 89345, 'name': 'fdjkhgfd'}])"
      ]
     },
     "execution_count": 42,
     "metadata": {},
     "output_type": "execute_result"
    }
   ],
   "source": [
    "(emp_data_existing.values())"
   ]
  },
  {
   "cell_type": "code",
   "execution_count": 55,
   "id": "30fd06e0",
   "metadata": {},
   "outputs": [
    {
     "name": "stdout",
     "output_type": "stream",
     "text": [
      "{'age': 24, 'salary': 626223, 'name': 'salahuddin'}\n",
      "{'age': 23, 'salary': 96780, 'name': 'ajay'}\n",
      "{'age': 26, 'salary': 90890, 'name': 'abhishek'}\n",
      "{'age': 32, 'salary': 65756, 'name': 'anas'}\n",
      "{'age': 23, 'salary': 454466, 'name': 'hjagsdhja'}\n",
      "{'age': 64, 'salary': 78465874, 'name': 'jkfsdhk'}\n",
      "{'age': 674, 'salary': 454, 'name': 'klfdghj;sdkjg'}\n",
      "{'age': 74, 'salary': 89345, 'name': 'fdjkhgfd'}\n"
     ]
    }
   ],
   "source": [
    "for i in emp_data_existing.values():\n",
    "    print(i)"
   ]
  },
  {
   "cell_type": "code",
   "execution_count": 43,
   "id": "a7222d4a",
   "metadata": {},
   "outputs": [
    {
     "data": {
      "text/plain": [
       "dict_items([('emp_1', {'age': 24, 'salary': 626223, 'name': 'salahuddin'}), ('emp_2', {'age': 23, 'salary': 96780, 'name': 'ajay'}), ('emp_3', {'age': 26, 'salary': 90890, 'name': 'abhishek'}), ('emp_4', {'age': 32, 'salary': 65756, 'name': 'anas'}), ('emp_5', {'age': 23, 'salary': 454466, 'name': 'hjagsdhja'}), ('emp_6', {'age': 64, 'salary': 78465874, 'name': 'jkfsdhk'}), ('emp_7', {'age': 674, 'salary': 454, 'name': 'klfdghj;sdkjg'}), ('emp_8', {'age': 74, 'salary': 89345, 'name': 'fdjkhgfd'})])"
      ]
     },
     "execution_count": 43,
     "metadata": {},
     "output_type": "execute_result"
    }
   ],
   "source": [
    "emp_data_existing.items()"
   ]
  },
  {
   "cell_type": "code",
   "execution_count": 47,
   "id": "4b0678d3",
   "metadata": {},
   "outputs": [
    {
     "name": "stdout",
     "output_type": "stream",
     "text": [
      "emp_1 {'age': 24, 'salary': 626223, 'name': 'salahuddin'}\n",
      "emp_2 {'age': 23, 'salary': 96780, 'name': 'ajay'}\n",
      "emp_3 {'age': 26, 'salary': 90890, 'name': 'abhishek'}\n",
      "emp_4 {'age': 32, 'salary': 65756, 'name': 'anas'}\n",
      "emp_5 {'age': 23, 'salary': 454466, 'name': 'hjagsdhja'}\n",
      "emp_6 {'age': 64, 'salary': 78465874, 'name': 'jkfsdhk'}\n",
      "emp_7 {'age': 674, 'salary': 454, 'name': 'klfdghj;sdkjg'}\n",
      "emp_8 {'age': 74, 'salary': 89345, 'name': 'fdjkhgfd'}\n"
     ]
    }
   ],
   "source": [
    "for i,j in emp_data_existing.items():\n",
    "    print(i , j)"
   ]
  },
  {
   "cell_type": "code",
   "execution_count": 50,
   "id": "afba90c4",
   "metadata": {},
   "outputs": [
    {
     "data": {
      "text/plain": [
       "{'emp_1': {'age': 24, 'salary': 626223, 'name': 'salahuddin'},\n",
       " 'emp_2': {'age': 23, 'salary': 96780, 'name': 'ajay'},\n",
       " 'emp_3': {'age': 26, 'salary': 90890, 'name': 'abhishek'},\n",
       " 'emp_4': {'age': 32, 'salary': 65756, 'name': 'anas'},\n",
       " 'emp_5': {'age': 23, 'salary': 454466, 'name': 'hjagsdhja'},\n",
       " 'emp_6': {'age': 64, 'salary': 78465874, 'name': 'jkfsdhk'},\n",
       " 'emp_7': {'age': 674, 'salary': 454, 'name': 'klfdghj;sdkjg'},\n",
       " 'emp_8': {'age': 74, 'salary': 89345, 'name': 'fdjkhgfd'}}"
      ]
     },
     "execution_count": 50,
     "metadata": {},
     "output_type": "execute_result"
    }
   ],
   "source": [
    "emp_data_existing"
   ]
  },
  {
   "cell_type": "code",
   "execution_count": 52,
   "id": "c3b31663",
   "metadata": {},
   "outputs": [
    {
     "name": "stdout",
     "output_type": "stream",
     "text": [
      "False\n"
     ]
    }
   ],
   "source": [
    "print('age' in emp_data_existing.values())"
   ]
  },
  {
   "cell_type": "code",
   "execution_count": 53,
   "id": "5d6d3bc3",
   "metadata": {},
   "outputs": [
    {
     "data": {
      "text/plain": [
       "dict_values([{'age': 24, 'salary': 626223, 'name': 'salahuddin'}, {'age': 23, 'salary': 96780, 'name': 'ajay'}, {'age': 26, 'salary': 90890, 'name': 'abhishek'}, {'age': 32, 'salary': 65756, 'name': 'anas'}, {'age': 23, 'salary': 454466, 'name': 'hjagsdhja'}, {'age': 64, 'salary': 78465874, 'name': 'jkfsdhk'}, {'age': 674, 'salary': 454, 'name': 'klfdghj;sdkjg'}, {'age': 74, 'salary': 89345, 'name': 'fdjkhgfd'}])"
      ]
     },
     "execution_count": 53,
     "metadata": {},
     "output_type": "execute_result"
    }
   ],
   "source": [
    "emp_data_existing.values()"
   ]
  },
  {
   "cell_type": "markdown",
   "id": "6c9aa6d2",
   "metadata": {},
   "source": [
    "# fromkeys"
   ]
  },
  {
   "cell_type": "code",
   "execution_count": 57,
   "id": "12e4bf58",
   "metadata": {},
   "outputs": [],
   "source": [
    "a = [1,2,3,4,5,6]\n",
    "\n",
    "\n",
    "d = dict.fromkeys(a)"
   ]
  },
  {
   "cell_type": "code",
   "execution_count": 58,
   "id": "9ea2bdbb",
   "metadata": {},
   "outputs": [
    {
     "data": {
      "text/plain": [
       "{1: None, 2: None, 3: None, 4: None, 5: None, 6: None}"
      ]
     },
     "execution_count": 58,
     "metadata": {},
     "output_type": "execute_result"
    }
   ],
   "source": [
    "d"
   ]
  },
  {
   "cell_type": "code",
   "execution_count": 59,
   "id": "7ca32ed2",
   "metadata": {},
   "outputs": [],
   "source": [
    "a = [1,2,3,4,5,6]\n",
    "\n",
    "\n",
    "d = dict.fromkeys(a , [1,2])"
   ]
  },
  {
   "cell_type": "code",
   "execution_count": 60,
   "id": "f0f0da30",
   "metadata": {},
   "outputs": [
    {
     "data": {
      "text/plain": [
       "{1: [1, 2], 2: [1, 2], 3: [1, 2], 4: [1, 2], 5: [1, 2], 6: [1, 2]}"
      ]
     },
     "execution_count": 60,
     "metadata": {},
     "output_type": "execute_result"
    }
   ],
   "source": [
    "d"
   ]
  },
  {
   "cell_type": "code",
   "execution_count": 70,
   "id": "c8c66b80",
   "metadata": {},
   "outputs": [],
   "source": [
    "a = range(0,101)\n",
    "\n",
    "\n",
    "d = dict.fromkeys(a , 0)"
   ]
  },
  {
   "cell_type": "code",
   "execution_count": 71,
   "id": "bf01765b",
   "metadata": {},
   "outputs": [
    {
     "name": "stdout",
     "output_type": "stream",
     "text": [
      "{0: 0, 1: 0, 2: 0, 3: 0, 4: 0, 5: 0, 6: 0, 7: 0, 8: 0, 9: 0, 10: 0, 11: 0, 12: 0, 13: 0, 14: 0, 15: 0, 16: 0, 17: 0, 18: 0, 19: 0, 20: 0, 21: 0, 22: 0, 23: 0, 24: 0, 25: 0, 26: 0, 27: 0, 28: 0, 29: 0, 30: 0, 31: 0, 32: 0, 33: 0, 34: 0, 35: 0, 36: 0, 37: 0, 38: 0, 39: 0, 40: 0, 41: 0, 42: 0, 43: 0, 44: 0, 45: 0, 46: 0, 47: 0, 48: 0, 49: 0, 50: 0, 51: 0, 52: 0, 53: 0, 54: 0, 55: 0, 56: 0, 57: 0, 58: 0, 59: 0, 60: 0, 61: 0, 62: 0, 63: 0, 64: 0, 65: 0, 66: 0, 67: 0, 68: 0, 69: 0, 70: 0, 71: 0, 72: 0, 73: 0, 74: 0, 75: 0, 76: 0, 77: 0, 78: 0, 79: 0, 80: 0, 81: 0, 82: 0, 83: 0, 84: 0, 85: 0, 86: 0, 87: 0, 88: 0, 89: 0, 90: 0, 91: 0, 92: 0, 93: 0, 94: 0, 95: 0, 96: 0, 97: 0, 98: 0, 99: 0, 100: 0}\n"
     ]
    }
   ],
   "source": [
    "print(d)"
   ]
  },
  {
   "cell_type": "code",
   "execution_count": 72,
   "id": "addf104e",
   "metadata": {},
   "outputs": [],
   "source": [
    "d[99] = 1"
   ]
  },
  {
   "cell_type": "code",
   "execution_count": 73,
   "id": "adc3aee4",
   "metadata": {},
   "outputs": [
    {
     "name": "stdout",
     "output_type": "stream",
     "text": [
      "{0: 0, 1: 0, 2: 0, 3: 0, 4: 0, 5: 0, 6: 0, 7: 0, 8: 0, 9: 0, 10: 0, 11: 0, 12: 0, 13: 0, 14: 0, 15: 0, 16: 0, 17: 0, 18: 0, 19: 0, 20: 0, 21: 0, 22: 0, 23: 0, 24: 0, 25: 0, 26: 0, 27: 0, 28: 0, 29: 0, 30: 0, 31: 0, 32: 0, 33: 0, 34: 0, 35: 0, 36: 0, 37: 0, 38: 0, 39: 0, 40: 0, 41: 0, 42: 0, 43: 0, 44: 0, 45: 0, 46: 0, 47: 0, 48: 0, 49: 0, 50: 0, 51: 0, 52: 0, 53: 0, 54: 0, 55: 0, 56: 0, 57: 0, 58: 0, 59: 0, 60: 0, 61: 0, 62: 0, 63: 0, 64: 0, 65: 0, 66: 0, 67: 0, 68: 0, 69: 0, 70: 0, 71: 0, 72: 0, 73: 0, 74: 0, 75: 0, 76: 0, 77: 0, 78: 0, 79: 0, 80: 0, 81: 0, 82: 0, 83: 0, 84: 0, 85: 0, 86: 0, 87: 0, 88: 0, 89: 0, 90: 0, 91: 0, 92: 0, 93: 0, 94: 0, 95: 0, 96: 0, 97: 0, 98: 0, 99: 1, 100: 0}\n"
     ]
    }
   ],
   "source": [
    "print(d)"
   ]
  },
  {
   "cell_type": "code",
   "execution_count": 74,
   "id": "f9915458",
   "metadata": {},
   "outputs": [
    {
     "name": "stdout",
     "output_type": "stream",
     "text": [
      "{0: 0, 1: 0, 2: 0, 3: 0, 4: 0, 5: 0, 6: 0, 7: 0, 8: 0, 9: 0, 10: 0, 11: 0, 12: 0, 13: 0, 14: 0, 15: 0, 16: 0, 17: 0, 18: 0, 19: 0, 20: 0, 21: 0, 22: 0, 23: 0, 24: 0, 25: 0, 26: 0, 27: 0, 28: 0, 29: 0, 30: 0, 31: 0, 32: 0, 33: 0, 34: 0, 35: 0, 36: 0, 37: 0, 38: 0, 39: 0, 40: 0, 41: 0, 42: 0, 43: 0, 44: 0, 45: 0, 46: 0, 47: 0, 48: 0, 49: 0, 50: 0, 51: 0, 52: 0, 53: 0, 54: 0, 55: 0, 56: 0, 57: 0, 58: 0, 59: 0, 60: 0, 61: 0, 62: 0, 63: 0, 64: 0, 65: 0, 66: 0, 67: 0, 68: 0, 69: 0, 70: 0, 71: 0, 72: 0, 73: 0, 74: 0, 75: 0, 76: 0, 77: 0, 78: 0, 79: 0, 80: 0, 81: 0, 82: 0, 83: 0, 84: 0, 85: 0, 86: 0, 87: 0, 88: 0, 89: 0, 90: 0, 91: 0, 92: 0, 93: 0, 94: 0, 95: 0, 96: 0, 97: 0, 98: 0, 99: 1, 100: 0}\n"
     ]
    }
   ],
   "source": [
    "# Clear\n",
    "\n",
    "print(d)"
   ]
  },
  {
   "cell_type": "code",
   "execution_count": 75,
   "id": "97986448",
   "metadata": {},
   "outputs": [],
   "source": [
    "d.clear()"
   ]
  },
  {
   "cell_type": "code",
   "execution_count": 76,
   "id": "49640cf3",
   "metadata": {},
   "outputs": [
    {
     "data": {
      "text/plain": [
       "{}"
      ]
     },
     "execution_count": 76,
     "metadata": {},
     "output_type": "execute_result"
    }
   ],
   "source": [
    "d"
   ]
  },
  {
   "cell_type": "code",
   "execution_count": 77,
   "id": "32c2edae",
   "metadata": {},
   "outputs": [
    {
     "name": "stdout",
     "output_type": "stream",
     "text": [
      "['__class__', '__class_getitem__', '__contains__', '__delattr__', '__delitem__', '__dir__', '__doc__', '__eq__', '__format__', '__ge__', '__getattribute__', '__getitem__', '__gt__', '__hash__', '__init__', '__init_subclass__', '__ior__', '__iter__', '__le__', '__len__', '__lt__', '__ne__', '__new__', '__or__', '__reduce__', '__reduce_ex__', '__repr__', '__reversed__', '__ror__', '__setattr__', '__setitem__', '__sizeof__', '__str__', '__subclasshook__', 'clear', 'copy', 'fromkeys', 'get', 'items', 'keys', 'pop', 'popitem', 'setdefault', 'update', 'values']\n"
     ]
    }
   ],
   "source": [
    "print(dir(dict))"
   ]
  },
  {
   "cell_type": "code",
   "execution_count": 81,
   "id": "d60f1257",
   "metadata": {},
   "outputs": [
    {
     "name": "stdout",
     "output_type": "stream",
     "text": [
      "{'a': 1}\n",
      "{'a': 1}\n",
      "2356173338368\n",
      "2356173338368\n"
     ]
    }
   ],
   "source": [
    "a = {'a' : 1}\n",
    "b = a\n",
    "\n",
    "print(a)\n",
    "print(b)\n",
    "\n",
    "print(id(a))\n",
    "print(id(b))"
   ]
  },
  {
   "cell_type": "code",
   "execution_count": 83,
   "id": "3576995b",
   "metadata": {},
   "outputs": [],
   "source": [
    "b['a'] = 999"
   ]
  },
  {
   "cell_type": "code",
   "execution_count": 84,
   "id": "181eae9c",
   "metadata": {},
   "outputs": [
    {
     "data": {
      "text/plain": [
       "{'a': 999}"
      ]
     },
     "execution_count": 84,
     "metadata": {},
     "output_type": "execute_result"
    }
   ],
   "source": [
    "a"
   ]
  },
  {
   "cell_type": "code",
   "execution_count": 85,
   "id": "3f55edf3",
   "metadata": {},
   "outputs": [
    {
     "data": {
      "text/plain": [
       "{'a': 999}"
      ]
     },
     "execution_count": 85,
     "metadata": {},
     "output_type": "execute_result"
    }
   ],
   "source": [
    "b"
   ]
  },
  {
   "cell_type": "code",
   "execution_count": 87,
   "id": "3ed80dc4",
   "metadata": {},
   "outputs": [
    {
     "name": "stdout",
     "output_type": "stream",
     "text": [
      "{'a': {'h': 1}}\n",
      "{'a': {'h': 1}}\n",
      "2356175609408\n",
      "2356173616896\n"
     ]
    }
   ],
   "source": [
    "a = {'a' : {'h' : 1}}\n",
    "b = a.copy()\n",
    "\n",
    "print(a)\n",
    "print(b)\n",
    "\n",
    "print(id(a))\n",
    "print(id(b))"
   ]
  },
  {
   "cell_type": "code",
   "execution_count": 89,
   "id": "9f634f1f",
   "metadata": {},
   "outputs": [
    {
     "name": "stdout",
     "output_type": "stream",
     "text": [
      "{'a': {'h': 1}}\n",
      "{'a': {'h': 1}}\n",
      "2356049635632\n",
      "2356049635632\n"
     ]
    }
   ],
   "source": [
    "a = {'a' : {'h' : 1}}\n",
    "b = a.copy()\n",
    "\n",
    "print(a)\n",
    "print(b)\n",
    "\n",
    "print(id(a['a']['h']))\n",
    "print(id(b['a']['h']))"
   ]
  },
  {
   "cell_type": "code",
   "execution_count": 91,
   "id": "93ead373",
   "metadata": {},
   "outputs": [],
   "source": [
    "b['a']['h'] =99"
   ]
  },
  {
   "cell_type": "code",
   "execution_count": 92,
   "id": "3a6ddae7",
   "metadata": {},
   "outputs": [
    {
     "data": {
      "text/plain": [
       "{'a': {'h': 99}}"
      ]
     },
     "execution_count": 92,
     "metadata": {},
     "output_type": "execute_result"
    }
   ],
   "source": [
    "a"
   ]
  },
  {
   "cell_type": "code",
   "execution_count": 93,
   "id": "c072a0c2",
   "metadata": {},
   "outputs": [
    {
     "data": {
      "text/plain": [
       "{'a': {'h': 99}}"
      ]
     },
     "execution_count": 93,
     "metadata": {},
     "output_type": "execute_result"
    }
   ],
   "source": [
    "b"
   ]
  },
  {
   "cell_type": "markdown",
   "id": "87343381",
   "metadata": {},
   "source": [
    "# Set\n",
    "\n",
    "\n",
    "- Collection of values and not a seq data type\n",
    "- indexing and slicing is not possible\n",
    "- It'll not allow the duplicate values\n",
    "- It cannot contain any mutable data type eg - list , dict , set\n",
    "- Set is an mutable data type"
   ]
  },
  {
   "cell_type": "code",
   "execution_count": 95,
   "id": "4cf53220",
   "metadata": {},
   "outputs": [
    {
     "name": "stdout",
     "output_type": "stream",
     "text": [
      "{1, 2, 3, 54} <class 'set'>\n"
     ]
    }
   ],
   "source": [
    "a = {1,2,3,54}\n",
    "print(a , type(a))"
   ]
  },
  {
   "cell_type": "code",
   "execution_count": 96,
   "id": "0537fd89",
   "metadata": {},
   "outputs": [
    {
     "name": "stdout",
     "output_type": "stream",
     "text": [
      "{1, 2, 3, 54} <class 'set'>\n"
     ]
    }
   ],
   "source": [
    "a = {1,2,2,2,2,2,3,3,3,3,3,54}\n",
    "print(a , type(a))"
   ]
  },
  {
   "cell_type": "code",
   "execution_count": null,
   "id": "10d6b26b",
   "metadata": {},
   "outputs": [],
   "source": [
    "1,2,3,54"
   ]
  },
  {
   "cell_type": "code",
   "execution_count": 98,
   "id": "354aa953",
   "metadata": {},
   "outputs": [
    {
     "data": {
      "text/plain": [
       "4"
      ]
     },
     "execution_count": 98,
     "metadata": {},
     "output_type": "execute_result"
    }
   ],
   "source": [
    "len(a)"
   ]
  },
  {
   "cell_type": "code",
   "execution_count": 99,
   "id": "a7396877",
   "metadata": {},
   "outputs": [
    {
     "ename": "TypeError",
     "evalue": "'set' object is not subscriptable",
     "output_type": "error",
     "traceback": [
      "\u001b[1;31m---------------------------------------------------------------------------\u001b[0m",
      "\u001b[1;31mTypeError\u001b[0m                                 Traceback (most recent call last)",
      "Input \u001b[1;32mIn [99]\u001b[0m, in \u001b[0;36m<cell line: 1>\u001b[1;34m()\u001b[0m\n\u001b[1;32m----> 1\u001b[0m \u001b[43ma\u001b[49m\u001b[43m[\u001b[49m\u001b[38;5;241;43m0\u001b[39;49m\u001b[43m]\u001b[49m\n",
      "\u001b[1;31mTypeError\u001b[0m: 'set' object is not subscriptable"
     ]
    }
   ],
   "source": [
    "a[0]"
   ]
  },
  {
   "cell_type": "code",
   "execution_count": 105,
   "id": "5b3bcad7",
   "metadata": {},
   "outputs": [
    {
     "ename": "TypeError",
     "evalue": "unhashable type: 'dict'",
     "output_type": "error",
     "traceback": [
      "\u001b[1;31m---------------------------------------------------------------------------\u001b[0m",
      "\u001b[1;31mTypeError\u001b[0m                                 Traceback (most recent call last)",
      "Input \u001b[1;32mIn [105]\u001b[0m, in \u001b[0;36m<cell line: 1>\u001b[1;34m()\u001b[0m\n\u001b[1;32m----> 1\u001b[0m a \u001b[38;5;241m=\u001b[39m {\u001b[38;5;241m1\u001b[39m,\u001b[38;5;241m2.3\u001b[39m,\u001b[38;5;241m2\u001b[39m,\u001b[38;5;241m2\u001b[39m,\u001b[38;5;241m2\u001b[39m,\u001b[38;5;241m2\u001b[39m,\u001b[38;5;241m3\u001b[39m,\u001b[38;5;241m3\u001b[39m,\u001b[38;5;241m3\u001b[39m,\u001b[38;5;241m3\u001b[39m,\u001b[38;5;241m3\u001b[39m,\u001b[38;5;241m54\u001b[39m , \u001b[38;5;241m10\u001b[39m\u001b[38;5;241m+\u001b[39m\u001b[38;5;241m7\u001b[39mj , \u001b[38;5;124m'\u001b[39m\u001b[38;5;124matas\u001b[39m\u001b[38;5;124m'\u001b[39m , (\u001b[38;5;241m1\u001b[39m,\u001b[38;5;241m2\u001b[39m,\u001b[38;5;241m3\u001b[39m)  , {\u001b[38;5;124m'\u001b[39m\u001b[38;5;124ma\u001b[39m\u001b[38;5;124m'\u001b[39m:\u001b[38;5;241m1\u001b[39m}}\n\u001b[0;32m      2\u001b[0m \u001b[38;5;28mprint\u001b[39m(a , \u001b[38;5;28mtype\u001b[39m(a))\n",
      "\u001b[1;31mTypeError\u001b[0m: unhashable type: 'dict'"
     ]
    }
   ],
   "source": [
    "a = {1,2.3,2,2,2,2,3,3,3,3,3,54 , 10+7j , 'atas' , (1,2,3)  , {'a':1}}\n",
    "print(a , type(a))"
   ]
  },
  {
   "cell_type": "code",
   "execution_count": 107,
   "id": "965f659f",
   "metadata": {},
   "outputs": [
    {
     "name": "stdout",
     "output_type": "stream",
     "text": [
      "['__and__', '__class__', '__class_getitem__', '__contains__', '__delattr__', '__dir__', '__doc__', '__eq__', '__format__', '__ge__', '__getattribute__', '__gt__', '__hash__', '__iand__', '__init__', '__init_subclass__', '__ior__', '__isub__', '__iter__', '__ixor__', '__le__', '__len__', '__lt__', '__ne__', '__new__', '__or__', '__rand__', '__reduce__', '__reduce_ex__', '__repr__', '__ror__', '__rsub__', '__rxor__', '__setattr__', '__sizeof__', '__str__', '__sub__', '__subclasshook__', '__xor__', 'add', 'clear', 'copy', 'difference', 'difference_update', 'discard', 'intersection', 'intersection_update', 'isdisjoint', 'issubset', 'issuperset', 'pop', 'remove', 'symmetric_difference', 'symmetric_difference_update', 'union', 'update']\n"
     ]
    }
   ],
   "source": [
    "print(dir(set))"
   ]
  },
  {
   "cell_type": "code",
   "execution_count": 109,
   "id": "9f4c49dc",
   "metadata": {},
   "outputs": [],
   "source": [
    "a = {1,2,3,4}\n",
    "\n",
    "a.add(5)"
   ]
  },
  {
   "cell_type": "code",
   "execution_count": 110,
   "id": "c8ceb02f",
   "metadata": {},
   "outputs": [
    {
     "data": {
      "text/plain": [
       "{1, 2, 3, 4, 5}"
      ]
     },
     "execution_count": 110,
     "metadata": {},
     "output_type": "execute_result"
    }
   ],
   "source": [
    "a"
   ]
  },
  {
   "cell_type": "code",
   "execution_count": null,
   "id": "70e9fd68",
   "metadata": {},
   "outputs": [],
   "source": [
    "a = (1,2,3,4)"
   ]
  },
  {
   "cell_type": "code",
   "execution_count": 117,
   "id": "31d4d69e",
   "metadata": {},
   "outputs": [
    {
     "name": "stdout",
     "output_type": "stream",
     "text": [
      "['__add__', '__class__', '__class_getitem__', '__contains__', '__delattr__', '__dir__', '__doc__', '__eq__', '__format__', '__ge__', '__getattribute__', '__getitem__', '__getnewargs__', '__gt__', '__hash__', '__init__', '__init_subclass__', '__iter__', '__le__', '__len__', '__lt__', '__mul__', '__ne__', '__new__', '__reduce__', '__reduce_ex__', '__repr__', '__rmul__', '__setattr__', '__sizeof__', '__str__', '__subclasshook__', 'count', 'index']\n"
     ]
    }
   ],
   "source": [
    "print(dir(tuple))"
   ]
  },
  {
   "cell_type": "code",
   "execution_count": 119,
   "id": "a423f4b0",
   "metadata": {},
   "outputs": [
    {
     "data": {
      "text/plain": [
       "'cython'"
      ]
     },
     "execution_count": 119,
     "metadata": {},
     "output_type": "execute_result"
    }
   ],
   "source": [
    "a = 'python'\n",
    "\n",
    "a.replace('p' , 'c')"
   ]
  },
  {
   "cell_type": "code",
   "execution_count": 120,
   "id": "1ccf252b",
   "metadata": {},
   "outputs": [
    {
     "data": {
      "text/plain": [
       "'python'"
      ]
     },
     "execution_count": 120,
     "metadata": {},
     "output_type": "execute_result"
    }
   ],
   "source": [
    "a"
   ]
  },
  {
   "cell_type": "code",
   "execution_count": 130,
   "id": "f38bf0f1",
   "metadata": {},
   "outputs": [
    {
     "ename": "TypeError",
     "evalue": "unhashable type: 'set'",
     "output_type": "error",
     "traceback": [
      "\u001b[1;31m---------------------------------------------------------------------------\u001b[0m",
      "\u001b[1;31mTypeError\u001b[0m                                 Traceback (most recent call last)",
      "Input \u001b[1;32mIn [130]\u001b[0m, in \u001b[0;36m<cell line: 1>\u001b[1;34m()\u001b[0m\n\u001b[1;32m----> 1\u001b[0m a \u001b[38;5;241m=\u001b[39m {\u001b[38;5;241m1\u001b[39m,\u001b[38;5;241m2\u001b[39m,\u001b[38;5;241m3\u001b[39m,\u001b[38;5;241m4\u001b[39m , {\u001b[38;5;241m1\u001b[39m,\u001b[38;5;241m2\u001b[39m,\u001b[38;5;241m3\u001b[39m}}\n\u001b[0;32m      3\u001b[0m a\u001b[38;5;241m.\u001b[39mremove(\u001b[38;5;241m3\u001b[39m)\n",
      "\u001b[1;31mTypeError\u001b[0m: unhashable type: 'set'"
     ]
    }
   ],
   "source": [
    "a = {1,2,3,4 , {1,2,3}}\n",
    "\n",
    "a.remove(3)"
   ]
  },
  {
   "cell_type": "code",
   "execution_count": 128,
   "id": "fe6a292c",
   "metadata": {},
   "outputs": [
    {
     "data": {
      "text/plain": [
       "{1, 2, 4}"
      ]
     },
     "execution_count": 128,
     "metadata": {},
     "output_type": "execute_result"
    }
   ],
   "source": [
    "a"
   ]
  },
  {
   "cell_type": "code",
   "execution_count": 129,
   "id": "11b67bf3",
   "metadata": {},
   "outputs": [
    {
     "ename": "TypeError",
     "evalue": "'set' object is not subscriptable",
     "output_type": "error",
     "traceback": [
      "\u001b[1;31m---------------------------------------------------------------------------\u001b[0m",
      "\u001b[1;31mTypeError\u001b[0m                                 Traceback (most recent call last)",
      "Input \u001b[1;32mIn [129]\u001b[0m, in \u001b[0;36m<cell line: 1>\u001b[1;34m()\u001b[0m\n\u001b[1;32m----> 1\u001b[0m \u001b[43ma\u001b[49m\u001b[43m[\u001b[49m\u001b[38;5;241;43m0\u001b[39;49m\u001b[43m]\u001b[49m\n",
      "\u001b[1;31mTypeError\u001b[0m: 'set' object is not subscriptable"
     ]
    }
   ],
   "source": [
    "a[0] = 154"
   ]
  },
  {
   "cell_type": "markdown",
   "id": "c2014c40",
   "metadata": {},
   "source": [
    "# Conditional statements\n",
    "\n",
    "- if\n",
    "- else \n",
    "- elif"
   ]
  },
  {
   "cell_type": "code",
   "execution_count": null,
   "id": "df24d37e",
   "metadata": {},
   "outputs": [],
   "source": [
    "stat1\n",
    "stat2\n",
    "if condi 1:\n",
    "    stat6\n",
    "    stat7\n",
    "stat3\n",
    "satat4\n",
    "stat5\n",
    "\n",
    "\n",
    "# execution - True - 1,2,6,7,3,4,5"
   ]
  },
  {
   "cell_type": "code",
   "execution_count": null,
   "id": "2fcd5275",
   "metadata": {},
   "outputs": [],
   "source": [
    "stat1\n",
    "stat2\n",
    "if condi 1:\n",
    "    stat6\n",
    "    stat7\n",
    "else:\n",
    "    stat8\n",
    "    stat9\n",
    "stat3\n",
    "satat4\n",
    "stat5\n",
    "\n",
    "\n",
    "# execution - True - 1,2,6,7,3,4,5\n",
    "# false - 1,2,8,9,3,4,5"
   ]
  },
  {
   "cell_type": "code",
   "execution_count": null,
   "id": "bdc8a2bd",
   "metadata": {},
   "outputs": [],
   "source": [
    "stat1\n",
    "stat2\n",
    "if condi 1:\n",
    "    stat6\n",
    "    stat7\n",
    "else:\n",
    "    stat14\n",
    "    stat15\n",
    "\n",
    "if condi 2:\n",
    "    stat10\n",
    "    stat11\n",
    "    \n",
    "if condi 3:\n",
    "    stat12\n",
    "    stat13\n",
    "else:\n",
    "    stat8\n",
    "    stat9\n",
    "stat3\n",
    "satat4\n",
    "stat5\n",
    "\n",
    "\n",
    "#cond 1 and 2 are True and rest all are false\n",
    "1,2,6,7,10,11,8,9,3,4,5"
   ]
  },
  {
   "cell_type": "markdown",
   "id": "0bee871d",
   "metadata": {},
   "source": [
    "# elif"
   ]
  },
  {
   "cell_type": "code",
   "execution_count": null,
   "id": "8eaa1f84",
   "metadata": {},
   "outputs": [],
   "source": [
    "stat1\n",
    "stat2\n",
    "if condi 1:\n",
    "    stat6\n",
    "    stat7\n",
    "elif condi 2:\n",
    "    stat14\n",
    "    stat15\n",
    "\n",
    "elif condi 3:\n",
    "    stat10\n",
    "    stat11\n",
    "    \n",
    "elif condi 4:\n",
    "    stat12\n",
    "    stat13\n",
    "else:\n",
    "    stat8\n",
    "    stat9\n",
    "stat3\n",
    "satat4\n",
    "stat5\n",
    "\n",
    "# con1,& 4 are true - 1,2,6,7,3,4,5"
   ]
  },
  {
   "cell_type": "code",
   "execution_count": null,
   "id": "7f5f2cdb",
   "metadata": {},
   "outputs": [],
   "source": [
    "stat1\n",
    "stat2\n",
    "if condi 1:\n",
    "    stat6\n",
    "    stat7\n",
    "elif condi 2:\n",
    "    stat14\n",
    "    stat15\n",
    "\n",
    "elif condi 3:\n",
    "    stat10\n",
    "    stat11\n",
    "    \n",
    "elif condi 4:\n",
    "    stat12\n",
    "    stat13\n",
    "else:\n",
    "    stat8\n",
    "    stat9\n",
    "stat3\n",
    "satat4\n",
    "stat5\n",
    "\n",
    "# all the conditions are false 1,2,8,9,3,4,5"
   ]
  },
  {
   "cell_type": "code",
   "execution_count": 133,
   "id": "978ff364",
   "metadata": {},
   "outputs": [
    {
     "name": "stdout",
     "output_type": "stream",
     "text": [
      "Hello\n",
      "Python\n"
     ]
    }
   ],
   "source": [
    "# \n",
    "\n",
    "a = 10\n",
    "\n",
    "\n",
    "if a <20:\n",
    "    print('Hello')\n",
    "else:\n",
    "    print('world')\n",
    "    \n",
    "print('Python')"
   ]
  },
  {
   "cell_type": "code",
   "execution_count": 135,
   "id": "6c841fb7",
   "metadata": {},
   "outputs": [
    {
     "name": "stdout",
     "output_type": "stream",
     "text": [
      "bay\n",
      "Python\n"
     ]
    }
   ],
   "source": [
    "# \n",
    "\n",
    "a = 10\n",
    "\n",
    "\n",
    "if a >20: # f\n",
    "    print('Hello')\n",
    "\n",
    "if a ==20: # f\n",
    "    print('learn')\n",
    "\n",
    "if a <20: # T\n",
    "    print('bay')\n",
    "    \n",
    "else:\n",
    "    print('world')\n",
    "    \n",
    "print('Python')"
   ]
  },
  {
   "cell_type": "code",
   "execution_count": 136,
   "id": "dd9436a5",
   "metadata": {},
   "outputs": [
    {
     "name": "stdout",
     "output_type": "stream",
     "text": [
      "Hello\n",
      "learn\n",
      "bay\n",
      "Python\n"
     ]
    }
   ],
   "source": [
    "# \n",
    "\n",
    "a = 10\n",
    "\n",
    "\n",
    "if a <20: # \n",
    "    print('Hello')\n",
    "\n",
    "if a ==10: # \n",
    "    print('learn')\n",
    "\n",
    "if a <20: # \n",
    "    print('bay')\n",
    "    \n",
    "else:\n",
    "    print('world')\n",
    "    \n",
    "print('Python')"
   ]
  },
  {
   "cell_type": "code",
   "execution_count": 137,
   "id": "194cb7e4",
   "metadata": {},
   "outputs": [
    {
     "name": "stdout",
     "output_type": "stream",
     "text": [
      "war\n",
      "learn\n",
      "world\n",
      "Python\n"
     ]
    }
   ],
   "source": [
    "# \n",
    "\n",
    "a = 10\n",
    "\n",
    "\n",
    "if a >20: # \n",
    "    print('Hello')\n",
    "else:\n",
    "    print('war')\n",
    "\n",
    "if a ==10: # \n",
    "    print('learn')\n",
    "\n",
    "if 10 == 20: # \n",
    "    print('bay')\n",
    "    \n",
    "else:\n",
    "    print('world')\n",
    "    \n",
    "print('Python')"
   ]
  },
  {
   "cell_type": "code",
   "execution_count": 138,
   "id": "858a420d",
   "metadata": {},
   "outputs": [
    {
     "name": "stdout",
     "output_type": "stream",
     "text": [
      "Hello\n",
      "learn\n",
      "bay\n",
      "Python\n"
     ]
    }
   ],
   "source": [
    "# \n",
    "\n",
    "a = 10\n",
    "\n",
    "\n",
    "if a <20: # \n",
    "    print('Hello')\n",
    "\n",
    "if a ==10: # \n",
    "    print('learn')\n",
    "\n",
    "if a <20: # \n",
    "    print('bay')\n",
    "    \n",
    "else:\n",
    "    print('world')\n",
    "    \n",
    "print('Python')"
   ]
  },
  {
   "cell_type": "code",
   "execution_count": 139,
   "id": "54680fa4",
   "metadata": {},
   "outputs": [
    {
     "name": "stdout",
     "output_type": "stream",
     "text": [
      "Hello\n",
      "Python\n"
     ]
    }
   ],
   "source": [
    "# \n",
    "\n",
    "a = 10\n",
    "\n",
    "\n",
    "if a <20: # \n",
    "    print('Hello')\n",
    "\n",
    "elif a ==10: # \n",
    "    print('learn')\n",
    "\n",
    "elif a <20: # \n",
    "    print('bay')\n",
    "    \n",
    "else:\n",
    "    print('world')\n",
    "    \n",
    "print('Python')"
   ]
  },
  {
   "cell_type": "code",
   "execution_count": 142,
   "id": "56def68e",
   "metadata": {},
   "outputs": [
    {
     "name": "stdout",
     "output_type": "stream",
     "text": [
      "world\n",
      "Python\n"
     ]
    }
   ],
   "source": [
    "# \n",
    "\n",
    "a = 10\n",
    "\n",
    "\n",
    "if a >20: # \n",
    "    print('Hello')\n",
    "\n",
    "elif a !=10: # \n",
    "    print('learn')\n",
    "\n",
    "elif a !=10: # \n",
    "    print('bay')\n",
    "    \n",
    "else:\n",
    "    print('world')\n",
    "    \n",
    "print('Python')"
   ]
  },
  {
   "cell_type": "code",
   "execution_count": null,
   "id": "4a6cb3b3",
   "metadata": {},
   "outputs": [],
   "source": [
    "# take an input from the user \n",
    "1 - 6 ---> \n",
    "4 ---> four\n",
    "3 ---> three\n",
    "\n",
    "\n",
    "user the user is giving an input out of range \n",
    "Please enter the values B/w the range of 1 -6\n",
    "\n",
    "- if the user input in float - Invvalid number"
   ]
  },
  {
   "cell_type": "code",
   "execution_count": 155,
   "id": "7a506dee",
   "metadata": {},
   "outputs": [
    {
     "name": "stdout",
     "output_type": "stream",
     "text": [
      "Enter a number in the range : -4\n",
      "Please enter the values B/w the range of 1 -6\n"
     ]
    }
   ],
   "source": [
    "a = eval(input('Enter a number in the range : '))\n",
    "\n",
    "if a > 6 or a<1:\n",
    "    print('Please enter the values B/w the range of 1 -6')\n",
    "else:\n",
    "    if a == 1:\n",
    "        print('One')\n",
    "    elif a ==2:\n",
    "        print('two')\n",
    "    elif a ==3:\n",
    "        print('three')\n",
    "    elif a ==4:\n",
    "        print('four')\n",
    "    elif a ==5:\n",
    "        print('five')\n",
    "    elif a ==6:\n",
    "        print('six')\n",
    "    else:\n",
    "        print('Invalid number')"
   ]
  },
  {
   "cell_type": "code",
   "execution_count": 160,
   "id": "53bc2afc",
   "metadata": {},
   "outputs": [
    {
     "name": "stdout",
     "output_type": "stream",
     "text": [
      "Enter the word : Racecar\n",
      "Palindrom\n"
     ]
    }
   ],
   "source": [
    "# W a p which tells if a particular input word is an palindrom or not\n",
    "\n",
    "a = input('Enter the word : ').lower()\n",
    "\n",
    "if a == a[::-1]:\n",
    "    print('Palindrom')\n",
    "else: print('not a palindrom')"
   ]
  },
  {
   "cell_type": "code",
   "execution_count": 164,
   "id": "15b124ed",
   "metadata": {},
   "outputs": [
    {
     "name": "stdout",
     "output_type": "stream",
     "text": [
      "Enter the year : 1904\n",
      "Leap year\n"
     ]
    }
   ],
   "source": [
    "# Wap find out if a particular year, is an leap year or not\n",
    "# year divisible by four and not divisible by 100  --> leap\n",
    "# or\n",
    "# year divisible by 400 ---> leap year\n",
    "\n",
    "a = int(input('Enter the year : '))\n",
    "\n",
    "if (a % 4 == 0) and (a%100 != 0) or (a% 400 == 0):\n",
    "    print('Leap year')\n",
    "else:\n",
    "    print('Not an leap year ')\n"
   ]
  },
  {
   "cell_type": "code",
   "execution_count": 197,
   "id": "f32c549b",
   "metadata": {},
   "outputs": [
    {
     "name": "stdout",
     "output_type": "stream",
     "text": [
      "Please enter 1st number: 19\n",
      "Please enter 2nd number: 0\n",
      "Please enter the operator (+, -, *, /)/\n",
      "Cannot divide by zero\n"
     ]
    }
   ],
   "source": [
    "# design a basic calculator\n",
    "\n",
    "# a = enter the 1st num\n",
    "# b = enter the second num\n",
    "# op = enter the op you want to perform\n",
    "\n",
    "\n",
    "# + --- addition\n",
    "# - --- subs\n",
    "# * ---- multi\n",
    "# / --- div\n",
    "\n",
    "\n",
    "# Invalid operator\n",
    "\n",
    "a = eval(input(\"Please enter 1st number: \"))\n",
    "b = eval(input(\"Please enter 2nd number: \"))\n",
    "op = input(\"Please enter the operator (+, -, *, /)\")\n",
    "\n",
    "if op not in ['+','-','*','/']:\n",
    "        print(\"Invalid Operator. Please enter a valid operator(+, -, *, /)\")\n",
    "else: \n",
    "    if op == '+':\n",
    "        print(f'Result : {a+b}')\n",
    "    elif op == '-':\n",
    "        print(f'Result : {a-b}')\n",
    "    elif op == '*':\n",
    "        print(f'Result : {a*b}')\n",
    "    else:\n",
    "        if b == 0:\n",
    "            print('Cannot divide by zero')\n",
    "        else: print(f'Result : {a/b}')\n",
    "\n"
   ]
  },
  {
   "cell_type": "code",
   "execution_count": 196,
   "id": "d1ba5b12",
   "metadata": {},
   "outputs": [
    {
     "name": "stdout",
     "output_type": "stream",
     "text": [
      "Please enter 1st number: 34.8\n",
      "34.8 <class 'float'>\n"
     ]
    }
   ],
   "source": [
    "a = eval(input(\"Please enter 1st number: \"))\n",
    "\n",
    "print(a, type(a))"
   ]
  },
  {
   "cell_type": "code",
   "execution_count": null,
   "id": "3b9d68f9",
   "metadata": {},
   "outputs": [],
   "source": []
  },
  {
   "cell_type": "markdown",
   "id": "6005e81b",
   "metadata": {},
   "source": [
    "# Next class on 27 Tue"
   ]
  }
 ],
 "metadata": {
  "kernelspec": {
   "display_name": "Python 3 (ipykernel)",
   "language": "python",
   "name": "python3"
  },
  "language_info": {
   "codemirror_mode": {
    "name": "ipython",
    "version": 3
   },
   "file_extension": ".py",
   "mimetype": "text/x-python",
   "name": "python",
   "nbconvert_exporter": "python",
   "pygments_lexer": "ipython3",
   "version": "3.9.12"
  }
 },
 "nbformat": 4,
 "nbformat_minor": 5
}
