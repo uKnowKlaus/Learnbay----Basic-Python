{
 "cells": [
  {
   "cell_type": "code",
   "execution_count": null,
   "id": "5f53c20f",
   "metadata": {},
   "outputs": [],
   "source": [
    "# Bitwise left shift <<\n",
    "\n",
    "\n",
    "# A * (2**n)"
   ]
  },
  {
   "cell_type": "code",
   "execution_count": 23,
   "id": "89c3dedb",
   "metadata": {},
   "outputs": [
    {
     "name": "stdout",
     "output_type": "stream",
     "text": [
      "320\n"
     ]
    }
   ],
   "source": [
    "x = 20\n",
    "\n",
    "print(x<<4)"
   ]
  },
  {
   "cell_type": "code",
   "execution_count": 21,
   "id": "d4cc954f",
   "metadata": {},
   "outputs": [
    {
     "data": {
      "text/plain": [
       "16"
      ]
     },
     "execution_count": 21,
     "metadata": {},
     "output_type": "execute_result"
    }
   ],
   "source": [
    "2**4"
   ]
  },
  {
   "cell_type": "code",
   "execution_count": 22,
   "id": "1acb1b1b",
   "metadata": {},
   "outputs": [
    {
     "data": {
      "text/plain": [
       "320"
      ]
     },
     "execution_count": 22,
     "metadata": {},
     "output_type": "execute_result"
    }
   ],
   "source": [
    "16*20"
   ]
  },
  {
   "cell_type": "code",
   "execution_count": null,
   "id": "f3409022",
   "metadata": {},
   "outputs": [],
   "source": [
    "# Bitwise right shift >>\n",
    "\n",
    "\n",
    "# A // (2**n)"
   ]
  },
  {
   "cell_type": "code",
   "execution_count": 24,
   "id": "68c68870",
   "metadata": {},
   "outputs": [
    {
     "name": "stdout",
     "output_type": "stream",
     "text": [
      "1\n"
     ]
    }
   ],
   "source": [
    "x = 20\n",
    "\n",
    "print(x >> 6)"
   ]
  },
  {
   "cell_type": "code",
   "execution_count": 19,
   "id": "a856b25b",
   "metadata": {},
   "outputs": [
    {
     "name": "stdout",
     "output_type": "stream",
     "text": [
      "0b10100\n"
     ]
    }
   ],
   "source": [
    "print(bin(20))"
   ]
  },
  {
   "cell_type": "code",
   "execution_count": null,
   "id": "e1afb147",
   "metadata": {},
   "outputs": [],
   "source": [
    "1    0    1     0     0\n",
    "    \n",
    "    \n",
    "101000000\n",
    "\n",
    "\n",
    "\n"
   ]
  },
  {
   "cell_type": "code",
   "execution_count": 26,
   "id": "42364433",
   "metadata": {},
   "outputs": [
    {
     "name": "stdout",
     "output_type": "stream",
     "text": [
      "1\n"
     ]
    }
   ],
   "source": [
    "print(0b0000001)"
   ]
  },
  {
   "cell_type": "code",
   "execution_count": 24,
   "id": "b05097de",
   "metadata": {},
   "outputs": [
    {
     "data": {
      "text/plain": [
       "1"
      ]
     },
     "execution_count": 24,
     "metadata": {},
     "output_type": "execute_result"
    }
   ],
   "source": [
    "20 // 16"
   ]
  },
  {
   "cell_type": "code",
   "execution_count": 26,
   "id": "1f4fcbba",
   "metadata": {},
   "outputs": [
    {
     "name": "stdout",
     "output_type": "stream",
     "text": [
      "-21\n"
     ]
    }
   ],
   "source": [
    "# Bitwise not\n",
    "# It will add 1 to the variable\n",
    "# It will reverses it's sign\n",
    "\n",
    "a = 20\n",
    "\n",
    "print( ~a)"
   ]
  },
  {
   "cell_type": "code",
   "execution_count": 27,
   "id": "d4b965f7",
   "metadata": {},
   "outputs": [
    {
     "name": "stdout",
     "output_type": "stream",
     "text": [
      "98\n"
     ]
    }
   ],
   "source": [
    "# Bitwise not\n",
    "# It will add 1 to the variable\n",
    "# It will reverses it's sign\n",
    "\n",
    "a = -99\n",
    "\n",
    "print( ~a)"
   ]
  },
  {
   "cell_type": "markdown",
   "id": "ba605e09",
   "metadata": {},
   "source": [
    "# Assignment operators\n",
    "\n"
   ]
  },
  {
   "cell_type": "code",
   "execution_count": 28,
   "id": "fdd80e1d",
   "metadata": {},
   "outputs": [
    {
     "data": {
      "text/plain": [
       "7"
      ]
     },
     "execution_count": 28,
     "metadata": {},
     "output_type": "execute_result"
    }
   ],
   "source": [
    "x = 5\n",
    "\n",
    "\n",
    "# add 2 to x and reassign to x\n",
    "\n",
    "x = x+2\n",
    "\n",
    "x"
   ]
  },
  {
   "cell_type": "code",
   "execution_count": 29,
   "id": "1523b484",
   "metadata": {},
   "outputs": [
    {
     "data": {
      "text/plain": [
       "7"
      ]
     },
     "execution_count": 29,
     "metadata": {},
     "output_type": "execute_result"
    }
   ],
   "source": [
    "x = 5\n",
    "\n",
    "x += 2\n",
    "\n",
    "x"
   ]
  },
  {
   "cell_type": "code",
   "execution_count": 30,
   "id": "88a1f8b7",
   "metadata": {},
   "outputs": [
    {
     "data": {
      "text/plain": [
       "3"
      ]
     },
     "execution_count": 30,
     "metadata": {},
     "output_type": "execute_result"
    }
   ],
   "source": [
    "x = 5\n",
    "\n",
    "x -= 2\n",
    "\n",
    "x"
   ]
  },
  {
   "cell_type": "code",
   "execution_count": 31,
   "id": "e7ac02e3",
   "metadata": {},
   "outputs": [
    {
     "data": {
      "text/plain": [
       "10"
      ]
     },
     "execution_count": 31,
     "metadata": {},
     "output_type": "execute_result"
    }
   ],
   "source": [
    "x = 5\n",
    "\n",
    "x *= 2\n",
    "\n",
    "x"
   ]
  },
  {
   "cell_type": "code",
   "execution_count": 32,
   "id": "14aa3ff5",
   "metadata": {},
   "outputs": [
    {
     "data": {
      "text/plain": [
       "2.5"
      ]
     },
     "execution_count": 32,
     "metadata": {},
     "output_type": "execute_result"
    }
   ],
   "source": [
    "x = 5\n",
    "\n",
    "x /= 2\n",
    "\n",
    "x"
   ]
  },
  {
   "cell_type": "code",
   "execution_count": 23,
   "id": "dcb14924",
   "metadata": {},
   "outputs": [
    {
     "data": {
      "text/plain": [
       "0"
      ]
     },
     "execution_count": 23,
     "metadata": {},
     "output_type": "execute_result"
    }
   ],
   "source": [
    "x = 5\n",
    "\n",
    "x &= 2\n",
    "\n",
    "x"
   ]
  },
  {
   "cell_type": "code",
   "execution_count": 22,
   "id": "45117845",
   "metadata": {},
   "outputs": [
    {
     "name": "stdout",
     "output_type": "stream",
     "text": [
      "0\n"
     ]
    }
   ],
   "source": [
    "x = 5\n",
    "y = 2\n",
    "\n",
    "print( x & y)"
   ]
  },
  {
   "cell_type": "code",
   "execution_count": 21,
   "id": "caf41bfe",
   "metadata": {},
   "outputs": [
    {
     "name": "stdout",
     "output_type": "stream",
     "text": [
      "0\n"
     ]
    }
   ],
   "source": [
    "\n",
    "x = 10\n",
    "y = 4\n",
    "\n",
    "print(x & y)"
   ]
  },
  {
   "cell_type": "code",
   "execution_count": 35,
   "id": "bbbb9e48",
   "metadata": {},
   "outputs": [
    {
     "name": "stdout",
     "output_type": "stream",
     "text": [
      "-10\n",
      "-9\n",
      "-8\n",
      "-7\n",
      "-6\n",
      "-5\n",
      "-4\n",
      "-3\n",
      "-2\n",
      "-1\n",
      "0\n",
      "1\n",
      "2\n",
      "3\n",
      "4\n",
      "5\n"
     ]
    }
   ],
   "source": [
    "i = -10\n",
    "\n",
    "while i<=5:\n",
    "    print(i)\n",
    "    i +=1"
   ]
  },
  {
   "cell_type": "markdown",
   "id": "95e97383",
   "metadata": {},
   "source": [
    "# Identity operators"
   ]
  },
  {
   "cell_type": "code",
   "execution_count": null,
   "id": "9a7b6a96",
   "metadata": {},
   "outputs": [],
   "source": [
    "is and is not\n",
    "\n",
    "- tells if the memory location of 2 varaibles is same or not\n",
    "- always returns bool"
   ]
  },
  {
   "cell_type": "code",
   "execution_count": 39,
   "id": "6367f2d1",
   "metadata": {},
   "outputs": [
    {
     "name": "stdout",
     "output_type": "stream",
     "text": [
      "2264373029456\n",
      "2264373029776\n",
      "2264373029776\n",
      "False\n",
      "True\n"
     ]
    }
   ],
   "source": [
    "a = 10\n",
    "b = 20\n",
    "c = 20\n",
    "\n",
    "print(id(a))\n",
    "print(id(b))\n",
    "print(id(c))\n",
    "\n",
    "print( a is c)\n",
    "print( b is c)"
   ]
  },
  {
   "cell_type": "code",
   "execution_count": 42,
   "id": "fb4a2af2",
   "metadata": {},
   "outputs": [
    {
     "name": "stdout",
     "output_type": "stream",
     "text": [
      "True\n"
     ]
    }
   ],
   "source": [
    "a = 20.01\n",
    "b = 20.01\n",
    "\n",
    "print( a == b )"
   ]
  },
  {
   "cell_type": "code",
   "execution_count": 43,
   "id": "2825d043",
   "metadata": {},
   "outputs": [
    {
     "name": "stdout",
     "output_type": "stream",
     "text": [
      "2264485075824\n",
      "2264485076272\n",
      "False\n"
     ]
    }
   ],
   "source": [
    "a = 20.01\n",
    "b = 20.01\n",
    "\n",
    "\n",
    "print(id(a))\n",
    "print(id(b))\n",
    "print( a is b )"
   ]
  },
  {
   "cell_type": "code",
   "execution_count": null,
   "id": "86058cf6",
   "metadata": {},
   "outputs": [],
   "source": [
    "# object reusability applies for\n",
    "\n",
    "\n",
    "int ----> -5 to 256\n",
    "Bool\n",
    "string ---> A-Z , a-z , 0-9 , _\n",
    "None\n",
    "\n",
    "\n",
    "# Object resuability will not work for\n",
    "\n",
    "float\n",
    "complex"
   ]
  },
  {
   "cell_type": "code",
   "execution_count": 44,
   "id": "5646c618",
   "metadata": {},
   "outputs": [
    {
     "name": "stdout",
     "output_type": "stream",
     "text": [
      "2264485075888\n",
      "2264485076688\n",
      "False\n"
     ]
    }
   ],
   "source": [
    "a = 300\n",
    "b = 300\n",
    "\n",
    "\n",
    "print(id(a))\n",
    "print(id(b))\n",
    "print( a is b )"
   ]
  },
  {
   "cell_type": "code",
   "execution_count": 45,
   "id": "ca8fd40b",
   "metadata": {},
   "outputs": [
    {
     "name": "stdout",
     "output_type": "stream",
     "text": [
      "2264485076432\n",
      "2264485076016\n",
      "False\n"
     ]
    }
   ],
   "source": [
    "a = 10.1\n",
    "b = 10.1\n",
    "\n",
    "\n",
    "print(id(a))\n",
    "print(id(b))\n",
    "print( a is b )"
   ]
  },
  {
   "cell_type": "code",
   "execution_count": 46,
   "id": "4d7bca89",
   "metadata": {},
   "outputs": [
    {
     "name": "stdout",
     "output_type": "stream",
     "text": [
      "140733094942824\n",
      "140733094942824\n",
      "True\n"
     ]
    }
   ],
   "source": [
    "a = True\n",
    "b = True\n",
    "\n",
    "\n",
    "print(id(a))\n",
    "print(id(b))\n",
    "print( a is b )"
   ]
  },
  {
   "cell_type": "code",
   "execution_count": 47,
   "id": "a66c810a",
   "metadata": {},
   "outputs": [
    {
     "name": "stdout",
     "output_type": "stream",
     "text": [
      "2264484258864\n",
      "2264484258864\n",
      "True\n"
     ]
    }
   ],
   "source": [
    "a = 'datascience'\n",
    "b = 'datascience'\n",
    "\n",
    "\n",
    "print(id(a))\n",
    "print(id(b))\n",
    "print( a is b )"
   ]
  },
  {
   "cell_type": "code",
   "execution_count": 48,
   "id": "a997b05b",
   "metadata": {},
   "outputs": [
    {
     "name": "stdout",
     "output_type": "stream",
     "text": [
      "2264484257968\n",
      "2264484235184\n",
      "False\n"
     ]
    }
   ],
   "source": [
    "a = 'data science'\n",
    "b = 'data science'\n",
    "\n",
    "\n",
    "print(id(a))\n",
    "print(id(b))\n",
    "print( a is b )"
   ]
  },
  {
   "cell_type": "code",
   "execution_count": 49,
   "id": "e43f468c",
   "metadata": {},
   "outputs": [
    {
     "name": "stdout",
     "output_type": "stream",
     "text": [
      "2264485253616\n",
      "2264485253616\n",
      "True\n"
     ]
    }
   ],
   "source": [
    "a = 'data_science'\n",
    "b = 'data_science'\n",
    "\n",
    "\n",
    "print(id(a))\n",
    "print(id(b))\n",
    "print( a is b )"
   ]
  },
  {
   "cell_type": "code",
   "execution_count": 51,
   "id": "2b38f2c3",
   "metadata": {},
   "outputs": [
    {
     "name": "stdout",
     "output_type": "stream",
     "text": [
      "2264483296560\n",
      "2264485119344\n",
      "False\n"
     ]
    }
   ],
   "source": [
    "a = 10+5j\n",
    "b = 10+5j\n",
    "\n",
    "\n",
    "print(id(a))\n",
    "print(id(b))\n",
    "print( a is b )"
   ]
  },
  {
   "cell_type": "code",
   "execution_count": 52,
   "id": "cffb7b73",
   "metadata": {},
   "outputs": [
    {
     "name": "stdout",
     "output_type": "stream",
     "text": [
      "140733094993112\n",
      "2264373029488\n",
      "False\n"
     ]
    }
   ],
   "source": [
    "a = None\n",
    "b = 11\n",
    "\n",
    "\n",
    "print(id(a))\n",
    "print(id(b))\n",
    "print( a is b )"
   ]
  },
  {
   "cell_type": "code",
   "execution_count": 1,
   "id": "ad8b5c61",
   "metadata": {},
   "outputs": [
    {
     "name": "stdout",
     "output_type": "stream",
     "text": [
      "140733094993112\n",
      "1599246527088\n",
      "False\n"
     ]
    }
   ],
   "source": [
    "a = None\n",
    "b = 11\n",
    "\n",
    "\n",
    "print(id(a))\n",
    "print(id(b))\n",
    "print( a is b )"
   ]
  },
  {
   "cell_type": "code",
   "execution_count": 30,
   "id": "aa92be8f",
   "metadata": {},
   "outputs": [
    {
     "name": "stdout",
     "output_type": "stream",
     "text": [
      "False\n"
     ]
    }
   ],
   "source": [
    "a = 'xyz@gmail.com'\n",
    "b = 'xyz@gmail.com'\n",
    "\n",
    "\n",
    "print(a is b)\n"
   ]
  },
  {
   "cell_type": "code",
   "execution_count": 1,
   "id": "abff1174",
   "metadata": {},
   "outputs": [
    {
     "name": "stdout",
     "output_type": "stream",
     "text": [
      "['In', 'Out', '_', '__', '___', '__builtin__', '__builtins__', '__doc__', '__loader__', '__name__', '__package__', '__spec__', '_dh', '_i', '_i1', '_ih', '_ii', '_iii', '_oh', 'exit', 'get_ipython', 'quit']\n"
     ]
    }
   ],
   "source": [
    "print(dir())"
   ]
  },
  {
   "cell_type": "code",
   "execution_count": 2,
   "id": "a1b22ac4",
   "metadata": {},
   "outputs": [],
   "source": [
    "a = 10\n",
    "b = 10"
   ]
  },
  {
   "cell_type": "code",
   "execution_count": 3,
   "id": "c1addc94",
   "metadata": {},
   "outputs": [
    {
     "name": "stdout",
     "output_type": "stream",
     "text": [
      "['In', 'Out', '_', '__', '___', '__builtin__', '__builtins__', '__doc__', '__loader__', '__name__', '__package__', '__spec__', '_dh', '_i', '_i1', '_i2', '_i3', '_ih', '_ii', '_iii', '_oh', 'a', 'b', 'exit', 'get_ipython', 'quit']\n"
     ]
    }
   ],
   "source": [
    "print(dir())"
   ]
  },
  {
   "cell_type": "code",
   "execution_count": 4,
   "id": "30039ed3",
   "metadata": {},
   "outputs": [
    {
     "name": "stdout",
     "output_type": "stream",
     "text": [
      "2960507693648\n",
      "2960507693648\n"
     ]
    }
   ],
   "source": [
    "print(id(a))\n",
    "print(id(b))"
   ]
  },
  {
   "cell_type": "code",
   "execution_count": 5,
   "id": "90de7761",
   "metadata": {},
   "outputs": [],
   "source": [
    "del a"
   ]
  },
  {
   "cell_type": "code",
   "execution_count": 6,
   "id": "ead47dec",
   "metadata": {},
   "outputs": [
    {
     "name": "stdout",
     "output_type": "stream",
     "text": [
      "['In', 'Out', '_', '__', '___', '__builtin__', '__builtins__', '__doc__', '__loader__', '__name__', '__package__', '__spec__', '_dh', '_i', '_i1', '_i2', '_i3', '_i4', '_i5', '_i6', '_ih', '_ii', '_iii', '_oh', 'b', 'exit', 'get_ipython', 'quit']\n"
     ]
    }
   ],
   "source": [
    "print(dir())"
   ]
  },
  {
   "cell_type": "code",
   "execution_count": 7,
   "id": "6619ce2c",
   "metadata": {},
   "outputs": [
    {
     "ename": "NameError",
     "evalue": "name 'a' is not defined",
     "output_type": "error",
     "traceback": [
      "\u001b[1;31m---------------------------------------------------------------------------\u001b[0m",
      "\u001b[1;31mNameError\u001b[0m                                 Traceback (most recent call last)",
      "Input \u001b[1;32mIn [7]\u001b[0m, in \u001b[0;36m<cell line: 1>\u001b[1;34m()\u001b[0m\n\u001b[1;32m----> 1\u001b[0m \u001b[43ma\u001b[49m\n",
      "\u001b[1;31mNameError\u001b[0m: name 'a' is not defined"
     ]
    }
   ],
   "source": [
    "a"
   ]
  },
  {
   "cell_type": "code",
   "execution_count": 8,
   "id": "2953677c",
   "metadata": {},
   "outputs": [
    {
     "data": {
      "text/plain": [
       "10"
      ]
     },
     "execution_count": 8,
     "metadata": {},
     "output_type": "execute_result"
    }
   ],
   "source": [
    "b"
   ]
  },
  {
   "cell_type": "markdown",
   "id": "71811f92",
   "metadata": {},
   "source": [
    "# Float\n",
    "\n",
    "- Any number with a decimal point"
   ]
  },
  {
   "cell_type": "code",
   "execution_count": 9,
   "id": "c1bef70f",
   "metadata": {},
   "outputs": [
    {
     "name": "stdout",
     "output_type": "stream",
     "text": [
      "11.2 <class 'float'>\n"
     ]
    }
   ],
   "source": [
    "a = 11.2\n",
    "\n",
    "print(a , type(a))"
   ]
  },
  {
   "cell_type": "code",
   "execution_count": null,
   "id": "e3bd5465",
   "metadata": {},
   "outputs": [],
   "source": [
    "# operation possible on float\n",
    "\n",
    "- arithmetic\n",
    "- Comparision\n",
    "- Equality\n",
    "- Logical\n",
    "- assignment operators except bitwise\n",
    "- Identity\n",
    "\n",
    "# Operations not possible with float\n",
    "\n",
    "- Bitwise \n",
    "- assignments operators with bitwise\n",
    "\n",
    "# Memory reusability concept does not apply"
   ]
  },
  {
   "cell_type": "code",
   "execution_count": 14,
   "id": "0be357b1",
   "metadata": {},
   "outputs": [
    {
     "name": "stdout",
     "output_type": "stream",
     "text": [
      "234.7\n"
     ]
    }
   ],
   "source": [
    "a = 10.2\n",
    "b = 234.7\n",
    "\n",
    "\n",
    "print( a and b)"
   ]
  },
  {
   "cell_type": "code",
   "execution_count": 15,
   "id": "fb7a812f",
   "metadata": {},
   "outputs": [
    {
     "ename": "TypeError",
     "evalue": "'float' object cannot be interpreted as an integer",
     "output_type": "error",
     "traceback": [
      "\u001b[1;31m---------------------------------------------------------------------------\u001b[0m",
      "\u001b[1;31mTypeError\u001b[0m                                 Traceback (most recent call last)",
      "Input \u001b[1;32mIn [15]\u001b[0m, in \u001b[0;36m<cell line: 1>\u001b[1;34m()\u001b[0m\n\u001b[1;32m----> 1\u001b[0m \u001b[38;5;28mprint\u001b[39m(\u001b[38;5;28;43mbin\u001b[39;49m\u001b[43m(\u001b[49m\u001b[38;5;241;43m10.3\u001b[39;49m\u001b[43m)\u001b[49m)\n",
      "\u001b[1;31mTypeError\u001b[0m: 'float' object cannot be interpreted as an integer"
     ]
    }
   ],
   "source": [
    "print(bin(10.3))"
   ]
  },
  {
   "cell_type": "code",
   "execution_count": 19,
   "id": "f1a11677",
   "metadata": {},
   "outputs": [
    {
     "ename": "TypeError",
     "evalue": "unsupported operand type(s) for &=: 'float' and 'int'",
     "output_type": "error",
     "traceback": [
      "\u001b[1;31m---------------------------------------------------------------------------\u001b[0m",
      "\u001b[1;31mTypeError\u001b[0m                                 Traceback (most recent call last)",
      "Input \u001b[1;32mIn [19]\u001b[0m, in \u001b[0;36m<cell line: 3>\u001b[1;34m()\u001b[0m\n\u001b[0;32m      1\u001b[0m x \u001b[38;5;241m=\u001b[39m \u001b[38;5;241m10.7\u001b[39m\n\u001b[1;32m----> 3\u001b[0m x \u001b[38;5;241m&\u001b[39m\u001b[38;5;241m=\u001b[39m \u001b[38;5;241m2\u001b[39m\n\u001b[0;32m      5\u001b[0m \u001b[38;5;28mprint\u001b[39m(x)\n",
      "\u001b[1;31mTypeError\u001b[0m: unsupported operand type(s) for &=: 'float' and 'int'"
     ]
    }
   ],
   "source": [
    "x = 10.7\n",
    "\n",
    "x &= 2\n",
    "\n",
    "print(x)"
   ]
  },
  {
   "cell_type": "code",
   "execution_count": 20,
   "id": "0e47a5c3",
   "metadata": {},
   "outputs": [
    {
     "name": "stdout",
     "output_type": "stream",
     "text": [
      "False\n"
     ]
    }
   ],
   "source": [
    "a = 10.2\n",
    "b = 10.2\n",
    "\n",
    "\n",
    "print(a is b)"
   ]
  },
  {
   "cell_type": "code",
   "execution_count": null,
   "id": "658cefa3",
   "metadata": {},
   "outputs": [],
   "source": [
    "10.2"
   ]
  },
  {
   "cell_type": "code",
   "execution_count": 28,
   "id": "fbaa09e5",
   "metadata": {},
   "outputs": [
    {
     "name": "stdout",
     "output_type": "stream",
     "text": [
      "0b1010\n"
     ]
    }
   ],
   "source": [
    "print(bin(10))"
   ]
  },
  {
   "cell_type": "code",
   "execution_count": 31,
   "id": "9b1f3c0d",
   "metadata": {},
   "outputs": [
    {
     "data": {
      "text/plain": [
       "0.4"
      ]
     },
     "execution_count": 31,
     "metadata": {},
     "output_type": "execute_result"
    }
   ],
   "source": [
    "0.2 * 2"
   ]
  },
  {
   "cell_type": "code",
   "execution_count": 32,
   "id": "bad5093c",
   "metadata": {},
   "outputs": [
    {
     "data": {
      "text/plain": [
       "0.8"
      ]
     },
     "execution_count": 32,
     "metadata": {},
     "output_type": "execute_result"
    }
   ],
   "source": [
    "0.4 * 2"
   ]
  },
  {
   "cell_type": "code",
   "execution_count": 33,
   "id": "33d6267d",
   "metadata": {},
   "outputs": [
    {
     "data": {
      "text/plain": [
       "1.6"
      ]
     },
     "execution_count": 33,
     "metadata": {},
     "output_type": "execute_result"
    }
   ],
   "source": [
    "0.8*2"
   ]
  },
  {
   "cell_type": "code",
   "execution_count": 34,
   "id": "c8e5e93e",
   "metadata": {},
   "outputs": [
    {
     "name": "stdout",
     "output_type": "stream",
     "text": [
      "0b1\n"
     ]
    }
   ],
   "source": [
    "print(bin(1))"
   ]
  },
  {
   "cell_type": "code",
   "execution_count": null,
   "id": "61970f13",
   "metadata": {},
   "outputs": [],
   "source": [
    "1010.001"
   ]
  },
  {
   "cell_type": "markdown",
   "id": "a466ac37",
   "metadata": {},
   "source": [
    "# Complex"
   ]
  },
  {
   "cell_type": "code",
   "execution_count": 35,
   "id": "64d020f9",
   "metadata": {},
   "outputs": [
    {
     "name": "stdout",
     "output_type": "stream",
     "text": [
      "(10+7j) <class 'complex'>\n",
      "10.0\n",
      "7.0\n"
     ]
    }
   ],
   "source": [
    "a = 10+7j\n",
    "\n",
    "\n",
    "print(a , type(a))\n",
    "print(a.real)\n",
    "print(a.imag)"
   ]
  },
  {
   "cell_type": "markdown",
   "id": "5027a9a2",
   "metadata": {},
   "source": [
    "# Operations possible in complex\n",
    "\n",
    "\n",
    "- Arithmetic except floor div , modulus\n",
    "- Logical\n",
    "- Equality\n",
    "- Assignment except bitwise\n",
    "- identity\n",
    "\n",
    "\n",
    "# Operations not possible\n",
    "\n",
    "- Bitwise\n",
    "- comparision\n",
    "\n",
    "\n",
    "# Object reusability is not applicable"
   ]
  },
  {
   "cell_type": "code",
   "execution_count": 50,
   "id": "178e2edf",
   "metadata": {},
   "outputs": [
    {
     "name": "stdout",
     "output_type": "stream",
     "text": [
      "True\n"
     ]
    }
   ],
   "source": [
    "a = 10+6j\n",
    "b = 2+3j\n",
    "\n",
    "print(a != b)"
   ]
  },
  {
   "cell_type": "code",
   "execution_count": 47,
   "id": "5f5531ea",
   "metadata": {},
   "outputs": [
    {
     "name": "stdout",
     "output_type": "stream",
     "text": [
      "2.0\n"
     ]
    }
   ],
   "source": [
    "a = 10.152\n",
    "b = 4.12\n",
    "print(a//b)"
   ]
  },
  {
   "cell_type": "code",
   "execution_count": 53,
   "id": "29650f72",
   "metadata": {},
   "outputs": [
    {
     "name": "stdout",
     "output_type": "stream",
     "text": [
      "False\n"
     ]
    }
   ],
   "source": [
    "a = 10+8j\n",
    "b = 10+8j\n",
    "\n",
    "print(a is b)"
   ]
  },
  {
   "cell_type": "code",
   "execution_count": 51,
   "id": "17481910",
   "metadata": {},
   "outputs": [
    {
     "ename": "TypeError",
     "evalue": "'complex' object cannot be interpreted as an integer",
     "output_type": "error",
     "traceback": [
      "\u001b[1;31m---------------------------------------------------------------------------\u001b[0m",
      "\u001b[1;31mTypeError\u001b[0m                                 Traceback (most recent call last)",
      "Input \u001b[1;32mIn [51]\u001b[0m, in \u001b[0;36m<cell line: 1>\u001b[1;34m()\u001b[0m\n\u001b[1;32m----> 1\u001b[0m \u001b[38;5;28mprint\u001b[39m(\u001b[38;5;28;43mbin\u001b[39;49m\u001b[43m(\u001b[49m\u001b[38;5;241;43m10\u001b[39;49m\u001b[38;5;241;43m+\u001b[39;49m\u001b[38;5;241;43m3\u001b[39;49m\u001b[43mj\u001b[49m\u001b[43m)\u001b[49m)\n",
      "\u001b[1;31mTypeError\u001b[0m: 'complex' object cannot be interpreted as an integer"
     ]
    }
   ],
   "source": [
    "print(bin(10+3j))"
   ]
  },
  {
   "cell_type": "markdown",
   "id": "258404f5",
   "metadata": {},
   "source": [
    "# None"
   ]
  },
  {
   "cell_type": "code",
   "execution_count": null,
   "id": "acbf0eca",
   "metadata": {},
   "outputs": [],
   "source": [
    "emp_ name          emp_id          emp_sal\n",
    "\n",
    "\n",
    "xyz                  123              30300000 \n",
    "\n",
    "pqr                   0             4165415\n",
    "\n",
    "abc                  345                  None   "
   ]
  },
  {
   "cell_type": "code",
   "execution_count": 60,
   "id": "e961504e",
   "metadata": {},
   "outputs": [
    {
     "data": {
      "text/plain": [
       "3.0"
      ]
     },
     "execution_count": 60,
     "metadata": {},
     "output_type": "execute_result"
    }
   ],
   "source": [
    "lst = [1,2,3,4,5]\n",
    "\n",
    "sum(lst)/len(lst)"
   ]
  },
  {
   "cell_type": "code",
   "execution_count": 61,
   "id": "c3e48f13",
   "metadata": {},
   "outputs": [
    {
     "data": {
      "text/plain": [
       "2.4"
      ]
     },
     "execution_count": 61,
     "metadata": {},
     "output_type": "execute_result"
    }
   ],
   "source": [
    "lst = [1,2,0,4,5]\n",
    "\n",
    "sum(lst)/len(lst) "
   ]
  },
  {
   "cell_type": "code",
   "execution_count": 62,
   "id": "6c4e09c5",
   "metadata": {},
   "outputs": [
    {
     "data": {
      "text/plain": [
       "3.0"
      ]
     },
     "execution_count": 62,
     "metadata": {},
     "output_type": "execute_result"
    }
   ],
   "source": [
    "lst = [1,2,None,4,5]\n",
    "\n",
    "sum(lst)/len(lst)"
   ]
  },
  {
   "cell_type": "markdown",
   "id": "afa9baf4",
   "metadata": {},
   "source": [
    "# Strings\n",
    "\n",
    "- indexing\n",
    "- slicing\n",
    "- methods"
   ]
  },
  {
   "cell_type": "code",
   "execution_count": 70,
   "id": "0b209a8a",
   "metadata": {},
   "outputs": [
    {
     "name": "stdout",
     "output_type": "stream",
     "text": [
      "10\n"
     ]
    }
   ],
   "source": [
    "# Bitwise xor\n",
    "\n",
    "\n",
    "a = 20\n",
    "b = 30\n",
    "\n",
    "\n",
    "print(a ^ b)"
   ]
  },
  {
   "cell_type": "code",
   "execution_count": null,
   "id": "70cffb42",
   "metadata": {},
   "outputs": [],
   "source": []
  }
 ],
 "metadata": {
  "kernelspec": {
   "display_name": "Python 3 (ipykernel)",
   "language": "python",
   "name": "python3"
  },
  "language_info": {
   "codemirror_mode": {
    "name": "ipython",
    "version": 3
   },
   "file_extension": ".py",
   "mimetype": "text/x-python",
   "name": "python",
   "nbconvert_exporter": "python",
   "pygments_lexer": "ipython3",
   "version": "3.9.12"
  }
 },
 "nbformat": 4,
 "nbformat_minor": 5
}
