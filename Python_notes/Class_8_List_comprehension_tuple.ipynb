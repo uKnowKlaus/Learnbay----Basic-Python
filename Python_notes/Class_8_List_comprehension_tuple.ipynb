{
 "cells": [
  {
   "cell_type": "code",
   "execution_count": null,
   "id": "67dd2802",
   "metadata": {},
   "outputs": [],
   "source": [
    "# List Comprehension\n",
    "\n",
    "syntax:\n",
    "    [expression for var in iterable if condition]"
   ]
  },
  {
   "cell_type": "code",
   "execution_count": 24,
   "id": "381df53b",
   "metadata": {},
   "outputs": [
    {
     "name": "stdout",
     "output_type": "stream",
     "text": [
      "['cgarcia', 'seasweb', 'onestab', 'stevelim', 'onestab', 'andersbr', 'kjetilk', 'conteb', 'oneiros', 'jfinke', 'purvis', 'pontipak']\n"
     ]
    }
   ],
   "source": [
    "# extract the usernames of the mail ID's and save in some list\n",
    "\n",
    "lst = ['cgarcia@gmail.com',\n",
    " 'seasweb@yahoo.ca',\n",
    " 'onestab@optonline.net',\n",
    " 'stevelim@mac.com',\n",
    " 'onestab@optonline.net',\n",
    " 'andersbr@gmail.com',\n",
    " 'kjetilk@sbcglobal.net',\n",
    " 'conteb@aol.com',\n",
    " 'oneiros@mac.com',\n",
    " 'jfinke@att.net',\n",
    " 'purvis@outlook.com',\n",
    " 'pontipak@live.com']\n",
    "\n",
    "elist= []\n",
    "for i in lst:\n",
    "    elist.append(i.split('@')[0])\n",
    "    \n",
    "print(elist)"
   ]
  },
  {
   "cell_type": "code",
   "execution_count": 25,
   "id": "e7165bb0",
   "metadata": {},
   "outputs": [
    {
     "name": "stdout",
     "output_type": "stream",
     "text": [
      "['cgarcia', 'seasweb', 'onestab', 'stevelim', 'onestab', 'andersbr', 'kjetilk', 'conteb', 'oneiros', 'jfinke', 'purvis', 'pontipak']\n"
     ]
    }
   ],
   "source": [
    "# extract the usernames of the mail ID's and save in some list\n",
    "\n",
    "lst = ['cgarcia@gmail.com',\n",
    " 'seasweb@yahoo.ca',\n",
    " 'onestab@optonline.net',\n",
    " 'stevelim@mac.com',\n",
    " 'onestab@optonline.net',\n",
    " 'andersbr@gmail.com',\n",
    " 'kjetilk@sbcglobal.net',\n",
    " 'conteb@aol.com',\n",
    " 'oneiros@mac.com',\n",
    " 'jfinke@att.net',\n",
    " 'purvis@outlook.com',\n",
    " 'pontipak@live.com']\n",
    "\n",
    "elist= [i.split('@')[0] for i in lst]\n",
    "    \n",
    "print(elist)"
   ]
  },
  {
   "cell_type": "code",
   "execution_count": 26,
   "id": "70df40c6",
   "metadata": {},
   "outputs": [
    {
     "name": "stdout",
     "output_type": "stream",
     "text": [
      "['cgarcia', 'andersbr']\n"
     ]
    }
   ],
   "source": [
    "# extract the usernames of the mail ID's and save in some list\n",
    "\n",
    "lst = ['cgarcia@gmail.com',\n",
    " 'seasweb@yahoo.ca',\n",
    " 'onestab@optonline.net',\n",
    " 'stevelim@mac.com',\n",
    " 'onestab@optonline.net',\n",
    " 'andersbr@gmail.com',\n",
    " 'kjetilk@sbcglobal.net',\n",
    " 'conteb@aol.com',\n",
    " 'oneiros@mac.com',\n",
    " 'jfinke@att.net',\n",
    " 'purvis@outlook.com',\n",
    " 'pontipak@live.com']\n",
    "\n",
    "elist= [i.split('@')[0] for i in lst if i.split('@')[1] == 'gmail.com']\n",
    "    \n",
    "print(elist)"
   ]
  },
  {
   "cell_type": "code",
   "execution_count": 35,
   "id": "5e94fe79",
   "metadata": {},
   "outputs": [
    {
     "name": "stdout",
     "output_type": "stream",
     "text": [
      "[2, 4, 54, 56, 6, 8, 6, 54, 4]\n"
     ]
    }
   ],
   "source": [
    "# Filter the even numbers and save in some list\n",
    "\n",
    "lst_1 = [1,2,3,4,54,56,6,7,8,989,6,54,4,45]\n",
    "\n",
    "elist = []\n",
    "for i in lst_1:\n",
    "    if i%2 == 0:\n",
    "        elist.append(i)\n",
    "        \n",
    "print(elist)"
   ]
  },
  {
   "cell_type": "code",
   "execution_count": 36,
   "id": "3db74a08",
   "metadata": {},
   "outputs": [
    {
     "name": "stdout",
     "output_type": "stream",
     "text": [
      "[2, 4, 54, 56, 6, 8, 6, 54, 4]\n"
     ]
    }
   ],
   "source": [
    "# Filter the even numbers and save in some list\n",
    "\n",
    "lst_1 = [1,2,3,4,54,56,6,7,8,989,6,54,4,45]\n",
    "\n",
    "elist = [ i for i in lst_1 if i%2 == 0]\n",
    "\n",
    "        \n",
    "print(elist)"
   ]
  },
  {
   "cell_type": "code",
   "execution_count": 37,
   "id": "b0ae787b",
   "metadata": {},
   "outputs": [
    {
     "name": "stdout",
     "output_type": "stream",
     "text": [
      "[1, 4, 9, 16, 25, 3136, 4489, 49, 1156, 9, 16, 25, 3136]\n"
     ]
    }
   ],
   "source": [
    "# Save the power of 2 for each number \n",
    "lst_2 = [1,2,3,4,5,56,67,7,34,3,4,5,56]\n",
    "elist = []\n",
    "\n",
    "for i in lst_2:\n",
    "    elist.append(i**2)\n",
    "    \n",
    "print(elist)"
   ]
  },
  {
   "cell_type": "code",
   "execution_count": 38,
   "id": "a52f1236",
   "metadata": {},
   "outputs": [
    {
     "name": "stdout",
     "output_type": "stream",
     "text": [
      "[1, 4, 9, 16, 25, 3136, 4489, 49, 1156, 9, 16, 25, 3136]\n"
     ]
    }
   ],
   "source": [
    "# Save the power of 2 for each number \n",
    "lst_2 = [1,2,3,4,5,56,67,7,34,3,4,5,56]\n",
    "elist = [i**2 for i in lst_2]\n",
    "\n",
    "    \n",
    "print(elist)"
   ]
  },
  {
   "cell_type": "code",
   "execution_count": 40,
   "id": "02664f26",
   "metadata": {},
   "outputs": [
    {
     "name": "stdout",
     "output_type": "stream",
     "text": [
      "[38.0, 26.0, 35.0, 35.0, 29.69, 54.0, 27.0, 58.0, 39.0, 55.0]\n"
     ]
    }
   ],
   "source": [
    "# filter the adult person from the list consider people able 25 and 25\n",
    "lst_3 = [22.0,\n",
    " 38.0,\n",
    " 26.0,\n",
    " 35.0,\n",
    " 35.0,\n",
    " 29.69,\n",
    " 54.0,\n",
    " 2.0,\n",
    " 27.0,\n",
    " 14.0,\n",
    " 4.0,\n",
    " 58.0,\n",
    " 20.0,\n",
    " 39.0,\n",
    " 14.0,\n",
    " 55.0]\n",
    "\n",
    "elist = []\n",
    "\n",
    "for i in lst_3:\n",
    "    if i >= 25:\n",
    "        elist.append(i)\n",
    "        \n",
    "print(elist)"
   ]
  },
  {
   "cell_type": "code",
   "execution_count": 41,
   "id": "4987d3a9",
   "metadata": {},
   "outputs": [
    {
     "name": "stdout",
     "output_type": "stream",
     "text": [
      "[38.0, 26.0, 35.0, 35.0, 29.69, 54.0, 27.0, 58.0, 39.0, 55.0]\n"
     ]
    }
   ],
   "source": [
    "# filter the adult person from the list consider people able 25 and 25\n",
    "lst_3 = [22.0,\n",
    " 38.0,\n",
    " 26.0,\n",
    " 35.0,\n",
    " 35.0,\n",
    " 29.69,\n",
    " 54.0,\n",
    " 2.0,\n",
    " 27.0,\n",
    " 14.0,\n",
    " 4.0,\n",
    " 58.0,\n",
    " 20.0,\n",
    " 39.0,\n",
    " 14.0,\n",
    " 55.0]\n",
    "\n",
    "elist = [i for i in lst_3 if i>=25]\n",
    "\n",
    "        \n",
    "print(elist)"
   ]
  },
  {
   "cell_type": "code",
   "execution_count": 42,
   "id": "74f06feb",
   "metadata": {},
   "outputs": [
    {
     "name": "stdout",
     "output_type": "stream",
     "text": [
      "[2, 4, 6, 8, 10, 12, 14, 16, 18, 20]\n"
     ]
    }
   ],
   "source": [
    "# Write a python program to save the table of 2 in some list\n",
    "\n",
    "elist = []\n",
    "\n",
    "for i in [1,2,3,4,5,6,7,8,9,10]:\n",
    "    elist.append(i*2)\n",
    "    \n",
    "print(elist)"
   ]
  },
  {
   "cell_type": "code",
   "execution_count": 44,
   "id": "2bb7e8e6",
   "metadata": {},
   "outputs": [
    {
     "data": {
      "text/plain": [
       "['2    *   1   =   2',\n",
       " '2    *   2   =   4',\n",
       " '2    *   3   =   6',\n",
       " '2    *   4   =   8',\n",
       " '2    *   5   =   10',\n",
       " '2    *   6   =   12',\n",
       " '2    *   7   =   14',\n",
       " '2    *   8   =   16',\n",
       " '2    *   9   =   18',\n",
       " '2    *   10   =   20']"
      ]
     },
     "execution_count": 44,
     "metadata": {},
     "output_type": "execute_result"
    }
   ],
   "source": [
    "# Write a python program to save the table of 2 in some list\n",
    "\n",
    "elist = []\n",
    "\n",
    "for i in [1,2,3,4,5,6,7,8,9,10]:\n",
    "    elist.append(f'2    *   {i}   =   {i*2}')\n",
    "    \n",
    "elist"
   ]
  },
  {
   "cell_type": "code",
   "execution_count": 51,
   "id": "f7d259ee",
   "metadata": {},
   "outputs": [
    {
     "data": {
      "text/plain": [
       "['2    *   1   =   2',\n",
       " '2    *   2   =   4',\n",
       " '2    *   3   =   6',\n",
       " '2    *   4   =   8',\n",
       " '2    *   5   =   10',\n",
       " '2    *   6   =   12',\n",
       " '2    *   7   =   14',\n",
       " '2    *   8   =   16',\n",
       " '2    *   9   =   18',\n",
       " '2    *   10   =   20']"
      ]
     },
     "execution_count": 51,
     "metadata": {},
     "output_type": "execute_result"
    }
   ],
   "source": [
    "# Write a python program to save the table of 2 in some list\n",
    "\n",
    "elist = [ f'2    *   {i}   =   {i*2}' for i in [1,2,3,4,5,6,7,8,9,10]]\n",
    "    \n",
    "elist"
   ]
  },
  {
   "cell_type": "code",
   "execution_count": 50,
   "id": "77d8b89a",
   "metadata": {},
   "outputs": [
    {
     "data": {
      "text/plain": [
       "['2   *   1  =   2',\n",
       " '2   *   2  =   4',\n",
       " '2   *   3  =   6',\n",
       " '2   *   4  =   8',\n",
       " '2   *   5  =   10',\n",
       " '2   *   6  =   12',\n",
       " '2   *   7  =   14',\n",
       " '2   *   8  =   16',\n",
       " '2   *   9  =   18',\n",
       " '2   *   10  =   20']"
      ]
     },
     "execution_count": 50,
     "metadata": {},
     "output_type": "execute_result"
    }
   ],
   "source": [
    "# Write a python program to save the table of 2 in some list\n",
    "\n",
    "elist = []\n",
    "\n",
    "for i in [1,2,3,4,5,6,7,8,9,10]:\n",
    "    elist.append('2   *   '+str(i)+'  =   '+ str(i*2))\n",
    "    \n",
    "elist"
   ]
  },
  {
   "cell_type": "code",
   "execution_count": 46,
   "id": "913320d7",
   "metadata": {},
   "outputs": [
    {
     "name": "stdout",
     "output_type": "stream",
     "text": [
      "Enter the first name : python\n",
      "Enter the second name : learnbay\n",
      "My first name is python, and second name is learnbay\n"
     ]
    }
   ],
   "source": [
    "a = input('Enter the first name : ')\n",
    "b = input('Enter the second name : ')\n",
    "\n",
    "print('My first name is '+a+', and second name is '+b)"
   ]
  },
  {
   "cell_type": "code",
   "execution_count": 48,
   "id": "a2ba38b3",
   "metadata": {},
   "outputs": [
    {
     "name": "stdout",
     "output_type": "stream",
     "text": [
      "Enter the first name : python\n",
      "Enter the second name : learnbay\n",
      "My first name is python, and second name is learnbay\n"
     ]
    }
   ],
   "source": [
    "a = input('Enter the first name : ')\n",
    "b = input('Enter the second name : ')\n",
    "\n",
    "print('My first name is {}, and second name is {}'.format(a,b))"
   ]
  },
  {
   "cell_type": "code",
   "execution_count": 49,
   "id": "c64b8e7e",
   "metadata": {},
   "outputs": [
    {
     "name": "stdout",
     "output_type": "stream",
     "text": [
      "Enter the first name : python\n",
      "Enter the second name : learnbay\n",
      "My first name is python, and second name is learnbay\n"
     ]
    }
   ],
   "source": [
    "a = input('Enter the first name : ')\n",
    "b = input('Enter the second name : ')\n",
    "\n",
    "print(f'My first name is {a}, and second name is {b}')"
   ]
  },
  {
   "cell_type": "markdown",
   "id": "bc0926c6",
   "metadata": {},
   "source": [
    "# Tuple"
   ]
  },
  {
   "cell_type": "markdown",
   "id": "7afc5980",
   "metadata": {},
   "source": [
    "# Creating a tuple"
   ]
  },
  {
   "cell_type": "code",
   "execution_count": 52,
   "id": "477f484e",
   "metadata": {},
   "outputs": [
    {
     "name": "stdout",
     "output_type": "stream",
     "text": [
      "(1, 2, 3, 4, 5) <class 'tuple'>\n"
     ]
    }
   ],
   "source": [
    "# 1. you already know the elements\n",
    "\n",
    "tup = (1,2,3,4,5)\n",
    "\n",
    "print(tup , type(tup))"
   ]
  },
  {
   "cell_type": "code",
   "execution_count": 57,
   "id": "17d390ad",
   "metadata": {},
   "outputs": [
    {
     "name": "stdout",
     "output_type": "stream",
     "text": [
      "Enter the values : 'a' , 'b' , 'c'\n",
      "('a', 'b', 'c') <class 'tuple'>\n"
     ]
    }
   ],
   "source": [
    "# 2. Taking user input - eval\n",
    "\n",
    "a = eval(input('Enter the values : '))\n",
    "\n",
    "print(a , type(a))"
   ]
  },
  {
   "cell_type": "code",
   "execution_count": 58,
   "id": "98351545",
   "metadata": {},
   "outputs": [
    {
     "name": "stdout",
     "output_type": "stream",
     "text": [
      "('s', 't', 'r')\n",
      "(1, 2, 3, 45, 6)\n"
     ]
    }
   ],
   "source": [
    "# 3. Type casting\n",
    "\n",
    "a = 'str'\n",
    "b = [1,2,3,45,6]\n",
    "\n",
    "\n",
    "print(tuple(a))\n",
    "print(tuple(b))"
   ]
  },
  {
   "cell_type": "markdown",
   "id": "2af72c60",
   "metadata": {},
   "source": [
    "# Packing - Assigning multiple values to 1 var"
   ]
  },
  {
   "cell_type": "code",
   "execution_count": 59,
   "id": "186a7d9c",
   "metadata": {},
   "outputs": [
    {
     "name": "stdout",
     "output_type": "stream",
     "text": [
      "(1, 2, 3, 4, 5) <class 'tuple'>\n"
     ]
    }
   ],
   "source": [
    "a = (1,2,3,4,5)\n",
    "\n",
    "print(a , type(a))"
   ]
  },
  {
   "cell_type": "code",
   "execution_count": 62,
   "id": "95074ede",
   "metadata": {},
   "outputs": [
    {
     "name": "stdout",
     "output_type": "stream",
     "text": [
      "(1, 1, 1, 1, 1, 2, 3, 4, 5, 6) <class 'tuple'>\n"
     ]
    }
   ],
   "source": [
    "a = 1,1,1,1,1,2,3,4,5,6\n",
    "\n",
    "print(a , type(a))"
   ]
  },
  {
   "cell_type": "code",
   "execution_count": 61,
   "id": "0d50595e",
   "metadata": {},
   "outputs": [
    {
     "name": "stdout",
     "output_type": "stream",
     "text": [
      "<class 'tuple'>\n"
     ]
    }
   ],
   "source": [
    "a = 'a' , 12 , 234.56 , 'python'\n",
    "\n",
    "print(type(a))"
   ]
  },
  {
   "cell_type": "markdown",
   "id": "7943acca",
   "metadata": {},
   "source": [
    "# Properties of tuple\n",
    "\n",
    "- Seq data type\n",
    "- +ve and -ve indexing\n",
    "- can hold multiple data types\n",
    "- allows duplication\n",
    "- concat , repetation , identity , membership\n",
    "\n",
    "\n",
    "# immutable"
   ]
  },
  {
   "cell_type": "code",
   "execution_count": 63,
   "id": "1d2a28ca",
   "metadata": {},
   "outputs": [
    {
     "name": "stdout",
     "output_type": "stream",
     "text": [
      "4\n"
     ]
    }
   ],
   "source": [
    "# indexing\n",
    "\n",
    "a = (1,2,3,4,6,7)\n",
    "\n",
    "print(a[3])"
   ]
  },
  {
   "cell_type": "code",
   "execution_count": 64,
   "id": "bb63a66d",
   "metadata": {},
   "outputs": [
    {
     "name": "stdout",
     "output_type": "stream",
     "text": [
      "4\n"
     ]
    }
   ],
   "source": [
    "# indexing\n",
    "\n",
    "a = (1,2,3,4,6,7)\n",
    "\n",
    "print(a[-3])"
   ]
  },
  {
   "cell_type": "code",
   "execution_count": 66,
   "id": "a519fd59",
   "metadata": {},
   "outputs": [
    {
     "name": "stdout",
     "output_type": "stream",
     "text": [
      "(1, 3, 6)\n"
     ]
    }
   ],
   "source": [
    "# indexing\n",
    "\n",
    "a = (1,2,3,4,6,7)\n",
    "\n",
    "print(a[::2])"
   ]
  },
  {
   "cell_type": "code",
   "execution_count": 67,
   "id": "4b439798",
   "metadata": {},
   "outputs": [
    {
     "name": "stdout",
     "output_type": "stream",
     "text": [
      "(7, 4, 2)\n"
     ]
    }
   ],
   "source": [
    "# indexing\n",
    "\n",
    "a = (1,2,3,4,6,7)\n",
    "\n",
    "print(a[::-2])"
   ]
  },
  {
   "cell_type": "code",
   "execution_count": 68,
   "id": "98051d37",
   "metadata": {},
   "outputs": [
    {
     "name": "stdout",
     "output_type": "stream",
     "text": [
      "('a', 12, 234.56, 'python', [1, 2, 3])\n"
     ]
    }
   ],
   "source": [
    "# can hold multiple data types\n",
    "\n",
    "a = ('a' , 12 , 234.56 , 'python' , [1,2,3])\n",
    "print(a)\n"
   ]
  },
  {
   "cell_type": "code",
   "execution_count": 69,
   "id": "ff8f78af",
   "metadata": {},
   "outputs": [
    {
     "name": "stdout",
     "output_type": "stream",
     "text": [
      "('a', 12, 234.56, 'python', 'python', 'python', [1, 2, 3])\n"
     ]
    }
   ],
   "source": [
    "# can hold multiple data types\n",
    "\n",
    "a = ('a' , 12 , 234.56 , 'python', 'python' , 'python' , [1,2,3])\n",
    "print(a)\n"
   ]
  },
  {
   "cell_type": "markdown",
   "id": "3249a0c0",
   "metadata": {},
   "source": [
    "# Difference b/w a list and tuple"
   ]
  },
  {
   "cell_type": "code",
   "execution_count": 73,
   "id": "a3f74509",
   "metadata": {},
   "outputs": [
    {
     "name": "stdout",
     "output_type": "stream",
     "text": [
      "[9999, 2, 3, 4, 5]\n"
     ]
    }
   ],
   "source": [
    "a = [1,2,3,4,5]\n",
    "\n",
    "# print(a , type(a))\n",
    "a[0] = 9999\n",
    "\n",
    "print(a)\n"
   ]
  },
  {
   "cell_type": "code",
   "execution_count": 74,
   "id": "16b05ecb",
   "metadata": {},
   "outputs": [
    {
     "ename": "TypeError",
     "evalue": "'tuple' object does not support item assignment",
     "output_type": "error",
     "traceback": [
      "\u001b[1;31m---------------------------------------------------------------------------\u001b[0m",
      "\u001b[1;31mTypeError\u001b[0m                                 Traceback (most recent call last)",
      "Input \u001b[1;32mIn [74]\u001b[0m, in \u001b[0;36m<cell line: 5>\u001b[1;34m()\u001b[0m\n\u001b[0;32m      1\u001b[0m a \u001b[38;5;241m=\u001b[39m (\u001b[38;5;241m1\u001b[39m,\u001b[38;5;241m2\u001b[39m,\u001b[38;5;241m3\u001b[39m,\u001b[38;5;241m4\u001b[39m,\u001b[38;5;241m5\u001b[39m)\n\u001b[0;32m      3\u001b[0m \u001b[38;5;66;03m# print(a , type(a))\u001b[39;00m\n\u001b[1;32m----> 5\u001b[0m a[\u001b[38;5;241m0\u001b[39m] \u001b[38;5;241m=\u001b[39m \u001b[38;5;241m9999\u001b[39m\n\u001b[0;32m      7\u001b[0m \u001b[38;5;28mprint\u001b[39m(a)\n",
      "\u001b[1;31mTypeError\u001b[0m: 'tuple' object does not support item assignment"
     ]
    }
   ],
   "source": [
    "a = (1,2,3,4,5)\n",
    "\n",
    "# print(a , type(a))\n",
    "\n",
    "a[0] = 9999\n",
    "\n",
    "print(a)"
   ]
  },
  {
   "cell_type": "code",
   "execution_count": 77,
   "id": "0c4accf3",
   "metadata": {},
   "outputs": [
    {
     "name": "stdout",
     "output_type": "stream",
     "text": [
      "(1, 2, 3, 4, 5, 6, 87, 8)\n"
     ]
    }
   ],
   "source": [
    "# Concat\n",
    "# op -- +\n",
    "\n",
    "a = (1,2,3,4)\n",
    "b = (5,6,87,8)\n",
    "\n",
    "print(a + b)"
   ]
  },
  {
   "cell_type": "code",
   "execution_count": 78,
   "id": "e56b6710",
   "metadata": {},
   "outputs": [
    {
     "name": "stdout",
     "output_type": "stream",
     "text": [
      "(1, 2, 3, 4, 1, 2, 3, 4)\n"
     ]
    }
   ],
   "source": [
    "# repetation\n",
    "# *\n",
    "\n",
    "a = (1,2,3,4)\n",
    "b = 2\n",
    "\n",
    "\n",
    "print( a *b)"
   ]
  },
  {
   "cell_type": "code",
   "execution_count": 2,
   "id": "a1be1cef",
   "metadata": {},
   "outputs": [
    {
     "name": "stdout",
     "output_type": "stream",
     "text": [
      "2468655365888\n",
      "2468655511104\n",
      "False\n"
     ]
    }
   ],
   "source": [
    "# identity \n",
    "# is and is not\n",
    "\n",
    "a = (1,2,3)\n",
    "b = (1,2,3)\n",
    "\n",
    "print(id(a))\n",
    "print(id(b))\n",
    "\n",
    "print(a is b)"
   ]
  },
  {
   "cell_type": "code",
   "execution_count": 79,
   "id": "0036cc8f",
   "metadata": {},
   "outputs": [
    {
     "name": "stdout",
     "output_type": "stream",
     "text": [
      "2418656341696\n",
      "2418656331008\n"
     ]
    }
   ],
   "source": [
    "a = [1,2,3]\n",
    "b = [1,2,3]\n",
    "\n",
    "print(id(a))\n",
    "print(id(b))"
   ]
  },
  {
   "cell_type": "code",
   "execution_count": 5,
   "id": "c9ee2392",
   "metadata": {},
   "outputs": [
    {
     "name": "stdout",
     "output_type": "stream",
     "text": [
      "True\n"
     ]
    }
   ],
   "source": [
    "# membership\n",
    "# in and not in\n",
    "\n",
    "a = 1,2,3,4,5,6,7,8,9\n",
    "\n",
    "print( 4 in a)"
   ]
  },
  {
   "cell_type": "code",
   "execution_count": 6,
   "id": "85b5d542",
   "metadata": {},
   "outputs": [
    {
     "name": "stdout",
     "output_type": "stream",
     "text": [
      "False\n"
     ]
    }
   ],
   "source": [
    "# membership\n",
    "# in and not in\n",
    "\n",
    "a = 1,2,3,4,5,6,7,8,9\n",
    "\n",
    "print( 4 not in a)"
   ]
  },
  {
   "cell_type": "markdown",
   "id": "99941818",
   "metadata": {},
   "source": [
    "# Methods of tuple"
   ]
  },
  {
   "cell_type": "code",
   "execution_count": 7,
   "id": "447a6567",
   "metadata": {},
   "outputs": [
    {
     "name": "stdout",
     "output_type": "stream",
     "text": [
      "['__add__', '__class__', '__class_getitem__', '__contains__', '__delattr__', '__dir__', '__doc__', '__eq__', '__format__', '__ge__', '__getattribute__', '__getitem__', '__getnewargs__', '__gt__', '__hash__', '__init__', '__init_subclass__', '__iter__', '__le__', '__len__', '__lt__', '__mul__', '__ne__', '__new__', '__reduce__', '__reduce_ex__', '__repr__', '__rmul__', '__setattr__', '__sizeof__', '__str__', '__subclasshook__', 'count', 'index']\n"
     ]
    }
   ],
   "source": [
    "print(dir(tuple))"
   ]
  },
  {
   "cell_type": "code",
   "execution_count": 8,
   "id": "af44043b",
   "metadata": {},
   "outputs": [
    {
     "name": "stdout",
     "output_type": "stream",
     "text": [
      "7\n"
     ]
    }
   ],
   "source": [
    "# count\n",
    "\n",
    "a = (1,2,3,4,12,3,4,1,1,3,4,2,4,2,1,1,1,12,1)\n",
    "\n",
    "\n",
    "print( a.count(1))"
   ]
  },
  {
   "cell_type": "code",
   "execution_count": 9,
   "id": "dc919e73",
   "metadata": {},
   "outputs": [
    {
     "name": "stdout",
     "output_type": "stream",
     "text": [
      "3\n"
     ]
    }
   ],
   "source": [
    "# count\n",
    "\n",
    "a = (1,2,3,4,12,3,4,1,1,3,4,2,4,2,1,1,1,12,1)\n",
    "\n",
    "\n",
    "print( a.index(4))"
   ]
  },
  {
   "cell_type": "code",
   "execution_count": 11,
   "id": "c1be7eba",
   "metadata": {},
   "outputs": [
    {
     "name": "stdout",
     "output_type": "stream",
     "text": [
      "6\n"
     ]
    }
   ],
   "source": [
    "# count\n",
    "\n",
    "a = (1,2,3,4,12,3,4,1,1,3,4,2,4,2,1,1,1,12,1)\n",
    "\n",
    "\n",
    "print( a.index(4 , 5))"
   ]
  },
  {
   "cell_type": "markdown",
   "id": "a34d0dc5",
   "metadata": {},
   "source": [
    "# Tuple packing and unpacking"
   ]
  },
  {
   "cell_type": "code",
   "execution_count": 12,
   "id": "0be7536a",
   "metadata": {},
   "outputs": [
    {
     "name": "stdout",
     "output_type": "stream",
     "text": [
      "(12, 12, 34, 546) <class 'tuple'>\n"
     ]
    }
   ],
   "source": [
    "# tuple packing\n",
    "\n",
    "a = 12,12,34,546\n",
    "\n",
    "print(a , type(a))"
   ]
  },
  {
   "cell_type": "code",
   "execution_count": 15,
   "id": "bee97f4c",
   "metadata": {},
   "outputs": [
    {
     "name": "stdout",
     "output_type": "stream",
     "text": [
      "12.34 <class 'float'>\n",
      "12 <class 'str'>\n",
      "34 <class 'int'>\n",
      "546 <class 'int'>\n"
     ]
    }
   ],
   "source": [
    "# tuple unpacking\n",
    "\n",
    "a,b,c,d = 12.34,'12',34,546\n",
    "\n",
    "print(a , type(a))\n",
    "print(b , type(b))\n",
    "print(c , type(c))\n",
    "print(d , type(d))"
   ]
  },
  {
   "cell_type": "code",
   "execution_count": 17,
   "id": "a674b7f7",
   "metadata": {},
   "outputs": [
    {
     "name": "stdout",
     "output_type": "stream",
     "text": [
      "12.34 <class 'float'>\n",
      "12 <class 'str'>\n",
      "[34, 546] <class 'list'>\n",
      "546 <class 'int'>\n"
     ]
    }
   ],
   "source": [
    "# tuple unpacking\n",
    "\n",
    "a,b,c = 12.34,'12',[34,546]\n",
    "\n",
    "print(a , type(a))\n",
    "print(b , type(b))\n",
    "print(c , type(c))\n",
    "print(d , type(d))"
   ]
  },
  {
   "cell_type": "code",
   "execution_count": 18,
   "id": "7ae63866",
   "metadata": {},
   "outputs": [
    {
     "name": "stdout",
     "output_type": "stream",
     "text": [
      "12.34 <class 'float'>\n",
      "12 <class 'str'>\n",
      "[34, 546] <class 'list'>\n",
      "(10+7j) <class 'complex'>\n"
     ]
    }
   ],
   "source": [
    "# tuple unpacking\n",
    "\n",
    "a,b,c , d = 12.34,'12',[34,546] , 10+7j\n",
    "\n",
    "print(a , type(a))\n",
    "print(b , type(b))\n",
    "print(c , type(c))\n",
    "print(d , type(d))"
   ]
  },
  {
   "cell_type": "code",
   "execution_count": 29,
   "id": "fcd14189",
   "metadata": {},
   "outputs": [
    {
     "name": "stdout",
     "output_type": "stream",
     "text": [
      "1 <class 'int'>\n",
      "2 <class 'int'>\n",
      "3 <class 'int'>\n",
      "4 <class 'int'>\n"
     ]
    }
   ],
   "source": [
    "# \n",
    "a = [1,2,3,4]\n",
    "b = ['a' , 'b' , 'c' ,'d']\n",
    "\n",
    "\n",
    "for i,j in list(zip(a ,b)):\n",
    "    print(i , type(i))"
   ]
  },
  {
   "cell_type": "code",
   "execution_count": 58,
   "id": "5442bede",
   "metadata": {},
   "outputs": [
    {
     "name": "stdout",
     "output_type": "stream",
     "text": [
      "(10, 't') <class 'tuple'>\n",
      "(11, 'h') <class 'tuple'>\n",
      "(12, 'i') <class 'tuple'>\n",
      "(13, 's') <class 'tuple'>\n",
      "(14, ' ') <class 'tuple'>\n",
      "(15, 'i') <class 'tuple'>\n",
      "(16, 's') <class 'tuple'>\n",
      "(17, ' ') <class 'tuple'>\n",
      "(18, 'p') <class 'tuple'>\n",
      "(19, 'y') <class 'tuple'>\n",
      "(20, 't') <class 'tuple'>\n",
      "(21, 'h') <class 'tuple'>\n",
      "(22, 'o') <class 'tuple'>\n",
      "(23, 'n') <class 'tuple'>\n"
     ]
    }
   ],
   "source": [
    "a = 'this is python'\n",
    "\n",
    "\n",
    "for i in enumerate(a , 10):\n",
    "    print(i , type(i))"
   ]
  },
  {
   "cell_type": "markdown",
   "id": "71a0abe1",
   "metadata": {},
   "source": [
    "# Enumerate\n",
    "\n",
    "- Split each char or element and gives the output as a tuple\n",
    "- By default the start value is 0"
   ]
  },
  {
   "cell_type": "code",
   "execution_count": 63,
   "id": "18899f41",
   "metadata": {},
   "outputs": [
    {
     "data": {
      "text/plain": [
       "[(1, 'a'), (2, 'b'), (3, 'c')]"
      ]
     },
     "execution_count": 63,
     "metadata": {},
     "output_type": "execute_result"
    }
   ],
   "source": [
    "a = ['a' , 'b' , 'c']\n",
    "\n",
    "list(enumerate(a , 1 ))"
   ]
  },
  {
   "cell_type": "code",
   "execution_count": 69,
   "id": "c86b61e2",
   "metadata": {},
   "outputs": [
    {
     "name": "stdout",
     "output_type": "stream",
     "text": [
      "0\n",
      "6\n",
      "13\n"
     ]
    }
   ],
   "source": [
    "a = 'python is an programing language , python has easy syntax , this is python class'\n",
    "\n",
    "\n",
    "# all the index values of 'p'\n",
    "\n",
    "# for i,j in enumerate(a):\n",
    "#     if j == 'p':\n",
    "#         print(f' the index value of p is = {i}')\n",
    "\n",
    "# convert the str into a list and get the index value of 'python' is present\n",
    "\n",
    "\n",
    "for i,j in enumerate(a.split()):\n",
    "    if j =='python':\n",
    "        print(i)"
   ]
  },
  {
   "cell_type": "markdown",
   "id": "fd9a83d6",
   "metadata": {},
   "source": [
    "# Range , Dic"
   ]
  },
  {
   "cell_type": "code",
   "execution_count": null,
   "id": "29a25140",
   "metadata": {},
   "outputs": [],
   "source": []
  }
 ],
 "metadata": {
  "kernelspec": {
   "display_name": "Python 3 (ipykernel)",
   "language": "python",
   "name": "python3"
  },
  "language_info": {
   "codemirror_mode": {
    "name": "ipython",
    "version": 3
   },
   "file_extension": ".py",
   "mimetype": "text/x-python",
   "name": "python",
   "nbconvert_exporter": "python",
   "pygments_lexer": "ipython3",
   "version": "3.9.12"
  }
 },
 "nbformat": 4,
 "nbformat_minor": 5
}
