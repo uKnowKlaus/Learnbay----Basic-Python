{
 "cells": [
  {
   "cell_type": "markdown",
   "id": "4be201c7",
   "metadata": {},
   "source": [
    "# Range\n",
    "\n",
    "\n",
    "- Range is a function used in for loop\n",
    "\n",
    "\n",
    "syntax -\n",
    "range (start , stop , step)\n",
    "\n",
    "Start is inclusive\n",
    "stop is exclusive\n",
    "\n",
    "\n",
    "default \n",
    "start is 0\n",
    "stop it has to be given by the user\n",
    "step is 1"
   ]
  },
  {
   "cell_type": "code",
   "execution_count": 2,
   "id": "668baa7b",
   "metadata": {},
   "outputs": [
    {
     "data": {
      "text/plain": [
       "[0, 1, 2, 3, 4, 5, 6, 7, 8, 9]"
      ]
     },
     "execution_count": 2,
     "metadata": {},
     "output_type": "execute_result"
    }
   ],
   "source": [
    "list(range(10))"
   ]
  },
  {
   "cell_type": "code",
   "execution_count": 3,
   "id": "fc21452e",
   "metadata": {},
   "outputs": [
    {
     "data": {
      "text/plain": [
       "[11, 12, 13, 14, 15, 16, 17, 18, 19, 20]"
      ]
     },
     "execution_count": 3,
     "metadata": {},
     "output_type": "execute_result"
    }
   ],
   "source": [
    "# 11 , 20\n",
    "\n",
    "list(range(11 , 21))"
   ]
  },
  {
   "cell_type": "code",
   "execution_count": 6,
   "id": "82b7c630",
   "metadata": {},
   "outputs": [
    {
     "data": {
      "text/plain": [
       "[0, -1, -2, -3, -4, -5, -6, -7, -8, -9]"
      ]
     },
     "execution_count": 6,
     "metadata": {},
     "output_type": "execute_result"
    }
   ],
   "source": [
    "list(range(0 , -10 , -1))"
   ]
  },
  {
   "cell_type": "code",
   "execution_count": 13,
   "id": "c20907c3",
   "metadata": {},
   "outputs": [
    {
     "name": "stdout",
     "output_type": "stream",
     "text": [
      "0---p\n",
      "1---y\n",
      "2---t\n",
      "3---h\n",
      "4---o\n",
      "5---n\n"
     ]
    }
   ],
   "source": [
    "a = 'python' # +ve\n",
    "\n",
    "for i in range(len(a)):\n",
    "    print(i , end = '---')\n",
    "    print(a[i])"
   ]
  },
  {
   "cell_type": "code",
   "execution_count": 24,
   "id": "196cf1e2",
   "metadata": {},
   "outputs": [
    {
     "name": "stdout",
     "output_type": "stream",
     "text": [
      "-6---p\n",
      "-5---y\n",
      "-4---t\n",
      "-3---h\n",
      "-2---o\n",
      "-1---n\n"
     ]
    }
   ],
   "source": [
    "a = 'python' # +ve\n",
    "\n",
    "for i in range(-len(a),0):\n",
    "    print(i , end = '---')\n",
    "    print(a[i])"
   ]
  },
  {
   "cell_type": "code",
   "execution_count": null,
   "id": "90f81c04",
   "metadata": {},
   "outputs": [],
   "source": [
    "-6 , -5"
   ]
  },
  {
   "cell_type": "code",
   "execution_count": 21,
   "id": "0d48b591",
   "metadata": {},
   "outputs": [
    {
     "data": {
      "text/plain": [
       "[-7, -6, -5, -4, -3, -2, -1]"
      ]
     },
     "execution_count": 21,
     "metadata": {},
     "output_type": "execute_result"
    }
   ],
   "source": [
    "list(range(-7 , 0))"
   ]
  },
  {
   "cell_type": "code",
   "execution_count": 25,
   "id": "5bcdf920",
   "metadata": {},
   "outputs": [
    {
     "data": {
      "text/plain": [
       "[1, 3, 5, 7, 9, 11, 13, 15, 17, 19]"
      ]
     },
     "execution_count": 25,
     "metadata": {},
     "output_type": "execute_result"
    }
   ],
   "source": [
    "list(range(1,20 , 2))"
   ]
  },
  {
   "cell_type": "code",
   "execution_count": 29,
   "id": "ae61e7c9",
   "metadata": {},
   "outputs": [
    {
     "data": {
      "text/plain": [
       "[0, 5, 10, 15, 20, 25, 30, 35, 40, 45, 50]"
      ]
     },
     "execution_count": 29,
     "metadata": {},
     "output_type": "execute_result"
    }
   ],
   "source": [
    "list(range(0 , 51 , 5))"
   ]
  },
  {
   "cell_type": "code",
   "execution_count": 30,
   "id": "ab855970",
   "metadata": {},
   "outputs": [
    {
     "name": "stdout",
     "output_type": "stream",
     "text": [
      "[1, 21, 3, 4]\n",
      "[1, 21, 3, 4]\n",
      "[1, 21, 3, 4]\n",
      "[1, 21, 3, 4]\n"
     ]
    }
   ],
   "source": [
    "a = [1,21,3,4]\n",
    "\n",
    "for i in range(0 , len(a)):\n",
    "    print(a)"
   ]
  },
  {
   "cell_type": "markdown",
   "id": "784b20ca",
   "metadata": {},
   "source": [
    "# Dictionary"
   ]
  },
  {
   "cell_type": "code",
   "execution_count": 32,
   "id": "8cdd0314",
   "metadata": {},
   "outputs": [
    {
     "name": "stdout",
     "output_type": "stream",
     "text": [
      "name of the emp  is  name\n",
      "age of the emp  is  25\n",
      "salary of the emp  is  454545\n"
     ]
    }
   ],
   "source": [
    "emp_data = ['name' , 25 , 454545]\n",
    "\n",
    "\n",
    "# name of\n",
    "print('name of the emp  is ' , emp_data[0])\n",
    "\n",
    "\n",
    "# age of\n",
    "print('age of the emp  is ' , emp_data[1])\n",
    "\n",
    "\n",
    "\n",
    "# salary of\n",
    "print('salary of the emp  is ' , emp_data[2])"
   ]
  },
  {
   "cell_type": "code",
   "execution_count": 33,
   "id": "bf7ef4d8",
   "metadata": {},
   "outputs": [
    {
     "name": "stdout",
     "output_type": "stream",
     "text": [
      "name of the emp  is  25\n",
      "age of the emp  is  454545\n",
      "salary of the emp  is  name\n"
     ]
    }
   ],
   "source": [
    "emp_data = [ 25 , 454545 , 'name']\n",
    "\n",
    "\n",
    "# name of\n",
    "print('name of the emp  is ' , emp_data[0])\n",
    "\n",
    "\n",
    "# age of\n",
    "print('age of the emp  is ' , emp_data[1])\n",
    "\n",
    "\n",
    "\n",
    "# salary of\n",
    "print('salary of the emp  is ' , emp_data[2])"
   ]
  },
  {
   "cell_type": "markdown",
   "id": "73a80c0f",
   "metadata": {},
   "source": [
    "# dictionary a structured data type"
   ]
  },
  {
   "cell_type": "code",
   "execution_count": 37,
   "id": "7805df5f",
   "metadata": {},
   "outputs": [
    {
     "name": "stdout",
     "output_type": "stream",
     "text": [
      "name of the emp  is  xyz\n",
      "age of the emp  is  63\n",
      "salary of the emp  is  879623\n"
     ]
    }
   ],
   "source": [
    "emp_data = {'Name' : 'xyz' , 'Age' : 63 , 'Salary' : 879623}\n",
    "\n",
    "\n",
    "# Name\n",
    "\n",
    "print('name of the emp  is ' ,emp_data['Name'])\n",
    "\n",
    "# age\n",
    "\n",
    "print('age of the emp  is ' ,emp_data['Age'])\n",
    "\n",
    "# Salary\n",
    "\n",
    "print('salary of the emp  is ' ,emp_data['Salary'])"
   ]
  },
  {
   "cell_type": "code",
   "execution_count": 38,
   "id": "dc8a5ced",
   "metadata": {},
   "outputs": [
    {
     "name": "stdout",
     "output_type": "stream",
     "text": [
      "name of the emp  is  xyz\n",
      "age of the emp  is  63\n",
      "salary of the emp  is  879623\n"
     ]
    }
   ],
   "source": [
    "emp_data = { 'Age' : 63 , 'Salary' : 879623 , 'Name' : 'xyz' }\n",
    "\n",
    "\n",
    "# Name\n",
    "\n",
    "print('name of the emp  is ' ,emp_data['Name'])\n",
    "\n",
    "# age\n",
    "\n",
    "print('age of the emp  is ' ,emp_data['Age'])\n",
    "\n",
    "# Salary\n",
    "\n",
    "print('salary of the emp  is ' ,emp_data['Salary'])"
   ]
  },
  {
   "cell_type": "markdown",
   "id": "15f90c7f",
   "metadata": {},
   "source": [
    "# Properties of dic\n",
    "\n",
    "\n",
    "- It is a collection of key value pair\n",
    "- a key , value is called as an item\n",
    "- Items are sep by commas(,)\n",
    "- Key and value are sep by (:)\n",
    "- Key cannot be duplicated whereas value duplicated \n",
    "- Key cannot be mutable data type (immutable)\n",
    "- Value can be anything ( mutable / immtable)\n",
    "- All the items are into curly bracket\n",
    "- It is not a seq hence concatination , indexing , slicing , repetation will not work\n",
    "- Membership will work only for the keys\n",
    "- Identity op are possible \n",
    "- It is mutable\n",
    "\n",
    "\n",
    "### memory - reusability will not work"
   ]
  },
  {
   "cell_type": "code",
   "execution_count": 39,
   "id": "06252cc8",
   "metadata": {},
   "outputs": [
    {
     "name": "stdout",
     "output_type": "stream",
     "text": [
      "2154901360512\n",
      "2154900743104\n"
     ]
    }
   ],
   "source": [
    "a = {'a':1 , 'b': 2}\n",
    "b = {'a':1 , 'b': 2}\n",
    "\n",
    "print(id(a))\n",
    "print(id(b))"
   ]
  },
  {
   "cell_type": "code",
   "execution_count": null,
   "id": "f88ee143",
   "metadata": {},
   "outputs": [],
   "source": [
    "# How to create a dic"
   ]
  },
  {
   "cell_type": "code",
   "execution_count": 41,
   "id": "553e2729",
   "metadata": {},
   "outputs": [
    {
     "name": "stdout",
     "output_type": "stream",
     "text": [
      "<class 'dict'>\n"
     ]
    }
   ],
   "source": [
    "# 1. You already know the elements\n",
    "\n",
    "emp_data = {'emp_1': {'age': 24 , 'salary': 626223 , 'name': 'salahuddin'},\n",
    "           'emp_2': {'age': 34 , 'salary': 65653 , 'name': 'abhishek'}}\n",
    "\n",
    "print( type(emp_data))"
   ]
  },
  {
   "cell_type": "code",
   "execution_count": 42,
   "id": "423ff45b",
   "metadata": {},
   "outputs": [
    {
     "name": "stdout",
     "output_type": "stream",
     "text": [
      "Enter a dic : {1:2 , 3:54}\n",
      "{1: 2, 3: 54} <class 'dict'>\n"
     ]
    }
   ],
   "source": [
    "# Taking user input\n",
    "\n",
    "\n",
    "data = eval(input('Enter a dic : '))\n",
    "\n",
    "print(data , type(data))"
   ]
  },
  {
   "cell_type": "markdown",
   "id": "76c37623",
   "metadata": {},
   "source": [
    "# 3 type casting - dict()\n",
    "\n",
    "- Dict function takes a seq of inner seq that should have a pair of 2 elements\n",
    "- By default it'll take the first element to the key and the secont to its value"
   ]
  },
  {
   "cell_type": "code",
   "execution_count": 45,
   "id": "1e4cce37",
   "metadata": {},
   "outputs": [
    {
     "name": "stdout",
     "output_type": "stream",
     "text": [
      "{1: 'a', 2: 'b', 3: 'c'}\n"
     ]
    }
   ],
   "source": [
    "a = [(1, 'a') , (2 , 'b') , (3 , 'c')]\n",
    "\n",
    "print(dict(a))"
   ]
  },
  {
   "cell_type": "code",
   "execution_count": 54,
   "id": "973642b8",
   "metadata": {},
   "outputs": [
    {
     "name": "stdout",
     "output_type": "stream",
     "text": [
      "{1: 'a', 2: 'b', 3: 'c'}\n"
     ]
    }
   ],
   "source": [
    "a = ([1, 'a'] , [2 , 'b'] , [3 , 'c'])\n",
    "\n",
    "print(dict(a))"
   ]
  },
  {
   "cell_type": "code",
   "execution_count": 47,
   "id": "0295519f",
   "metadata": {},
   "outputs": [
    {
     "data": {
      "text/plain": [
       "{0: 'p', 1: 'y', 2: 't', 3: 'h', 4: 'o', 5: 'n'}"
      ]
     },
     "execution_count": 47,
     "metadata": {},
     "output_type": "execute_result"
    }
   ],
   "source": [
    "a = 'python'\n",
    "\n",
    "\n",
    "dict(enumerate(a))"
   ]
  },
  {
   "cell_type": "code",
   "execution_count": null,
   "id": "720b4bdd",
   "metadata": {},
   "outputs": [],
   "source": [
    "# Zip\n",
    "\n",
    "- Sytax -\n",
    "zip (iter , iter)"
   ]
  },
  {
   "cell_type": "code",
   "execution_count": 50,
   "id": "11a22791",
   "metadata": {},
   "outputs": [
    {
     "data": {
      "text/plain": [
       "{'a': 1, 'b': 2, 'c': 3, 'd': 4, 'e': 5}"
      ]
     },
     "execution_count": 50,
     "metadata": {},
     "output_type": "execute_result"
    }
   ],
   "source": [
    "a = [1,2,3,4,5]\n",
    "\n",
    "b = ['a' , 'b' , 'c' , 'd' , 'e']\n",
    "\n",
    "\n",
    "dict(zip(b , a))"
   ]
  },
  {
   "cell_type": "code",
   "execution_count": 53,
   "id": "d3d7df26",
   "metadata": {},
   "outputs": [
    {
     "data": {
      "text/plain": [
       "{1: 'a', 2: 'b', 3: 'c', 4: 'd'}"
      ]
     },
     "execution_count": 53,
     "metadata": {},
     "output_type": "execute_result"
    }
   ],
   "source": [
    "a = [1,2,3,4]\n",
    "\n",
    "b = ['a' , 'b' , 'c' , 'd' , 'e']\n",
    "\n",
    "\n",
    "dict(zip(a,b))"
   ]
  },
  {
   "cell_type": "code",
   "execution_count": null,
   "id": "61e7d4d0",
   "metadata": {},
   "outputs": [],
   "source": [
    "# - It is a collection of key value pair\n",
    "# - a key , value is called as an item\n",
    "# - Items are sep by commas(,)\n",
    "# - Key and value are sep by (:)"
   ]
  },
  {
   "cell_type": "code",
   "execution_count": 60,
   "id": "b17a5170",
   "metadata": {},
   "outputs": [
    {
     "data": {
      "text/plain": [
       "{'emp_1': {'age': 24, 'salary': 626223, 'name': 'salahuddin'},\n",
       " 'emp_2': {'age': 34, 'salary': 65653, 'name': 'abhishek'},\n",
       " 'emp_3': {'age': 45, 'salary': 96780, 'name': 'ajay'}}"
      ]
     },
     "execution_count": 60,
     "metadata": {},
     "output_type": "execute_result"
    }
   ],
   "source": [
    "emp_data = {'emp_1': {'age': 24 , 'salary': 626223 , 'name': 'salahuddin'},\n",
    "           'emp_2': {'age': 34 , 'salary': 65653 , 'name': 'abhishek'},\n",
    "           'emp_3': {'age': 45 , 'salary': 96780 , 'name': 'ajay'}}\n",
    "\n",
    "emp_data"
   ]
  },
  {
   "cell_type": "code",
   "execution_count": 61,
   "id": "7d80d1f3",
   "metadata": {},
   "outputs": [],
   "source": [
    "#  Key cannot be duplicated whereas value duplicated "
   ]
  },
  {
   "cell_type": "code",
   "execution_count": 62,
   "id": "c048f1c6",
   "metadata": {},
   "outputs": [
    {
     "data": {
      "text/plain": [
       "{'emp_1': {'age': 24, 'salary': 626223, 'name': 'salahuddin'},\n",
       " 'emp_2': {'age': 45, 'salary': 96780, 'name': 'ajay'}}"
      ]
     },
     "execution_count": 62,
     "metadata": {},
     "output_type": "execute_result"
    }
   ],
   "source": [
    "emp_data = {'emp_1': {'age': 24 , 'salary': 626223 , 'name': 'salahuddin'},\n",
    "           'emp_2': {'age': 34 , 'salary': 65653 , 'name': 'abhishek'},\n",
    "           'emp_2': {'age': 45 , 'salary': 96780 , 'name': 'ajay'}}\n",
    "\n",
    "emp_data"
   ]
  },
  {
   "cell_type": "code",
   "execution_count": 63,
   "id": "627c97bf",
   "metadata": {},
   "outputs": [
    {
     "data": {
      "text/plain": [
       "{'emp_1': {'age': 24, 'salary': 626223, 'name': 'salahuddin'},\n",
       " 'emp_2': {'age': 45, 'salary': 96780, 'name': 'ajay'},\n",
       " 'emp_3': {'age': 45, 'salary': 96780, 'name': 'ajay'}}"
      ]
     },
     "execution_count": 63,
     "metadata": {},
     "output_type": "execute_result"
    }
   ],
   "source": [
    "emp_data = {'emp_1': {'age': 24 , 'salary': 626223 , 'name': 'salahuddin'},\n",
    "           'emp_2': {'age': 45 , 'salary': 96780 , 'name': 'ajay'},\n",
    "           'emp_3': {'age': 45 , 'salary': 96780 , 'name': 'ajay'}}\n",
    "\n",
    "emp_data"
   ]
  },
  {
   "cell_type": "markdown",
   "id": "a5d9c015",
   "metadata": {},
   "source": [
    "# - Key cannot be mutable data type (immutable)"
   ]
  },
  {
   "cell_type": "code",
   "execution_count": 69,
   "id": "2c21adb4",
   "metadata": {},
   "outputs": [
    {
     "ename": "TypeError",
     "evalue": "unhashable type: 'list'",
     "output_type": "error",
     "traceback": [
      "\u001b[1;31m---------------------------------------------------------------------------\u001b[0m",
      "\u001b[1;31mTypeError\u001b[0m                                 Traceback (most recent call last)",
      "Input \u001b[1;32mIn [69]\u001b[0m, in \u001b[0;36m<cell line: 1>\u001b[1;34m()\u001b[0m\n\u001b[1;32m----> 1\u001b[0m emp_data \u001b[38;5;241m=\u001b[39m {[\u001b[38;5;241m1\u001b[39m,\u001b[38;5;241m2\u001b[39m,\u001b[38;5;241m3\u001b[39m]: {\u001b[38;5;124m'\u001b[39m\u001b[38;5;124mage\u001b[39m\u001b[38;5;124m'\u001b[39m: \u001b[38;5;241m24\u001b[39m , \u001b[38;5;124m'\u001b[39m\u001b[38;5;124msalary\u001b[39m\u001b[38;5;124m'\u001b[39m: \u001b[38;5;241m626223\u001b[39m , \u001b[38;5;124m'\u001b[39m\u001b[38;5;124mname\u001b[39m\u001b[38;5;124m'\u001b[39m: \u001b[38;5;124m'\u001b[39m\u001b[38;5;124msalahuddin\u001b[39m\u001b[38;5;124m'\u001b[39m},\n\u001b[0;32m      2\u001b[0m            \u001b[38;5;124m'\u001b[39m\u001b[38;5;124memp_2\u001b[39m\u001b[38;5;124m'\u001b[39m: {\u001b[38;5;124m'\u001b[39m\u001b[38;5;124mage\u001b[39m\u001b[38;5;124m'\u001b[39m: \u001b[38;5;241m45\u001b[39m , \u001b[38;5;124m'\u001b[39m\u001b[38;5;124msalary\u001b[39m\u001b[38;5;124m'\u001b[39m: \u001b[38;5;241m96780\u001b[39m , \u001b[38;5;124m'\u001b[39m\u001b[38;5;124mname\u001b[39m\u001b[38;5;124m'\u001b[39m: \u001b[38;5;124m'\u001b[39m\u001b[38;5;124majay\u001b[39m\u001b[38;5;124m'\u001b[39m},\n\u001b[0;32m      3\u001b[0m            \u001b[38;5;124m'\u001b[39m\u001b[38;5;124memp_2\u001b[39m\u001b[38;5;124m'\u001b[39m: {\u001b[38;5;124m'\u001b[39m\u001b[38;5;124mage\u001b[39m\u001b[38;5;124m'\u001b[39m: \u001b[38;5;241m45\u001b[39m , \u001b[38;5;124m'\u001b[39m\u001b[38;5;124msalary\u001b[39m\u001b[38;5;124m'\u001b[39m: \u001b[38;5;241m96780\u001b[39m , \u001b[38;5;124m'\u001b[39m\u001b[38;5;124mname\u001b[39m\u001b[38;5;124m'\u001b[39m: \u001b[38;5;124m'\u001b[39m\u001b[38;5;124mabhishek\u001b[39m\u001b[38;5;124m'\u001b[39m}}\n\u001b[0;32m      5\u001b[0m emp_data\n",
      "\u001b[1;31mTypeError\u001b[0m: unhashable type: 'list'"
     ]
    }
   ],
   "source": [
    "emp_data = {[1,2,3]: {'age': 24 , 'salary': 626223 , 'name': 'salahuddin'},\n",
    "           'emp_2': {'age': 45 , 'salary': 96780 , 'name': 'ajay'},\n",
    "           'emp_2': {'age': 45 , 'salary': 96780 , 'name': 'abhishek'}}\n",
    "\n",
    "emp_data"
   ]
  },
  {
   "cell_type": "code",
   "execution_count": 70,
   "id": "3181e64f",
   "metadata": {},
   "outputs": [
    {
     "data": {
      "text/plain": [
       "{'emp_1': [1, 2, 3],\n",
       " 'emp_2': {'age': 45, 'salary': 96780, 'name': 'ajay'},\n",
       " 'emp_3': (1, 2, 34, 5)}"
      ]
     },
     "execution_count": 70,
     "metadata": {},
     "output_type": "execute_result"
    }
   ],
   "source": [
    "emp_data = {'emp_1': [1,2,3],\n",
    "           'emp_2': {'age': 45 , 'salary': 96780 , 'name': 'ajay'},\n",
    "           'emp_3': (1,2,34,5)}\n",
    "\n",
    "emp_data"
   ]
  },
  {
   "cell_type": "code",
   "execution_count": 73,
   "id": "b134ea8c",
   "metadata": {},
   "outputs": [
    {
     "data": {
      "text/plain": [
       "{(2, 4, 5): [1, 2, 3],\n",
       " 'emp_2': {'age': 45, 'salary': 96780, 'name': 'ajay'},\n",
       " 'emp_3': (1, 2, 34, 5)}"
      ]
     },
     "execution_count": 73,
     "metadata": {},
     "output_type": "execute_result"
    }
   ],
   "source": [
    "emp_data = {(2,4,5): [1,2,3],\n",
    "           'emp_2': {'age': 45 , 'salary': 96780 , 'name': 'ajay'},\n",
    "           'emp_3': (1,2,34,5)}\n",
    "\n",
    "emp_data"
   ]
  },
  {
   "cell_type": "markdown",
   "id": "35b8e345",
   "metadata": {},
   "source": [
    "# Not a seq"
   ]
  },
  {
   "cell_type": "code",
   "execution_count": 77,
   "id": "4ee3d37a",
   "metadata": {},
   "outputs": [
    {
     "data": {
      "text/plain": [
       "'abhishek'"
      ]
     },
     "execution_count": 77,
     "metadata": {},
     "output_type": "execute_result"
    }
   ],
   "source": [
    "emp_data = {'emp_1': {'age': 24 , 'salary': 626223 , 'name': 'salahuddin'},\n",
    "           'emp_2': {'age': 45 , 'salary': 96780 , 'name': 'ajay'},\n",
    "           'emp_3': {'age': 45 , 'salary': 96780 , 'name': 'abhishek'}}\n",
    "\n",
    "emp_data['emp_3']['name']"
   ]
  },
  {
   "cell_type": "code",
   "execution_count": 78,
   "id": "d1dc3644",
   "metadata": {},
   "outputs": [
    {
     "ename": "TypeError",
     "evalue": "unsupported operand type(s) for +: 'dict' and 'dict'",
     "output_type": "error",
     "traceback": [
      "\u001b[1;31m---------------------------------------------------------------------------\u001b[0m",
      "\u001b[1;31mTypeError\u001b[0m                                 Traceback (most recent call last)",
      "Input \u001b[1;32mIn [78]\u001b[0m, in \u001b[0;36m<cell line: 4>\u001b[1;34m()\u001b[0m\n\u001b[0;32m      1\u001b[0m emp_data \u001b[38;5;241m=\u001b[39m {\u001b[38;5;124m'\u001b[39m\u001b[38;5;124memp_1\u001b[39m\u001b[38;5;124m'\u001b[39m: {\u001b[38;5;124m'\u001b[39m\u001b[38;5;124mage\u001b[39m\u001b[38;5;124m'\u001b[39m: \u001b[38;5;241m24\u001b[39m , \u001b[38;5;124m'\u001b[39m\u001b[38;5;124msalary\u001b[39m\u001b[38;5;124m'\u001b[39m: \u001b[38;5;241m626223\u001b[39m , \u001b[38;5;124m'\u001b[39m\u001b[38;5;124mname\u001b[39m\u001b[38;5;124m'\u001b[39m: \u001b[38;5;124m'\u001b[39m\u001b[38;5;124msalahuddin\u001b[39m\u001b[38;5;124m'\u001b[39m},\n\u001b[0;32m      2\u001b[0m            \u001b[38;5;124m'\u001b[39m\u001b[38;5;124memp_2\u001b[39m\u001b[38;5;124m'\u001b[39m: {\u001b[38;5;124m'\u001b[39m\u001b[38;5;124mage\u001b[39m\u001b[38;5;124m'\u001b[39m: \u001b[38;5;241m45\u001b[39m , \u001b[38;5;124m'\u001b[39m\u001b[38;5;124msalary\u001b[39m\u001b[38;5;124m'\u001b[39m: \u001b[38;5;241m96780\u001b[39m , \u001b[38;5;124m'\u001b[39m\u001b[38;5;124mname\u001b[39m\u001b[38;5;124m'\u001b[39m: \u001b[38;5;124m'\u001b[39m\u001b[38;5;124majay\u001b[39m\u001b[38;5;124m'\u001b[39m},\n\u001b[0;32m      3\u001b[0m            \u001b[38;5;124m'\u001b[39m\u001b[38;5;124memp_3\u001b[39m\u001b[38;5;124m'\u001b[39m: {\u001b[38;5;124m'\u001b[39m\u001b[38;5;124mage\u001b[39m\u001b[38;5;124m'\u001b[39m: \u001b[38;5;241m45\u001b[39m , \u001b[38;5;124m'\u001b[39m\u001b[38;5;124msalary\u001b[39m\u001b[38;5;124m'\u001b[39m: \u001b[38;5;241m96780\u001b[39m , \u001b[38;5;124m'\u001b[39m\u001b[38;5;124mname\u001b[39m\u001b[38;5;124m'\u001b[39m: \u001b[38;5;124m'\u001b[39m\u001b[38;5;124mabhishek\u001b[39m\u001b[38;5;124m'\u001b[39m}}\n\u001b[1;32m----> 4\u001b[0m \u001b[43memp_data\u001b[49m\u001b[43m \u001b[49m\u001b[38;5;241;43m+\u001b[39;49m\u001b[43m \u001b[49m\u001b[43memp_data\u001b[49m\n",
      "\u001b[1;31mTypeError\u001b[0m: unsupported operand type(s) for +: 'dict' and 'dict'"
     ]
    }
   ],
   "source": [
    "# Concatination\n",
    "emp_data = {'emp_1': {'age': 24 , 'salary': 626223 , 'name': 'salahuddin'},\n",
    "           'emp_2': {'age': 45 , 'salary': 96780 , 'name': 'ajay'},\n",
    "           'emp_3': {'age': 45 , 'salary': 96780 , 'name': 'abhishek'}}\n",
    "emp_data + emp_data"
   ]
  },
  {
   "cell_type": "code",
   "execution_count": 79,
   "id": "f3fcd471",
   "metadata": {},
   "outputs": [
    {
     "ename": "TypeError",
     "evalue": "unsupported operand type(s) for *: 'dict' and 'int'",
     "output_type": "error",
     "traceback": [
      "\u001b[1;31m---------------------------------------------------------------------------\u001b[0m",
      "\u001b[1;31mTypeError\u001b[0m                                 Traceback (most recent call last)",
      "Input \u001b[1;32mIn [79]\u001b[0m, in \u001b[0;36m<cell line: 5>\u001b[1;34m()\u001b[0m\n\u001b[0;32m      1\u001b[0m \u001b[38;5;66;03m# repetation\u001b[39;00m\n\u001b[0;32m      2\u001b[0m emp_data \u001b[38;5;241m=\u001b[39m {\u001b[38;5;124m'\u001b[39m\u001b[38;5;124memp_1\u001b[39m\u001b[38;5;124m'\u001b[39m: {\u001b[38;5;124m'\u001b[39m\u001b[38;5;124mage\u001b[39m\u001b[38;5;124m'\u001b[39m: \u001b[38;5;241m24\u001b[39m , \u001b[38;5;124m'\u001b[39m\u001b[38;5;124msalary\u001b[39m\u001b[38;5;124m'\u001b[39m: \u001b[38;5;241m626223\u001b[39m , \u001b[38;5;124m'\u001b[39m\u001b[38;5;124mname\u001b[39m\u001b[38;5;124m'\u001b[39m: \u001b[38;5;124m'\u001b[39m\u001b[38;5;124msalahuddin\u001b[39m\u001b[38;5;124m'\u001b[39m},\n\u001b[0;32m      3\u001b[0m            \u001b[38;5;124m'\u001b[39m\u001b[38;5;124memp_2\u001b[39m\u001b[38;5;124m'\u001b[39m: {\u001b[38;5;124m'\u001b[39m\u001b[38;5;124mage\u001b[39m\u001b[38;5;124m'\u001b[39m: \u001b[38;5;241m45\u001b[39m , \u001b[38;5;124m'\u001b[39m\u001b[38;5;124msalary\u001b[39m\u001b[38;5;124m'\u001b[39m: \u001b[38;5;241m96780\u001b[39m , \u001b[38;5;124m'\u001b[39m\u001b[38;5;124mname\u001b[39m\u001b[38;5;124m'\u001b[39m: \u001b[38;5;124m'\u001b[39m\u001b[38;5;124majay\u001b[39m\u001b[38;5;124m'\u001b[39m},\n\u001b[0;32m      4\u001b[0m            \u001b[38;5;124m'\u001b[39m\u001b[38;5;124memp_3\u001b[39m\u001b[38;5;124m'\u001b[39m: {\u001b[38;5;124m'\u001b[39m\u001b[38;5;124mage\u001b[39m\u001b[38;5;124m'\u001b[39m: \u001b[38;5;241m45\u001b[39m , \u001b[38;5;124m'\u001b[39m\u001b[38;5;124msalary\u001b[39m\u001b[38;5;124m'\u001b[39m: \u001b[38;5;241m96780\u001b[39m , \u001b[38;5;124m'\u001b[39m\u001b[38;5;124mname\u001b[39m\u001b[38;5;124m'\u001b[39m: \u001b[38;5;124m'\u001b[39m\u001b[38;5;124mabhishek\u001b[39m\u001b[38;5;124m'\u001b[39m}}\n\u001b[1;32m----> 5\u001b[0m \u001b[43memp_data\u001b[49m\u001b[43m \u001b[49m\u001b[38;5;241;43m*\u001b[39;49m\u001b[38;5;241;43m6\u001b[39;49m\n",
      "\u001b[1;31mTypeError\u001b[0m: unsupported operand type(s) for *: 'dict' and 'int'"
     ]
    }
   ],
   "source": [
    "# repetation\n",
    "emp_data = {'emp_1': {'age': 24 , 'salary': 626223 , 'name': 'salahuddin'},\n",
    "           'emp_2': {'age': 45 , 'salary': 96780 , 'name': 'ajay'},\n",
    "           'emp_3': {'age': 45 , 'salary': 96780 , 'name': 'abhishek'}}\n",
    "emp_data *6"
   ]
  },
  {
   "cell_type": "code",
   "execution_count": 81,
   "id": "ce33663b",
   "metadata": {},
   "outputs": [
    {
     "name": "stdout",
     "output_type": "stream",
     "text": [
      "False\n"
     ]
    }
   ],
   "source": [
    "# Memership\n",
    "a = {'a':2 , 'b':2 , 'c':6}\n",
    "\n",
    "\n",
    "\n",
    "print(2 in a)"
   ]
  },
  {
   "cell_type": "code",
   "execution_count": 87,
   "id": "9be5aa66",
   "metadata": {},
   "outputs": [],
   "source": [
    "emp_data = {'emp_1': {'age': 24 , 'salary': 626223 , 'name': 'salahuddin'},\n",
    "           'emp_2': {'age': 23 , 'salary': 96780 , 'name': 'ajay'},\n",
    "           'emp_3': {'age': 26 , 'salary': 90890 , 'name': 'abhishek'}, \n",
    "           'emp_4': {'age': 32 , 'salary': 65756 , 'name': 'anas'}}"
   ]
  },
  {
   "cell_type": "code",
   "execution_count": 89,
   "id": "095bcbbe",
   "metadata": {},
   "outputs": [
    {
     "name": "stdout",
     "output_type": "stream",
     "text": [
      "salahuddin\n",
      "ajay\n"
     ]
    }
   ],
   "source": [
    "# extract the names of the emp whose age is <= 25\n",
    "\n",
    "for i in emp_data:\n",
    "    if emp_data[i]['age']<= 25:\n",
    "        print(emp_data[i]['name'])"
   ]
  },
  {
   "cell_type": "markdown",
   "id": "6291c57f",
   "metadata": {},
   "source": [
    "# Update the dic"
   ]
  },
  {
   "cell_type": "code",
   "execution_count": 94,
   "id": "6ece4dbe",
   "metadata": {},
   "outputs": [
    {
     "data": {
      "text/plain": [
       "{'emp_1': {'age': 24, 'salary': 626223, 'name': 'salahuddin'},\n",
       " 'emp_2': {'age': 23, 'salary': 96780, 'name': 'ajay'},\n",
       " 'emp_3': {'age': 26, 'salary': 90890, 'name': 'abhishek'},\n",
       " 'emp_4': {'age': 32, 'salary': 65756, 'name': 'toufiq'}}"
      ]
     },
     "execution_count": 94,
     "metadata": {},
     "output_type": "execute_result"
    }
   ],
   "source": [
    "# if the key is present \n",
    "\n",
    "\n",
    "emp_data = {'emp_1': {'age': 24 , 'salary': 626223 , 'name': 'salahuddin'},\n",
    "           'emp_2': {'age': 23 , 'salary': 96780 , 'name': 'ajay'},\n",
    "           'emp_3': {'age': 26 , 'salary': 90890 , 'name': 'abhishek'}, \n",
    "           'emp_4': {'age': 32 , 'salary': 65756 , 'name': 'anas'}}\n",
    "\n",
    "\n",
    "emp_data['emp_4'] =  {'age': 32 , 'salary': 65756 , 'name': 'toufiq'}\n",
    "\n",
    "\n",
    "emp_data"
   ]
  },
  {
   "cell_type": "code",
   "execution_count": 95,
   "id": "15575233",
   "metadata": {},
   "outputs": [
    {
     "data": {
      "text/plain": [
       "{'emp_1': {'age': 24, 'salary': 626223, 'name': 'salahuddin'},\n",
       " 'emp_2': {'age': 23, 'salary': 96780, 'name': 'ajay'},\n",
       " 'emp_3': {'age': 26, 'salary': 90890, 'name': 'abhishek'},\n",
       " 'emp_4': {'age': 32, 'salary': 65756, 'name': 'anas'},\n",
       " 'emp_5': {'age': 32, 'salary': 65756, 'name': 'toufiq'}}"
      ]
     },
     "execution_count": 95,
     "metadata": {},
     "output_type": "execute_result"
    }
   ],
   "source": [
    "# if the key is present \n",
    "\n",
    "\n",
    "emp_data = {'emp_1': {'age': 24 , 'salary': 626223 , 'name': 'salahuddin'},\n",
    "           'emp_2': {'age': 23 , 'salary': 96780 , 'name': 'ajay'},\n",
    "           'emp_3': {'age': 26 , 'salary': 90890 , 'name': 'abhishek'}, \n",
    "           'emp_4': {'age': 32 , 'salary': 65756 , 'name': 'anas'}}\n",
    "\n",
    "\n",
    "emp_data['emp_5'] =  {'age': 32 , 'salary': 65756 , 'name': 'toufiq'}\n",
    "\n",
    "\n",
    "emp_data"
   ]
  },
  {
   "cell_type": "code",
   "execution_count": 96,
   "id": "24f48750",
   "metadata": {},
   "outputs": [
    {
     "name": "stdout",
     "output_type": "stream",
     "text": [
      "['__class__', '__class_getitem__', '__contains__', '__delattr__', '__delitem__', '__dir__', '__doc__', '__eq__', '__format__', '__ge__', '__getattribute__', '__getitem__', '__gt__', '__hash__', '__init__', '__init_subclass__', '__ior__', '__iter__', '__le__', '__len__', '__lt__', '__ne__', '__new__', '__or__', '__reduce__', '__reduce_ex__', '__repr__', '__reversed__', '__ror__', '__setattr__', '__setitem__', '__sizeof__', '__str__', '__subclasshook__', 'clear', 'copy', 'fromkeys', 'get', 'items', 'keys', 'pop', 'popitem', 'setdefault', 'update', 'values']\n"
     ]
    }
   ],
   "source": [
    "# methods of dic\n",
    "\n",
    "print(dir(dict))"
   ]
  },
  {
   "cell_type": "markdown",
   "id": "1fa59096",
   "metadata": {},
   "source": [
    "# Methods to add and access the elements from the dic\n",
    "\n",
    "- get\n",
    "- setdefault\n",
    "- update"
   ]
  },
  {
   "cell_type": "markdown",
   "id": "e40c017c",
   "metadata": {},
   "source": [
    "# 1. get"
   ]
  },
  {
   "cell_type": "code",
   "execution_count": 97,
   "id": "e7fca6b0",
   "metadata": {},
   "outputs": [
    {
     "data": {
      "text/plain": [
       "{'age': 26, 'salary': 90890, 'name': 'abhishek'}"
      ]
     },
     "execution_count": 97,
     "metadata": {},
     "output_type": "execute_result"
    }
   ],
   "source": [
    "# if the key is present\n",
    "\n",
    "emp_data = {'emp_1': {'age': 24 , 'salary': 626223 , 'name': 'salahuddin'},\n",
    "           'emp_2': {'age': 23 , 'salary': 96780 , 'name': 'ajay'},\n",
    "           'emp_3': {'age': 26 , 'salary': 90890 , 'name': 'abhishek'}, \n",
    "           'emp_4': {'age': 32 , 'salary': 65756 , 'name': 'anas'}}\n",
    "\n",
    "emp_data.get('emp_3')"
   ]
  },
  {
   "cell_type": "code",
   "execution_count": 99,
   "id": "c460b921",
   "metadata": {},
   "outputs": [
    {
     "name": "stdout",
     "output_type": "stream",
     "text": [
      "None\n"
     ]
    }
   ],
   "source": [
    "# if the key is not present\n",
    "\n",
    "emp_data = {'emp_1': {'age': 24 , 'salary': 626223 , 'name': 'salahuddin'},\n",
    "           'emp_2': {'age': 23 , 'salary': 96780 , 'name': 'ajay'},\n",
    "           'emp_3': {'age': 26 , 'salary': 90890 , 'name': 'abhishek'}, \n",
    "           'emp_4': {'age': 32 , 'salary': 65756 , 'name': 'anas'}}\n",
    "\n",
    "print(emp_data.get('emp_5'))"
   ]
  },
  {
   "cell_type": "code",
   "execution_count": 100,
   "id": "9abb4f88",
   "metadata": {},
   "outputs": [
    {
     "name": "stdout",
     "output_type": "stream",
     "text": [
      "The emp Id you are looking for is not present\n"
     ]
    }
   ],
   "source": [
    "# if the key is not present\n",
    "\n",
    "emp_data = {'emp_1': {'age': 24 , 'salary': 626223 , 'name': 'salahuddin'},\n",
    "           'emp_2': {'age': 23 , 'salary': 96780 , 'name': 'ajay'},\n",
    "           'emp_3': {'age': 26 , 'salary': 90890 , 'name': 'abhishek'}, \n",
    "           'emp_4': {'age': 32 , 'salary': 65756 , 'name': 'anas'}}\n",
    "\n",
    "print(emp_data.get('emp_5' , 'The emp Id you are looking for is not present'))"
   ]
  },
  {
   "cell_type": "code",
   "execution_count": 101,
   "id": "fd88aa7a",
   "metadata": {},
   "outputs": [
    {
     "data": {
      "text/plain": [
       "{'emp_1': {'age': 24, 'salary': 626223, 'name': 'salahuddin'},\n",
       " 'emp_2': {'age': 23, 'salary': 96780, 'name': 'ajay'},\n",
       " 'emp_3': {'age': 26, 'salary': 90890, 'name': 'abhishek'},\n",
       " 'emp_4': {'age': 32, 'salary': 65756, 'name': 'anas'}}"
      ]
     },
     "execution_count": 101,
     "metadata": {},
     "output_type": "execute_result"
    }
   ],
   "source": [
    "emp_data"
   ]
  },
  {
   "cell_type": "markdown",
   "id": "fd62849a",
   "metadata": {},
   "source": [
    "# Set default"
   ]
  },
  {
   "cell_type": "code",
   "execution_count": 103,
   "id": "63537aea",
   "metadata": {},
   "outputs": [
    {
     "name": "stdout",
     "output_type": "stream",
     "text": [
      "{'age': 26, 'salary': 90890, 'name': 'abhishek'}\n"
     ]
    }
   ],
   "source": [
    "# if the key is present\n",
    "\n",
    "emp_data = {'emp_1': {'age': 24 , 'salary': 626223 , 'name': 'salahuddin'},\n",
    "           'emp_2': {'age': 23 , 'salary': 96780 , 'name': 'ajay'},\n",
    "           'emp_3': {'age': 26 , 'salary': 90890 , 'name': 'abhishek'}, \n",
    "           'emp_4': {'age': 32 , 'salary': 65756 , 'name': 'anas'}}\n",
    "\n",
    "print(emp_data.setdefault('emp_3'))"
   ]
  },
  {
   "cell_type": "code",
   "execution_count": 104,
   "id": "4dd42587",
   "metadata": {},
   "outputs": [
    {
     "name": "stdout",
     "output_type": "stream",
     "text": [
      "None\n"
     ]
    }
   ],
   "source": [
    "# if the key is not present\n",
    "\n",
    "emp_data = {'emp_1': {'age': 24 , 'salary': 626223 , 'name': 'salahuddin'},\n",
    "           'emp_2': {'age': 23 , 'salary': 96780 , 'name': 'ajay'},\n",
    "           'emp_3': {'age': 26 , 'salary': 90890 , 'name': 'abhishek'}, \n",
    "           'emp_4': {'age': 32 , 'salary': 65756 , 'name': 'anas'}}\n",
    "\n",
    "print(emp_data.setdefault('emp_5'))"
   ]
  },
  {
   "cell_type": "code",
   "execution_count": 105,
   "id": "fbe82f25",
   "metadata": {},
   "outputs": [
    {
     "data": {
      "text/plain": [
       "{'emp_1': {'age': 24, 'salary': 626223, 'name': 'salahuddin'},\n",
       " 'emp_2': {'age': 23, 'salary': 96780, 'name': 'ajay'},\n",
       " 'emp_3': {'age': 26, 'salary': 90890, 'name': 'abhishek'},\n",
       " 'emp_4': {'age': 32, 'salary': 65756, 'name': 'anas'},\n",
       " 'emp_5': None}"
      ]
     },
     "execution_count": 105,
     "metadata": {},
     "output_type": "execute_result"
    }
   ],
   "source": [
    "emp_data"
   ]
  },
  {
   "cell_type": "code",
   "execution_count": 106,
   "id": "749b7f4a",
   "metadata": {},
   "outputs": [
    {
     "name": "stdout",
     "output_type": "stream",
     "text": [
      "{'age': 32, 'salary': 65756, 'name': 'lavanya'}\n"
     ]
    }
   ],
   "source": [
    "# if the key is not present\n",
    "\n",
    "emp_data = {'emp_1': {'age': 24 , 'salary': 626223 , 'name': 'salahuddin'},\n",
    "           'emp_2': {'age': 23 , 'salary': 96780 , 'name': 'ajay'},\n",
    "           'emp_3': {'age': 26 , 'salary': 90890 , 'name': 'abhishek'}, \n",
    "           'emp_4': {'age': 32 , 'salary': 65756 , 'name': 'anas'}}\n",
    "\n",
    "print(emp_data.setdefault('emp_5' , {'age': 32 , 'salary': 65756 , 'name': 'lavanya'}))"
   ]
  },
  {
   "cell_type": "code",
   "execution_count": 107,
   "id": "4b8cef24",
   "metadata": {},
   "outputs": [
    {
     "data": {
      "text/plain": [
       "{'emp_1': {'age': 24, 'salary': 626223, 'name': 'salahuddin'},\n",
       " 'emp_2': {'age': 23, 'salary': 96780, 'name': 'ajay'},\n",
       " 'emp_3': {'age': 26, 'salary': 90890, 'name': 'abhishek'},\n",
       " 'emp_4': {'age': 32, 'salary': 65756, 'name': 'anas'},\n",
       " 'emp_5': {'age': 32, 'salary': 65756, 'name': 'lavanya'}}"
      ]
     },
     "execution_count": 107,
     "metadata": {},
     "output_type": "execute_result"
    }
   ],
   "source": [
    "emp_data"
   ]
  },
  {
   "cell_type": "markdown",
   "id": "1b4d0654",
   "metadata": {},
   "source": [
    "# update"
   ]
  },
  {
   "cell_type": "code",
   "execution_count": 111,
   "id": "659599e5",
   "metadata": {},
   "outputs": [
    {
     "name": "stdout",
     "output_type": "stream",
     "text": [
      "None\n"
     ]
    }
   ],
   "source": [
    "# if the key is present\n",
    "\n",
    "emp_data = {'emp_1': {'age': 24 , 'salary': 626223 , 'name': 'salahuddin'},\n",
    "           'emp_2': {'age': 23 , 'salary': 96780 , 'name': 'ajay'},\n",
    "           'emp_3': {'age': 26 , 'salary': 90890 , 'name': 'abhishek'}, \n",
    "           'emp_4': {'age': 32 , 'salary': 65756 , 'name': 'anas'}}\n",
    "\n",
    "print(emp_data.update({'emp_3' : 34}))"
   ]
  },
  {
   "cell_type": "code",
   "execution_count": 112,
   "id": "c97c53f8",
   "metadata": {},
   "outputs": [
    {
     "data": {
      "text/plain": [
       "{'emp_1': {'age': 24, 'salary': 626223, 'name': 'salahuddin'},\n",
       " 'emp_2': {'age': 23, 'salary': 96780, 'name': 'ajay'},\n",
       " 'emp_3': 34,\n",
       " 'emp_4': {'age': 32, 'salary': 65756, 'name': 'anas'}}"
      ]
     },
     "execution_count": 112,
     "metadata": {},
     "output_type": "execute_result"
    }
   ],
   "source": [
    "emp_data"
   ]
  },
  {
   "cell_type": "code",
   "execution_count": 113,
   "id": "7180628a",
   "metadata": {},
   "outputs": [
    {
     "data": {
      "text/plain": [
       "{'emp_1': {'age': 24, 'salary': 626223, 'name': 'salahuddin'},\n",
       " 'emp_2': {'age': 23, 'salary': 96780, 'name': 'ajay'},\n",
       " 'emp_3': {'age': 26, 'salary': 90890, 'name': 'abhishek'},\n",
       " 'emp_4': {'age': 32, 'salary': 65756, 'name': 'anas'},\n",
       " 'emp_5': {'age': 24, 'salary': 626223, 'name': 'salahuddin'},\n",
       " 'emp_6': {'age': 23, 'salary': 96780, 'name': 'ajay'}}"
      ]
     },
     "execution_count": 113,
     "metadata": {},
     "output_type": "execute_result"
    }
   ],
   "source": [
    "# if the key is present\n",
    "\n",
    "emp_data = {'emp_1': {'age': 24 , 'salary': 626223 , 'name': 'salahuddin'},\n",
    "           'emp_2': {'age': 23 , 'salary': 96780 , 'name': 'ajay'},\n",
    "           'emp_3': {'age': 26 , 'salary': 90890 , 'name': 'abhishek'}, \n",
    "           'emp_4': {'age': 32 , 'salary': 65756 , 'name': 'anas'}}\n",
    "\n",
    "new_emp = {'emp_5': {'age': 24 , 'salary': 626223 , 'name': 'salahuddin'},\n",
    "           'emp_6': {'age': 23 , 'salary': 96780 , 'name': 'ajay'}}\n",
    "\n",
    "\n",
    "emp_data.update(new_emp)\n",
    "\n",
    "emp_data"
   ]
  },
  {
   "cell_type": "code",
   "execution_count": 117,
   "id": "fe2cd272",
   "metadata": {},
   "outputs": [],
   "source": [
    "# \n",
    "\n",
    "emp_data = {'emp_1': {'age': 24 , 'salary': 626223 , 'name': 'salahuddin'},\n",
    "           'emp_2': {'age': 23 , 'salary': 96780 , 'name': 'ajay'},\n",
    "           'emp_3': {'age': 26 , 'salary': 90890 , 'name': 'abhishek'}, \n",
    "           'emp_4': {'age': 32 , 'salary': 65756 , 'name': 'anas'}}"
   ]
  },
  {
   "cell_type": "code",
   "execution_count": 128,
   "id": "e8cfd71b",
   "metadata": {},
   "outputs": [
    {
     "name": "stdout",
     "output_type": "stream",
     "text": [
      "Please enter the age of the employee : 674\n",
      "Please enter the salary of the employee : 454\n",
      "Enter the name of the employee : klfdghj;sdkjg\n"
     ]
    },
    {
     "data": {
      "text/plain": [
       "{'age': 674, 'salary': 454, 'name': 'klfdghj;sdkjg'}"
      ]
     },
     "execution_count": 128,
     "metadata": {},
     "output_type": "execute_result"
    }
   ],
   "source": [
    "# 1\n",
    "\n",
    "age = eval(input('Please enter the age of the employee : '))\n",
    "salary = eval(input('Please enter the salary of the employee : '))\n",
    "name = input('Enter the name of the employee : ')\n",
    "\n",
    "key = f'emp_{len(emp_data)+1}'\n",
    "\n",
    "emp_data.setdefault(key , {'age':age , 'salary': salary , 'name': name})"
   ]
  },
  {
   "cell_type": "code",
   "execution_count": 129,
   "id": "3a876b06",
   "metadata": {},
   "outputs": [
    {
     "data": {
      "text/plain": [
       "{'emp_1': {'age': 24, 'salary': 626223, 'name': 'salahuddin'},\n",
       " 'emp_2': {'age': 23, 'salary': 96780, 'name': 'ajay'},\n",
       " 'emp_3': {'age': 26, 'salary': 90890, 'name': 'abhishek'},\n",
       " 'emp_4': {'age': 32, 'salary': 65756, 'name': 'anas'},\n",
       " 'emp_5': {'age': 23, 'salary': 454466, 'name': 'hjagsdhja'},\n",
       " 'emp_6': {'age': 64, 'salary': 78465874, 'name': 'jkfsdhk'},\n",
       " 'emp_7': {'age': 674, 'salary': 454, 'name': 'klfdghj;sdkjg'}}"
      ]
     },
     "execution_count": 129,
     "metadata": {},
     "output_type": "execute_result"
    }
   ],
   "source": [
    "emp_data"
   ]
  },
  {
   "cell_type": "code",
   "execution_count": 130,
   "id": "07f16ef5",
   "metadata": {},
   "outputs": [
    {
     "name": "stdout",
     "output_type": "stream",
     "text": [
      "Please enter the age of the employee : 74\n",
      "Please enter the salary of the employee : 89345\n",
      "Enter the name of the employee : fdjkhgfd\n"
     ]
    }
   ],
   "source": [
    "# 1\n",
    "\n",
    "age = eval(input('Please enter the age of the employee : '))\n",
    "salary = eval(input('Please enter the salary of the employee : '))\n",
    "name = input('Enter the name of the employee : ')\n",
    "\n",
    "key = f'emp_{len(emp_data)+1}'\n",
    "new_details = {key : {'age':age , 'salary': salary , 'name': name}}\n",
    "\n",
    "emp_data.update(new_details)"
   ]
  },
  {
   "cell_type": "code",
   "execution_count": 131,
   "id": "97e65ca5",
   "metadata": {},
   "outputs": [
    {
     "data": {
      "text/plain": [
       "{'emp_1': {'age': 24, 'salary': 626223, 'name': 'salahuddin'},\n",
       " 'emp_2': {'age': 23, 'salary': 96780, 'name': 'ajay'},\n",
       " 'emp_3': {'age': 26, 'salary': 90890, 'name': 'abhishek'},\n",
       " 'emp_4': {'age': 32, 'salary': 65756, 'name': 'anas'},\n",
       " 'emp_5': {'age': 23, 'salary': 454466, 'name': 'hjagsdhja'},\n",
       " 'emp_6': {'age': 64, 'salary': 78465874, 'name': 'jkfsdhk'},\n",
       " 'emp_7': {'age': 674, 'salary': 454, 'name': 'klfdghj;sdkjg'},\n",
       " 'emp_8': {'age': 74, 'salary': 89345, 'name': 'fdjkhgfd'}}"
      ]
     },
     "execution_count": 131,
     "metadata": {},
     "output_type": "execute_result"
    }
   ],
   "source": [
    "emp_data"
   ]
  },
  {
   "cell_type": "code",
   "execution_count": null,
   "id": "08bee145",
   "metadata": {},
   "outputs": [],
   "source": [
    "# Mehods to remove the elements from the dic\n",
    "\n",
    "- pop\n",
    "- popitem"
   ]
  },
  {
   "cell_type": "code",
   "execution_count": 132,
   "id": "dbe53f73",
   "metadata": {},
   "outputs": [
    {
     "name": "stdout",
     "output_type": "stream",
     "text": [
      "['__class__', '__class_getitem__', '__contains__', '__delattr__', '__delitem__', '__dir__', '__doc__', '__eq__', '__format__', '__ge__', '__getattribute__', '__getitem__', '__gt__', '__hash__', '__init__', '__init_subclass__', '__ior__', '__iter__', '__le__', '__len__', '__lt__', '__ne__', '__new__', '__or__', '__reduce__', '__reduce_ex__', '__repr__', '__reversed__', '__ror__', '__setattr__', '__setitem__', '__sizeof__', '__str__', '__subclasshook__', 'clear', 'copy', 'fromkeys', 'get', 'items', 'keys', 'pop', 'popitem', 'setdefault', 'update', 'values']\n"
     ]
    }
   ],
   "source": [
    "print(dir(dict))"
   ]
  },
  {
   "cell_type": "code",
   "execution_count": 134,
   "id": "d5a0cab7",
   "metadata": {},
   "outputs": [
    {
     "data": {
      "text/plain": [
       "{'age': 74, 'salary': 89345, 'name': 'fdjkhgfd'}"
      ]
     },
     "execution_count": 134,
     "metadata": {},
     "output_type": "execute_result"
    }
   ],
   "source": [
    "# If the key is present\n",
    "\n",
    "emp_data = {'emp_1': {'age': 24, 'salary': 626223, 'name': 'salahuddin'},\n",
    " 'emp_2': {'age': 23, 'salary': 96780, 'name': 'ajay'},\n",
    " 'emp_3': {'age': 26, 'salary': 90890, 'name': 'abhishek'},\n",
    " 'emp_4': {'age': 32, 'salary': 65756, 'name': 'anas'},\n",
    " 'emp_5': {'age': 23, 'salary': 454466, 'name': 'hjagsdhja'},\n",
    " 'emp_6': {'age': 64, 'salary': 78465874, 'name': 'jkfsdhk'},\n",
    " 'emp_7': {'age': 674, 'salary': 454, 'name': 'klfdghj;sdkjg'},\n",
    " 'emp_8': {'age': 74, 'salary': 89345, 'name': 'fdjkhgfd'}}\n",
    "\n",
    "\n",
    "emp_data.pop('emp_8')"
   ]
  },
  {
   "cell_type": "code",
   "execution_count": 135,
   "id": "85de5284",
   "metadata": {},
   "outputs": [
    {
     "data": {
      "text/plain": [
       "{'emp_1': {'age': 24, 'salary': 626223, 'name': 'salahuddin'},\n",
       " 'emp_2': {'age': 23, 'salary': 96780, 'name': 'ajay'},\n",
       " 'emp_3': {'age': 26, 'salary': 90890, 'name': 'abhishek'},\n",
       " 'emp_4': {'age': 32, 'salary': 65756, 'name': 'anas'},\n",
       " 'emp_5': {'age': 23, 'salary': 454466, 'name': 'hjagsdhja'},\n",
       " 'emp_6': {'age': 64, 'salary': 78465874, 'name': 'jkfsdhk'},\n",
       " 'emp_7': {'age': 674, 'salary': 454, 'name': 'klfdghj;sdkjg'}}"
      ]
     },
     "execution_count": 135,
     "metadata": {},
     "output_type": "execute_result"
    }
   ],
   "source": [
    "emp_data"
   ]
  },
  {
   "cell_type": "code",
   "execution_count": 136,
   "id": "3d5989b0",
   "metadata": {},
   "outputs": [
    {
     "ename": "KeyError",
     "evalue": "'emp_9'",
     "output_type": "error",
     "traceback": [
      "\u001b[1;31m---------------------------------------------------------------------------\u001b[0m",
      "\u001b[1;31mKeyError\u001b[0m                                  Traceback (most recent call last)",
      "Input \u001b[1;32mIn [136]\u001b[0m, in \u001b[0;36m<cell line: 13>\u001b[1;34m()\u001b[0m\n\u001b[0;32m      1\u001b[0m \u001b[38;5;66;03m# If the key is not present\u001b[39;00m\n\u001b[0;32m      3\u001b[0m emp_data \u001b[38;5;241m=\u001b[39m {\u001b[38;5;124m'\u001b[39m\u001b[38;5;124memp_1\u001b[39m\u001b[38;5;124m'\u001b[39m: {\u001b[38;5;124m'\u001b[39m\u001b[38;5;124mage\u001b[39m\u001b[38;5;124m'\u001b[39m: \u001b[38;5;241m24\u001b[39m, \u001b[38;5;124m'\u001b[39m\u001b[38;5;124msalary\u001b[39m\u001b[38;5;124m'\u001b[39m: \u001b[38;5;241m626223\u001b[39m, \u001b[38;5;124m'\u001b[39m\u001b[38;5;124mname\u001b[39m\u001b[38;5;124m'\u001b[39m: \u001b[38;5;124m'\u001b[39m\u001b[38;5;124msalahuddin\u001b[39m\u001b[38;5;124m'\u001b[39m},\n\u001b[0;32m      4\u001b[0m  \u001b[38;5;124m'\u001b[39m\u001b[38;5;124memp_2\u001b[39m\u001b[38;5;124m'\u001b[39m: {\u001b[38;5;124m'\u001b[39m\u001b[38;5;124mage\u001b[39m\u001b[38;5;124m'\u001b[39m: \u001b[38;5;241m23\u001b[39m, \u001b[38;5;124m'\u001b[39m\u001b[38;5;124msalary\u001b[39m\u001b[38;5;124m'\u001b[39m: \u001b[38;5;241m96780\u001b[39m, \u001b[38;5;124m'\u001b[39m\u001b[38;5;124mname\u001b[39m\u001b[38;5;124m'\u001b[39m: \u001b[38;5;124m'\u001b[39m\u001b[38;5;124majay\u001b[39m\u001b[38;5;124m'\u001b[39m},\n\u001b[0;32m      5\u001b[0m  \u001b[38;5;124m'\u001b[39m\u001b[38;5;124memp_3\u001b[39m\u001b[38;5;124m'\u001b[39m: {\u001b[38;5;124m'\u001b[39m\u001b[38;5;124mage\u001b[39m\u001b[38;5;124m'\u001b[39m: \u001b[38;5;241m26\u001b[39m, \u001b[38;5;124m'\u001b[39m\u001b[38;5;124msalary\u001b[39m\u001b[38;5;124m'\u001b[39m: \u001b[38;5;241m90890\u001b[39m, \u001b[38;5;124m'\u001b[39m\u001b[38;5;124mname\u001b[39m\u001b[38;5;124m'\u001b[39m: \u001b[38;5;124m'\u001b[39m\u001b[38;5;124mabhishek\u001b[39m\u001b[38;5;124m'\u001b[39m},\n\u001b[1;32m   (...)\u001b[0m\n\u001b[0;32m      9\u001b[0m  \u001b[38;5;124m'\u001b[39m\u001b[38;5;124memp_7\u001b[39m\u001b[38;5;124m'\u001b[39m: {\u001b[38;5;124m'\u001b[39m\u001b[38;5;124mage\u001b[39m\u001b[38;5;124m'\u001b[39m: \u001b[38;5;241m674\u001b[39m, \u001b[38;5;124m'\u001b[39m\u001b[38;5;124msalary\u001b[39m\u001b[38;5;124m'\u001b[39m: \u001b[38;5;241m454\u001b[39m, \u001b[38;5;124m'\u001b[39m\u001b[38;5;124mname\u001b[39m\u001b[38;5;124m'\u001b[39m: \u001b[38;5;124m'\u001b[39m\u001b[38;5;124mklfdghj;sdkjg\u001b[39m\u001b[38;5;124m'\u001b[39m},\n\u001b[0;32m     10\u001b[0m  \u001b[38;5;124m'\u001b[39m\u001b[38;5;124memp_8\u001b[39m\u001b[38;5;124m'\u001b[39m: {\u001b[38;5;124m'\u001b[39m\u001b[38;5;124mage\u001b[39m\u001b[38;5;124m'\u001b[39m: \u001b[38;5;241m74\u001b[39m, \u001b[38;5;124m'\u001b[39m\u001b[38;5;124msalary\u001b[39m\u001b[38;5;124m'\u001b[39m: \u001b[38;5;241m89345\u001b[39m, \u001b[38;5;124m'\u001b[39m\u001b[38;5;124mname\u001b[39m\u001b[38;5;124m'\u001b[39m: \u001b[38;5;124m'\u001b[39m\u001b[38;5;124mfdjkhgfd\u001b[39m\u001b[38;5;124m'\u001b[39m}}\n\u001b[1;32m---> 13\u001b[0m \u001b[43memp_data\u001b[49m\u001b[38;5;241;43m.\u001b[39;49m\u001b[43mpop\u001b[49m\u001b[43m(\u001b[49m\u001b[38;5;124;43m'\u001b[39;49m\u001b[38;5;124;43memp_9\u001b[39;49m\u001b[38;5;124;43m'\u001b[39;49m\u001b[43m)\u001b[49m\n",
      "\u001b[1;31mKeyError\u001b[0m: 'emp_9'"
     ]
    }
   ],
   "source": [
    "# If the key is not present\n",
    "\n",
    "emp_data = {'emp_1': {'age': 24, 'salary': 626223, 'name': 'salahuddin'},\n",
    " 'emp_2': {'age': 23, 'salary': 96780, 'name': 'ajay'},\n",
    " 'emp_3': {'age': 26, 'salary': 90890, 'name': 'abhishek'},\n",
    " 'emp_4': {'age': 32, 'salary': 65756, 'name': 'anas'},\n",
    " 'emp_5': {'age': 23, 'salary': 454466, 'name': 'hjagsdhja'},\n",
    " 'emp_6': {'age': 64, 'salary': 78465874, 'name': 'jkfsdhk'},\n",
    " 'emp_7': {'age': 674, 'salary': 454, 'name': 'klfdghj;sdkjg'},\n",
    " 'emp_8': {'age': 74, 'salary': 89345, 'name': 'fdjkhgfd'}}\n",
    "\n",
    "\n",
    "emp_data.pop('emp_9')"
   ]
  },
  {
   "cell_type": "code",
   "execution_count": 138,
   "id": "471dd836",
   "metadata": {},
   "outputs": [
    {
     "data": {
      "text/plain": [
       "('emp_8', {'age': 74, 'salary': 89345, 'name': 'fdjkhgfd'})"
      ]
     },
     "execution_count": 138,
     "metadata": {},
     "output_type": "execute_result"
    }
   ],
   "source": [
    "# If the key is present\n",
    "\n",
    "emp_data = {'emp_1': {'age': 24, 'salary': 626223, 'name': 'salahuddin'},\n",
    " 'emp_2': {'age': 23, 'salary': 96780, 'name': 'ajay'},\n",
    " 'emp_3': {'age': 26, 'salary': 90890, 'name': 'abhishek'},\n",
    " 'emp_4': {'age': 32, 'salary': 65756, 'name': 'anas'},\n",
    " 'emp_5': {'age': 23, 'salary': 454466, 'name': 'hjagsdhja'},\n",
    " 'emp_6': {'age': 64, 'salary': 78465874, 'name': 'jkfsdhk'},\n",
    " 'emp_7': {'age': 674, 'salary': 454, 'name': 'klfdghj;sdkjg'},\n",
    " 'emp_8': {'age': 74, 'salary': 89345, 'name': 'fdjkhgfd'}}\n",
    "\n",
    "\n",
    "emp_data.popitem()"
   ]
  },
  {
   "cell_type": "code",
   "execution_count": 139,
   "id": "9a4ba474",
   "metadata": {},
   "outputs": [
    {
     "data": {
      "text/plain": [
       "{'emp_1': {'age': 24, 'salary': 626223, 'name': 'salahuddin'},\n",
       " 'emp_2': {'age': 23, 'salary': 96780, 'name': 'ajay'},\n",
       " 'emp_3': {'age': 26, 'salary': 90890, 'name': 'abhishek'},\n",
       " 'emp_4': {'age': 32, 'salary': 65756, 'name': 'anas'},\n",
       " 'emp_5': {'age': 23, 'salary': 454466, 'name': 'hjagsdhja'},\n",
       " 'emp_6': {'age': 64, 'salary': 78465874, 'name': 'jkfsdhk'},\n",
       " 'emp_7': {'age': 674, 'salary': 454, 'name': 'klfdghj;sdkjg'}}"
      ]
     },
     "execution_count": 139,
     "metadata": {},
     "output_type": "execute_result"
    }
   ],
   "source": [
    "emp_data"
   ]
  },
  {
   "cell_type": "markdown",
   "id": "3217c6cb",
   "metadata": {},
   "source": [
    "# Task"
   ]
  },
  {
   "cell_type": "code",
   "execution_count": 140,
   "id": "a7bfe7ee",
   "metadata": {},
   "outputs": [],
   "source": [
    "emp_data_existing = {'emp_1': {'age': 24, 'salary': 626223, 'name': 'salahuddin'},\n",
    " 'emp_2': {'age': 23, 'salary': 96780, 'name': 'ajay'},\n",
    " 'emp_3': {'age': 26, 'salary': 90890, 'name': 'abhishek'},\n",
    " 'emp_4': {'age': 32, 'salary': 65756, 'name': 'anas'},\n",
    " 'emp_5': {'age': 23, 'salary': 454466, 'name': 'hjagsdhja'},\n",
    " 'emp_6': {'age': 64, 'salary': 78465874, 'name': 'jkfsdhk'},\n",
    " 'emp_7': {'age': 674, 'salary': 454, 'name': 'klfdghj;sdkjg'},\n",
    " 'emp_8': {'age': 74, 'salary': 89345, 'name': 'fdjkhgfd'}}"
   ]
  },
  {
   "cell_type": "code",
   "execution_count": null,
   "id": "26fd8b0d",
   "metadata": {},
   "outputs": [],
   "source": [
    "ex_emp = {'emp_6' : {'age': 64, 'salary': 78465874, 'name': 'jkfsdhk' ,\n",
    "                    fsodkl}"
   ]
  },
  {
   "cell_type": "code",
   "execution_count": null,
   "id": "278cf495",
   "metadata": {},
   "outputs": [],
   "source": [
    "trigger\n",
    "\n",
    "- which employe is leaving the company \n",
    "emp_5\n",
    "\n"
   ]
  },
  {
   "cell_type": "code",
   "execution_count": 145,
   "id": "e31ec45b",
   "metadata": {},
   "outputs": [],
   "source": [
    "#Concatenate two lists in the following order\n",
    "list1 = [\"Hello \", \"take \"]\n",
    "list2 = [\"Dear\", \"Sir\"]\n",
    "elist = []\n",
    "\n",
    "for i in list1:\n",
    "    for j in range(len(list2)):\n",
    "        elist.append( i + str(list2[j]))\n"
   ]
  },
  {
   "cell_type": "code",
   "execution_count": 146,
   "id": "4abb297b",
   "metadata": {},
   "outputs": [
    {
     "data": {
      "text/plain": [
       "['Hello Dear', 'Hello Sir', 'take Dear', 'take Sir']"
      ]
     },
     "execution_count": 146,
     "metadata": {},
     "output_type": "execute_result"
    }
   ],
   "source": [
    "elist"
   ]
  },
  {
   "cell_type": "code",
   "execution_count": 149,
   "id": "2ce4ff1d",
   "metadata": {},
   "outputs": [],
   "source": [
    "list1 = [\"Hello \", \"take \"]\n",
    "list2 = [\"Dear\", \"Sir\"]\n",
    "elist = [i + str(list2[j]) for i in list1 for j in range(len(list2)) ]"
   ]
  },
  {
   "cell_type": "code",
   "execution_count": 150,
   "id": "40ed5537",
   "metadata": {},
   "outputs": [
    {
     "data": {
      "text/plain": [
       "['Hello Dear', 'Hello Sir', 'take Dear', 'take Sir']"
      ]
     },
     "execution_count": 150,
     "metadata": {},
     "output_type": "execute_result"
    }
   ],
   "source": [
    "elist"
   ]
  },
  {
   "cell_type": "code",
   "execution_count": null,
   "id": "ec5790d5",
   "metadata": {},
   "outputs": [],
   "source": []
  }
 ],
 "metadata": {
  "kernelspec": {
   "display_name": "Python 3 (ipykernel)",
   "language": "python",
   "name": "python3"
  },
  "language_info": {
   "codemirror_mode": {
    "name": "ipython",
    "version": 3
   },
   "file_extension": ".py",
   "mimetype": "text/x-python",
   "name": "python",
   "nbconvert_exporter": "python",
   "pygments_lexer": "ipython3",
   "version": "3.9.12"
  }
 },
 "nbformat": 4,
 "nbformat_minor": 5
}
