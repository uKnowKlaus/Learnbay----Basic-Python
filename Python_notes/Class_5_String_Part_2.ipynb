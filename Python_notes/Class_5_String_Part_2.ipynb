{
 "cells": [
  {
   "cell_type": "markdown",
   "id": "6ca153a3",
   "metadata": {},
   "source": [
    "### Slicing (STEP)\n",
    "\n",
    "\n",
    "- step \n",
    "- +n  ---> every nth char from left to right\n",
    "- -n -----> every nth char from right to left"
   ]
  },
  {
   "cell_type": "code",
   "execution_count": 20,
   "id": "816711ae",
   "metadata": {},
   "outputs": [
    {
     "name": "stdout",
     "output_type": "stream",
     "text": [
      "31\n",
      "07\n",
      "2015\n"
     ]
    }
   ],
   "source": [
    "# +ve index\n",
    "\n",
    "\n",
    "date = '2015-07-31'\n",
    "\n",
    "\n",
    "day = date[8:10]\n",
    "month = date[5:7]\n",
    "year = date[:4]\n",
    "\n",
    "print(day)\n",
    "print(month)\n",
    "print(year)"
   ]
  },
  {
   "cell_type": "code",
   "execution_count": null,
   "id": "5586979c",
   "metadata": {},
   "outputs": [],
   "source": []
  },
  {
   "cell_type": "code",
   "execution_count": 23,
   "id": "f67f458c",
   "metadata": {},
   "outputs": [
    {
     "name": "stdout",
     "output_type": "stream",
     "text": [
      "31\n",
      "07\n",
      "2015\n"
     ]
    }
   ],
   "source": [
    "# +ve index\n",
    "\n",
    "\n",
    "date = '2015-07-31'\n",
    "\n",
    "\n",
    "day = date[-2:]\n",
    "month = date[-5:-3]\n",
    "year = date[-10:-6]\n",
    "\n",
    "print(day)\n",
    "print(month)\n",
    "print(year)"
   ]
  },
  {
   "cell_type": "code",
   "execution_count": null,
   "id": "bcf681bc",
   "metadata": {},
   "outputs": [],
   "source": [
    "1 ---> L-R\n",
    "-1 ----> R - L"
   ]
  },
  {
   "cell_type": "code",
   "execution_count": 26,
   "id": "52a0084a",
   "metadata": {},
   "outputs": [
    {
     "data": {
      "text/plain": [
       "'13579'"
      ]
     },
     "execution_count": 26,
     "metadata": {},
     "output_type": "execute_result"
    }
   ],
   "source": [
    "a = '123456789'\n",
    "# 13579\n",
    "\n",
    "a[::2]"
   ]
  },
  {
   "cell_type": "code",
   "execution_count": 28,
   "id": "1900b2c5",
   "metadata": {},
   "outputs": [
    {
     "data": {
      "text/plain": [
       "'97531'"
      ]
     },
     "execution_count": 28,
     "metadata": {},
     "output_type": "execute_result"
    }
   ],
   "source": [
    "a = '123456789'\n",
    "# 13579\n",
    "\n",
    "a[::-2]"
   ]
  },
  {
   "cell_type": "markdown",
   "id": "92779dce",
   "metadata": {},
   "source": [
    "# Properties of strings\n",
    "\n",
    "\n",
    "- String is seq data type- It allows you +ve and -ve indexing\n",
    "- Indexing (Accessing one char)\n",
    "- slicing (Multiple char)\n",
    "- concatination\n",
    "- repetitation\n",
    "- Identity\n",
    "- Membership"
   ]
  },
  {
   "cell_type": "code",
   "execution_count": 32,
   "id": "78b02ed6",
   "metadata": {},
   "outputs": [
    {
     "name": "stdout",
     "output_type": "stream",
     "text": [
      "abcxyz\n"
     ]
    }
   ],
   "source": [
    "# Concatination \n",
    "# op ---> +\n",
    "# operands ---> Both should be string\n",
    "\n",
    "\n",
    "a = 'abc'\n",
    "b = 'xyz'\n",
    "\n",
    "\n",
    "print(a+b)"
   ]
  },
  {
   "cell_type": "code",
   "execution_count": 33,
   "id": "d114b2f0",
   "metadata": {},
   "outputs": [
    {
     "ename": "TypeError",
     "evalue": "can only concatenate str (not \"int\") to str",
     "output_type": "error",
     "traceback": [
      "\u001b[1;31m---------------------------------------------------------------------------\u001b[0m",
      "\u001b[1;31mTypeError\u001b[0m                                 Traceback (most recent call last)",
      "Input \u001b[1;32mIn [33]\u001b[0m, in \u001b[0;36m<cell line: 5>\u001b[1;34m()\u001b[0m\n\u001b[0;32m      1\u001b[0m a \u001b[38;5;241m=\u001b[39m \u001b[38;5;124m'\u001b[39m\u001b[38;5;124mabc\u001b[39m\u001b[38;5;124m'\u001b[39m\n\u001b[0;32m      2\u001b[0m b \u001b[38;5;241m=\u001b[39m \u001b[38;5;241m123\u001b[39m\n\u001b[1;32m----> 5\u001b[0m \u001b[38;5;28mprint\u001b[39m(\u001b[43ma\u001b[49m\u001b[38;5;241;43m+\u001b[39;49m\u001b[43mb\u001b[49m)\n",
      "\u001b[1;31mTypeError\u001b[0m: can only concatenate str (not \"int\") to str"
     ]
    }
   ],
   "source": [
    "\n",
    "a = 'abc'\n",
    "b = 123\n",
    "\n",
    "\n",
    "print(a+b)"
   ]
  },
  {
   "cell_type": "code",
   "execution_count": 36,
   "id": "84b2baa8",
   "metadata": {},
   "outputs": [
    {
     "name": "stdout",
     "output_type": "stream",
     "text": [
      "abcabcabcabc\n"
     ]
    }
   ],
   "source": [
    "# repetation \n",
    "# op ---> *\n",
    "# operands ---> One should be a str and the should be an int\n",
    "\n",
    "\n",
    "a = 'abc'\n",
    "b = 4\n",
    "\n",
    "print(a * b)"
   ]
  },
  {
   "cell_type": "code",
   "execution_count": 37,
   "id": "e11487d7",
   "metadata": {},
   "outputs": [
    {
     "name": "stdout",
     "output_type": "stream",
     "text": [
      "2553885160240\n",
      "2553885160240\n"
     ]
    }
   ],
   "source": [
    "# Identity \n",
    "# op ---> is and is not\n",
    "\n",
    "a = 'abc'\n",
    "b = 'abc'\n",
    "\n",
    "print(id(a))\n",
    "print(id(b))"
   ]
  },
  {
   "cell_type": "code",
   "execution_count": null,
   "id": "0750df18",
   "metadata": {},
   "outputs": [],
   "source": [
    "# Object resuability\n",
    "\n",
    "- A-Z, a-z , 0-9 , _"
   ]
  },
  {
   "cell_type": "code",
   "execution_count": 38,
   "id": "13eedb63",
   "metadata": {},
   "outputs": [
    {
     "name": "stdout",
     "output_type": "stream",
     "text": [
      "2553994473776\n",
      "2553965880176\n"
     ]
    }
   ],
   "source": [
    "# Identity \n",
    "# op ---> is and is not\n",
    "\n",
    "a = 'abc xyz'\n",
    "b = 'abc xyz'\n",
    "\n",
    "print(id(a))\n",
    "print(id(b))"
   ]
  },
  {
   "cell_type": "code",
   "execution_count": 41,
   "id": "e8c83d1e",
   "metadata": {},
   "outputs": [
    {
     "name": "stdout",
     "output_type": "stream",
     "text": [
      "2553883301104\n",
      "2553883301104\n"
     ]
    }
   ],
   "source": [
    "# Identity \n",
    "# op ---> is and is not\n",
    "\n",
    "a = 'abc xyz'\n",
    "b = 'abc xyz'\n",
    "\n",
    "print(id(a[4]))\n",
    "print(id(b[4]))"
   ]
  },
  {
   "cell_type": "code",
   "execution_count": 42,
   "id": "eb50cf4c",
   "metadata": {},
   "outputs": [
    {
     "name": "stdout",
     "output_type": "stream",
     "text": [
      "2553994665584\n",
      "2553994665200\n"
     ]
    }
   ],
   "source": [
    "# Identity \n",
    "# op ---> is and is not\n",
    "\n",
    "a = 'abc xyz'\n",
    "b = 'abc xyz'\n",
    "\n",
    "print(id(a))\n",
    "print(id(b))"
   ]
  },
  {
   "cell_type": "code",
   "execution_count": 44,
   "id": "793d4c94",
   "metadata": {},
   "outputs": [
    {
     "name": "stdout",
     "output_type": "stream",
     "text": [
      "2553885349552\n",
      "2553885349552\n"
     ]
    }
   ],
   "source": [
    "\n",
    "a = 'abc xyz'\n",
    "b = 'xyz abc'\n",
    "\n",
    "print(id(a[0]))\n",
    "print(id(b[4]))"
   ]
  },
  {
   "cell_type": "code",
   "execution_count": 45,
   "id": "c2e2d04e",
   "metadata": {},
   "outputs": [
    {
     "name": "stdout",
     "output_type": "stream",
     "text": [
      "2553885037424\n",
      "2553885037424\n"
     ]
    }
   ],
   "source": [
    "\n",
    "a = 'abc xyz'\n",
    "b = 'xyz abc'\n",
    "\n",
    "print(id(a[1]))\n",
    "print(id(b[5]))"
   ]
  },
  {
   "cell_type": "code",
   "execution_count": 46,
   "id": "369522cd",
   "metadata": {},
   "outputs": [
    {
     "name": "stdout",
     "output_type": "stream",
     "text": [
      "2553887021232\n",
      "2553887021232\n"
     ]
    }
   ],
   "source": [
    "\n",
    "a = 'abc xyz pqr'\n",
    "b = 'xyz abc'\n",
    "\n",
    "print(id(a[3]))\n",
    "print(id(b[3]))\n"
   ]
  },
  {
   "cell_type": "code",
   "execution_count": 1,
   "id": "42c5db51",
   "metadata": {},
   "outputs": [
    {
     "name": "stdout",
     "output_type": "stream",
     "text": [
      "2720470879024\n",
      "2720470879472\n"
     ]
    }
   ],
   "source": [
    "\n",
    "a = 'abc@xyz'\n",
    "b = 'xyz@abc'\n",
    "\n",
    "print(id(a))\n",
    "print(id(b))"
   ]
  },
  {
   "cell_type": "code",
   "execution_count": 3,
   "id": "ab05b664",
   "metadata": {},
   "outputs": [
    {
     "name": "stdout",
     "output_type": "stream",
     "text": [
      "2720398667888\n",
      "2720398667888\n"
     ]
    }
   ],
   "source": [
    "\n",
    "a = 'abc@xyz'\n",
    "b = 'abc@xyz'\n",
    "\n",
    "print(id(a[3]))\n",
    "print(id(b[3]))\n",
    "print(id(a))\n",
    "print(id(b))"
   ]
  },
  {
   "cell_type": "code",
   "execution_count": 5,
   "id": "d9f2e386",
   "metadata": {},
   "outputs": [
    {
     "name": "stdout",
     "output_type": "stream",
     "text": [
      "2720471201792\n",
      "2720471186240\n"
     ]
    }
   ],
   "source": [
    "lst = [1,2,3,4,5]\n",
    "lst2 = [1,2,3,4,5]\n",
    "\n",
    "\n",
    "print(id(lst))\n",
    "print(id(lst2))"
   ]
  },
  {
   "cell_type": "code",
   "execution_count": 8,
   "id": "3e87aa71",
   "metadata": {},
   "outputs": [
    {
     "name": "stdout",
     "output_type": "stream",
     "text": [
      "2720470929968\n",
      "2720470931248\n"
     ]
    }
   ],
   "source": [
    "lst = 'data science'\n",
    "lst2 = 'data science'\n",
    "\n",
    "\n",
    "print(id(lst))\n",
    "print(id(lst2))"
   ]
  },
  {
   "cell_type": "code",
   "execution_count": 9,
   "id": "da08936a",
   "metadata": {},
   "outputs": [
    {
     "name": "stdout",
     "output_type": "stream",
     "text": [
      "2720390502000\n",
      "2720390502000\n"
     ]
    }
   ],
   "source": [
    "lst = 'data science'\n",
    "lst2 = 'data science'\n",
    "\n",
    "\n",
    "print(id(lst[1]))\n",
    "print(id(lst2[3]))"
   ]
  },
  {
   "cell_type": "code",
   "execution_count": 10,
   "id": "1b0429a2",
   "metadata": {},
   "outputs": [
    {
     "name": "stdout",
     "output_type": "stream",
     "text": [
      "2720393222128\n",
      "2720393222128\n"
     ]
    }
   ],
   "source": [
    "lst = 'data science'\n",
    "lst2 = 'data science'\n",
    "\n",
    "\n",
    "print(id(lst[4]))\n",
    "print(id(lst2[4]))"
   ]
  },
  {
   "cell_type": "code",
   "execution_count": 15,
   "id": "8a829abe",
   "metadata": {},
   "outputs": [
    {
     "name": "stdout",
     "output_type": "stream",
     "text": [
      "2720470901744\n",
      "2720470901744\n"
     ]
    }
   ],
   "source": [
    "lst = 'data_science'\n",
    "lst2 = 'data_science'\n",
    "\n",
    "\n",
    "print(id(lst))\n",
    "print(id(lst2))"
   ]
  },
  {
   "cell_type": "code",
   "execution_count": 16,
   "id": "a1d24ddb",
   "metadata": {},
   "outputs": [
    {
     "name": "stdout",
     "output_type": "stream",
     "text": [
      "2720384982896\n",
      "2720384982896\n"
     ]
    }
   ],
   "source": [
    "lst = 'data_science'\n",
    "lst2 = 'data_science'\n",
    "\n",
    "\n",
    "print(id(lst[4]))\n",
    "print(id(lst2[4]))"
   ]
  },
  {
   "cell_type": "code",
   "execution_count": 31,
   "id": "7773ac14",
   "metadata": {},
   "outputs": [
    {
     "name": "stdout",
     "output_type": "stream",
     "text": [
      "2720471143856\n",
      "2720471143856\n",
      "True\n"
     ]
    }
   ],
   "source": [
    "lst = 'data_science'\n",
    "lst2 = 'data_science'\n",
    "\n",
    "\n",
    "print(id(lst))\n",
    "print(id(lst2))\n",
    "print( lst is lst2)"
   ]
  },
  {
   "cell_type": "code",
   "execution_count": 32,
   "id": "719b66f8",
   "metadata": {},
   "outputs": [
    {
     "name": "stdout",
     "output_type": "stream",
     "text": [
      "True\n"
     ]
    }
   ],
   "source": [
    "lst = 'data_science'\n",
    "lst2 = 'data_science'\n",
    "\n",
    "\n",
    "\n",
    "print( lst == lst2)"
   ]
  },
  {
   "cell_type": "code",
   "execution_count": 1,
   "id": "b58d5134",
   "metadata": {},
   "outputs": [
    {
     "name": "stdout",
     "output_type": "stream",
     "text": [
      "2663221611440\n",
      "2663221417968\n",
      "False\n"
     ]
    }
   ],
   "source": [
    "lst = 'data science'\n",
    "lst2 = 'data science'\n",
    "\n",
    "\n",
    "print(id(lst))\n",
    "print(id(lst2))\n",
    "print( lst is lst2)"
   ]
  },
  {
   "cell_type": "code",
   "execution_count": 24,
   "id": "81ad9095",
   "metadata": {},
   "outputs": [
    {
     "name": "stdout",
     "output_type": "stream",
     "text": [
      "2003137208176\n",
      "2003137208176\n",
      "2003222524080\n",
      "2003222799280\n"
     ]
    }
   ],
   "source": [
    "lst = 'data science'\n",
    "lst2 = 'data science'\n",
    "\n",
    "\n",
    "print(id(lst[0:1]))\n",
    "print(id(lst2[0:1]))\n",
    "\n",
    "\n",
    "print(id(lst))\n",
    "print(id(lst2))\n"
   ]
  },
  {
   "cell_type": "markdown",
   "id": "ad6cffcf",
   "metadata": {},
   "source": [
    "# Membership operators\n",
    "\n",
    "op ---> in and not in\n",
    "- Tells if a sub string is present in the seq or no\n",
    "- Always return you bool"
   ]
  },
  {
   "cell_type": "code",
   "execution_count": 25,
   "id": "e9b409b8",
   "metadata": {},
   "outputs": [
    {
     "name": "stdout",
     "output_type": "stream",
     "text": [
      "True\n"
     ]
    }
   ],
   "source": [
    "a = 'This is python class'\n",
    "\n",
    "print('p' in a)"
   ]
  },
  {
   "cell_type": "code",
   "execution_count": 28,
   "id": "12fe4027",
   "metadata": {},
   "outputs": [
    {
     "name": "stdout",
     "output_type": "stream",
     "text": [
      "True\n"
     ]
    }
   ],
   "source": [
    "a = ' This is python class'\n",
    "\n",
    "print(' This' in a)"
   ]
  },
  {
   "cell_type": "code",
   "execution_count": 29,
   "id": "5a084aa3",
   "metadata": {},
   "outputs": [
    {
     "name": "stdout",
     "output_type": "stream",
     "text": [
      "True\n"
     ]
    }
   ],
   "source": [
    "a = 'This is python class'\n",
    "\n",
    "print('This' in a)"
   ]
  },
  {
   "cell_type": "code",
   "execution_count": 30,
   "id": "4c3188c8",
   "metadata": {},
   "outputs": [
    {
     "name": "stdout",
     "output_type": "stream",
     "text": [
      "False\n"
     ]
    }
   ],
   "source": [
    "a = 'This is python class'\n",
    "\n",
    "print('This' not in a)"
   ]
  },
  {
   "cell_type": "code",
   "execution_count": 35,
   "id": "28c07f3f",
   "metadata": {},
   "outputs": [
    {
     "data": {
      "text/plain": [
       "['abc@yahoo.com', 'sds@hotmail.com']"
      ]
     },
     "execution_count": 35,
     "metadata": {},
     "output_type": "execute_result"
    }
   ],
   "source": [
    "mail = ['xyz@gmail.com' , 'abc@yahoo.com' , 'pqr@gmail.com' , 'sds@hotmail.com']\n",
    "filter_gmail = []\n",
    "\n",
    "for i in mail:\n",
    "    if '@gmail.com' not in i:\n",
    "        filter_gmail.append(i)\n",
    "        \n",
    "        \n",
    "filter_gmail"
   ]
  },
  {
   "cell_type": "code",
   "execution_count": 34,
   "id": "1c3479e7",
   "metadata": {},
   "outputs": [
    {
     "name": "stdout",
     "output_type": "stream",
     "text": [
      "False\n"
     ]
    }
   ],
   "source": [
    "print( '@gmail' not in 'xyz@gmail.com')"
   ]
  },
  {
   "cell_type": "markdown",
   "id": "9b5b2537",
   "metadata": {},
   "source": [
    "# Note: String is an immutable data type"
   ]
  },
  {
   "cell_type": "code",
   "execution_count": 1,
   "id": "fabad61d",
   "metadata": {},
   "outputs": [
    {
     "name": "stdout",
     "output_type": "stream",
     "text": [
      "['c', 2, 3]\n"
     ]
    }
   ],
   "source": [
    "a = [1,2,3]\n",
    "\n",
    "a[0] = 'c'\n",
    "\n",
    "print(a)"
   ]
  },
  {
   "cell_type": "code",
   "execution_count": 37,
   "id": "79522f02",
   "metadata": {},
   "outputs": [
    {
     "ename": "TypeError",
     "evalue": "'str' object does not support item assignment",
     "output_type": "error",
     "traceback": [
      "\u001b[1;31m---------------------------------------------------------------------------\u001b[0m",
      "\u001b[1;31mTypeError\u001b[0m                                 Traceback (most recent call last)",
      "Input \u001b[1;32mIn [37]\u001b[0m, in \u001b[0;36m<cell line: 3>\u001b[1;34m()\u001b[0m\n\u001b[0;32m      1\u001b[0m a \u001b[38;5;241m=\u001b[39m \u001b[38;5;124m'\u001b[39m\u001b[38;5;124mpython\u001b[39m\u001b[38;5;124m'\u001b[39m\n\u001b[1;32m----> 3\u001b[0m a[\u001b[38;5;241m0\u001b[39m] \u001b[38;5;241m=\u001b[39m \u001b[38;5;124m'\u001b[39m\u001b[38;5;124mc\u001b[39m\u001b[38;5;124m'\u001b[39m\n\u001b[0;32m      5\u001b[0m \u001b[38;5;28mprint\u001b[39m(a)\n",
      "\u001b[1;31mTypeError\u001b[0m: 'str' object does not support item assignment"
     ]
    }
   ],
   "source": [
    "a = 'python'\n",
    "\n",
    "a[0] = 'c'\n",
    "\n",
    "print(a)"
   ]
  },
  {
   "cell_type": "code",
   "execution_count": 14,
   "id": "abed86c0",
   "metadata": {},
   "outputs": [],
   "source": [
    "a = 'this is python class'\n",
    "\n",
    "b = a.replace('p' , 'c')\n"
   ]
  },
  {
   "cell_type": "code",
   "execution_count": 15,
   "id": "c6c8bd65",
   "metadata": {},
   "outputs": [
    {
     "data": {
      "text/plain": [
       "'this is python class'"
      ]
     },
     "execution_count": 15,
     "metadata": {},
     "output_type": "execute_result"
    }
   ],
   "source": [
    "a"
   ]
  },
  {
   "cell_type": "code",
   "execution_count": 16,
   "id": "77bde6f2",
   "metadata": {},
   "outputs": [
    {
     "data": {
      "text/plain": [
       "'this is cython class'"
      ]
     },
     "execution_count": 16,
     "metadata": {},
     "output_type": "execute_result"
    }
   ],
   "source": [
    "b"
   ]
  },
  {
   "cell_type": "markdown",
   "id": "23653ea6",
   "metadata": {},
   "source": [
    "# String methods"
   ]
  },
  {
   "cell_type": "code",
   "execution_count": 1,
   "id": "f0127674",
   "metadata": {},
   "outputs": [
    {
     "name": "stdout",
     "output_type": "stream",
     "text": [
      "['__add__', '__class__', '__contains__', '__delattr__', '__dir__', '__doc__', '__eq__', '__format__', '__ge__', '__getattribute__', '__getitem__', '__getnewargs__', '__gt__', '__hash__', '__init__', '__init_subclass__', '__iter__', '__le__', '__len__', '__lt__', '__mod__', '__mul__', '__ne__', '__new__', '__reduce__', '__reduce_ex__', '__repr__', '__rmod__', '__rmul__', '__setattr__', '__sizeof__', '__str__', '__subclasshook__', 'capitalize', 'casefold', 'center', 'count', 'encode', 'endswith', 'expandtabs', 'find', 'format', 'format_map', 'index', 'isalnum', 'isalpha', 'isascii', 'isdecimal', 'isdigit', 'isidentifier', 'islower', 'isnumeric', 'isprintable', 'isspace', 'istitle', 'isupper', 'join', 'ljust', 'lower', 'lstrip', 'maketrans', 'partition', 'removeprefix', 'removesuffix', 'replace', 'rfind', 'rindex', 'rjust', 'rpartition', 'rsplit', 'rstrip', 'split', 'splitlines', 'startswith', 'strip', 'swapcase', 'title', 'translate', 'upper', 'zfill']\n"
     ]
    }
   ],
   "source": [
    "print(dir(str))"
   ]
  },
  {
   "cell_type": "code",
   "execution_count": 21,
   "id": "b61469b2",
   "metadata": {},
   "outputs": [
    {
     "name": "stdout",
     "output_type": "stream",
     "text": [
      "This is a python class\n",
      "THIS IS A PYTHON CLASS\n",
      "this is a python class\n",
      "This Is A Python Class\n"
     ]
    }
   ],
   "source": [
    "s = 'this is a python class'\n",
    "\n",
    "\n",
    "# capitalize - It capitalizes first char of your string\n",
    "\n",
    "print(s.capitalize())\n",
    "\n",
    "# upper - It converts all the char to upper\n",
    "\n",
    "print(s.upper())\n",
    "\n",
    "\n",
    "# lower - It converts all the char to lower\n",
    "\n",
    "print(s.lower())\n",
    "\n",
    "\n",
    "# title - It converts all the first char of every word to upper\n",
    "\n",
    "print(s.title())"
   ]
  },
  {
   "cell_type": "markdown",
   "id": "88bcf404",
   "metadata": {},
   "source": [
    "# Methods that return bool values"
   ]
  },
  {
   "cell_type": "code",
   "execution_count": 28,
   "id": "d8421ceb",
   "metadata": {},
   "outputs": [
    {
     "name": "stdout",
     "output_type": "stream",
     "text": [
      "True\n",
      "False\n",
      "True\n"
     ]
    }
   ],
   "source": [
    "# Startswith \n",
    "\n",
    "\n",
    "a = 'hello world'\n",
    "\n",
    "print(a.startswith('h'))\n",
    "\n",
    "print(a.startswith('e'))\n",
    "\n",
    "print(a.startswith('wor' , 6))\n",
    "\n",
    "\n",
    "\n"
   ]
  },
  {
   "cell_type": "code",
   "execution_count": 31,
   "id": "a7c8f195",
   "metadata": {},
   "outputs": [
    {
     "name": "stdout",
     "output_type": "stream",
     "text": [
      "True\n",
      "True\n",
      "False\n"
     ]
    }
   ],
   "source": [
    "# endswith \n",
    "\n",
    "\n",
    "a = 'hello world'\n",
    "\n",
    "print(a.endswith('d'))\n",
    "print(a.endswith('world'))\n",
    "\n",
    "print(a.endswith('world' , 0 , 6))"
   ]
  },
  {
   "cell_type": "code",
   "execution_count": 33,
   "id": "b688c3c3",
   "metadata": {},
   "outputs": [
    {
     "data": {
      "text/plain": [
       "['xyz@gmail.com', 'pqr@gmail.com']"
      ]
     },
     "execution_count": 33,
     "metadata": {},
     "output_type": "execute_result"
    }
   ],
   "source": [
    "mail = ['xyz@gmail.com' , 'abc@yahoo.com' , 'pqr@gmail.com' , 'sds@hotmail.com']\n",
    "filter_gmail = []\n",
    "\n",
    "for i in mail:\n",
    "    if i.endswith('gmail.com'):\n",
    "        filter_gmail.append(i)\n",
    "        \n",
    "        \n",
    "filter_gmail"
   ]
  },
  {
   "cell_type": "code",
   "execution_count": 42,
   "id": "2a6fd37f",
   "metadata": {},
   "outputs": [
    {
     "name": "stdout",
     "output_type": "stream",
     "text": [
      "True\n",
      "True\n",
      "False\n",
      "True\n",
      "***********\n",
      "True\n",
      "False\n",
      "False\n",
      "False\n",
      "***********\n",
      "False\n",
      "False\n",
      "False\n",
      "True\n",
      "***********\n",
      "True\n",
      "False\n",
      "False\n",
      "False\n"
     ]
    }
   ],
   "source": [
    "s1 = 'abc'\n",
    "s2 = '123abc'\n",
    "s3 = '*'\n",
    "s4 = '123'\n",
    "\n",
    "# isalnum , alpha , number , mix of both\n",
    "print(s1.isalnum())\n",
    "print(s2.isalnum())\n",
    "print(s3.isalnum())\n",
    "print(s4.isalnum())\n",
    "\n",
    "print('***********')\n",
    "\n",
    "# isaplha\n",
    "print(s1.isalpha())\n",
    "print(s2.isalpha())\n",
    "print(s3.isalpha())\n",
    "print(s4.isalpha())\n",
    "\n",
    "\n",
    "print('***********')\n",
    "\n",
    "# isnumeric\n",
    "print(s1.isnumeric())\n",
    "print(s2.isnumeric())\n",
    "print(s3.isnumeric())\n",
    "print(s4.isnumeric())\n",
    "\n",
    "\n",
    "\n",
    "print('***********')\n",
    "\n",
    "# isidentifier\n",
    "print(s1.isidentifier())\n",
    "print(s2.isidentifier())\n",
    "print(s3.isidentifier())\n",
    "print(s4.isidentifier())"
   ]
  },
  {
   "cell_type": "code",
   "execution_count": 41,
   "id": "cbd78076",
   "metadata": {},
   "outputs": [
    {
     "ename": "SyntaxError",
     "evalue": "invalid syntax (3408308467.py, line 1)",
     "output_type": "error",
     "traceback": [
      "\u001b[1;36m  Input \u001b[1;32mIn [41]\u001b[1;36m\u001b[0m\n\u001b[1;33m    123abc = 10\u001b[0m\n\u001b[1;37m       ^\u001b[0m\n\u001b[1;31mSyntaxError\u001b[0m\u001b[1;31m:\u001b[0m invalid syntax\n"
     ]
    }
   ],
   "source": [
    "123abc = 10"
   ]
  },
  {
   "cell_type": "code",
   "execution_count": 43,
   "id": "c8941322",
   "metadata": {},
   "outputs": [
    {
     "name": "stdout",
     "output_type": "stream",
     "text": [
      "True\n",
      "True\n",
      "True\n",
      "False\n"
     ]
    }
   ],
   "source": [
    "s1 = 'abc'\n",
    "s2 = '123abc'\n",
    "s3 = '*'\n",
    "s4 = 'बहे'\n",
    "\n",
    "# isascii\n",
    "\n",
    "\n",
    "print(s1.isascii())\n",
    "print(s2.isascii())\n",
    "print(s3.isascii())\n",
    "print(s4.isascii())"
   ]
  },
  {
   "cell_type": "code",
   "execution_count": 48,
   "id": "1da2c0e1",
   "metadata": {},
   "outputs": [
    {
     "name": "stdout",
     "output_type": "stream",
     "text": [
      "['__add__', '__class__', '__contains__', '__delattr__', '__dir__', '__doc__', '__eq__', '__format__', '__ge__', '__getattribute__', '__getitem__', '__getnewargs__', '__gt__', '__hash__', '__init__', '__init_subclass__', '__iter__', '__le__', '__len__', '__lt__', '__mod__', '__mul__', '__ne__', '__new__', '__reduce__', '__reduce_ex__', '__repr__', '__rmod__', '__rmul__', '__setattr__', '__sizeof__', '__str__', '__subclasshook__', 'capitalize', 'casefold', 'center', 'count', 'encode', 'endswith', 'expandtabs', 'find', 'format', 'format_map', 'index', 'isalnum', 'isalpha', 'isascii', 'isdecimal', 'isdigit', 'isidentifier', 'islower', 'isnumeric', 'isprintable', 'isspace', 'istitle', 'isupper', 'join', 'ljust', 'lower', 'lstrip', 'maketrans', 'partition', 'removeprefix', 'removesuffix', 'replace', 'rfind', 'rindex', 'rjust', 'rpartition', 'rsplit', 'rstrip', 'split', 'splitlines', 'startswith', 'strip', 'swapcase', 'title', 'translate', 'upper', 'zfill']\n"
     ]
    }
   ],
   "source": [
    "print(dir(str))"
   ]
  },
  {
   "cell_type": "markdown",
   "id": "4d08174b",
   "metadata": {},
   "source": [
    "# Special char and escape char\n",
    "\n",
    "\n"
   ]
  },
  {
   "cell_type": "code",
   "execution_count": 52,
   "id": "923febee",
   "metadata": {},
   "outputs": [
    {
     "name": "stdout",
     "output_type": "stream",
     "text": [
      "hello\n",
      "world\n"
     ]
    }
   ],
   "source": [
    "# \\n -=-----> new line\n",
    "\n",
    "print('hello\\nworld')"
   ]
  },
  {
   "cell_type": "code",
   "execution_count": 53,
   "id": "8d9f38dc",
   "metadata": {},
   "outputs": [
    {
     "name": "stdout",
     "output_type": "stream",
     "text": [
      "hello\tworld\n"
     ]
    }
   ],
   "source": [
    "# \\t -=-----> tab space\n",
    "\n",
    "print('hello\\tworld')"
   ]
  },
  {
   "cell_type": "code",
   "execution_count": null,
   "id": "8ed0ea14",
   "metadata": {},
   "outputs": [],
   "source": [
    "hello   world"
   ]
  },
  {
   "cell_type": "code",
   "execution_count": 55,
   "id": "c829e957",
   "metadata": {},
   "outputs": [
    {
     "name": "stdout",
     "output_type": "stream",
     "text": [
      "hello\bworld\n"
     ]
    }
   ],
   "source": [
    "# \\b -=-----> backspace -- deletes the previous char\n",
    "\n",
    "print('hello\\bworld')"
   ]
  },
  {
   "cell_type": "code",
   "execution_count": 54,
   "id": "4d70653d",
   "metadata": {},
   "outputs": [
    {
     "ename": "NameError",
     "evalue": "name 'hellworld' is not defined",
     "output_type": "error",
     "traceback": [
      "\u001b[1;31m---------------------------------------------------------------------------\u001b[0m",
      "\u001b[1;31mNameError\u001b[0m                                 Traceback (most recent call last)",
      "Input \u001b[1;32mIn [54]\u001b[0m, in \u001b[0;36m<cell line: 1>\u001b[1;34m()\u001b[0m\n\u001b[1;32m----> 1\u001b[0m \u001b[43mhellworld\u001b[49m\n",
      "\u001b[1;31mNameError\u001b[0m: name 'hellworld' is not defined"
     ]
    }
   ],
   "source": [
    "hellworld"
   ]
  },
  {
   "cell_type": "code",
   "execution_count": 56,
   "id": "3c22dfa0",
   "metadata": {},
   "outputs": [
    {
     "name": "stdout",
     "output_type": "stream",
     "text": [
      "python \blearnbay\n"
     ]
    }
   ],
   "source": [
    "\n",
    "print('python \\blearnbay')"
   ]
  },
  {
   "cell_type": "code",
   "execution_count": 57,
   "id": "77d3e2cc",
   "metadata": {},
   "outputs": [
    {
     "name": "stdout",
     "output_type": "stream",
     "text": [
      "ab\bc\n"
     ]
    }
   ],
   "source": [
    "print('ab' + '\\b' + 'c')"
   ]
  },
  {
   "cell_type": "markdown",
   "id": "843c558d",
   "metadata": {},
   "source": [
    "# Escape char - backslash\n",
    "\n",
    "\\"
   ]
  },
  {
   "cell_type": "code",
   "execution_count": 58,
   "id": "e60e744c",
   "metadata": {},
   "outputs": [
    {
     "name": "stdout",
     "output_type": "stream",
     "text": [
      "hello\n",
      "world\n"
     ]
    }
   ],
   "source": [
    "print('hello\\nworld')"
   ]
  },
  {
   "cell_type": "code",
   "execution_count": 59,
   "id": "bda9d18e",
   "metadata": {},
   "outputs": [
    {
     "name": "stdout",
     "output_type": "stream",
     "text": [
      "hello\\nworld\n"
     ]
    }
   ],
   "source": [
    "print('hello\\\\nworld')"
   ]
  },
  {
   "cell_type": "code",
   "execution_count": 60,
   "id": "2935db80",
   "metadata": {},
   "outputs": [
    {
     "name": "stdout",
     "output_type": "stream",
     "text": [
      "ab\\bc\n"
     ]
    }
   ],
   "source": [
    "print('ab' + '\\\\b' + 'c')"
   ]
  },
  {
   "cell_type": "markdown",
   "id": "fa8fcbca",
   "metadata": {},
   "source": [
    "# rawstring"
   ]
  },
  {
   "cell_type": "code",
   "execution_count": 65,
   "id": "044fd322",
   "metadata": {},
   "outputs": [
    {
     "name": "stdout",
     "output_type": "stream",
     "text": [
      "hello\\nworld\\thello\n"
     ]
    }
   ],
   "source": [
    "print(r'hello\\nworld\\thello')"
   ]
  },
  {
   "cell_type": "code",
   "execution_count": null,
   "id": "d11fae96",
   "metadata": {},
   "outputs": [],
   "source": []
  },
  {
   "cell_type": "markdown",
   "id": "a4ec8a6b",
   "metadata": {},
   "source": [
    "# Next class on monday"
   ]
  },
  {
   "cell_type": "code",
   "execution_count": null,
   "id": "25fd04d6",
   "metadata": {},
   "outputs": [],
   "source": []
  }
 ],
 "metadata": {
  "kernelspec": {
   "display_name": "Python 3 (ipykernel)",
   "language": "python",
   "name": "python3"
  },
  "language_info": {
   "codemirror_mode": {
    "name": "ipython",
    "version": 3
   },
   "file_extension": ".py",
   "mimetype": "text/x-python",
   "name": "python",
   "nbconvert_exporter": "python",
   "pygments_lexer": "ipython3",
   "version": "3.9.12"
  }
 },
 "nbformat": 4,
 "nbformat_minor": 5
}
