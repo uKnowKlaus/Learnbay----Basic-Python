{
 "cells": [
  {
   "cell_type": "code",
   "execution_count": 30,
   "id": "a45e3310",
   "metadata": {},
   "outputs": [],
   "source": [
    "# Task till monday\n",
    "\n",
    "emp_data = {'emp_1': {'age': 24 , 'salary': 626223 , 'name': 'salahuddin'},\n",
    "           'emp_2': {'age': 23 , 'salary': 96780 , 'name': 'ajay'},\n",
    "           'emp_3': {'age': 26 , 'salary': 90890 , 'name': 'abhishek'}, \n",
    "           'emp_4': {'age': 32 , 'salary': 65756 , 'name': 'anas'}}\n",
    "\n",
    "\n",
    "ex_emp = {}"
   ]
  },
  {
   "cell_type": "code",
   "execution_count": 31,
   "id": "139aa19e",
   "metadata": {},
   "outputs": [
    {
     "name": "stdout",
     "output_type": "stream",
     "text": [
      "2023-01-02\n"
     ]
    },
    {
     "data": {
      "text/plain": [
       "'08:16:15 AM'"
      ]
     },
     "execution_count": 31,
     "metadata": {},
     "output_type": "execute_result"
    }
   ],
   "source": [
    "import datetime\n",
    "import time\n",
    "\n",
    "dt = datetime.datetime.now()\n",
    "\n",
    "print(dt.date()) # yyyy-mm-dd\n",
    "\n",
    "\n",
    "t = time.strftime(\"%I:%M:%S %p\")\n",
    "t"
   ]
  },
  {
   "cell_type": "code",
   "execution_count": 32,
   "id": "1c9fb6c1",
   "metadata": {},
   "outputs": [],
   "source": [
    "def addEmployee(age,sal,name):\n",
    "    f = open('file_handling/log_sheet.txt' , 'a')\n",
    "    emp_id = \"emp_\"+str(len(emp_data)+1)\n",
    "    emp_data.setdefault(emp_id,{'age': age, 'salary':sal,'name':name})\n",
    "    f.write(f\"\\nA new details have been added for ({str(emp_id)} , 'age': {str(age)}, 'salary':{str(sal)},'name': {str(name)}) at {str(dt.date())} and time {str(t)}\")\n",
    "    f.close()\n",
    "\n",
    "def removeEmployee(emp_id):\n",
    "    f = open('file_handling/log_sheet.txt' , 'a')\n",
    "    ex_emp.setdefault(emp_id,emp_data.pop(emp_id))\n",
    "    f.write(f\"\\nA details have been removed for ({str(emp_id)} , {str(ex_emp.get(emp_id))}) at {str(dt.date())} and time {str(t)}\")\n",
    "    f.close()\n"
   ]
  },
  {
   "cell_type": "code",
   "execution_count": 33,
   "id": "d34d4914",
   "metadata": {},
   "outputs": [],
   "source": [
    "addEmployee(34 , 343543,'xyz')"
   ]
  },
  {
   "cell_type": "code",
   "execution_count": 34,
   "id": "0aec8a8d",
   "metadata": {},
   "outputs": [],
   "source": [
    "removeEmployee('emp_3')"
   ]
  },
  {
   "cell_type": "markdown",
   "id": "e8db1a39",
   "metadata": {},
   "source": [
    "# Exceptional Handling"
   ]
  },
  {
   "cell_type": "code",
   "execution_count": null,
   "id": "931118b4",
   "metadata": {},
   "outputs": [],
   "source": [
    "- types of errors \n",
    "\n",
    "\n",
    "1. complie time error -- syntax , indentation\n",
    "2. run time errors - ZeroDivisionError , type error , value error , name error\n",
    "3. logical errors - which are made by the users\n",
    "\n",
    "- Exceptional will only be able to catch (handle) run time error"
   ]
  },
  {
   "cell_type": "code",
   "execution_count": 37,
   "id": "a5e27ac8",
   "metadata": {},
   "outputs": [
    {
     "ename": "ValueError",
     "evalue": "invalid literal for int() with base 10: '12.4'",
     "output_type": "error",
     "traceback": [
      "\u001b[1;31m---------------------------------------------------------------------------\u001b[0m",
      "\u001b[1;31mValueError\u001b[0m                                Traceback (most recent call last)",
      "Input \u001b[1;32mIn [37]\u001b[0m, in \u001b[0;36m<cell line: 1>\u001b[1;34m()\u001b[0m\n\u001b[1;32m----> 1\u001b[0m \u001b[38;5;28;43mint\u001b[39;49m\u001b[43m(\u001b[49m\u001b[38;5;124;43m'\u001b[39;49m\u001b[38;5;124;43m12.4\u001b[39;49m\u001b[38;5;124;43m'\u001b[39;49m\u001b[43m)\u001b[49m\n",
      "\u001b[1;31mValueError\u001b[0m: invalid literal for int() with base 10: '12.4'"
     ]
    }
   ],
   "source": [
    "int('12.4')"
   ]
  },
  {
   "cell_type": "code",
   "execution_count": 39,
   "id": "083b986d",
   "metadata": {},
   "outputs": [
    {
     "name": "stdout",
     "output_type": "stream",
     "text": [
      "['ArithmeticError', 'AssertionError', 'AttributeError', 'BaseException', 'BlockingIOError', 'BrokenPipeError', 'BufferError', 'BytesWarning', 'ChildProcessError', 'ConnectionAbortedError', 'ConnectionError', 'ConnectionRefusedError', 'ConnectionResetError', 'DeprecationWarning', 'EOFError', 'Ellipsis', 'EnvironmentError', 'Exception', 'False', 'FileExistsError', 'FileNotFoundError', 'FloatingPointError', 'FutureWarning', 'GeneratorExit', 'IOError', 'ImportError', 'ImportWarning', 'IndentationError', 'IndexError', 'InterruptedError', 'IsADirectoryError', 'KeyError', 'KeyboardInterrupt', 'LookupError', 'MemoryError', 'ModuleNotFoundError', 'NameError', 'None', 'NotADirectoryError', 'NotImplemented', 'NotImplementedError', 'OSError', 'OverflowError', 'PendingDeprecationWarning', 'PermissionError', 'ProcessLookupError', 'RecursionError', 'ReferenceError', 'ResourceWarning', 'RuntimeError', 'RuntimeWarning', 'StopAsyncIteration', 'StopIteration', 'SyntaxError', 'SyntaxWarning', 'SystemError', 'SystemExit', 'TabError', 'TimeoutError', 'True', 'TypeError', 'UnboundLocalError', 'UnicodeDecodeError', 'UnicodeEncodeError', 'UnicodeError', 'UnicodeTranslateError', 'UnicodeWarning', 'UserWarning', 'ValueError', 'Warning', 'WindowsError', 'ZeroDivisionError', '__IPYTHON__', '__build_class__', '__debug__', '__doc__', '__import__', '__loader__', '__name__', '__package__', '__spec__', 'abs', 'all', 'any', 'ascii', 'bin', 'bool', 'breakpoint', 'bytearray', 'bytes', 'callable', 'chr', 'classmethod', 'compile', 'complex', 'copyright', 'credits', 'delattr', 'dict', 'dir', 'display', 'divmod', 'enumerate', 'eval', 'exec', 'execfile', 'filter', 'float', 'format', 'frozenset', 'get_ipython', 'getattr', 'globals', 'hasattr', 'hash', 'help', 'hex', 'id', 'input', 'int', 'isinstance', 'issubclass', 'iter', 'len', 'license', 'list', 'locals', 'map', 'max', 'memoryview', 'min', 'next', 'object', 'oct', 'open', 'ord', 'pow', 'print', 'property', 'range', 'repr', 'reversed', 'round', 'runfile', 'set', 'setattr', 'slice', 'sorted', 'staticmethod', 'str', 'sum', 'super', 'tuple', 'type', 'vars', 'zip']\n"
     ]
    }
   ],
   "source": [
    "print(dir(__builtins__))"
   ]
  },
  {
   "cell_type": "code",
   "execution_count": 42,
   "id": "a7ac02b7",
   "metadata": {},
   "outputs": [
    {
     "name": "stdout",
     "output_type": "stream",
     "text": [
      "-10\n"
     ]
    }
   ],
   "source": [
    "a = 10\n",
    "b = 20\n",
    "\n",
    "\n",
    "print(a - b)"
   ]
  },
  {
   "cell_type": "markdown",
   "id": "4ab0405f",
   "metadata": {},
   "source": [
    "# Key words that we will be using \n",
    "- try\n",
    "- except\n",
    "- else\n",
    "- finally\n",
    "- raise"
   ]
  },
  {
   "cell_type": "code",
   "execution_count": 44,
   "id": "3be22919",
   "metadata": {},
   "outputs": [
    {
     "name": "stdout",
     "output_type": "stream",
     "text": [
      "enter the first number : 10\n",
      "enter the second number : 0\n"
     ]
    },
    {
     "ename": "ZeroDivisionError",
     "evalue": "division by zero",
     "output_type": "error",
     "traceback": [
      "\u001b[1;31m---------------------------------------------------------------------------\u001b[0m",
      "\u001b[1;31mZeroDivisionError\u001b[0m                         Traceback (most recent call last)",
      "Input \u001b[1;32mIn [44]\u001b[0m, in \u001b[0;36m<cell line: 5>\u001b[1;34m()\u001b[0m\n\u001b[0;32m      1\u001b[0m a \u001b[38;5;241m=\u001b[39m \u001b[38;5;28minput\u001b[39m(\u001b[38;5;124m'\u001b[39m\u001b[38;5;124menter the first number : \u001b[39m\u001b[38;5;124m'\u001b[39m)\n\u001b[0;32m      2\u001b[0m b \u001b[38;5;241m=\u001b[39m \u001b[38;5;28minput\u001b[39m(\u001b[38;5;124m'\u001b[39m\u001b[38;5;124menter the second number : \u001b[39m\u001b[38;5;124m'\u001b[39m)\n\u001b[1;32m----> 5\u001b[0m \u001b[38;5;28mprint\u001b[39m(\u001b[38;5;28;43mint\u001b[39;49m\u001b[43m(\u001b[49m\u001b[43ma\u001b[49m\u001b[43m)\u001b[49m\u001b[43m \u001b[49m\u001b[38;5;241;43m/\u001b[39;49m\u001b[43m \u001b[49m\u001b[38;5;28;43mint\u001b[39;49m\u001b[43m(\u001b[49m\u001b[43mb\u001b[49m\u001b[43m)\u001b[49m)\n",
      "\u001b[1;31mZeroDivisionError\u001b[0m: division by zero"
     ]
    }
   ],
   "source": [
    "a = input('enter the first number : ')\n",
    "b = input('enter the second number : ')\n",
    "\n",
    "\n",
    "print(int(a) / int(b))"
   ]
  },
  {
   "cell_type": "markdown",
   "id": "87c6279d",
   "metadata": {},
   "source": [
    "# try and exept\n",
    "\n",
    "- try - only the code which you think is going to raise an error\n",
    "- except - alternate code which will be executed if the try block fails"
   ]
  },
  {
   "cell_type": "code",
   "execution_count": 49,
   "id": "157ef24b",
   "metadata": {},
   "outputs": [
    {
     "name": "stdout",
     "output_type": "stream",
     "text": [
      "enter the first number : 10\n",
      "enter the second number : 0\n",
      "Back up code\n",
      "Hello world\n"
     ]
    }
   ],
   "source": [
    "a = input('enter the first number : ')\n",
    "b = input('enter the second number : ')\n",
    "\n",
    "try:\n",
    "    print(int(a) / int(b))\n",
    "except:\n",
    "    print('Back up code')\n",
    "    \n",
    "print('Hello world')"
   ]
  },
  {
   "cell_type": "code",
   "execution_count": 48,
   "id": "fff29b7f",
   "metadata": {},
   "outputs": [
    {
     "name": "stdout",
     "output_type": "stream",
     "text": [
      "enter the first number : 10\n",
      "enter the second number : 0\n"
     ]
    },
    {
     "ename": "ZeroDivisionError",
     "evalue": "division by zero",
     "output_type": "error",
     "traceback": [
      "\u001b[1;31m---------------------------------------------------------------------------\u001b[0m",
      "\u001b[1;31mZeroDivisionError\u001b[0m                         Traceback (most recent call last)",
      "Input \u001b[1;32mIn [48]\u001b[0m, in \u001b[0;36m<cell line: 5>\u001b[1;34m()\u001b[0m\n\u001b[0;32m      1\u001b[0m a \u001b[38;5;241m=\u001b[39m \u001b[38;5;28minput\u001b[39m(\u001b[38;5;124m'\u001b[39m\u001b[38;5;124menter the first number : \u001b[39m\u001b[38;5;124m'\u001b[39m)\n\u001b[0;32m      2\u001b[0m b \u001b[38;5;241m=\u001b[39m \u001b[38;5;28minput\u001b[39m(\u001b[38;5;124m'\u001b[39m\u001b[38;5;124menter the second number : \u001b[39m\u001b[38;5;124m'\u001b[39m)\n\u001b[1;32m----> 5\u001b[0m \u001b[38;5;28mprint\u001b[39m(\u001b[38;5;28;43mint\u001b[39;49m\u001b[43m(\u001b[49m\u001b[43ma\u001b[49m\u001b[43m)\u001b[49m\u001b[43m \u001b[49m\u001b[38;5;241;43m/\u001b[39;49m\u001b[43m \u001b[49m\u001b[38;5;28;43mint\u001b[39;49m\u001b[43m(\u001b[49m\u001b[43mb\u001b[49m\u001b[43m)\u001b[49m)\n\u001b[0;32m      6\u001b[0m \u001b[38;5;28mprint\u001b[39m(\u001b[38;5;124m'\u001b[39m\u001b[38;5;124mhello world\u001b[39m\u001b[38;5;124m'\u001b[39m)\n",
      "\u001b[1;31mZeroDivisionError\u001b[0m: division by zero"
     ]
    }
   ],
   "source": [
    "a = input('enter the first number : ')\n",
    "b = input('enter the second number : ')\n",
    "\n",
    "\n",
    "print(int(a) / int(b))\n",
    "print('hello world')\n"
   ]
  },
  {
   "cell_type": "code",
   "execution_count": 53,
   "id": "0d7543ca",
   "metadata": {},
   "outputs": [
    {
     "ename": "SyntaxError",
     "evalue": "invalid syntax (3168529667.py, line 6)",
     "output_type": "error",
     "traceback": [
      "\u001b[1;36m  Input \u001b[1;32mIn [53]\u001b[1;36m\u001b[0m\n\u001b[1;33m    print('Try block worked')\u001b[0m\n\u001b[1;37m    ^\u001b[0m\n\u001b[1;31mSyntaxError\u001b[0m\u001b[1;31m:\u001b[0m invalid syntax\n"
     ]
    }
   ],
   "source": [
    "a = input('enter the first number : ')\n",
    "b = input('enter the second number : ')\n",
    "\n",
    "try:\n",
    "    print(int(a) // int(b)\n",
    "    print('Try block worked')\n",
    "except:\n",
    "    print('Back up code of except')\n",
    "    \n",
    "print('Hello world')"
   ]
  },
  {
   "cell_type": "code",
   "execution_count": 52,
   "id": "24c45327",
   "metadata": {},
   "outputs": [
    {
     "ename": "SyntaxError",
     "evalue": "unexpected EOF while parsing (3871997710.py, line 1)",
     "output_type": "error",
     "traceback": [
      "\u001b[1;36m  Input \u001b[1;32mIn [52]\u001b[1;36m\u001b[0m\n\u001b[1;33m    print('hello'\u001b[0m\n\u001b[1;37m                 ^\u001b[0m\n\u001b[1;31mSyntaxError\u001b[0m\u001b[1;31m:\u001b[0m unexpected EOF while parsing\n"
     ]
    }
   ],
   "source": [
    "print('hello'"
   ]
  },
  {
   "cell_type": "markdown",
   "id": "79b82dd4",
   "metadata": {},
   "source": [
    "# try , except  and else\n",
    "\n",
    "- execution will go to except if the try block fails\n",
    "- execution will go to else if the try block never fails"
   ]
  },
  {
   "cell_type": "code",
   "execution_count": 54,
   "id": "8efdb3bc",
   "metadata": {},
   "outputs": [
    {
     "name": "stdout",
     "output_type": "stream",
     "text": [
      "enter the first number : 55\n",
      "enter the second number : 'abc'\n",
      "Back up code of except\n"
     ]
    }
   ],
   "source": [
    "a = eval(input('enter the first number : '))\n",
    "b = eval(input('enter the second number : '))\n",
    "\n",
    "try:\n",
    "    print(a/b)\n",
    "    print('Try block worked')\n",
    "except:\n",
    "    print('Back up code of except')\n",
    "    \n"
   ]
  },
  {
   "cell_type": "code",
   "execution_count": 59,
   "id": "f117f3f6",
   "metadata": {},
   "outputs": [
    {
     "name": "stdout",
     "output_type": "stream",
     "text": [
      "enter the first number : 10\n",
      "enter the second number : 5\n",
      "2.0\n",
      "Continuation code\n"
     ]
    }
   ],
   "source": [
    "a = eval(input('enter the first number : '))\n",
    "b = eval(input('enter the second number : '))\n",
    "\n",
    "try:\n",
    "    print(a/b)\n",
    "except:\n",
    "    print('Back up code of except')\n",
    "else:\n",
    "    print('Continuation code')\n"
   ]
  },
  {
   "cell_type": "markdown",
   "id": "5fd729af",
   "metadata": {},
   "source": [
    "# finally\n",
    "- it will be executed if error is raised or no"
   ]
  },
  {
   "cell_type": "code",
   "execution_count": 61,
   "id": "2f3d67ab",
   "metadata": {},
   "outputs": [
    {
     "name": "stdout",
     "output_type": "stream",
     "text": [
      "enter the first number : 10\n",
      "enter the second number : 0\n"
     ]
    },
    {
     "ename": "TypeError",
     "evalue": "unsupported operand type(s) for /: 'int' and 'str'",
     "output_type": "error",
     "traceback": [
      "\u001b[1;31m---------------------------------------------------------------------------\u001b[0m",
      "\u001b[1;31mZeroDivisionError\u001b[0m                         Traceback (most recent call last)",
      "Input \u001b[1;32mIn [61]\u001b[0m, in \u001b[0;36m<cell line: 4>\u001b[1;34m()\u001b[0m\n\u001b[0;32m      4\u001b[0m \u001b[38;5;28;01mtry\u001b[39;00m:\n\u001b[1;32m----> 5\u001b[0m     \u001b[38;5;28mprint\u001b[39m(\u001b[43ma\u001b[49m\u001b[38;5;241;43m/\u001b[39;49m\u001b[43mb\u001b[49m)\n\u001b[0;32m      6\u001b[0m \u001b[38;5;28;01mexcept\u001b[39;00m:\n",
      "\u001b[1;31mZeroDivisionError\u001b[0m: division by zero",
      "\nDuring handling of the above exception, another exception occurred:\n",
      "\u001b[1;31mTypeError\u001b[0m                                 Traceback (most recent call last)",
      "Input \u001b[1;32mIn [61]\u001b[0m, in \u001b[0;36m<cell line: 4>\u001b[1;34m()\u001b[0m\n\u001b[0;32m      5\u001b[0m     \u001b[38;5;28mprint\u001b[39m(a\u001b[38;5;241m/\u001b[39mb)\n\u001b[0;32m      6\u001b[0m \u001b[38;5;28;01mexcept\u001b[39;00m:\n\u001b[1;32m----> 7\u001b[0m     \u001b[38;5;28mprint\u001b[39m(\u001b[43ma\u001b[49m\u001b[43m \u001b[49m\u001b[38;5;241;43m/\u001b[39;49m\u001b[43m \u001b[49m\u001b[38;5;124;43m'\u001b[39;49m\u001b[38;5;124;43mabc\u001b[39;49m\u001b[38;5;124;43m'\u001b[39;49m)\n\u001b[0;32m      8\u001b[0m \u001b[38;5;28;01melse\u001b[39;00m:\n\u001b[0;32m      9\u001b[0m     \u001b[38;5;28mprint\u001b[39m(\u001b[38;5;124m'\u001b[39m\u001b[38;5;124mContinuation code\u001b[39m\u001b[38;5;124m'\u001b[39m)\n",
      "\u001b[1;31mTypeError\u001b[0m: unsupported operand type(s) for /: 'int' and 'str'"
     ]
    }
   ],
   "source": [
    "a = eval(input('enter the first number : '))\n",
    "b = eval(input('enter the second number : '))\n",
    "\n",
    "try:\n",
    "    print(a/b)\n",
    "except:\n",
    "    print(a / 'abc')\n",
    "else:\n",
    "    print('Continuation code')\n",
    "\n",
    "    \n",
    "print('Hello world')"
   ]
  },
  {
   "cell_type": "code",
   "execution_count": 63,
   "id": "188ccdda",
   "metadata": {},
   "outputs": [
    {
     "name": "stdout",
     "output_type": "stream",
     "text": [
      "enter the first number : 10\n",
      "enter the second number : 0\n",
      "Hello world\n"
     ]
    },
    {
     "ename": "TypeError",
     "evalue": "unsupported operand type(s) for /: 'int' and 'str'",
     "output_type": "error",
     "traceback": [
      "\u001b[1;31m---------------------------------------------------------------------------\u001b[0m",
      "\u001b[1;31mZeroDivisionError\u001b[0m                         Traceback (most recent call last)",
      "Input \u001b[1;32mIn [63]\u001b[0m, in \u001b[0;36m<cell line: 4>\u001b[1;34m()\u001b[0m\n\u001b[0;32m      4\u001b[0m \u001b[38;5;28;01mtry\u001b[39;00m:\n\u001b[1;32m----> 5\u001b[0m     \u001b[38;5;28mprint\u001b[39m(\u001b[43ma\u001b[49m\u001b[38;5;241;43m/\u001b[39;49m\u001b[43mb\u001b[49m)\n\u001b[0;32m      6\u001b[0m \u001b[38;5;28;01mexcept\u001b[39;00m:\n",
      "\u001b[1;31mZeroDivisionError\u001b[0m: division by zero",
      "\nDuring handling of the above exception, another exception occurred:\n",
      "\u001b[1;31mTypeError\u001b[0m                                 Traceback (most recent call last)",
      "Input \u001b[1;32mIn [63]\u001b[0m, in \u001b[0;36m<cell line: 4>\u001b[1;34m()\u001b[0m\n\u001b[0;32m      5\u001b[0m     \u001b[38;5;28mprint\u001b[39m(a\u001b[38;5;241m/\u001b[39mb)\n\u001b[0;32m      6\u001b[0m \u001b[38;5;28;01mexcept\u001b[39;00m:\n\u001b[1;32m----> 7\u001b[0m     \u001b[38;5;28mprint\u001b[39m(\u001b[43ma\u001b[49m\u001b[43m \u001b[49m\u001b[38;5;241;43m/\u001b[39;49m\u001b[43m \u001b[49m\u001b[38;5;124;43m'\u001b[39;49m\u001b[38;5;124;43mabc\u001b[39;49m\u001b[38;5;124;43m'\u001b[39;49m)\n\u001b[0;32m      8\u001b[0m \u001b[38;5;28;01melse\u001b[39;00m:\n\u001b[0;32m      9\u001b[0m     \u001b[38;5;28mprint\u001b[39m(\u001b[38;5;124m'\u001b[39m\u001b[38;5;124mContinuation code\u001b[39m\u001b[38;5;124m'\u001b[39m)\n",
      "\u001b[1;31mTypeError\u001b[0m: unsupported operand type(s) for /: 'int' and 'str'"
     ]
    }
   ],
   "source": [
    "a = eval(input('enter the first number : '))\n",
    "b = eval(input('enter the second number : '))\n",
    "\n",
    "try:\n",
    "    print(a/b)\n",
    "except:\n",
    "    print(a / 'abc')\n",
    "else:\n",
    "    print('Continuation code')\n",
    "\n",
    "finally:    \n",
    "    print('Hello world')"
   ]
  },
  {
   "cell_type": "markdown",
   "id": "ce4d8bdf",
   "metadata": {},
   "source": [
    "# Showing coding errors to users"
   ]
  },
  {
   "cell_type": "code",
   "execution_count": 1,
   "id": "c6c0e115",
   "metadata": {},
   "outputs": [
    {
     "name": "stdout",
     "output_type": "stream",
     "text": [
      "Back up\n"
     ]
    }
   ],
   "source": [
    "a = 10\n",
    "b = '0'\n",
    "\n",
    "try:\n",
    "    print(a/c)\n",
    "except:\n",
    "    print('Back up')"
   ]
  },
  {
   "cell_type": "markdown",
   "id": "367794dc",
   "metadata": {},
   "source": [
    "# First method"
   ]
  },
  {
   "cell_type": "code",
   "execution_count": 3,
   "id": "10791556",
   "metadata": {},
   "outputs": [
    {
     "name": "stdout",
     "output_type": "stream",
     "text": [
      "Backup\n",
      "Hello world\n"
     ]
    }
   ],
   "source": [
    "a = 10\n",
    "b = 0\n",
    "\n",
    "try:\n",
    "    print(a/c)\n",
    "except:\n",
    "    print('Backup')\n",
    "else:\n",
    "    print('Continuation code')\n",
    "\n",
    "finally:    \n",
    "    print('Hello world')"
   ]
  },
  {
   "cell_type": "code",
   "execution_count": 10,
   "id": "b3a1271b",
   "metadata": {},
   "outputs": [
    {
     "name": "stdout",
     "output_type": "stream",
     "text": [
      "division by zero\n",
      "Back up code if any number is divided by zero\n",
      "Hello world\n"
     ]
    }
   ],
   "source": [
    "a = 10\n",
    "b = 0\n",
    "\n",
    "try:\n",
    "    print(a/b)\n",
    "except ZeroDivisionError as e:\n",
    "    print(e)\n",
    "    print('Back up code if any number is divided by zero')\n",
    "else:\n",
    "    print('Continuation code')\n",
    "\n",
    "finally:    \n",
    "    print('Hello world')"
   ]
  },
  {
   "cell_type": "code",
   "execution_count": 9,
   "id": "9a4cae14",
   "metadata": {},
   "outputs": [
    {
     "ename": "ZeroDivisionError",
     "evalue": "division by zero",
     "output_type": "error",
     "traceback": [
      "\u001b[1;31m---------------------------------------------------------------------------\u001b[0m",
      "\u001b[1;31mZeroDivisionError\u001b[0m                         Traceback (most recent call last)",
      "Input \u001b[1;32mIn [9]\u001b[0m, in \u001b[0;36m<cell line: 1>\u001b[1;34m()\u001b[0m\n\u001b[1;32m----> 1\u001b[0m \u001b[38;5;28mprint\u001b[39m(\u001b[38;5;241;43m10\u001b[39;49m\u001b[38;5;241;43m/\u001b[39;49m\u001b[38;5;241;43m0\u001b[39;49m)\n",
      "\u001b[1;31mZeroDivisionError\u001b[0m: division by zero"
     ]
    }
   ],
   "source": [
    "print(10/0)"
   ]
  },
  {
   "cell_type": "code",
   "execution_count": 12,
   "id": "3f6e3895",
   "metadata": {},
   "outputs": [
    {
     "name": "stdout",
     "output_type": "stream",
     "text": [
      "name 'c' is not defined\n",
      "Back up code if some variable not defined\n",
      "Hello world\n"
     ]
    }
   ],
   "source": [
    "a = 10\n",
    "b = 0\n",
    "\n",
    "try:\n",
    "    print(a/c)\n",
    "except ZeroDivisionError as e:\n",
    "    print(e)\n",
    "    print('Back up code if any number is divided by zero')\n",
    "except NameError as e:\n",
    "    print(e)\n",
    "    print('Back up code if some variable not defined')    \n",
    "\n",
    "else:\n",
    "    print('Continuation code')\n",
    "\n",
    "finally:    \n",
    "    print('Hello world')"
   ]
  },
  {
   "cell_type": "markdown",
   "id": "7aa71a70",
   "metadata": {},
   "source": [
    "# Second method "
   ]
  },
  {
   "cell_type": "code",
   "execution_count": 15,
   "id": "cfafb3ae",
   "metadata": {},
   "outputs": [
    {
     "name": "stdout",
     "output_type": "stream",
     "text": [
      "unsupported operand type(s) for /: 'int' and 'str'\n",
      "Back up code any error is thrown\n",
      "Hello world\n"
     ]
    }
   ],
   "source": [
    "a = 10\n",
    "b = 0\n",
    "\n",
    "try:\n",
    "    print(a/'abc')\n",
    "except Exception as e:\n",
    "    print(e)\n",
    "    print('Back up code any error is thrown')\n",
    "else:\n",
    "    print('Continuation code')\n",
    "\n",
    "finally:    \n",
    "    print('Hello world')"
   ]
  },
  {
   "cell_type": "code",
   "execution_count": null,
   "id": "491b195c",
   "metadata": {},
   "outputs": [],
   "source": [
    "# error_log\n",
    "\n",
    "- For what reason you code failed and at what date and time"
   ]
  },
  {
   "cell_type": "code",
   "execution_count": 17,
   "id": "e88d30cd",
   "metadata": {},
   "outputs": [
    {
     "name": "stdout",
     "output_type": "stream",
     "text": [
      "2023-01-02\n",
      "09:11:02 AM\n"
     ]
    }
   ],
   "source": [
    "import datetime\n",
    "import time\n",
    "\n",
    "dt = datetime.datetime.now()\n",
    "\n",
    "print(dt.date()) # yyyy-mm-dd\n",
    "\n",
    "\n",
    "t = time.strftime(\"%I:%M:%S %p\")\n",
    "print(t)"
   ]
  },
  {
   "cell_type": "code",
   "execution_count": 21,
   "id": "607a3d76",
   "metadata": {},
   "outputs": [
    {
     "name": "stdout",
     "output_type": "stream",
     "text": [
      "unsupported operand type(s) for /: 'int' and 'str'\n",
      "Back up code any error is thrown\n",
      "Hello world\n"
     ]
    }
   ],
   "source": [
    "a = 10\n",
    "b = 0\n",
    "\n",
    "f = open('file_handling/error_log_sheet.txt' , 'a')\n",
    "\n",
    "try:\n",
    "    print(a/'abc')\n",
    "except Exception as e:\n",
    "    print(e)\n",
    "    f.write(f'\\nerror has been recoded as : {str(e)} at {str(dt.date())} on {str(t)}')\n",
    "    print('Back up code any error is thrown')\n",
    "else:\n",
    "    print('Continuation code')\n",
    "\n",
    "finally:    \n",
    "    print('Hello world')\n",
    "    f.close()"
   ]
  },
  {
   "cell_type": "code",
   "execution_count": 24,
   "id": "32d9dd1a",
   "metadata": {},
   "outputs": [
    {
     "name": "stdout",
     "output_type": "stream",
     "text": [
      "unsupported operand type(s) for /: 'int' and 'str'\n",
      "Back up code any error is thrown\n",
      "Hello world\n"
     ]
    }
   ],
   "source": [
    "a = 10\n",
    "b = 0\n",
    "\n",
    "f = open('file_handling/error_log_sheet.txt' , 'a')\n",
    "\n",
    "try:\n",
    "    print(a/'abc')\n",
    "except Exception as e:\n",
    "    print(e)\n",
    "    f.write(f'\\nerror has been recoded as : {e} at {dt.date()} on {t}')\n",
    "    print('Back up code any error is thrown')\n",
    "else:\n",
    "    print('Continuation code')\n",
    "\n",
    "finally:    \n",
    "    print('Hello world')\n",
    "    f.close()"
   ]
  },
  {
   "cell_type": "code",
   "execution_count": 60,
   "id": "e51f85f8",
   "metadata": {},
   "outputs": [
    {
     "name": "stdout",
     "output_type": "stream",
     "text": [
      "Enter a number : 10\n",
      "Back up code if complete try bloack failes error is thrown\n"
     ]
    }
   ],
   "source": [
    "# nested try\n",
    "\n",
    "try:\n",
    "    a = int(input('Enter a number : '))\n",
    "    b = 0\n",
    "    try:\n",
    "        print(a/b)\n",
    "    except:\n",
    "        print(a/'back up_1')\n",
    "except:\n",
    "    print('Back up code if complete try bloack failes error is thrown')\n"
   ]
  },
  {
   "cell_type": "markdown",
   "id": "24db9b0f",
   "metadata": {},
   "source": [
    "# raise "
   ]
  },
  {
   "cell_type": "code",
   "execution_count": 33,
   "id": "882bbedf",
   "metadata": {},
   "outputs": [
    {
     "name": "stdout",
     "output_type": "stream",
     "text": [
      "30\n",
      "-10\n"
     ]
    },
    {
     "ename": "TypeError",
     "evalue": "My wish",
     "output_type": "error",
     "traceback": [
      "\u001b[1;31m---------------------------------------------------------------------------\u001b[0m",
      "\u001b[1;31mTypeError\u001b[0m                                 Traceback (most recent call last)",
      "Input \u001b[1;32mIn [33]\u001b[0m, in \u001b[0;36m<cell line: 6>\u001b[1;34m()\u001b[0m\n\u001b[0;32m      4\u001b[0m \u001b[38;5;28mprint\u001b[39m(a\u001b[38;5;241m+\u001b[39mb)\n\u001b[0;32m      5\u001b[0m \u001b[38;5;28mprint\u001b[39m(a\u001b[38;5;241m-\u001b[39mb)\n\u001b[1;32m----> 6\u001b[0m \u001b[38;5;28;01mraise\u001b[39;00m \u001b[38;5;167;01mTypeError\u001b[39;00m(\u001b[38;5;124m'\u001b[39m\u001b[38;5;124mMy wish\u001b[39m\u001b[38;5;124m'\u001b[39m)\n\u001b[0;32m      7\u001b[0m \u001b[38;5;28mprint\u001b[39m(\u001b[38;5;124m'\u001b[39m\u001b[38;5;124mHello world\u001b[39m\u001b[38;5;124m'\u001b[39m)\n",
      "\u001b[1;31mTypeError\u001b[0m: My wish"
     ]
    }
   ],
   "source": [
    "a = 10\n",
    "b = 20\n",
    "\n",
    "print(a+b)\n",
    "print(a-b)\n",
    "raise TypeError('My wish')\n",
    "print('Hello world')"
   ]
  },
  {
   "cell_type": "markdown",
   "id": "3bc27b97",
   "metadata": {},
   "source": [
    "# User defined errors"
   ]
  },
  {
   "cell_type": "code",
   "execution_count": 52,
   "id": "7da5c91e",
   "metadata": {},
   "outputs": [],
   "source": [
    "class Learnbay_error(Exception):\n",
    "    def __init__(self , msg):\n",
    "        self.msg = msg"
   ]
  },
  {
   "cell_type": "code",
   "execution_count": 47,
   "id": "dddc9d2e",
   "metadata": {},
   "outputs": [],
   "source": [
    "class Learnbay_error(Exception):\n",
    "    def __init__(self ):\n",
    "        pass"
   ]
  },
  {
   "cell_type": "code",
   "execution_count": 50,
   "id": "45706892",
   "metadata": {},
   "outputs": [
    {
     "name": "stdout",
     "output_type": "stream",
     "text": [
      "30\n",
      "-10\n"
     ]
    },
    {
     "ename": "Learnbay_error",
     "evalue": "message",
     "output_type": "error",
     "traceback": [
      "\u001b[1;31m---------------------------------------------------------------------------\u001b[0m",
      "\u001b[1;31mLearnbay_error\u001b[0m                            Traceback (most recent call last)",
      "Input \u001b[1;32mIn [50]\u001b[0m, in \u001b[0;36m<cell line: 6>\u001b[1;34m()\u001b[0m\n\u001b[0;32m      4\u001b[0m \u001b[38;5;28mprint\u001b[39m(a\u001b[38;5;241m+\u001b[39mb)\n\u001b[0;32m      5\u001b[0m \u001b[38;5;28mprint\u001b[39m(a\u001b[38;5;241m-\u001b[39mb)\n\u001b[1;32m----> 6\u001b[0m \u001b[38;5;28;01mraise\u001b[39;00m Learnbay_error(\u001b[38;5;124m'\u001b[39m\u001b[38;5;124mmessage\u001b[39m\u001b[38;5;124m'\u001b[39m)\n\u001b[0;32m      7\u001b[0m \u001b[38;5;28mprint\u001b[39m(\u001b[38;5;124m'\u001b[39m\u001b[38;5;124mHello world\u001b[39m\u001b[38;5;124m'\u001b[39m)\n",
      "\u001b[1;31mLearnbay_error\u001b[0m: message"
     ]
    }
   ],
   "source": [
    "a = 10\n",
    "b = 20\n",
    "\n",
    "print(a+b)\n",
    "print(a-b)\n",
    "raise Learnbay_error('message')\n",
    "print('Hello world')"
   ]
  },
  {
   "cell_type": "code",
   "execution_count": 51,
   "id": "1c949748",
   "metadata": {},
   "outputs": [
    {
     "name": "stdout",
     "output_type": "stream",
     "text": [
      "30\n",
      "Try block failed hence except block is working\n"
     ]
    }
   ],
   "source": [
    "a = 10\n",
    "b = 20\n",
    "\n",
    "try:\n",
    "    print(a+b)\n",
    "    raise ZeroDivisionError('I wanted to test this block')\n",
    "except:\n",
    "    print('Try block failed hence except block is working')"
   ]
  },
  {
   "cell_type": "code",
   "execution_count": 55,
   "id": "119e09e0",
   "metadata": {},
   "outputs": [],
   "source": [
    "class Over_limit(Exception):\n",
    "    def __init__(self , msg):\n",
    "        self.msg = msg"
   ]
  },
  {
   "cell_type": "code",
   "execution_count": 58,
   "id": "3e96a571",
   "metadata": {},
   "outputs": [
    {
     "name": "stdout",
     "output_type": "stream",
     "text": [
      "Enter the amount you want to deposit : 770000\n",
      "Failed due to over limit\n",
      "Back up code for amount over limit\n"
     ]
    }
   ],
   "source": [
    "amt = eval(input('Enter the amount you want to deposit : '))\n",
    "\n",
    "try:\n",
    "    if amt >=50000:\n",
    "        raise Over_limit('Failed due to over limit')\n",
    "    else:\n",
    "        print('Amount deposited')\n",
    "except Over_limit as e:\n",
    "    print(e)\n",
    "    print('Back up code for amount over limit')\n",
    "    "
   ]
  },
  {
   "cell_type": "code",
   "execution_count": null,
   "id": "6da28e2d",
   "metadata": {},
   "outputs": [],
   "source": [
    "# ATM - Basic\n",
    "- 0-50000\n",
    "print('Amount deposited')\n",
    "- 50000 - 60000\n",
    "- enter the pan card\n",
    "    if len(pan) == 10:\n",
    "        print('Amount deposited')\n",
    "    - please enter correct pan number\n",
    "    terminate please repeat the process after sometime\n",
    "\n",
    "    \n",
    "- 60000 -above\n",
    " - the amount entered is out of range please enter amount less than 60000 ,\n",
    "    do you want to try again Y \n",
    "    N \n",
    "    Have a nice day"
   ]
  },
  {
   "cell_type": "markdown",
   "id": "72bd0887",
   "metadata": {},
   "source": [
    "# regex"
   ]
  },
  {
   "cell_type": "code",
   "execution_count": 65,
   "id": "7053b14f",
   "metadata": {},
   "outputs": [
    {
     "name": "stdout",
     "output_type": "stream",
     "text": [
      "1.0\n",
      "Backup\n"
     ]
    }
   ],
   "source": [
    "a = 10\n",
    "b = 10\n",
    "\n",
    "try:\n",
    "    if a == b:\n",
    "        print(a/b)\n",
    "        raise Over_limit('mesaage')\n",
    "    else:\n",
    "        print('Done')\n",
    "        \n",
    "except:\n",
    "    print('Backup')"
   ]
  },
  {
   "cell_type": "code",
   "execution_count": 67,
   "id": "aaefb8f3",
   "metadata": {},
   "outputs": [
    {
     "name": "stdout",
     "output_type": "stream",
     "text": [
      "Enter a number : 10\n",
      "10\n",
      "back up_1\n"
     ]
    }
   ],
   "source": [
    "# nested try\n",
    "\n",
    "try:\n",
    "    a = int(input('Enter a number : '))\n",
    "    b = 0\n",
    "    try:\n",
    "        print(a+ b)\n",
    "        raise Learnbay_error('message')\n",
    "    except:\n",
    "        print('back up_1')\n",
    "except:\n",
    "    print('Back up code if complete try bloack failes error is thrown')\n"
   ]
  },
  {
   "cell_type": "code",
   "execution_count": null,
   "id": "0e9556cb",
   "metadata": {},
   "outputs": [],
   "source": []
  }
 ],
 "metadata": {
  "kernelspec": {
   "display_name": "Python 3 (ipykernel)",
   "language": "python",
   "name": "python3"
  },
  "language_info": {
   "codemirror_mode": {
    "name": "ipython",
    "version": 3
   },
   "file_extension": ".py",
   "mimetype": "text/x-python",
   "name": "python",
   "nbconvert_exporter": "python",
   "pygments_lexer": "ipython3",
   "version": "3.9.12"
  }
 },
 "nbformat": 4,
 "nbformat_minor": 5
}
